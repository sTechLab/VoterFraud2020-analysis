{
 "metadata": {
  "language_info": {
   "codemirror_mode": {
    "name": "ipython",
    "version": 3
   },
   "file_extension": ".py",
   "mimetype": "text/x-python",
   "name": "python",
   "nbconvert_exporter": "python",
   "pygments_lexer": "ipython3",
   "version": "3.8.5-final"
  },
  "orig_nbformat": 2,
  "kernelspec": {
   "name": "python3",
   "display_name": "Python 3.8.5 64-bit ('voter-fraud': conda)",
   "metadata": {
    "interpreter": {
     "hash": "a0f90dcbb54bea4e60f894f8fd1d686cc0f74395b4029405cc9f13e0b975e641"
    }
   }
  }
 },
 "nbformat": 4,
 "nbformat_minor": 2,
 "cells": [
  {
   "cell_type": "code",
   "execution_count": 1,
   "metadata": {},
   "outputs": [],
   "source": [
    "from notebook_utils import setup\n",
    "\n",
    "setup()"
   ]
  },
  {
   "cell_type": "code",
   "execution_count": 2,
   "metadata": {},
   "outputs": [],
   "source": [
    "import pandas as pd\n",
    "import seaborn as sns\n",
    "import matplotlib.pyplot as plt\n",
    "import matplotlib.dates as mdates\n",
    "import numpy as np\n",
    "import json"
   ]
  },
  {
   "cell_type": "code",
   "execution_count": 6,
   "metadata": {},
   "outputs": [
    {
     "output_type": "stream",
     "name": "stdout",
     "text": [
      "processed 100000\n",
      "processed 200000\n",
      "processed 300000\n",
      "processed 400000\n",
      "processed 500000\n",
      "processed 600000\n",
      "processed 700000\n",
      "processed 800000\n",
      "processed 900000\n",
      "processed 1000000\n",
      "processed 1100000\n",
      "processed 1200000\n",
      "processed 1300000\n",
      "processed 1400000\n",
      "processed 1500000\n",
      "processed 1600000\n",
      "processed 1700000\n",
      "processed 1800000\n",
      "processed 1900000\n",
      "processed 2000000\n",
      "processed 2100000\n",
      "processed 2200000\n",
      "processed 2300000\n"
     ]
    }
   ],
   "source": [
    "new_data_map = {}\n",
    "\n",
    "def set_user_data_from_object(user_data, object):\n",
    "    user_data[\"id\"] = str(object[\"id\"])\n",
    "    user_data[\"created_at\"] = object[\"created_at\"]\n",
    "    user_data[\"friends_count\"] = object[\"friends_count\"]\n",
    "    user_data[\"name\"] = object[\"name\"]\n",
    "    user_data[\"verified\"] = object[\"verified\"]\n",
    "    user_data[\"followers_count\"] = object[\"followers_count\"]\n",
    "    user_data[\"location\"] = object[\"location\"]\n",
    "    user_data[\"handle\"] = object[\"screen_name\"]\n",
    "\n",
    "def load_user_from_json(json_str):\n",
    "    user_object = json.loads(json_str)\n",
    "    user_data = {}\n",
    "    set_user_data_from_object(user_data, user_object)\n",
    "    new_data_map[str(user_object[\"id\"])] = user_data\n",
    "\n",
    "    if (len(new_data_map) % 100000 == 0):\n",
    "        print(\"processed\", len(new_data_map))\n",
    "\n",
    "with open(\"../data/fetch_users/users_retweets.jsonl\", \"r\") as f:\n",
    "    for line in f.readlines():\n",
    "        load_user_from_json(line)\n",
    "\n",
    "with open(\"../data/fetch_users/users_retweets_2.jsonl\", \"r\") as f:\n",
    "    for line in f.readlines():\n",
    "        load_user_from_json(line)\n",
    "\n",
    "with open(\"../data/fetch_users/users_tweets.jsonl\", \"r\") as f:\n",
    "    for line in f.readlines():\n",
    "        load_user_from_json(line)"
   ]
  },
  {
   "cell_type": "code",
   "execution_count": null,
   "metadata": {},
   "outputs": [],
   "source": [
    "df_users_with_clustering = pd.read_pickle('./df_users_with_clustering.pickle')"
   ]
  },
  {
   "cell_type": "code",
   "execution_count": 7,
   "metadata": {},
   "outputs": [
    {
     "output_type": "execute_result",
     "data": {
      "text/plain": [
       "1388621"
      ]
     },
     "metadata": {},
     "execution_count": 7
    }
   ],
   "source": [
    "df_users_with_clustering.shape[0]"
   ]
  },
  {
   "cell_type": "code",
   "execution_count": 8,
   "metadata": {},
   "outputs": [
    {
     "output_type": "stream",
     "name": "stdout",
     "text": [
      "2488725\n"
     ]
    }
   ],
   "source": [
    "user_ids_with_data = set(new_data_map.keys()).union(set(df_users_with_clustering.index))\n",
    "\n",
    "print(len(user_ids_with_data))"
   ]
  },
  {
   "cell_type": "code",
   "execution_count": 9,
   "metadata": {},
   "outputs": [],
   "source": [
    "inactive_user_ids = set()\n",
    "suspended_user_ids = set()\n",
    "error_active_user_ids = set()\n",
    "failed_requests = set()\n",
    "\n",
    "with open(\"../data/fetch_users/inactive_user_reason_all.jsonl\", \"r\") as f:\n",
    "    for line in f.readlines():\n",
    "        json_row = json.loads(line)\n",
    "        user_id = json_row[\"user_id\"]\n",
    "        if (user_id != \"\"):\n",
    "            if (json_row[\"code\"] == 63):\n",
    "                suspended_user_ids.add(json_row[\"user_id\"])\n",
    "            elif (json_row[\"code\"] == 50):\n",
    "                inactive_user_ids.add(json_row[\"user_id\"])\n",
    "            elif (json_row[\"code\"] == -1):\n",
    "                error_active_user_ids.add(json_row[\"user_id\"])\n",
    "            elif (\"Failed to send request\" in json_row[\"reason\"] or \"status code = 503\" in json_row[\"reason\"]):\n",
    "                failed_requests.add(json_row[\"user_id\"])\n",
    "            else:\n",
    "                raise \"Unknown code\""
   ]
  },
  {
   "cell_type": "code",
   "execution_count": 11,
   "metadata": {},
   "outputs": [
    {
     "output_type": "stream",
     "name": "stdout",
     "text": [
      "All users 2559018\nUser ids with data: 2488725 (97.25%)\nInactive user ids: 115868 (4.53%)\nSuspended user ids: 99884 (3.90%)\n\nMissing:\nActive 0\nFailed requests 0\n"
     ]
    }
   ],
   "source": [
    "all_user_ids = user_ids_with_data.union(inactive_user_ids, suspended_user_ids, error_active_user_ids)\n",
    "total_count = len(all_user_ids)\n",
    "print(\"All users\", total_count)\n",
    "print(\"User ids with data: {} ({:,.2f}%)\".format(len(user_ids_with_data), len(user_ids_with_data) / total_count * 100))\n",
    "print(\"Inactive user ids: {} ({:,.2f}%)\".format(len(inactive_user_ids), len(inactive_user_ids) / total_count * 100))\n",
    "print(\"Suspended user ids: {} ({:,.2f}%)\".format(len(suspended_user_ids), len(suspended_user_ids) / total_count * 100))\n",
    "print()\n",
    "print(\"Missing:\")\n",
    "print(\"Active\", len(error_active_user_ids - inactive_user_ids - user_ids_with_data - suspended_user_ids))\n",
    "print(\"Failed requests\", len(failed_requests - user_ids_with_data - inactive_user_ids - suspended_user_ids))"
   ]
  },
  {
   "cell_type": "code",
   "execution_count": 30,
   "metadata": {},
   "outputs": [
    {
     "output_type": "execute_result",
     "data": {
      "text/plain": [
       "                     protected friends            created_at  \\\n",
       "datastore_id                                                   \n",
       "1334881524664193027      False    None  2020-12-04T15:25:47Z   \n",
       "1334881805024043010      False    None  2020-12-04T15:28:30Z   \n",
       "1334882729859682310      False    None  2020-12-04T15:30:26Z   \n",
       "1334883015265226752      False    None  2020-12-04T15:32:10Z   \n",
       "1334883045988474886      False    None  2020-12-04T15:31:56Z   \n",
       "\n",
       "                                                      name  friends_count  \\\n",
       "datastore_id                                                                \n",
       "1334881524664193027                          venton talley              8   \n",
       "1334881805024043010                    🇺🇸Freedom Fighter🇺🇸           1028   \n",
       "1334882729859682310  Hypocritical Liberal Wannabe TB Aidan              0   \n",
       "1334883015265226752                        Conversing Post            128   \n",
       "1334883045988474886                         Ajmira sultana             62   \n",
       "\n",
       "                     verified  followers_count      location  followed_cnts  \\\n",
       "datastore_id                                                                  \n",
       "1334881524664193027     False                3          None              0   \n",
       "1334881805024043010     False               41  MAGA Country              0   \n",
       "1334882729859682310     False                2          None              0   \n",
       "1334883015265226752     False                2          None              0   \n",
       "1334883045988474886     False               17          None              0   \n",
       "\n",
       "                             handle   url  clustering_directed_unweighted  \\\n",
       "datastore_id                                                                \n",
       "1334881524664193027    TalleyVenton  None                              -1   \n",
       "1334881805024043010    RiSeAgAiN888  None                           35043   \n",
       "1334882729859682310       LiberalTb  None                              -1   \n",
       "1334883015265226752  ConversingPost  None                              -1   \n",
       "1334883045988474886   SultanaAjmira  None                              -1   \n",
       "\n",
       "                     clustering_directed_weighted  \\\n",
       "datastore_id                                        \n",
       "1334881524664193027                            -1   \n",
       "1334881805024043010                             2   \n",
       "1334882729859682310                            -1   \n",
       "1334883015265226752                            -1   \n",
       "1334883045988474886                            -1   \n",
       "\n",
       "                     clustering_undirected_unweighted  \n",
       "datastore_id                                           \n",
       "1334881524664193027                                -1  \n",
       "1334881805024043010                                 0  \n",
       "1334882729859682310                                -1  \n",
       "1334883015265226752                                -1  \n",
       "1334883045988474886                                -1  "
      ],
      "text/html": "<div>\n<style scoped>\n    .dataframe tbody tr th:only-of-type {\n        vertical-align: middle;\n    }\n\n    .dataframe tbody tr th {\n        vertical-align: top;\n    }\n\n    .dataframe thead th {\n        text-align: right;\n    }\n</style>\n<table border=\"1\" class=\"dataframe\">\n  <thead>\n    <tr style=\"text-align: right;\">\n      <th></th>\n      <th>protected</th>\n      <th>friends</th>\n      <th>created_at</th>\n      <th>name</th>\n      <th>friends_count</th>\n      <th>verified</th>\n      <th>followers_count</th>\n      <th>location</th>\n      <th>followed_cnts</th>\n      <th>handle</th>\n      <th>url</th>\n      <th>clustering_directed_unweighted</th>\n      <th>clustering_directed_weighted</th>\n      <th>clustering_undirected_unweighted</th>\n    </tr>\n    <tr>\n      <th>datastore_id</th>\n      <th></th>\n      <th></th>\n      <th></th>\n      <th></th>\n      <th></th>\n      <th></th>\n      <th></th>\n      <th></th>\n      <th></th>\n      <th></th>\n      <th></th>\n      <th></th>\n      <th></th>\n      <th></th>\n    </tr>\n  </thead>\n  <tbody>\n    <tr>\n      <th>1334881524664193027</th>\n      <td>False</td>\n      <td>None</td>\n      <td>2020-12-04T15:25:47Z</td>\n      <td>venton talley</td>\n      <td>8</td>\n      <td>False</td>\n      <td>3</td>\n      <td>None</td>\n      <td>0</td>\n      <td>TalleyVenton</td>\n      <td>None</td>\n      <td>-1</td>\n      <td>-1</td>\n      <td>-1</td>\n    </tr>\n    <tr>\n      <th>1334881805024043010</th>\n      <td>False</td>\n      <td>None</td>\n      <td>2020-12-04T15:28:30Z</td>\n      <td>🇺🇸Freedom Fighter🇺🇸</td>\n      <td>1028</td>\n      <td>False</td>\n      <td>41</td>\n      <td>MAGA Country</td>\n      <td>0</td>\n      <td>RiSeAgAiN888</td>\n      <td>None</td>\n      <td>35043</td>\n      <td>2</td>\n      <td>0</td>\n    </tr>\n    <tr>\n      <th>1334882729859682310</th>\n      <td>False</td>\n      <td>None</td>\n      <td>2020-12-04T15:30:26Z</td>\n      <td>Hypocritical Liberal Wannabe TB Aidan</td>\n      <td>0</td>\n      <td>False</td>\n      <td>2</td>\n      <td>None</td>\n      <td>0</td>\n      <td>LiberalTb</td>\n      <td>None</td>\n      <td>-1</td>\n      <td>-1</td>\n      <td>-1</td>\n    </tr>\n    <tr>\n      <th>1334883015265226752</th>\n      <td>False</td>\n      <td>None</td>\n      <td>2020-12-04T15:32:10Z</td>\n      <td>Conversing Post</td>\n      <td>128</td>\n      <td>False</td>\n      <td>2</td>\n      <td>None</td>\n      <td>0</td>\n      <td>ConversingPost</td>\n      <td>None</td>\n      <td>-1</td>\n      <td>-1</td>\n      <td>-1</td>\n    </tr>\n    <tr>\n      <th>1334883045988474886</th>\n      <td>False</td>\n      <td>None</td>\n      <td>2020-12-04T15:31:56Z</td>\n      <td>Ajmira sultana</td>\n      <td>62</td>\n      <td>False</td>\n      <td>17</td>\n      <td>None</td>\n      <td>0</td>\n      <td>SultanaAjmira</td>\n      <td>None</td>\n      <td>-1</td>\n      <td>-1</td>\n      <td>-1</td>\n    </tr>\n  </tbody>\n</table>\n</div>"
     },
     "metadata": {},
     "execution_count": 30
    }
   ],
   "source": [
    "df_users_with_clustering[]"
   ]
  },
  {
   "cell_type": "code",
   "execution_count": 31,
   "metadata": {},
   "outputs": [],
   "source": [
    "def init_user_data(user_id):\n",
    "    return {\n",
    "        \"id\": user_id\n",
    "    }\n",
    "\n",
    "def set_user_data_from_df_row(user_data, row):\n",
    "    user_data[\"created_at\"] = row[\"created_at\"]\n",
    "    user_data[\"friends_count\"] = row[\"friends_count\"]\n",
    "    user_data[\"name\"] = row[\"name\"]\n",
    "    user_data[\"verified\"] = row[\"verified\"]\n",
    "    user_data[\"followers_count\"] = row[\"followers_count\"]\n",
    "    user_data[\"location\"] = row[\"location\"]\n",
    "    user_data[\"handle\"] = row[\"handle\"]"
   ]
  },
  {
   "cell_type": "code",
   "execution_count": 32,
   "metadata": {},
   "outputs": [],
   "source": [
    "active_user_ids = all_user_ids - suspended_user_ids - inactive_user_ids"
   ]
  },
  {
   "cell_type": "code",
   "execution_count": 33,
   "metadata": {},
   "outputs": [],
   "source": [
    "import pickle \n",
    "with open(\"./closeness.pickle\", \"rb\") as f:\n",
    "    closeness = pickle.load(f)\n",
    "with open(\"./graph_with_communities.pickle\", \"rb\") as f:\n",
    "    graph_with_communities = pickle.load(f)"
   ]
  },
  {
   "cell_type": "code",
   "execution_count": 36,
   "metadata": {},
   "outputs": [
    {
     "output_type": "execute_result",
     "data": {
      "text/plain": [
       "1697944"
      ]
     },
     "metadata": {},
     "execution_count": 36
    }
   ],
   "source": [
    "user_graph_data = {}\n",
    "\n",
    "def get_closeness(node_id, closeness_type):\n",
    "    if node_id in closeness[closeness_type]:\n",
    "        return closeness[closeness_type][node_id]\n",
    "\n",
    "for node_id, data in graph_with_communities.nodes(data=True):\n",
    "    user_graph_data[data[\"user_id\"]] = {\n",
    "        \"community\": data[\"community\"],\n",
    "        \"l_closeness\": get_closeness(node_id, \"l_closeness\"),\n",
    "        \"r_closeness\": get_closeness(node_id, \"r_closeness\"),\n",
    "        \"node_id\": node_id\n",
    "    }\n",
    "\n",
    "len(user_graph_data)"
   ]
  },
  {
   "cell_type": "code",
   "execution_count": 37,
   "metadata": {},
   "outputs": [],
   "source": [
    "old_data_ids = set(df_users_with_clustering.index)"
   ]
  },
  {
   "cell_type": "code",
   "execution_count": 38,
   "metadata": {
    "tags": []
   },
   "outputs": [
    {
     "output_type": "stream",
     "name": "stdout",
     "text": [
      "Processed 0\n",
      "Processed 100000\n",
      "Processed 200000\n",
      "Processed 300000\n",
      "Processed 400000\n",
      "Processed 500000\n",
      "Processed 600000\n",
      "Processed 700000\n",
      "Processed 800000\n",
      "Processed 900000\n",
      "Processed 1000000\n",
      "Processed 1100000\n",
      "Processed 1200000\n",
      "Processed 1300000\n",
      "Processed 1400000\n",
      "Processed 1500000\n",
      "Processed 1600000\n",
      "Processed 1700000\n",
      "Processed 1800000\n",
      "Processed 1900000\n",
      "Processed 2000000\n",
      "Processed 2100000\n",
      "Processed 2200000\n",
      "Processed 2300000\n",
      "Processed 2400000\n",
      "Processed 2500000\n"
     ]
    }
   ],
   "source": [
    "user_data_map = {}\n",
    "for i, user_id in enumerate(all_user_ids):\n",
    "    # Update user if data is not available\n",
    "    if user_id not in new_data_map:\n",
    "        user_data = init_user_data(user_id)\n",
    "        if (user_id in old_data_ids):\n",
    "            set_user_data_from_df_row(user_data, df_users_with_clustering.loc[user_id])\n",
    "            user_data[\"data_source\"] = \"old\"\n",
    "    else:\n",
    "        user_data = new_data_map[user_id]\n",
    "        user_data[\"data_source\"] = \"new\"\n",
    "    \n",
    "    if (\"old_data\" in user_data):\n",
    "        del user_data[\"old_data\"]\n",
    "\n",
    "    if (user_id in suspended_user_ids):\n",
    "        user_data[\"active_status\"] = \"suspended\"\n",
    "    elif (user_id in inactive_user_ids):\n",
    "        user_data[\"active_status\"] = \"inactive\"\n",
    "    elif (user_id in active_user_ids):\n",
    "        user_data[\"active_status\"] = \"active\"\n",
    "    else:\n",
    "        user_data[\"active_status\"] = \"unknown\"\n",
    "\n",
    "    if (user_id in user_graph_data):\n",
    "        user_data[\"cluster\"] = user_graph_data[user_id][\"community\"]\n",
    "        user_data[\"l_closeness\"] = user_graph_data[user_id][\"l_closeness\"]\n",
    "        user_data[\"r_closeness\"] = user_graph_data[user_id][\"r_closeness\"]\n",
    "\n",
    "    user_data_map[user_id] = user_data\n",
    "    if (i % 100000 == 0):\n",
    "        print(\"Processed\", i)"
   ]
  },
  {
   "cell_type": "code",
   "execution_count": 3,
   "metadata": {},
   "outputs": [],
   "source": [
    "df_users_final = pd.read_pickle(\"./df_users_final.pickle\")"
   ]
  },
  {
   "cell_type": "code",
   "execution_count": 39,
   "metadata": {},
   "outputs": [],
   "source": [
    "df_users_final = pd.DataFrame.from_dict(user_data_map, orient=\"index\").set_index(\"id\").astype({\n",
    "    \"followers_count\": 'Int64', \n",
    "    \"cluster\": 'Int64', \n",
    "    \"friends_count\": \"Int64\"\n",
    "})"
   ]
  },
  {
   "cell_type": "code",
   "execution_count": 40,
   "metadata": {},
   "outputs": [],
   "source": [
    "df_users_final.to_pickle(\"./df_users_final.pickle\")"
   ]
  },
  {
   "cell_type": "code",
   "execution_count": 4,
   "metadata": {},
   "outputs": [
    {
     "output_type": "stream",
     "name": "stdout",
     "text": [
      "<class 'pandas.core.frame.DataFrame'>\nIndex: 2559018 entries, 3288305608 to 1313243498\nData columns (total 12 columns):\n #   Column           Dtype  \n---  ------           -----  \n 0   created_at       object \n 1   friends_count    Int64  \n 2   name             object \n 3   verified         object \n 4   followers_count  Int64  \n 5   location         object \n 6   handle           object \n 7   data_source      object \n 8   active_status    object \n 9   cluster          Int64  \n 10  l_closeness      float64\n 11  r_closeness      float64\ndtypes: Int64(3), float64(2), object(7)\nmemory usage: 261.1+ MB\nNone\n"
     ]
    },
    {
     "output_type": "execute_result",
     "data": {
      "text/plain": [
       "                                         created_at  friends_count  \\\n",
       "id                                                                   \n",
       "3288305608           Mon May 18 11:23:04 +0000 2015            626   \n",
       "1333163755295924224  Sun Nov 29 21:39:55 +0000 2020             93   \n",
       "1325878139537354752  Mon Nov 09 19:10:57 +0000 2020            135   \n",
       "304050894            Mon May 23 21:07:18 +0000 2011             77   \n",
       "1305445745328361472  Mon Sep 14 09:58:30 +0000 2020             22   \n",
       "\n",
       "                                      name verified  followers_count  \\\n",
       "id                                                                     \n",
       "3288305608                    kastro J.B 🔴    False              157   \n",
       "1333163755295924224    ConfederacyofDunces    False                9   \n",
       "1325878139537354752                    KBR    False               18   \n",
       "304050894                         Giuseppe    False               69   \n",
       "1305445745328361472  Carolina Belardinelli    False                2   \n",
       "\n",
       "                               location           handle data_source  \\\n",
       "id                                                                     \n",
       "3288305608              London, England     BeainiKastro         new   \n",
       "1333163755295924224       Nashville, TN           RobVM3         new   \n",
       "1325878139537354752                          KBR02093679         new   \n",
       "304050894            Western Air Temple    PizzaEquality         new   \n",
       "1305445745328361472                      CarolinaBelard2         new   \n",
       "\n",
       "                    active_status  cluster  l_closeness  r_closeness  \n",
       "id                                                                    \n",
       "3288305608                 active        1          NaN          NaN  \n",
       "1333163755295924224        active     <NA>          NaN          NaN  \n",
       "1325878139537354752        active     <NA>          NaN          NaN  \n",
       "304050894                  active        0          NaN          NaN  \n",
       "1305445745328361472        active        1          NaN          NaN  "
      ],
      "text/html": "<div>\n<style scoped>\n    .dataframe tbody tr th:only-of-type {\n        vertical-align: middle;\n    }\n\n    .dataframe tbody tr th {\n        vertical-align: top;\n    }\n\n    .dataframe thead th {\n        text-align: right;\n    }\n</style>\n<table border=\"1\" class=\"dataframe\">\n  <thead>\n    <tr style=\"text-align: right;\">\n      <th></th>\n      <th>created_at</th>\n      <th>friends_count</th>\n      <th>name</th>\n      <th>verified</th>\n      <th>followers_count</th>\n      <th>location</th>\n      <th>handle</th>\n      <th>data_source</th>\n      <th>active_status</th>\n      <th>cluster</th>\n      <th>l_closeness</th>\n      <th>r_closeness</th>\n    </tr>\n    <tr>\n      <th>id</th>\n      <th></th>\n      <th></th>\n      <th></th>\n      <th></th>\n      <th></th>\n      <th></th>\n      <th></th>\n      <th></th>\n      <th></th>\n      <th></th>\n      <th></th>\n      <th></th>\n    </tr>\n  </thead>\n  <tbody>\n    <tr>\n      <th>3288305608</th>\n      <td>Mon May 18 11:23:04 +0000 2015</td>\n      <td>626</td>\n      <td>kastro J.B 🔴</td>\n      <td>False</td>\n      <td>157</td>\n      <td>London, England</td>\n      <td>BeainiKastro</td>\n      <td>new</td>\n      <td>active</td>\n      <td>1</td>\n      <td>NaN</td>\n      <td>NaN</td>\n    </tr>\n    <tr>\n      <th>1333163755295924224</th>\n      <td>Sun Nov 29 21:39:55 +0000 2020</td>\n      <td>93</td>\n      <td>ConfederacyofDunces</td>\n      <td>False</td>\n      <td>9</td>\n      <td>Nashville, TN</td>\n      <td>RobVM3</td>\n      <td>new</td>\n      <td>active</td>\n      <td>&lt;NA&gt;</td>\n      <td>NaN</td>\n      <td>NaN</td>\n    </tr>\n    <tr>\n      <th>1325878139537354752</th>\n      <td>Mon Nov 09 19:10:57 +0000 2020</td>\n      <td>135</td>\n      <td>KBR</td>\n      <td>False</td>\n      <td>18</td>\n      <td></td>\n      <td>KBR02093679</td>\n      <td>new</td>\n      <td>active</td>\n      <td>&lt;NA&gt;</td>\n      <td>NaN</td>\n      <td>NaN</td>\n    </tr>\n    <tr>\n      <th>304050894</th>\n      <td>Mon May 23 21:07:18 +0000 2011</td>\n      <td>77</td>\n      <td>Giuseppe</td>\n      <td>False</td>\n      <td>69</td>\n      <td>Western Air Temple</td>\n      <td>PizzaEquality</td>\n      <td>new</td>\n      <td>active</td>\n      <td>0</td>\n      <td>NaN</td>\n      <td>NaN</td>\n    </tr>\n    <tr>\n      <th>1305445745328361472</th>\n      <td>Mon Sep 14 09:58:30 +0000 2020</td>\n      <td>22</td>\n      <td>Carolina Belardinelli</td>\n      <td>False</td>\n      <td>2</td>\n      <td></td>\n      <td>CarolinaBelard2</td>\n      <td>new</td>\n      <td>active</td>\n      <td>1</td>\n      <td>NaN</td>\n      <td>NaN</td>\n    </tr>\n  </tbody>\n</table>\n</div>"
     },
     "metadata": {},
     "execution_count": 4
    }
   ],
   "source": [
    "# df_users_final = df_users_final.drop(\"old_data\", axis=1)\n",
    "print(df_users_final.info())\n",
    "df_users_final.head()"
   ]
  },
  {
   "cell_type": "code",
   "execution_count": 28,
   "metadata": {},
   "outputs": [
    {
     "output_type": "stream",
     "name": "stdout",
     "text": [
      "  index  cluster\n0     2    46031\n1  <NA>    25956\n2     1    18368\n3     0     8659\n4     3      513\n5     4      357\n"
     ]
    },
    {
     "output_type": "execute_result",
     "data": {
      "text/plain": [
       "0.8828725246185478"
      ]
     },
     "metadata": {},
     "execution_count": 28
    }
   ],
   "source": [
    "suspended_users = df_users_final[df_users_final.active_status == \"suspended\"]\n",
    "cluster_suspended_distribution = suspended_users[\"cluster\"].value_counts(dropna=False).reset_index()\n",
    "print(cluster_suspended_distribution)\n",
    "\n",
    "promoter_cluster = cluster_suspended_distribution[cluster_suspended_distribution[\"index\"].isin([1, 2, 3, 4])]\n",
    "\n",
    "promoter_cluster[\"cluster\"].sum() / cluster_suspended_distribution[cluster_suspended_distribution[\"index\"].isin([1, 2, 3, 4, 0])][\"cluster\"].sum()"
   ]
  },
  {
   "cell_type": "code",
   "execution_count": 42,
   "metadata": {},
   "outputs": [
    {
     "output_type": "stream",
     "name": "stdout",
     "text": [
      "NaN    861074\n0      860976\n1      437783\n2      342184\n3       33587\n4       23414\nName: cluster, dtype: Int64\nnew    2335974\nold     152751\nNaN      70293\nName: data_source, dtype: int64\n"
     ]
    }
   ],
   "source": [
    "print(df_users_final[\"cluster\"].value_counts(dropna=False))\n",
    "print(df_users_final[\"data_source\"].value_counts(dropna=False))"
   ]
  },
  {
   "cell_type": "code",
   "execution_count": 144,
   "metadata": {},
   "outputs": [
    {
     "output_type": "execute_result",
     "data": {
      "text/plain": [
       "                                         created_at  friends_count  \\\n",
       "id                                                                   \n",
       "1088252070216355840  Thu Jan 24 01:48:07 +0000 2019           1105   \n",
       "820306084690677760   Sat Jan 14 16:26:25 +0000 2017           2308   \n",
       "984900693315108864   Fri Apr 13 21:06:38 +0000 2018             81   \n",
       "746943161839165449   Sun Jun 26 05:48:22 +0000 2016             28   \n",
       "824061162136436736   Wed Jan 25 01:07:46 +0000 2017            718   \n",
       "\n",
       "                                           name verified  followers_count  \\\n",
       "id                                                                          \n",
       "1088252070216355840                        和の秘訣    False              969   \n",
       "820306084690677760                     Ally1984    False             2254   \n",
       "984900693315108864            The Middle Finger    False               27   \n",
       "746943161839165449   fightforfreedomstandwithhk    False                7   \n",
       "824061162136436736                 Jesse Holder    False               45   \n",
       "\n",
       "                              location           handle data_source  \\\n",
       "id                                                                    \n",
       "1088252070216355840  Osaka City, Osaka      wawoshirasu         new   \n",
       "820306084690677760   Glasgow, Scotland       wyliedunn1         new   \n",
       "984900693315108864                Mars  ThemiddleFinge3         new   \n",
       "746943161839165449                      HKdemocracy_now         new   \n",
       "824061162136436736        Newburgh, IN  Dont_interupt_m         new   \n",
       "\n",
       "                    active_status  cluster  l_closeness  r_closeness  \n",
       "id                                                                    \n",
       "1088252070216355840        active        3          NaN          NaN  \n",
       "820306084690677760         active     <NA>          NaN          NaN  \n",
       "984900693315108864         active        1          NaN          NaN  \n",
       "746943161839165449         active        1          NaN          NaN  \n",
       "824061162136436736         active        0          NaN          NaN  "
      ],
      "text/html": "<div>\n<style scoped>\n    .dataframe tbody tr th:only-of-type {\n        vertical-align: middle;\n    }\n\n    .dataframe tbody tr th {\n        vertical-align: top;\n    }\n\n    .dataframe thead th {\n        text-align: right;\n    }\n</style>\n<table border=\"1\" class=\"dataframe\">\n  <thead>\n    <tr style=\"text-align: right;\">\n      <th></th>\n      <th>created_at</th>\n      <th>friends_count</th>\n      <th>name</th>\n      <th>verified</th>\n      <th>followers_count</th>\n      <th>location</th>\n      <th>handle</th>\n      <th>data_source</th>\n      <th>active_status</th>\n      <th>cluster</th>\n      <th>l_closeness</th>\n      <th>r_closeness</th>\n    </tr>\n    <tr>\n      <th>id</th>\n      <th></th>\n      <th></th>\n      <th></th>\n      <th></th>\n      <th></th>\n      <th></th>\n      <th></th>\n      <th></th>\n      <th></th>\n      <th></th>\n      <th></th>\n      <th></th>\n    </tr>\n  </thead>\n  <tbody>\n    <tr>\n      <th>1088252070216355840</th>\n      <td>Thu Jan 24 01:48:07 +0000 2019</td>\n      <td>1105</td>\n      <td>和の秘訣</td>\n      <td>False</td>\n      <td>969</td>\n      <td>Osaka City, Osaka</td>\n      <td>wawoshirasu</td>\n      <td>new</td>\n      <td>active</td>\n      <td>3</td>\n      <td>NaN</td>\n      <td>NaN</td>\n    </tr>\n    <tr>\n      <th>820306084690677760</th>\n      <td>Sat Jan 14 16:26:25 +0000 2017</td>\n      <td>2308</td>\n      <td>Ally1984</td>\n      <td>False</td>\n      <td>2254</td>\n      <td>Glasgow, Scotland</td>\n      <td>wyliedunn1</td>\n      <td>new</td>\n      <td>active</td>\n      <td>&lt;NA&gt;</td>\n      <td>NaN</td>\n      <td>NaN</td>\n    </tr>\n    <tr>\n      <th>984900693315108864</th>\n      <td>Fri Apr 13 21:06:38 +0000 2018</td>\n      <td>81</td>\n      <td>The Middle Finger</td>\n      <td>False</td>\n      <td>27</td>\n      <td>Mars</td>\n      <td>ThemiddleFinge3</td>\n      <td>new</td>\n      <td>active</td>\n      <td>1</td>\n      <td>NaN</td>\n      <td>NaN</td>\n    </tr>\n    <tr>\n      <th>746943161839165449</th>\n      <td>Sun Jun 26 05:48:22 +0000 2016</td>\n      <td>28</td>\n      <td>fightforfreedomstandwithhk</td>\n      <td>False</td>\n      <td>7</td>\n      <td></td>\n      <td>HKdemocracy_now</td>\n      <td>new</td>\n      <td>active</td>\n      <td>1</td>\n      <td>NaN</td>\n      <td>NaN</td>\n    </tr>\n    <tr>\n      <th>824061162136436736</th>\n      <td>Wed Jan 25 01:07:46 +0000 2017</td>\n      <td>718</td>\n      <td>Jesse Holder</td>\n      <td>False</td>\n      <td>45</td>\n      <td>Newburgh, IN</td>\n      <td>Dont_interupt_m</td>\n      <td>new</td>\n      <td>active</td>\n      <td>0</td>\n      <td>NaN</td>\n      <td>NaN</td>\n    </tr>\n  </tbody>\n</table>\n</div>"
     },
     "metadata": {},
     "execution_count": 144
    }
   ],
   "source": [
    "df_users_final.head()"
   ]
  },
  {
   "cell_type": "code",
   "execution_count": 145,
   "metadata": {},
   "outputs": [
    {
     "output_type": "stream",
     "name": "stdout",
     "text": [
      "active       2343266\ninactive      115868\nsuspended      99884\nName: active_status, dtype: int64\nnew    2335974\nold     152751\nNaN      70293\nName: data_source, dtype: int64\n"
     ]
    }
   ],
   "source": [
    "print(df_users_final[\"active_status\"].value_counts(dropna=False))\n",
    "print(df_users_final[\"data_source\"].value_counts(dropna=False))"
   ]
  },
  {
   "cell_type": "code",
   "execution_count": 146,
   "metadata": {},
   "outputs": [
    {
     "output_type": "execute_result",
     "data": {
      "text/plain": [
       "          users  inactive  suspended  l_centrality_count  l_closeness_min  \\\n",
       "cluster                                                                     \n",
       "0        852558      6206       8659               10000         0.074668   \n",
       "1        400313     40528      18368                   0              NaN   \n",
       "2        326514     29821      46031                   0              NaN   \n",
       "3         33033       319        513                   0              NaN   \n",
       "4         22961       383        357                   0              NaN   \n",
       "\n",
       "         l_closeness_max  l_closeness_mean  r_centrality_count  \\\n",
       "cluster                                                          \n",
       "0               0.185138          0.090308                   0   \n",
       "1                    NaN               NaN                2060   \n",
       "2                    NaN               NaN                7911   \n",
       "3                    NaN               NaN                  13   \n",
       "4                    NaN               NaN                  16   \n",
       "\n",
       "         r_closeness_min  r_closeness_max  r_closeness_mean  \\\n",
       "cluster                                                       \n",
       "0                    NaN              NaN               NaN   \n",
       "1               0.197023         0.454827          0.226651   \n",
       "2               0.197006         0.289314          0.207839   \n",
       "3               0.198591         0.210705          0.203503   \n",
       "4               0.197144         0.233668          0.203623   \n",
       "\n",
       "         suspended_fraction  inactive_fraction  \n",
       "cluster                                         \n",
       "0                  0.010156           0.007279  \n",
       "1                  0.045884           0.101241  \n",
       "2                  0.140977           0.091331  \n",
       "3                  0.015530           0.009657  \n",
       "4                  0.015548           0.016680  "
      ],
      "text/html": "<div>\n<style scoped>\n    .dataframe tbody tr th:only-of-type {\n        vertical-align: middle;\n    }\n\n    .dataframe tbody tr th {\n        vertical-align: top;\n    }\n\n    .dataframe thead th {\n        text-align: right;\n    }\n</style>\n<table border=\"1\" class=\"dataframe\">\n  <thead>\n    <tr style=\"text-align: right;\">\n      <th></th>\n      <th>users</th>\n      <th>inactive</th>\n      <th>suspended</th>\n      <th>l_centrality_count</th>\n      <th>l_closeness_min</th>\n      <th>l_closeness_max</th>\n      <th>l_closeness_mean</th>\n      <th>r_centrality_count</th>\n      <th>r_closeness_min</th>\n      <th>r_closeness_max</th>\n      <th>r_closeness_mean</th>\n      <th>suspended_fraction</th>\n      <th>inactive_fraction</th>\n    </tr>\n    <tr>\n      <th>cluster</th>\n      <th></th>\n      <th></th>\n      <th></th>\n      <th></th>\n      <th></th>\n      <th></th>\n      <th></th>\n      <th></th>\n      <th></th>\n      <th></th>\n      <th></th>\n      <th></th>\n      <th></th>\n    </tr>\n  </thead>\n  <tbody>\n    <tr>\n      <th>0</th>\n      <td>852558</td>\n      <td>6206</td>\n      <td>8659</td>\n      <td>10000</td>\n      <td>0.074668</td>\n      <td>0.185138</td>\n      <td>0.090308</td>\n      <td>0</td>\n      <td>NaN</td>\n      <td>NaN</td>\n      <td>NaN</td>\n      <td>0.010156</td>\n      <td>0.007279</td>\n    </tr>\n    <tr>\n      <th>1</th>\n      <td>400313</td>\n      <td>40528</td>\n      <td>18368</td>\n      <td>0</td>\n      <td>NaN</td>\n      <td>NaN</td>\n      <td>NaN</td>\n      <td>2060</td>\n      <td>0.197023</td>\n      <td>0.454827</td>\n      <td>0.226651</td>\n      <td>0.045884</td>\n      <td>0.101241</td>\n    </tr>\n    <tr>\n      <th>2</th>\n      <td>326514</td>\n      <td>29821</td>\n      <td>46031</td>\n      <td>0</td>\n      <td>NaN</td>\n      <td>NaN</td>\n      <td>NaN</td>\n      <td>7911</td>\n      <td>0.197006</td>\n      <td>0.289314</td>\n      <td>0.207839</td>\n      <td>0.140977</td>\n      <td>0.091331</td>\n    </tr>\n    <tr>\n      <th>3</th>\n      <td>33033</td>\n      <td>319</td>\n      <td>513</td>\n      <td>0</td>\n      <td>NaN</td>\n      <td>NaN</td>\n      <td>NaN</td>\n      <td>13</td>\n      <td>0.198591</td>\n      <td>0.210705</td>\n      <td>0.203503</td>\n      <td>0.015530</td>\n      <td>0.009657</td>\n    </tr>\n    <tr>\n      <th>4</th>\n      <td>22961</td>\n      <td>383</td>\n      <td>357</td>\n      <td>0</td>\n      <td>NaN</td>\n      <td>NaN</td>\n      <td>NaN</td>\n      <td>16</td>\n      <td>0.197144</td>\n      <td>0.233668</td>\n      <td>0.203623</td>\n      <td>0.015548</td>\n      <td>0.016680</td>\n    </tr>\n  </tbody>\n</table>\n</div>"
     },
     "metadata": {},
     "execution_count": 146
    }
   ],
   "source": [
    "def agg_activity(agg_type):\n",
    "    def inner(series):\n",
    "        status_list = series.tolist()\n",
    "        status_list = filter(lambda status: status == agg_type, status_list)\n",
    "        return len(list(status_list))\n",
    "    return inner\n",
    "\n",
    "grouped_by_cluster = df_users_final.groupby(['cluster']).agg(\n",
    "    users=(\"handle\", \"count\"),\n",
    "    inactive=(\"active_status\", agg_activity(\"inactive\")),\n",
    "    suspended=(\"active_status\", agg_activity(\"suspended\")),\n",
    "    l_centrality_count=(\"l_closeness\", \"count\"),\n",
    "    l_closeness_min=(\"l_closeness\", \"min\"),\n",
    "    l_closeness_max=(\"l_closeness\", \"max\"),\n",
    "    l_closeness_mean=(\"l_closeness\", \"mean\"),\n",
    "    r_centrality_count=(\"r_closeness\", \"count\"),\n",
    "    r_closeness_min=(\"r_closeness\", \"min\"),\n",
    "    r_closeness_max=(\"r_closeness\", \"max\"),\n",
    "    r_closeness_mean=(\"r_closeness\", \"mean\"),\n",
    ")\n",
    "\n",
    "\n",
    "\n",
    "grouped_by_cluster[\"suspended_fraction\"] = grouped_by_cluster[\"suspended\"] / grouped_by_cluster[\"users\"]\n",
    "grouped_by_cluster[\"inactive_fraction\"] = grouped_by_cluster[\"inactive\"] / grouped_by_cluster[\"users\"]\n",
    "\n",
    "grouped_by_cluster"
   ]
  },
  {
   "cell_type": "code",
   "execution_count": 147,
   "metadata": {},
   "outputs": [
    {
     "output_type": "execute_result",
     "data": {
      "text/plain": [
       "          users  suspended_fraction  inactive_fraction\n",
       "cluster                                               \n",
       "0        852558            0.010156           0.007279\n",
       "1        400313            0.045884           0.101241\n",
       "2        326514            0.140977           0.091331\n",
       "3         33033            0.015530           0.009657\n",
       "4         22961            0.015548           0.016680"
      ],
      "text/html": "<div>\n<style scoped>\n    .dataframe tbody tr th:only-of-type {\n        vertical-align: middle;\n    }\n\n    .dataframe tbody tr th {\n        vertical-align: top;\n    }\n\n    .dataframe thead th {\n        text-align: right;\n    }\n</style>\n<table border=\"1\" class=\"dataframe\">\n  <thead>\n    <tr style=\"text-align: right;\">\n      <th></th>\n      <th>users</th>\n      <th>suspended_fraction</th>\n      <th>inactive_fraction</th>\n    </tr>\n    <tr>\n      <th>cluster</th>\n      <th></th>\n      <th></th>\n      <th></th>\n    </tr>\n  </thead>\n  <tbody>\n    <tr>\n      <th>0</th>\n      <td>852558</td>\n      <td>0.010156</td>\n      <td>0.007279</td>\n    </tr>\n    <tr>\n      <th>1</th>\n      <td>400313</td>\n      <td>0.045884</td>\n      <td>0.101241</td>\n    </tr>\n    <tr>\n      <th>2</th>\n      <td>326514</td>\n      <td>0.140977</td>\n      <td>0.091331</td>\n    </tr>\n    <tr>\n      <th>3</th>\n      <td>33033</td>\n      <td>0.015530</td>\n      <td>0.009657</td>\n    </tr>\n    <tr>\n      <th>4</th>\n      <td>22961</td>\n      <td>0.015548</td>\n      <td>0.016680</td>\n    </tr>\n  </tbody>\n</table>\n</div>"
     },
     "metadata": {},
     "execution_count": 147
    }
   ],
   "source": [
    "grouped_by_cluster[[\"users\", \"suspended_fraction\", \"inactive_fraction\"]]"
   ]
  },
  {
   "cell_type": "code",
   "execution_count": null,
   "metadata": {},
   "outputs": [],
   "source": [
    "df_users_final[df_users_final[\"active_status\"] == \"suspended\"].sort_values(\"followers_count\", ascending=False)[:10][[\"handle\", \"followers_count\", \"cluster\", \"verified\"]]"
   ]
  },
  {
   "cell_type": "code",
   "execution_count": null,
   "metadata": {},
   "outputs": [],
   "source": [
    "df_users_final.to_pickle(\"./df_users_final.pickle\")"
   ]
  },
  {
   "cell_type": "code",
   "execution_count": 50,
   "metadata": {},
   "outputs": [
    {
     "output_type": "stream",
     "name": "stdout",
     "text": [
      "Top users in cluster: 0\n",
      "                    handle  followers_count active_status\n",
      "id                                                       \n",
      "428333              cnnbrk         60214681        active\n",
      "759251                 CNN         51983509        active\n",
      "807095             nytimes         48772873        active\n",
      "5402612        BBCBreaking         47117376        active\n",
      "742143            BBCWorld         30503250        active\n",
      "1339835893  HillaryClinton         30291658        active\n",
      "5988062       TheEconomist         25319296        active\n",
      "1652541            Reuters         22886431        active\n",
      "16303106     StephenAtHome         19227333        active\n",
      "3108351                WSJ         18406098        active\n",
      "Top users in cluster: 1\n",
      "                     handle  followers_count active_status\n",
      "id                                                        \n",
      "25073877    realDonaldTrump         87364085     suspended\n",
      "1367531             FoxNews         20136456        active\n",
      "52544275        IvankaTrump         10353590        active\n",
      "240649814          TimesNow          9926832        active\n",
      "39344374     DonaldJTrumpJr          6582361        active\n",
      "9624742           StateDept          6065553        active\n",
      "41634520        seanhannity          5485858        active\n",
      "2916305152          Snowden          4559576        active\n",
      "22703645      TuckerCarlson          4503751        active\n",
      "39349894          EricTrump          4405621        active\n",
      "Top users in cluster: 2\n",
      "                  handle  followers_count active_status\n",
      "id                                                     \n",
      "16589206       wikileaks          5586190        active\n",
      "18166778      Jim_Jordan          1931357        active\n",
      "15513604   foxandfriends          1296816        active\n",
      "31428361       F1abraham          1121096        active\n",
      "37279768     behindwoods           972361        active\n",
      "6054912       TobyTurner           960638        active\n",
      "17850012    Radioblogger           810669        active\n",
      "282510651       aDilipak           788896        active\n",
      "614884262   oliverpocher           759257        active\n",
      "191795989    ewnreporter           703069        active\n",
      "Top users in cluster: 3\n",
      "                            handle  followers_count active_status\n",
      "id                                                               \n",
      "362401254            katsuyatakasu           834192        active\n",
      "954614844             _yavuzatalay           776409        active\n",
      "147499260                 ronrikei           506975        active\n",
      "32394429                FIFI_Egypt           469565        active\n",
      "145991905             hyakutanaoki           468076        active\n",
      "279596610                 btudsrjz           304542        active\n",
      "24611873                  ikedanob           294512        active\n",
      "1128981340848656384   KadotaRyusho           270728        active\n",
      "118028227            Takeshi_Ozawa           249979        active\n",
      "57870730               smith796000           246565        active\n",
      "Top users in cluster: 4\n",
      "                    handle  followers_count active_status\n",
      "id                                                       \n",
      "18949452                FT          4348120        active\n",
      "23719107   nelsonbocaranda          3264108        active\n",
      "72627916       carlaangola          2691855        active\n",
      "39176902           jguaido          2628943        active\n",
      "46919513       williecolon          2048483        active\n",
      "104683173        Excelsior          1996140        active\n",
      "78723428         NituPerez          1958088        active\n",
      "186961616  ReinaldoProfeta          1595723        active\n",
      "95134013     traffiCARACAS          1594835        active\n",
      "14119371       JulioBorges          1580823        active\n",
      "Top suspended users by cluster: 0\n",
      "                              handle  followers_count active_status\n",
      "id                                                                 \n",
      "422798683             LatestAnonNews           329916     suspended\n",
      "864464284063076353    RobertDeNiroUS           278722     suspended\n",
      "1030074491466993664   h8Wankmaggot45            80296     suspended\n",
      "514925330                 onlinehomo            76195     suspended\n",
      "2908017153               USMCLiberal            62453     suspended\n",
      "28185363                  bfosterls7            53608     suspended\n",
      "283721629            lindacaseauthor            52402     suspended\n",
      "2637943344               NewsView100            50422     suspended\n",
      "765400193818763264        dumbbeezie            47516     suspended\n",
      "3331634031              Infantry0300            46725     suspended\n",
      "Top suspended users by cluster: 1\n",
      "                             handle  followers_count active_status\n",
      "id                                                                \n",
      "25073877            realDonaldTrump         87364085     suspended\n",
      "729676086632656900        TeamTrump          2309663     suspended\n",
      "240454812                  GenFlynn           950567     suspended\n",
      "939985878201618432          Qanon76           553490     suspended\n",
      "2333707213                X22Report           494368     suspended\n",
      "586707638             SidneyPowell1           482623     suspended\n",
      "83932539               prayingmedic           419140     suspended\n",
      "984537447525691392  John_F_Kennnedy           387902     suspended\n",
      "3580248555          DeepStateExpose           346463     suspended\n",
      "2281325286               Techno_Fog           332495     suspended\n",
      "Top suspended users by cluster: 2\n",
      "                     handle  followers_count active_status\n",
      "id                                                        \n",
      "16740433    DeAnna4Congress           393461     suspended\n",
      "1618641848     ChristieC733           353043     suspended\n",
      "393190233           LeahR77           269507     suspended\n",
      "2256965582            sxdoc           217259     suspended\n",
      "942570948   LanceMigliaccio           210065     suspended\n",
      "975217231    John_KissMyBot           199380     suspended\n",
      "940368062   RedNationRising           179485     suspended\n",
      "3353061012      Jamierodr14           175134     suspended\n",
      "829735580      Mike_Beacham           172680     suspended\n",
      "792660210        NahBabyNah           164877     suspended\n",
      "Top suspended users by cluster: 3\n",
      "                             handle  followers_count active_status\n",
      "id                                                                \n",
      "937991325584109568       MeidocafeR           145544     suspended\n",
      "1086230647100792832    okabaeri9111            79574     suspended\n",
      "1109304469626318849     MARILOVEUSA            13030     suspended\n",
      "725682104579710976     QArmyWarrior            10106     suspended\n",
      "1156038610136600582  amenomurakumo5             8089     suspended\n",
      "1038703584920068096     m9999s9999m             7932     suspended\n",
      "1259679963734609921      SHIELD_JPN             6288     suspended\n",
      "113644204                Sugihayama             5973     suspended\n",
      "928895216316116992      YUKKINKIN3t             4891     suspended\n",
      "938686440619237376      memphis8992             4688     suspended\n",
      "Top suspended users by cluster: 4\n",
      "                            handle  followers_count active_status\n",
      "id                                                               \n",
      "318868028                  ANPNL05           187585     suspended\n",
      "1564878702           AlfonsocaroVe           150937     suspended\n",
      "1475900347           GordoMonstruo            72634     suspended\n",
      "532229126              GiuseppeNoc            35143     suspended\n",
      "1038355694             ema_deleonn            21805     suspended\n",
      "765965492003696640    Otrolocoroto            16142     suspended\n",
      "1009079411440791552      frandevox            13367     suspended\n",
      "82944701              WWG1WGAGOD17            13102     suspended\n",
      "1213665991655186432    MrHayekiano            12314     suspended\n",
      "1174653418167853056      ASubirath            10186     suspended\n"
     ]
    }
   ],
   "source": [
    "for cluster in range(5):\n",
    "    print(\"Top users in cluster:\", str(cluster))\n",
    "    print(df_users_final[df_users_final[\"cluster\"] == cluster]\n",
    "        .nlargest(10, 'followers_count')\n",
    "        [[\"handle\", \"followers_count\", \"active_status\"]]\n",
    "    )\n",
    "\n",
    "for cluster in range(5):\n",
    "    print(\"Top suspended users by cluster:\", str(cluster))\n",
    "    print(df_users_final[(df_users_final[\"cluster\"] == cluster) & (df_users_final[\"active_status\"] == \"suspended\")]\n",
    "        .nlargest(10, 'followers_count')\n",
    "        [[\"handle\", \"followers_count\", \"active_status\"]]\n",
    "    )"
   ]
  },
  {
   "cell_type": "code",
   "execution_count": 55,
   "metadata": {},
   "outputs": [
    {
     "output_type": "stream",
     "name": "stdout",
     "text": [
      "Top users by closeness centrality: l_closeness\n",
      "             handle  followers_count active_status  l_closeness\n",
      "0         AriBerman           180501        active     0.185138\n",
      "1     JohnFetterman           322436        active     0.178555\n",
      "2        jaketapper          3158331        active     0.177355\n",
      "3      kylegriffin1          1050332        active     0.176881\n",
      "4       justinamash           481423        active     0.173159\n",
      "5        TimAlberta           137115        active     0.172945\n",
      "6            mkraju           505720        active     0.172216\n",
      "7      BrendanKeefe            53865        active     0.170961\n",
      "8         alanfeuer            31391        active     0.169220\n",
      "9        jimsciutto           463176        active     0.167267\n",
      "10        bluestein           106843        active     0.167150\n",
      "11          nytimes         48772873        active     0.166577\n",
      "12          nytmike           237693        active     0.164705\n",
      "13        bradheath           128410        active     0.164183\n",
      "14      AP_Politics           569489        active     0.163792\n",
      "15      ryanjreilly           126556        active     0.162934\n",
      "16  KlasfeldReports           208622        active     0.162922\n",
      "17  EllenLWeintraub            82206        active     0.162592\n",
      "18        C_C_Krebs           271343        active     0.162244\n",
      "19       willsommer           127446        active     0.162005\n",
      "Top users by closeness centrality: r_closeness\n",
      "             handle  followers_count active_status  r_closeness\n",
      "0   realDonaldTrump         87364085     suspended     0.454827\n",
      "1          LLinWood           216826     suspended     0.398071\n",
      "2      RudyGiuliani          1288706        active     0.367028\n",
      "3          LouDobbs          2247814        active     0.364001\n",
      "4        RSBNetwork           423880        active     0.360909\n",
      "5          GenFlynn           950567     suspended     0.360518\n",
      "6     SidneyPowell1           482623     suspended     0.350383\n",
      "7    ScottAdamsSays           626444        active     0.347768\n",
      "8    JamesOKeefeIII           960902        active     0.345512\n",
      "9         TomFitton          1284439        active     0.341606\n",
      "10     kylenabecker           156605        active     0.338694\n",
      "11       DanScavino          1318975        active     0.336446\n",
      "12       SteveGuest            98429        active     0.336374\n",
      "13    gatewaypundit           413674        active     0.336256\n",
      "14   DonaldJTrumpJr          6582361        active     0.334148\n",
      "15  EmeraldRobinson           347006        active     0.333632\n",
      "16     JackPosobiec          1210867        active     0.331038\n",
      "17   DavidJHarrisJr           652165        active     0.330472\n",
      "18    txelectionlaw            17092        active     0.330201\n",
      "19        TeamTrump          2309663     suspended     0.329912\n"
     ]
    }
   ],
   "source": [
    "for centrality in [\"l_closeness\", \"r_closeness\"]:\n",
    "    print(\"Top users by closeness centrality:\", str(centrality))\n",
    "    print(df_users_final.nlargest(20, centrality).reset_index()\n",
    "        [[\"handle\", \"followers_count\", \"active_status\", centrality]]\n",
    "    )"
   ]
  },
  {
   "cell_type": "code",
   "execution_count": null,
   "metadata": {},
   "outputs": [],
   "source": []
  }
 ]
}