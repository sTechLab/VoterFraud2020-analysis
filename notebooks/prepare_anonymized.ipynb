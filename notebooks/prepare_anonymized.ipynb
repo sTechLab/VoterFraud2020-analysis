{
 "metadata": {
  "language_info": {
   "codemirror_mode": {
    "name": "ipython",
    "version": 3
   },
   "file_extension": ".py",
   "mimetype": "text/x-python",
   "name": "python",
   "nbconvert_exporter": "python",
   "pygments_lexer": "ipython3",
   "version": "3.8.5-final"
  },
  "orig_nbformat": 2,
  "kernelspec": {
   "name": "python3",
   "display_name": "Python 3",
   "language": "python"
  }
 },
 "nbformat": 4,
 "nbformat_minor": 2,
 "cells": [
  {
   "cell_type": "code",
   "execution_count": 9,
   "metadata": {},
   "outputs": [],
   "source": [
    "# Resolve paths from root project directory\n",
    "\n",
    "import os\n",
    "import sys\n",
    "module_path = os.path.abspath(os.path.join('..'))\n",
    "if module_path not in sys.path:\n",
    "    sys.path.append(module_path)\n",
    "import pandas as pd, numpy\n",
    "import pickle\n",
    "\n",
    "def load_chunks(directory):\n",
    "    chunk_dfs = []\n",
    "    for name in sorted(os.listdir(directory)):\n",
    "        sub_directory = os.path.join(directory, name)\n",
    "        if os.path.isdir(sub_directory):\n",
    "            for filename in sorted(os.listdir(sub_directory)):\n",
    "                with open(os.path.join(sub_directory, filename), \"r\") as f:\n",
    "                    chunk = pd.read_csv(f)\n",
    "                    chunk_dfs.append(chunk)\n",
    "        elif name.endswith(\".csv\"):\n",
    "            chunk = pd.read_csv(os.path.join(directory, name))\n",
    "            chunk_dfs.append(chunk)\n",
    "\n",
    "    return pd.concat(chunk_dfs)"
   ]
  },
  {
   "cell_type": "code",
   "execution_count": 3,
   "metadata": {},
   "outputs": [],
   "source": [
    "DATE = \"16-dec\"\n",
    "DATA_DIR = \"../data/parsed-export/{}/\".format(DATE)\n",
    "EXPORT_DIR = \"../data/dataframes/{}/\".format(DATE)"
   ]
  },
  {
   "cell_type": "code",
   "execution_count": 72,
   "metadata": {},
   "outputs": [
    {
     "output_type": "error",
     "ename": "NameError",
     "evalue": "name 'EXPORT_DIR' is not defined",
     "traceback": [
      "\u001b[1;31m---------------------------------------------------------------------------\u001b[0m",
      "\u001b[1;31mNameError\u001b[0m                                 Traceback (most recent call last)",
      "\u001b[1;32m<ipython-input-72-0a1a78d86777>\u001b[0m in \u001b[0;36m<module>\u001b[1;34m\u001b[0m\n\u001b[1;32m----> 1\u001b[1;33m \u001b[0mdf_retweets\u001b[0m \u001b[1;33m=\u001b[0m \u001b[0mpd\u001b[0m\u001b[1;33m.\u001b[0m\u001b[0mread_pickle\u001b[0m\u001b[1;33m(\u001b[0m\u001b[0mEXPORT_DIR\u001b[0m \u001b[1;33m+\u001b[0m \u001b[1;34m'df_retweets.pickle'\u001b[0m\u001b[1;33m)\u001b[0m\u001b[1;33m\u001b[0m\u001b[1;33m\u001b[0m\u001b[0m\n\u001b[0m\u001b[0;32m      2\u001b[0m \u001b[1;31m#df_users = pd.read_pickle(EXPORT_DIR + 'df_users.pickle')\u001b[0m\u001b[1;33m\u001b[0m\u001b[1;33m\u001b[0m\u001b[1;33m\u001b[0m\u001b[0m\n\u001b[0;32m      3\u001b[0m \u001b[1;31m#df_recent_tweets = pd.read_pickle(EXPORT_DIR + 'df_recent_tweets.pickle')\u001b[0m\u001b[1;33m\u001b[0m\u001b[1;33m\u001b[0m\u001b[1;33m\u001b[0m\u001b[0m\n",
      "\u001b[1;31mNameError\u001b[0m: name 'EXPORT_DIR' is not defined"
     ]
    }
   ],
   "source": [
    "#df_retweets = pd.read_pickle(EXPORT_DIR + 'df_retweets.pickle')\n",
    "df_users = pd.read_pickle(EXPORT_DIR + 'df_users.pickle')\n",
    "#df_recent_tweets = pd.read_pickle(EXPORT_DIR + 'df_recent_tweets.pickle')"
   ]
  },
  {
   "cell_type": "code",
   "execution_count": 6,
   "metadata": {},
   "outputs": [],
   "source": [
    "df_users.to_pickle(\"./df_users.pickle\")"
   ]
  },
  {
   "cell_type": "code",
   "execution_count": 5,
   "metadata": {},
   "outputs": [
    {
     "output_type": "execute_result",
     "data": {
      "text/plain": [
       "(1388621, 12)"
      ]
     },
     "metadata": {},
     "execution_count": 5
    }
   ],
   "source": [
    "df_users.shape"
   ]
  },
  {
   "cell_type": "code",
   "execution_count": 5,
   "metadata": {},
   "outputs": [],
   "source": [
    "import json\n",
    "with open(\"./data_export/url_stats/16-dec/expanded_url_map.json\") as json_file:\n",
    "    expanded_url_map = json.load(json_file)"
   ]
  },
  {
   "cell_type": "code",
   "execution_count": 6,
   "metadata": {},
   "outputs": [],
   "source": [
    "def expand_url(url):\n",
    "    expanded_url_data = expanded_url_map[url][\"expanded_url\"]\n",
    "    expanded_url = expanded_url_data[\"url\"] if \"url\" in expanded_url_data else url\n",
    "    return expanded_url"
   ]
  },
  {
   "cell_type": "code",
   "execution_count": 7,
   "metadata": {},
   "outputs": [],
   "source": [
    "df_recent_tweets[\"expanded_urls\"] = df_recent_tweets.apply(lambda x: [expand_url(url) for url in x[\"urls\"] if \"twitter.com/\" not in url], axis=1)"
   ]
  },
  {
   "cell_type": "code",
   "execution_count": 19,
   "metadata": {},
   "outputs": [
    {
     "output_type": "stream",
     "name": "stdout",
     "text": [
      "<class 'pandas.core.frame.DataFrame'>\nInt64Index: 7603103 entries, 0 to 7609004\nData columns (total 48 columns):\n #   Column                      Dtype           \n---  ------                      -----           \n 0   datastore_id                object          \n 1   quote_tweet                 object          \n 2   hashtags                    object          \n 3   retweet_count               int32           \n 4   urls                        object          \n 5   hasMedia                    bool            \n 6   quote_count                 int32           \n 7   timestamp                   object          \n 8   text                        object          \n 9   user                        object          \n 10  tokens                      object          \n 11  #electionfraud              Sparse[int32, 0]\n 12  election fraud              Sparse[int32, 0]\n 13  #stopthesteal               Sparse[int32, 0]\n 14  voter fraud                 Sparse[int32, 0]\n 15  election tampering          Sparse[int32, 0]\n 16  democrats cheat             Sparse[int32, 0]\n 17  #voterfraud                 Sparse[int32, 0]\n 18  election interference       Sparse[int32, 0]\n 19  ballot harvesting           Sparse[int32, 0]\n 20  discarded ballots           Sparse[int32, 0]\n 21  #electioninterference       Sparse[int32, 0]\n 22  ballot fraud                Sparse[int32, 0]\n 23  cheating democrats          Sparse[int32, 0]\n 24  #ballotharvesting           Sparse[int32, 0]\n 25  #gopvoterfraud              Sparse[int32, 0]\n 26  #cheatingdemocrats          Sparse[int32, 0]\n 27  #electiontampering          Sparse[int32, 0]\n 28  #ballotfraud                Sparse[int32, 0]\n 29  #voterfraudisreal           Sparse[int32, 0]\n 30  #mailinvoterfraud           Sparse[int32, 0]\n 31  destroyed ballots           Sparse[int32, 0]\n 32  stolen ballots              Sparse[int32, 0]\n 33  pre-filled ballot           Sparse[int32, 0]\n 34  #stopvoterfraud             Sparse[int32, 0]\n 35  vote by mail fraud          Sparse[int32, 0]\n 36  #votebymailfraud            Sparse[int32, 0]\n 37  #democratvoterfraud         Sparse[int32, 0]\n 38  #ilhanomarvoterfraud        Sparse[int32, 0]\n 39  harvest ballot              Sparse[int32, 0]\n 40  #ilhanomarballotharvesting  Sparse[int32, 0]\n 41  #hackedvotingmachines       Sparse[int32, 0]\n 42  #ballotvoterfraud           Sparse[int32, 0]\n 43  hacked voting machine       Sparse[int32, 0]\n 44  #nomailinvoting             Sparse[int32, 0]\n 45  #discardedballots           Sparse[int32, 0]\n 46  #stopgopvoterfraud          Sparse[int32, 0]\n 47  expanded_urls               object          \ndtypes: Sparse[int32, 0](36), bool(1), int32(2), object(9)\nmemory usage: 673.9+ MB\n"
     ]
    }
   ],
   "source": [
    "df_recent_tweets.info()"
   ]
  },
  {
   "cell_type": "code",
   "execution_count": 10,
   "metadata": {},
   "outputs": [],
   "source": [
    "df_recent_tweets = df_recent_tweets[[\"datastore_id\", \"user\", \"hashed_user_id\", \"quote_tweet\", \"hashtags\", \"hasMedia\", \"retweet_count\", \"quote_count\", \"timestamp\", \"text\", \"urls\", \"expanded_urls\"]]\n",
    "df_recent_tweets.to_pickle(\"df_recent_tweets_subset_with_expanded_urls.pickle\")"
   ]
  },
  {
   "cell_type": "code",
   "execution_count": 11,
   "metadata": {},
   "outputs": [],
   "source": [
    "df_recent_tweets = pd.read_pickle(\"df_recent_tweets_subset_with_expanded_urls.pickle\")"
   ]
  },
  {
   "cell_type": "code",
   "execution_count": 2,
   "metadata": {},
   "outputs": [],
   "source": [
    "import hashlib, uuid\n",
    "\n",
    "# Generate salt\n",
    "# salt = uuid.uuid4().hex\n",
    "# Read salt from file\n",
    "with open(\"../private/anonymization-salt\", \"r\") as f:\n",
    "    salt = f.readline()\n",
    "\n",
    "def anonymize_str(string):\n",
    "    h = hashlib.sha256(string.encode() + salt.encode())\n",
    "    return h.hexdigest()"
   ]
  },
  {
   "cell_type": "code",
   "execution_count": 9,
   "metadata": {},
   "outputs": [],
   "source": [
    "df_recent_tweets[\"hashed_user_id\"] = df_recent_tweets.apply(lambda t:anonymize_str(t[\"user\"]), axis=1)"
   ]
  },
  {
   "cell_type": "code",
   "execution_count": 10,
   "metadata": {},
   "outputs": [
    {
     "output_type": "error",
     "ename": "NameError",
     "evalue": "name 'df_recent_tweets' is not defined",
     "traceback": [
      "\u001b[1;31m---------------------------------------------------------------------------\u001b[0m",
      "\u001b[1;31mNameError\u001b[0m                                 Traceback (most recent call last)",
      "\u001b[1;32m<ipython-input-10-f01d05c7a348>\u001b[0m in \u001b[0;36m<module>\u001b[1;34m\u001b[0m\n\u001b[1;32m----> 1\u001b[1;33m \u001b[0mdf_recent_tweets\u001b[0m\u001b[1;33m.\u001b[0m\u001b[0mhead\u001b[0m\u001b[1;33m(\u001b[0m\u001b[1;33m)\u001b[0m\u001b[1;33m\u001b[0m\u001b[1;33m\u001b[0m\u001b[0m\n\u001b[0m",
      "\u001b[1;31mNameError\u001b[0m: name 'df_recent_tweets' is not defined"
     ]
    }
   ],
   "source": [
    "df_recent_tweets.head()"
   ]
  },
  {
   "cell_type": "code",
   "execution_count": 7,
   "metadata": {},
   "outputs": [],
   "source": [
    "df_retweets[\"hashed_user_id\"] = df_retweets.apply(lambda t:anonymize_str(t[\"user\"]), axis=1)\n",
    "df_retweets[\"hashed_retweeted_from_user_id\"] = df_retweets.apply(lambda t:anonymize_str(t[\"retweetedFrom_user\"]), axis=1)"
   ]
  },
  {
   "cell_type": "code",
   "execution_count": 8,
   "metadata": {},
   "outputs": [],
   "source": [
    "df_retweets.to_pickle(\"df_retweets_with_hashed_users.pickle\")"
   ]
  },
  {
   "cell_type": "code",
   "execution_count": 76,
   "metadata": {
    "tags": []
   },
   "outputs": [
    {
     "output_type": "stream",
     "name": "stdout",
     "text": [
      "Dups 18382\nUsers 1071554\n"
     ]
    }
   ],
   "source": [
    "import json\n",
    "user_ids = set() \n",
    "users = []\n",
    "duplicates = 0\n",
    "for fname in [\"users_retweets_2.jsonl\", \"users_retweets_3.jsonl\", \"users_retweets.jsonl\"]:\n",
    "    with open (\"../data/fetch_users/\" + fname, \"r\") as f:\n",
    "        for line in f.readlines():\n",
    "            user = json.loads(line)\n",
    "            if (user[\"id\"] not in user_ids):\n",
    "                users.append({\n",
    "                    \"datastore_id\": str(user[\"id\"]),\n",
    "                    \"name\": user[\"name\"],\n",
    "                    \"handle\": user[\"screen_name\"],\n",
    "                    \"created_at\": user[\"name\"],\n",
    "                    \"verified\": user[\"verified\"],\n",
    "                    \"description\": user[\"description\"],\n",
    "                    \"followers_count\": user[\"followers_count\"],\n",
    "                    \"location\": user[\"location\"],\n",
    "                    \"created_at\": user[\"created_at\"],\n",
    "                })\n",
    "                user_ids.add(user[\"id\"])\n",
    "            else:\n",
    "                duplicates += 1\n",
    "\n",
    "print(\"Dups\", duplicates)\n",
    "print(\"Users\", len(users))"
   ]
  },
  {
   "cell_type": "code",
   "execution_count": 77,
   "metadata": {},
   "outputs": [],
   "source": [
    "df_users_retweets = pd.DataFrame(users)"
   ]
  },
  {
   "cell_type": "code",
   "execution_count": 78,
   "metadata": {},
   "outputs": [],
   "source": [
    "df_users = pd.read_pickle(\"df_users.pickle\")"
   ]
  },
  {
   "cell_type": "code",
   "execution_count": 81,
   "metadata": {},
   "outputs": [],
   "source": [
    "existing_user_ids = set(df_users.index)"
   ]
  },
  {
   "cell_type": "code",
   "execution_count": 82,
   "metadata": {},
   "outputs": [
    {
     "output_type": "stream",
     "name": "stdout",
     "text": [
      "2460175\n"
     ]
    }
   ],
   "source": [
    "print(len(existing_user_ids.union(user_ids)))"
   ]
  },
  {
   "cell_type": "code",
   "execution_count": 86,
   "metadata": {},
   "outputs": [],
   "source": [
    "df_users_retweets.to_pickle(\"./df_users_retweets.pickle\")"
   ]
  },
  {
   "cell_type": "code",
   "execution_count": 21,
   "metadata": {},
   "outputs": [
    {
     "output_type": "execute_result",
     "data": {
      "text/plain": [
       "                     user_community user_active_status  \\\n",
       "tweet_id                                                 \n",
       "1319685030826938369             2.0            deleted   \n",
       "1319685039714717696             NaN             active   \n",
       "1319685089375158274             NaN             active   \n",
       "1319685151031500801             NaN          suspended   \n",
       "1319685176436396035             2.0            deleted   \n",
       "\n",
       "                     retweet_count_metadata  quote_count_metadata  \\\n",
       "tweet_id                                                            \n",
       "1319685030826938369                       0                     0   \n",
       "1319685039714717696                       0                     0   \n",
       "1319685089375158274                       0                     0   \n",
       "1319685151031500801                       0                     0   \n",
       "1319685176436396035                       0                     0   \n",
       "\n",
       "                     retweet_count_by_community_0  quote_count_by_community_0  \\\n",
       "tweet_id                                                                        \n",
       "1319685030826938369                             0                           0   \n",
       "1319685039714717696                             0                           0   \n",
       "1319685089375158274                             0                           0   \n",
       "1319685151031500801                             0                           0   \n",
       "1319685176436396035                             0                           0   \n",
       "\n",
       "                     retweet_count_by_community_1  quote_count_by_community_1  \\\n",
       "tweet_id                                                                        \n",
       "1319685030826938369                             0                           0   \n",
       "1319685039714717696                             0                           0   \n",
       "1319685089375158274                             0                           0   \n",
       "1319685151031500801                             0                           0   \n",
       "1319685176436396035                             0                           0   \n",
       "\n",
       "                     retweet_count_by_community_2  quote_count_by_community_2  \\\n",
       "tweet_id                                                                        \n",
       "1319685030826938369                             0                           0   \n",
       "1319685039714717696                             0                           0   \n",
       "1319685089375158274                             0                           0   \n",
       "1319685151031500801                             0                           0   \n",
       "1319685176436396035                             0                           0   \n",
       "\n",
       "                     retweet_count_by_community_3  quote_count_by_community_3  \\\n",
       "tweet_id                                                                        \n",
       "1319685030826938369                             0                           0   \n",
       "1319685039714717696                             0                           0   \n",
       "1319685089375158274                             0                           0   \n",
       "1319685151031500801                             0                           0   \n",
       "1319685176436396035                             0                           0   \n",
       "\n",
       "                     retweet_count_by_community_4  quote_count_by_community_4  \\\n",
       "tweet_id                                                                        \n",
       "1319685030826938369                             0                           0   \n",
       "1319685039714717696                             0                           0   \n",
       "1319685089375158274                             0                           0   \n",
       "1319685151031500801                             0                           0   \n",
       "1319685176436396035                             0                           0   \n",
       "\n",
       "                     retweet_count_by_suspended_users  \\\n",
       "tweet_id                                                \n",
       "1319685030826938369                                 0   \n",
       "1319685039714717696                                 0   \n",
       "1319685089375158274                                 0   \n",
       "1319685151031500801                                 0   \n",
       "1319685176436396035                                 0   \n",
       "\n",
       "                     quote_count_by_suspended_users  \n",
       "tweet_id                                             \n",
       "1319685030826938369                               0  \n",
       "1319685039714717696                               0  \n",
       "1319685089375158274                               0  \n",
       "1319685151031500801                               0  \n",
       "1319685176436396035                               0  "
      ],
      "text/html": "<div>\n<style scoped>\n    .dataframe tbody tr th:only-of-type {\n        vertical-align: middle;\n    }\n\n    .dataframe tbody tr th {\n        vertical-align: top;\n    }\n\n    .dataframe thead th {\n        text-align: right;\n    }\n</style>\n<table border=\"1\" class=\"dataframe\">\n  <thead>\n    <tr style=\"text-align: right;\">\n      <th></th>\n      <th>user_community</th>\n      <th>user_active_status</th>\n      <th>retweet_count_metadata</th>\n      <th>quote_count_metadata</th>\n      <th>retweet_count_by_community_0</th>\n      <th>quote_count_by_community_0</th>\n      <th>retweet_count_by_community_1</th>\n      <th>quote_count_by_community_1</th>\n      <th>retweet_count_by_community_2</th>\n      <th>quote_count_by_community_2</th>\n      <th>retweet_count_by_community_3</th>\n      <th>quote_count_by_community_3</th>\n      <th>retweet_count_by_community_4</th>\n      <th>quote_count_by_community_4</th>\n      <th>retweet_count_by_suspended_users</th>\n      <th>quote_count_by_suspended_users</th>\n    </tr>\n    <tr>\n      <th>tweet_id</th>\n      <th></th>\n      <th></th>\n      <th></th>\n      <th></th>\n      <th></th>\n      <th></th>\n      <th></th>\n      <th></th>\n      <th></th>\n      <th></th>\n      <th></th>\n      <th></th>\n      <th></th>\n      <th></th>\n      <th></th>\n      <th></th>\n    </tr>\n  </thead>\n  <tbody>\n    <tr>\n      <th>1319685030826938369</th>\n      <td>2.0</td>\n      <td>deleted</td>\n      <td>0</td>\n      <td>0</td>\n      <td>0</td>\n      <td>0</td>\n      <td>0</td>\n      <td>0</td>\n      <td>0</td>\n      <td>0</td>\n      <td>0</td>\n      <td>0</td>\n      <td>0</td>\n      <td>0</td>\n      <td>0</td>\n      <td>0</td>\n    </tr>\n    <tr>\n      <th>1319685039714717696</th>\n      <td>NaN</td>\n      <td>active</td>\n      <td>0</td>\n      <td>0</td>\n      <td>0</td>\n      <td>0</td>\n      <td>0</td>\n      <td>0</td>\n      <td>0</td>\n      <td>0</td>\n      <td>0</td>\n      <td>0</td>\n      <td>0</td>\n      <td>0</td>\n      <td>0</td>\n      <td>0</td>\n    </tr>\n    <tr>\n      <th>1319685089375158274</th>\n      <td>NaN</td>\n      <td>active</td>\n      <td>0</td>\n      <td>0</td>\n      <td>0</td>\n      <td>0</td>\n      <td>0</td>\n      <td>0</td>\n      <td>0</td>\n      <td>0</td>\n      <td>0</td>\n      <td>0</td>\n      <td>0</td>\n      <td>0</td>\n      <td>0</td>\n      <td>0</td>\n    </tr>\n    <tr>\n      <th>1319685151031500801</th>\n      <td>NaN</td>\n      <td>suspended</td>\n      <td>0</td>\n      <td>0</td>\n      <td>0</td>\n      <td>0</td>\n      <td>0</td>\n      <td>0</td>\n      <td>0</td>\n      <td>0</td>\n      <td>0</td>\n      <td>0</td>\n      <td>0</td>\n      <td>0</td>\n      <td>0</td>\n      <td>0</td>\n    </tr>\n    <tr>\n      <th>1319685176436396035</th>\n      <td>2.0</td>\n      <td>deleted</td>\n      <td>0</td>\n      <td>0</td>\n      <td>0</td>\n      <td>0</td>\n      <td>0</td>\n      <td>0</td>\n      <td>0</td>\n      <td>0</td>\n      <td>0</td>\n      <td>0</td>\n      <td>0</td>\n      <td>0</td>\n      <td>0</td>\n      <td>0</td>\n    </tr>\n  </tbody>\n</table>\n</div>"
     },
     "metadata": {},
     "execution_count": 21
    }
   ],
   "source": [
    "df_published_tweets.head()"
   ]
  },
  {
   "cell_type": "code",
   "execution_count": 22,
   "metadata": {},
   "outputs": [
    {
     "output_type": "stream",
     "name": "stdout",
     "text": [
      "<class 'pandas.core.frame.DataFrame'>\nIndex: 7603103 entries, 1319685030826938369 to 1339195780704382980\nData columns (total 16 columns):\n #   Column                            Dtype  \n---  ------                            -----  \n 0   user_community                    float64\n 1   user_active_status                object \n 2   retweet_count_metadata            int64  \n 3   quote_count_metadata              int64  \n 4   retweet_count_by_community_0      int64  \n 5   quote_count_by_community_0        int64  \n 6   retweet_count_by_community_1      int64  \n 7   quote_count_by_community_1        int64  \n 8   retweet_count_by_community_2      int64  \n 9   quote_count_by_community_2        int64  \n 10  retweet_count_by_community_3      int64  \n 11  quote_count_by_community_3        int64  \n 12  retweet_count_by_community_4      int64  \n 13  quote_count_by_community_4        int64  \n 14  retweet_count_by_suspended_users  int64  \n 15  quote_count_by_suspended_users    int64  \ndtypes: float64(1), int64(14), object(1)\nmemory usage: 986.1+ MB\n"
     ]
    }
   ],
   "source": [
    "df_published_tweets = load_chunks(\"../data/published/tweets/\").astype({\"tweet_id\": \"str\"}).set_index(\"tweet_id\")\n",
    "df_published_tweets.info()"
   ]
  },
  {
   "cell_type": "code",
   "execution_count": 43,
   "metadata": {},
   "outputs": [],
   "source": [
    "df_tweets_joined = df_published_tweets.join(df_recent_tweets.rename(columns={\"datastore_id\": \"tweet_id\"}).astype({\"tweet_id\": \"str\"}).set_index(\"tweet_id\"), how=\"inner\")"
   ]
  },
  {
   "cell_type": "code",
   "execution_count": 44,
   "metadata": {},
   "outputs": [
    {
     "output_type": "stream",
     "name": "stdout",
     "text": [
      "<class 'pandas.core.frame.DataFrame'>\nIndex: 7603103 entries, 1319685030826938369 to 1339195780704382980\nData columns (total 27 columns):\n #   Column                            Dtype  \n---  ------                            -----  \n 0   user_community                    float64\n 1   user_active_status                object \n 2   retweet_count_metadata            int64  \n 3   quote_count_metadata              int64  \n 4   retweet_count_by_community_0      int64  \n 5   quote_count_by_community_0        int64  \n 6   retweet_count_by_community_1      int64  \n 7   quote_count_by_community_1        int64  \n 8   retweet_count_by_community_2      int64  \n 9   quote_count_by_community_2        int64  \n 10  retweet_count_by_community_3      int64  \n 11  quote_count_by_community_3        int64  \n 12  retweet_count_by_community_4      int64  \n 13  quote_count_by_community_4        int64  \n 14  retweet_count_by_suspended_users  int64  \n 15  quote_count_by_suspended_users    int64  \n 16  user                              object \n 17  hashed_user_id                    object \n 18  quote_tweet                       object \n 19  hashtags                          object \n 20  hasMedia                          bool   \n 21  retweet_count                     int32  \n 22  quote_count                       int32  \n 23  timestamp                         object \n 24  text                              object \n 25  urls                              object \n 26  expanded_urls                     object \ndtypes: bool(1), float64(1), int32(2), int64(14), object(9)\nmemory usage: 1.5+ GB\n"
     ]
    }
   ],
   "source": [
    "df_tweets_joined.info()"
   ]
  },
  {
   "cell_type": "code",
   "execution_count": 45,
   "metadata": {},
   "outputs": [
    {
     "output_type": "execute_result",
     "data": {
      "text/plain": [
       "                     user_community user_active_status  \\\n",
       "tweet_id                                                 \n",
       "1319685030826938369             2.0            deleted   \n",
       "1319685039714717696             NaN             active   \n",
       "1319685089375158274             NaN             active   \n",
       "1319685151031500801             NaN          suspended   \n",
       "1319685176436396035             2.0            deleted   \n",
       "\n",
       "                     retweet_count_metadata  quote_count_metadata  \\\n",
       "tweet_id                                                            \n",
       "1319685030826938369                       0                     0   \n",
       "1319685039714717696                       0                     0   \n",
       "1319685089375158274                       0                     0   \n",
       "1319685151031500801                       0                     0   \n",
       "1319685176436396035                       0                     0   \n",
       "\n",
       "                     retweet_count_by_community_0  quote_count_by_community_0  \\\n",
       "tweet_id                                                                        \n",
       "1319685030826938369                             0                           0   \n",
       "1319685039714717696                             0                           0   \n",
       "1319685089375158274                             0                           0   \n",
       "1319685151031500801                             0                           0   \n",
       "1319685176436396035                             0                           0   \n",
       "\n",
       "                     retweet_count_by_community_1  quote_count_by_community_1  \\\n",
       "tweet_id                                                                        \n",
       "1319685030826938369                             0                           0   \n",
       "1319685039714717696                             0                           0   \n",
       "1319685089375158274                             0                           0   \n",
       "1319685151031500801                             0                           0   \n",
       "1319685176436396035                             0                           0   \n",
       "\n",
       "                     retweet_count_by_community_2  quote_count_by_community_2  \\\n",
       "tweet_id                                                                        \n",
       "1319685030826938369                             0                           0   \n",
       "1319685039714717696                             0                           0   \n",
       "1319685089375158274                             0                           0   \n",
       "1319685151031500801                             0                           0   \n",
       "1319685176436396035                             0                           0   \n",
       "\n",
       "                     ...                                     hashed_user_id  \\\n",
       "tweet_id             ...                                                      \n",
       "1319685030826938369  ...  3f65b87e850f0e814eacfe13f0f39c94ed61d4b6ea170d...   \n",
       "1319685039714717696  ...  e456f60433562381b2b7dd60f3777aa9c7947b2861c5b2...   \n",
       "1319685089375158274  ...  7cd7abda63b7a37d1d968ae84bc78c2c1eaa04a136f9e8...   \n",
       "1319685151031500801  ...  f046a4a29c697d78bb89fcf256b44dca02015fb490140c...   \n",
       "1319685176436396035  ...  3f65b87e850f0e814eacfe13f0f39c94ed61d4b6ea170d...   \n",
       "\n",
       "                             quote_tweet      hashtags  hasMedia  \\\n",
       "tweet_id                                                           \n",
       "1319685030826938369  1317209207045820416  [VoterFraud]     False   \n",
       "1319685039714717696                 None            []     False   \n",
       "1319685089375158274                 None            []     False   \n",
       "1319685151031500801                 None            []      True   \n",
       "1319685176436396035  1316835915369787392  [VoterFraud]     False   \n",
       "\n",
       "                     retweet_count  quote_count             timestamp  \\\n",
       "tweet_id                                                                \n",
       "1319685030826938369              0            0  2020-10-23T17:00:04Z   \n",
       "1319685039714717696              0            0  2020-10-23T17:00:06Z   \n",
       "1319685089375158274              0            0  2020-10-23T17:00:18Z   \n",
       "1319685151031500801              0            0  2020-10-23T17:00:33Z   \n",
       "1319685176436396035              0            0  2020-10-23T17:00:39Z   \n",
       "\n",
       "                                                                  text  \\\n",
       "tweet_id                                                                 \n",
       "1319685030826938369  This can’t be true - Voting “expert” &amp; Lib...   \n",
       "1319685039714717696  U.S. Attorney Scott W. Brady has appointed two...   \n",
       "1319685089375158274  @KrisKobach1787 Kris, I applaud your trying to...   \n",
       "1319685151031500801  @IlhanMN And your actions like voter fraud sho...   \n",
       "1319685176436396035  This can’t be true - Voting “expert” &amp; Lib...   \n",
       "\n",
       "                                                                  urls  \\\n",
       "tweet_id                                                                 \n",
       "1319685030826938369  [https://twitter.com/i/web/status/131968503082...   \n",
       "1319685039714717696  [https://twitter.com/i/web/status/131968503971...   \n",
       "1319685089375158274  [https://twitter.com/i/web/status/131968508937...   \n",
       "1319685151031500801                                                 []   \n",
       "1319685176436396035  [https://twitter.com/i/web/status/131968517643...   \n",
       "\n",
       "                    expanded_urls  \n",
       "tweet_id                           \n",
       "1319685030826938369            []  \n",
       "1319685039714717696            []  \n",
       "1319685089375158274            []  \n",
       "1319685151031500801            []  \n",
       "1319685176436396035            []  \n",
       "\n",
       "[5 rows x 27 columns]"
      ],
      "text/html": "<div>\n<style scoped>\n    .dataframe tbody tr th:only-of-type {\n        vertical-align: middle;\n    }\n\n    .dataframe tbody tr th {\n        vertical-align: top;\n    }\n\n    .dataframe thead th {\n        text-align: right;\n    }\n</style>\n<table border=\"1\" class=\"dataframe\">\n  <thead>\n    <tr style=\"text-align: right;\">\n      <th></th>\n      <th>user_community</th>\n      <th>user_active_status</th>\n      <th>retweet_count_metadata</th>\n      <th>quote_count_metadata</th>\n      <th>retweet_count_by_community_0</th>\n      <th>quote_count_by_community_0</th>\n      <th>retweet_count_by_community_1</th>\n      <th>quote_count_by_community_1</th>\n      <th>retweet_count_by_community_2</th>\n      <th>quote_count_by_community_2</th>\n      <th>...</th>\n      <th>hashed_user_id</th>\n      <th>quote_tweet</th>\n      <th>hashtags</th>\n      <th>hasMedia</th>\n      <th>retweet_count</th>\n      <th>quote_count</th>\n      <th>timestamp</th>\n      <th>text</th>\n      <th>urls</th>\n      <th>expanded_urls</th>\n    </tr>\n    <tr>\n      <th>tweet_id</th>\n      <th></th>\n      <th></th>\n      <th></th>\n      <th></th>\n      <th></th>\n      <th></th>\n      <th></th>\n      <th></th>\n      <th></th>\n      <th></th>\n      <th></th>\n      <th></th>\n      <th></th>\n      <th></th>\n      <th></th>\n      <th></th>\n      <th></th>\n      <th></th>\n      <th></th>\n      <th></th>\n      <th></th>\n    </tr>\n  </thead>\n  <tbody>\n    <tr>\n      <th>1319685030826938369</th>\n      <td>2.0</td>\n      <td>deleted</td>\n      <td>0</td>\n      <td>0</td>\n      <td>0</td>\n      <td>0</td>\n      <td>0</td>\n      <td>0</td>\n      <td>0</td>\n      <td>0</td>\n      <td>...</td>\n      <td>3f65b87e850f0e814eacfe13f0f39c94ed61d4b6ea170d...</td>\n      <td>1317209207045820416</td>\n      <td>[VoterFraud]</td>\n      <td>False</td>\n      <td>0</td>\n      <td>0</td>\n      <td>2020-10-23T17:00:04Z</td>\n      <td>This can’t be true - Voting “expert” &amp;amp; Lib...</td>\n      <td>[https://twitter.com/i/web/status/131968503082...</td>\n      <td>[]</td>\n    </tr>\n    <tr>\n      <th>1319685039714717696</th>\n      <td>NaN</td>\n      <td>active</td>\n      <td>0</td>\n      <td>0</td>\n      <td>0</td>\n      <td>0</td>\n      <td>0</td>\n      <td>0</td>\n      <td>0</td>\n      <td>0</td>\n      <td>...</td>\n      <td>e456f60433562381b2b7dd60f3777aa9c7947b2861c5b2...</td>\n      <td>None</td>\n      <td>[]</td>\n      <td>False</td>\n      <td>0</td>\n      <td>0</td>\n      <td>2020-10-23T17:00:06Z</td>\n      <td>U.S. Attorney Scott W. Brady has appointed two...</td>\n      <td>[https://twitter.com/i/web/status/131968503971...</td>\n      <td>[]</td>\n    </tr>\n    <tr>\n      <th>1319685089375158274</th>\n      <td>NaN</td>\n      <td>active</td>\n      <td>0</td>\n      <td>0</td>\n      <td>0</td>\n      <td>0</td>\n      <td>0</td>\n      <td>0</td>\n      <td>0</td>\n      <td>0</td>\n      <td>...</td>\n      <td>7cd7abda63b7a37d1d968ae84bc78c2c1eaa04a136f9e8...</td>\n      <td>None</td>\n      <td>[]</td>\n      <td>False</td>\n      <td>0</td>\n      <td>0</td>\n      <td>2020-10-23T17:00:18Z</td>\n      <td>@KrisKobach1787 Kris, I applaud your trying to...</td>\n      <td>[https://twitter.com/i/web/status/131968508937...</td>\n      <td>[]</td>\n    </tr>\n    <tr>\n      <th>1319685151031500801</th>\n      <td>NaN</td>\n      <td>suspended</td>\n      <td>0</td>\n      <td>0</td>\n      <td>0</td>\n      <td>0</td>\n      <td>0</td>\n      <td>0</td>\n      <td>0</td>\n      <td>0</td>\n      <td>...</td>\n      <td>f046a4a29c697d78bb89fcf256b44dca02015fb490140c...</td>\n      <td>None</td>\n      <td>[]</td>\n      <td>True</td>\n      <td>0</td>\n      <td>0</td>\n      <td>2020-10-23T17:00:33Z</td>\n      <td>@IlhanMN And your actions like voter fraud sho...</td>\n      <td>[]</td>\n      <td>[]</td>\n    </tr>\n    <tr>\n      <th>1319685176436396035</th>\n      <td>2.0</td>\n      <td>deleted</td>\n      <td>0</td>\n      <td>0</td>\n      <td>0</td>\n      <td>0</td>\n      <td>0</td>\n      <td>0</td>\n      <td>0</td>\n      <td>0</td>\n      <td>...</td>\n      <td>3f65b87e850f0e814eacfe13f0f39c94ed61d4b6ea170d...</td>\n      <td>1316835915369787392</td>\n      <td>[VoterFraud]</td>\n      <td>False</td>\n      <td>0</td>\n      <td>0</td>\n      <td>2020-10-23T17:00:39Z</td>\n      <td>This can’t be true - Voting “expert” &amp;amp; Lib...</td>\n      <td>[https://twitter.com/i/web/status/131968517643...</td>\n      <td>[]</td>\n    </tr>\n  </tbody>\n</table>\n<p>5 rows × 27 columns</p>\n</div>"
     },
     "metadata": {},
     "execution_count": 45
    }
   ],
   "source": [
    "df_tweets_joined.head()"
   ]
  },
  {
   "cell_type": "code",
   "execution_count": 46,
   "metadata": {},
   "outputs": [],
   "source": [
    "df_tweets_joined.to_pickle(\"./df_tweets_joined.pickle\")"
   ]
  },
  {
   "cell_type": "code",
   "execution_count": 87,
   "metadata": {},
   "outputs": [
    {
     "output_type": "execute_result",
     "data": {
      "text/plain": [
       "                                        name           handle  \\\n",
       "datastore_id                                                    \n",
       "1001056184256876546           eric reisinger   ericreisinger6   \n",
       "1001058496463474688                    AName         2865428T   \n",
       "1001059579730579457  Justice is Coming⭐️⭐️⭐️  RedPilledisBACK   \n",
       "1001061067286556672                  AP23871          AP23871   \n",
       "1001061562772209664  🦠🇨🇦Gas Station Sushi🇨🇦🦠      H0oFHearted   \n",
       "\n",
       "                               created_at  verified  \\\n",
       "datastore_id                                          \n",
       "1001056184256876546  2018-05-28T11:02:47Z     False   \n",
       "1001058496463474688  2018-05-28T11:11:59Z     False   \n",
       "1001059579730579457  2018-05-28T11:16:17Z     False   \n",
       "1001061067286556672  2018-05-28T11:22:12Z     False   \n",
       "1001061562772209664  2018-05-28T11:24:10Z     False   \n",
       "\n",
       "                                                           description  \\\n",
       "datastore_id                                                             \n",
       "1001056184256876546                                               None   \n",
       "1001058496463474688                                               None   \n",
       "1001059579730579457  #Trump2020 #17 #DarktoLight #JusticeLeague #We...   \n",
       "1001061067286556672                                               None   \n",
       "1001061562772209664                                  #COVID-19Negative   \n",
       "\n",
       "                     followers_count          location  \n",
       "datastore_id                                            \n",
       "1001056184256876546               14     Boonville, MO  \n",
       "1001058496463474688                9              None  \n",
       "1001059579730579457            18383              None  \n",
       "1001061067286556672                1       Chicago, IL  \n",
       "1001061562772209664              816  Trudeau Tax Hell  "
      ],
      "text/html": "<div>\n<style scoped>\n    .dataframe tbody tr th:only-of-type {\n        vertical-align: middle;\n    }\n\n    .dataframe tbody tr th {\n        vertical-align: top;\n    }\n\n    .dataframe thead th {\n        text-align: right;\n    }\n</style>\n<table border=\"1\" class=\"dataframe\">\n  <thead>\n    <tr style=\"text-align: right;\">\n      <th></th>\n      <th>name</th>\n      <th>handle</th>\n      <th>created_at</th>\n      <th>verified</th>\n      <th>description</th>\n      <th>followers_count</th>\n      <th>location</th>\n    </tr>\n    <tr>\n      <th>datastore_id</th>\n      <th></th>\n      <th></th>\n      <th></th>\n      <th></th>\n      <th></th>\n      <th></th>\n      <th></th>\n    </tr>\n  </thead>\n  <tbody>\n    <tr>\n      <th>1001056184256876546</th>\n      <td>eric reisinger</td>\n      <td>ericreisinger6</td>\n      <td>2018-05-28T11:02:47Z</td>\n      <td>False</td>\n      <td>None</td>\n      <td>14</td>\n      <td>Boonville, MO</td>\n    </tr>\n    <tr>\n      <th>1001058496463474688</th>\n      <td>AName</td>\n      <td>2865428T</td>\n      <td>2018-05-28T11:11:59Z</td>\n      <td>False</td>\n      <td>None</td>\n      <td>9</td>\n      <td>None</td>\n    </tr>\n    <tr>\n      <th>1001059579730579457</th>\n      <td>Justice is Coming⭐️⭐️⭐️</td>\n      <td>RedPilledisBACK</td>\n      <td>2018-05-28T11:16:17Z</td>\n      <td>False</td>\n      <td>#Trump2020 #17 #DarktoLight #JusticeLeague #We...</td>\n      <td>18383</td>\n      <td>None</td>\n    </tr>\n    <tr>\n      <th>1001061067286556672</th>\n      <td>AP23871</td>\n      <td>AP23871</td>\n      <td>2018-05-28T11:22:12Z</td>\n      <td>False</td>\n      <td>None</td>\n      <td>1</td>\n      <td>Chicago, IL</td>\n    </tr>\n    <tr>\n      <th>1001061562772209664</th>\n      <td>🦠🇨🇦Gas Station Sushi🇨🇦🦠</td>\n      <td>H0oFHearted</td>\n      <td>2018-05-28T11:24:10Z</td>\n      <td>False</td>\n      <td>#COVID-19Negative</td>\n      <td>816</td>\n      <td>Trudeau Tax Hell</td>\n    </tr>\n  </tbody>\n</table>\n</div>"
     },
     "metadata": {},
     "execution_count": 87
    }
   ],
   "source": [
    "df_users_retweets = pd.read_pickle(\"df_users_retweets.pickle\").set_index(\"datastore_id\")\n",
    "df_users = pd.read_pickle(\"df_users.pickle\")[df_users_retweets.columns]\n",
    "df_users.head()"
   ]
  },
  {
   "cell_type": "code",
   "execution_count": 88,
   "metadata": {},
   "outputs": [
    {
     "output_type": "execute_result",
     "data": {
      "text/plain": [
       "                                  name         handle  \\\n",
       "datastore_id                                            \n",
       "393232103                 Dan Lagnöhed      dlagnohed   \n",
       "4839391234                         dag    dag77867675   \n",
       "1224501353831108609               zach       zach2676   \n",
       "1237745867731480576      Gomariana1202  gomariana1202   \n",
       "695809445755035648   Blazikus @HOLDING  BlazikusSmash   \n",
       "\n",
       "                                         created_at  verified   description  \\\n",
       "datastore_id                                                                  \n",
       "393232103            Tue Oct 18 06:53:44 +0000 2011     False                 \n",
       "4839391234           Sat Jan 23 18:23:54 +0000 2016     False                 \n",
       "1224501353831108609  Tue Feb 04 01:14:17 +0000 2020     False                 \n",
       "1237745867731480576  Wed Mar 11 14:23:33 +0000 2020     False        servir   \n",
       "695809445755035648   Sat Feb 06 03:21:14 +0000 2016     False  diddy 4 lyfe   \n",
       "\n",
       "                     followers_count                      location  \n",
       "datastore_id                                                        \n",
       "393232103                         66                                \n",
       "4839391234                       124                                \n",
       "1224501353831108609               17                            MI  \n",
       "1237745867731480576               25                                \n",
       "695809445755035648               178  Chalfont, PA Los Angeles, CA  "
      ],
      "text/html": "<div>\n<style scoped>\n    .dataframe tbody tr th:only-of-type {\n        vertical-align: middle;\n    }\n\n    .dataframe tbody tr th {\n        vertical-align: top;\n    }\n\n    .dataframe thead th {\n        text-align: right;\n    }\n</style>\n<table border=\"1\" class=\"dataframe\">\n  <thead>\n    <tr style=\"text-align: right;\">\n      <th></th>\n      <th>name</th>\n      <th>handle</th>\n      <th>created_at</th>\n      <th>verified</th>\n      <th>description</th>\n      <th>followers_count</th>\n      <th>location</th>\n    </tr>\n    <tr>\n      <th>datastore_id</th>\n      <th></th>\n      <th></th>\n      <th></th>\n      <th></th>\n      <th></th>\n      <th></th>\n      <th></th>\n    </tr>\n  </thead>\n  <tbody>\n    <tr>\n      <th>393232103</th>\n      <td>Dan Lagnöhed</td>\n      <td>dlagnohed</td>\n      <td>Tue Oct 18 06:53:44 +0000 2011</td>\n      <td>False</td>\n      <td></td>\n      <td>66</td>\n      <td></td>\n    </tr>\n    <tr>\n      <th>4839391234</th>\n      <td>dag</td>\n      <td>dag77867675</td>\n      <td>Sat Jan 23 18:23:54 +0000 2016</td>\n      <td>False</td>\n      <td></td>\n      <td>124</td>\n      <td></td>\n    </tr>\n    <tr>\n      <th>1224501353831108609</th>\n      <td>zach</td>\n      <td>zach2676</td>\n      <td>Tue Feb 04 01:14:17 +0000 2020</td>\n      <td>False</td>\n      <td></td>\n      <td>17</td>\n      <td>MI</td>\n    </tr>\n    <tr>\n      <th>1237745867731480576</th>\n      <td>Gomariana1202</td>\n      <td>gomariana1202</td>\n      <td>Wed Mar 11 14:23:33 +0000 2020</td>\n      <td>False</td>\n      <td>servir</td>\n      <td>25</td>\n      <td></td>\n    </tr>\n    <tr>\n      <th>695809445755035648</th>\n      <td>Blazikus @HOLDING</td>\n      <td>BlazikusSmash</td>\n      <td>Sat Feb 06 03:21:14 +0000 2016</td>\n      <td>False</td>\n      <td>diddy 4 lyfe</td>\n      <td>178</td>\n      <td>Chalfont, PA Los Angeles, CA</td>\n    </tr>\n  </tbody>\n</table>\n</div>"
     },
     "metadata": {},
     "execution_count": 88
    }
   ],
   "source": [
    "df_users_retweets.head()"
   ]
  },
  {
   "cell_type": "code",
   "execution_count": 89,
   "metadata": {},
   "outputs": [
    {
     "output_type": "stream",
     "name": "stdout",
     "text": [
      "(2460175, 7)\n"
     ]
    },
    {
     "output_type": "execute_result",
     "data": {
      "text/plain": [
       "                             name           handle            created_at  \\\n",
       "user_id                                                                    \n",
       "1149389372824924160                chunyan20817389  1970-01-01T00:00:00Z   \n",
       "1333952375166431232                 dredragunovska  1970-01-01T00:00:00Z   \n",
       "1268957229220233217  rizeyunggawd     rizeyunggawd  1970-01-01T00:00:00Z   \n",
       "22                         rabble           rabble  2006-03-21T21:04:12Z   \n",
       "224                     Dave Pell         davepell  2006-05-01T22:17:42Z   \n",
       "\n",
       "                     verified  \\\n",
       "user_id                         \n",
       "1149389372824924160     False   \n",
       "1333952375166431232     False   \n",
       "1268957229220233217     False   \n",
       "22                      False   \n",
       "224                      True   \n",
       "\n",
       "                                                           description  \\\n",
       "user_id                                                                  \n",
       "1149389372824924160                                               None   \n",
       "1333952375166431232                                               None   \n",
       "1268957229220233217  right vs wrong\\nI am a black man. Don't be an ...   \n",
       "22                   anarchist, hacker, troublemaker (he/him) worki...   \n",
       "224                                         Managing Editor, Internet.   \n",
       "\n",
       "                     followers_count         location  \n",
       "user_id                                                \n",
       "1149389372824924160               84             None  \n",
       "1333952375166431232                2             None  \n",
       "1268957229220233217               63             None  \n",
       "22                             16724  from PDX to MVD  \n",
       "224                            57532    San Francisco  "
      ],
      "text/html": "<div>\n<style scoped>\n    .dataframe tbody tr th:only-of-type {\n        vertical-align: middle;\n    }\n\n    .dataframe tbody tr th {\n        vertical-align: top;\n    }\n\n    .dataframe thead th {\n        text-align: right;\n    }\n</style>\n<table border=\"1\" class=\"dataframe\">\n  <thead>\n    <tr style=\"text-align: right;\">\n      <th></th>\n      <th>name</th>\n      <th>handle</th>\n      <th>created_at</th>\n      <th>verified</th>\n      <th>description</th>\n      <th>followers_count</th>\n      <th>location</th>\n    </tr>\n    <tr>\n      <th>user_id</th>\n      <th></th>\n      <th></th>\n      <th></th>\n      <th></th>\n      <th></th>\n      <th></th>\n      <th></th>\n    </tr>\n  </thead>\n  <tbody>\n    <tr>\n      <th>1149389372824924160</th>\n      <td></td>\n      <td>chunyan20817389</td>\n      <td>1970-01-01T00:00:00Z</td>\n      <td>False</td>\n      <td>None</td>\n      <td>84</td>\n      <td>None</td>\n    </tr>\n    <tr>\n      <th>1333952375166431232</th>\n      <td></td>\n      <td>dredragunovska</td>\n      <td>1970-01-01T00:00:00Z</td>\n      <td>False</td>\n      <td>None</td>\n      <td>2</td>\n      <td>None</td>\n    </tr>\n    <tr>\n      <th>1268957229220233217</th>\n      <td>rizeyunggawd</td>\n      <td>rizeyunggawd</td>\n      <td>1970-01-01T00:00:00Z</td>\n      <td>False</td>\n      <td>right vs wrong\\nI am a black man. Don't be an ...</td>\n      <td>63</td>\n      <td>None</td>\n    </tr>\n    <tr>\n      <th>22</th>\n      <td>rabble</td>\n      <td>rabble</td>\n      <td>2006-03-21T21:04:12Z</td>\n      <td>False</td>\n      <td>anarchist, hacker, troublemaker (he/him) worki...</td>\n      <td>16724</td>\n      <td>from PDX to MVD</td>\n    </tr>\n    <tr>\n      <th>224</th>\n      <td>Dave Pell</td>\n      <td>davepell</td>\n      <td>2006-05-01T22:17:42Z</td>\n      <td>True</td>\n      <td>Managing Editor, Internet.</td>\n      <td>57532</td>\n      <td>San Francisco</td>\n    </tr>\n  </tbody>\n</table>\n</div>"
     },
     "metadata": {},
     "execution_count": 89
    }
   ],
   "source": [
    "df_users_joined = pd.concat([df_users, df_users_retweets]).reset_index().rename(columns={\"datastore_id\": \"user_id\"}).sort_values(\"created_at\").set_index(\"user_id\")\n",
    "print(df_users_joined.shape)\n",
    "df_users_joined.head()"
   ]
  },
  {
   "cell_type": "code",
   "execution_count": 61,
   "metadata": {},
   "outputs": [
    {
     "output_type": "execute_result",
     "data": {
      "text/plain": [
       "(2460175, 7)"
      ]
     },
     "metadata": {},
     "execution_count": 61
    }
   ],
   "source": [
    "df_users_joined[~df_users_joined.index.duplicated(keep='first')].shape"
   ]
  },
  {
   "cell_type": "code",
   "execution_count": 91,
   "metadata": {},
   "outputs": [
    {
     "output_type": "stream",
     "name": "stdout",
     "text": [
      "<class 'pandas.core.frame.DataFrame'>\nIndex: 2559018 entries, 6590 to 1269104794511147008\nData columns (total 16 columns):\n #   Column                                  Dtype  \n---  ------                                  -----  \n 0   user_community                          float64\n 1   user_active_status                      object \n 2   closeness_centrality_detractor_cluster  float64\n 3   closeness_centrality_promoter_cluster   float64\n 4   retweet_count_by_community_0            int64  \n 5   quote_count_by_community_0              int64  \n 6   retweet_count_by_community_1            int64  \n 7   quote_count_by_community_1              int64  \n 8   retweet_count_by_community_2            int64  \n 9   quote_count_by_community_2              int64  \n 10  retweet_count_by_community_3            int64  \n 11  quote_count_by_community_3              int64  \n 12  retweet_count_by_community_4            int64  \n 13  quote_count_by_community_4              int64  \n 14  retweet_count_by_suspended_users        int64  \n 15  quote_count_by_suspended_users          int64  \ndtypes: float64(3), int64(12), object(1)\nmemory usage: 331.9+ MB\n"
     ]
    }
   ],
   "source": [
    "df_published_users = load_chunks(\"../data/published/users/\").astype({\"user_id\": \"str\"}).set_index(\"user_id\")\n",
    "df_published_users.info()"
   ]
  },
  {
   "cell_type": "code",
   "execution_count": 92,
   "metadata": {},
   "outputs": [
    {
     "output_type": "stream",
     "name": "stdout",
     "text": [
      "(2559018, 23)\n98843\n"
     ]
    }
   ],
   "source": [
    "df_users_all_fields = df_published_users.join(df_users_joined)\n",
    "print(df_users_all_fields.shape)\n",
    "print(df_users_all_fields.name.isnull().sum())"
   ]
  },
  {
   "cell_type": "code",
   "execution_count": 93,
   "metadata": {},
   "outputs": [
    {
     "output_type": "execute_result",
     "data": {
      "text/plain": [
       "                     user_community user_active_status  \\\n",
       "user_id                                                  \n",
       "715718947371229184              2.0             active   \n",
       "275376998                       3.0             active   \n",
       "275429414                       3.0             active   \n",
       "275447451                       1.0             active   \n",
       "275501620                       1.0             active   \n",
       "...                             ...                ...   \n",
       "899317849243693057              2.0          suspended   \n",
       "1296302672077758464             2.0          suspended   \n",
       "1403510982                      1.0            deleted   \n",
       "1331876413926936577             1.0          suspended   \n",
       "1269104794511147008             1.0            deleted   \n",
       "\n",
       "                     closeness_centrality_detractor_cluster  \\\n",
       "user_id                                                       \n",
       "715718947371229184                                      NaN   \n",
       "275376998                                               NaN   \n",
       "275429414                                               NaN   \n",
       "275447451                                               NaN   \n",
       "275501620                                               NaN   \n",
       "...                                                     ...   \n",
       "899317849243693057                                      NaN   \n",
       "1296302672077758464                                     NaN   \n",
       "1403510982                                              NaN   \n",
       "1331876413926936577                                     NaN   \n",
       "1269104794511147008                                     NaN   \n",
       "\n",
       "                     closeness_centrality_promoter_cluster  \\\n",
       "user_id                                                      \n",
       "715718947371229184                                     NaN   \n",
       "275376998                                              NaN   \n",
       "275429414                                              NaN   \n",
       "275447451                                              NaN   \n",
       "275501620                                              NaN   \n",
       "...                                                    ...   \n",
       "899317849243693057                                     NaN   \n",
       "1296302672077758464                                    NaN   \n",
       "1403510982                                             NaN   \n",
       "1331876413926936577                                    NaN   \n",
       "1269104794511147008                                    NaN   \n",
       "\n",
       "                     retweet_count_by_community_0  quote_count_by_community_0  \\\n",
       "user_id                                                                         \n",
       "715718947371229184                              0                           0   \n",
       "275376998                                       0                           0   \n",
       "275429414                                       0                           0   \n",
       "275447451                                       0                           0   \n",
       "275501620                                       0                           0   \n",
       "...                                           ...                         ...   \n",
       "899317849243693057                              0                           0   \n",
       "1296302672077758464                             0                           0   \n",
       "1403510982                                      0                           0   \n",
       "1331876413926936577                             0                           0   \n",
       "1269104794511147008                             0                           0   \n",
       "\n",
       "                     retweet_count_by_community_1  quote_count_by_community_1  \\\n",
       "user_id                                                                         \n",
       "715718947371229184                              0                           0   \n",
       "275376998                                       0                           0   \n",
       "275429414                                       0                           0   \n",
       "275447451                                       0                           0   \n",
       "275501620                                       0                           0   \n",
       "...                                           ...                         ...   \n",
       "899317849243693057                              0                           0   \n",
       "1296302672077758464                             0                           0   \n",
       "1403510982                                      0                           0   \n",
       "1331876413926936577                             0                           0   \n",
       "1269104794511147008                             0                           0   \n",
       "\n",
       "                     retweet_count_by_community_2  quote_count_by_community_2  \\\n",
       "user_id                                                                         \n",
       "715718947371229184                              0                           0   \n",
       "275376998                                       0                           0   \n",
       "275429414                                       0                           0   \n",
       "275447451                                       0                           0   \n",
       "275501620                                       0                           0   \n",
       "...                                           ...                         ...   \n",
       "899317849243693057                              0                           0   \n",
       "1296302672077758464                             0                           0   \n",
       "1403510982                                      0                           0   \n",
       "1331876413926936577                             0                           0   \n",
       "1269104794511147008                             0                           0   \n",
       "\n",
       "                     ...  quote_count_by_community_4  \\\n",
       "user_id              ...                               \n",
       "715718947371229184   ...                           0   \n",
       "275376998            ...                           0   \n",
       "275429414            ...                           0   \n",
       "275447451            ...                           0   \n",
       "275501620            ...                           0   \n",
       "...                  ...                         ...   \n",
       "899317849243693057   ...                           0   \n",
       "1296302672077758464  ...                           0   \n",
       "1403510982           ...                           0   \n",
       "1331876413926936577  ...                           0   \n",
       "1269104794511147008  ...                           0   \n",
       "\n",
       "                     retweet_count_by_suspended_users  \\\n",
       "user_id                                                 \n",
       "715718947371229184                                  0   \n",
       "275376998                                           0   \n",
       "275429414                                           0   \n",
       "275447451                                           0   \n",
       "275501620                                           0   \n",
       "...                                               ...   \n",
       "899317849243693057                                  0   \n",
       "1296302672077758464                                 0   \n",
       "1403510982                                          0   \n",
       "1331876413926936577                                 0   \n",
       "1269104794511147008                                 0   \n",
       "\n",
       "                     quote_count_by_suspended_users  name  handle  created_at  \\\n",
       "user_id                                                                         \n",
       "715718947371229184                                0   NaN     NaN         NaN   \n",
       "275376998                                         0   NaN     NaN         NaN   \n",
       "275429414                                         0   NaN     NaN         NaN   \n",
       "275447451                                         0   NaN     NaN         NaN   \n",
       "275501620                                         0   NaN     NaN         NaN   \n",
       "...                                             ...   ...     ...         ...   \n",
       "899317849243693057                                0   NaN     NaN         NaN   \n",
       "1296302672077758464                               0   NaN     NaN         NaN   \n",
       "1403510982                                        0   NaN     NaN         NaN   \n",
       "1331876413926936577                               0   NaN     NaN         NaN   \n",
       "1269104794511147008                               0   NaN     NaN         NaN   \n",
       "\n",
       "                    verified description followers_count location  \n",
       "user_id                                                            \n",
       "715718947371229184       NaN         NaN             NaN      NaN  \n",
       "275376998                NaN         NaN             NaN      NaN  \n",
       "275429414                NaN         NaN             NaN      NaN  \n",
       "275447451                NaN         NaN             NaN      NaN  \n",
       "275501620                NaN         NaN             NaN      NaN  \n",
       "...                      ...         ...             ...      ...  \n",
       "899317849243693057       NaN         NaN             NaN      NaN  \n",
       "1296302672077758464      NaN         NaN             NaN      NaN  \n",
       "1403510982               NaN         NaN             NaN      NaN  \n",
       "1331876413926936577      NaN         NaN             NaN      NaN  \n",
       "1269104794511147008      NaN         NaN             NaN      NaN  \n",
       "\n",
       "[98843 rows x 23 columns]"
      ],
      "text/html": "<div>\n<style scoped>\n    .dataframe tbody tr th:only-of-type {\n        vertical-align: middle;\n    }\n\n    .dataframe tbody tr th {\n        vertical-align: top;\n    }\n\n    .dataframe thead th {\n        text-align: right;\n    }\n</style>\n<table border=\"1\" class=\"dataframe\">\n  <thead>\n    <tr style=\"text-align: right;\">\n      <th></th>\n      <th>user_community</th>\n      <th>user_active_status</th>\n      <th>closeness_centrality_detractor_cluster</th>\n      <th>closeness_centrality_promoter_cluster</th>\n      <th>retweet_count_by_community_0</th>\n      <th>quote_count_by_community_0</th>\n      <th>retweet_count_by_community_1</th>\n      <th>quote_count_by_community_1</th>\n      <th>retweet_count_by_community_2</th>\n      <th>quote_count_by_community_2</th>\n      <th>...</th>\n      <th>quote_count_by_community_4</th>\n      <th>retweet_count_by_suspended_users</th>\n      <th>quote_count_by_suspended_users</th>\n      <th>name</th>\n      <th>handle</th>\n      <th>created_at</th>\n      <th>verified</th>\n      <th>description</th>\n      <th>followers_count</th>\n      <th>location</th>\n    </tr>\n    <tr>\n      <th>user_id</th>\n      <th></th>\n      <th></th>\n      <th></th>\n      <th></th>\n      <th></th>\n      <th></th>\n      <th></th>\n      <th></th>\n      <th></th>\n      <th></th>\n      <th></th>\n      <th></th>\n      <th></th>\n      <th></th>\n      <th></th>\n      <th></th>\n      <th></th>\n      <th></th>\n      <th></th>\n      <th></th>\n      <th></th>\n    </tr>\n  </thead>\n  <tbody>\n    <tr>\n      <th>715718947371229184</th>\n      <td>2.0</td>\n      <td>active</td>\n      <td>NaN</td>\n      <td>NaN</td>\n      <td>0</td>\n      <td>0</td>\n      <td>0</td>\n      <td>0</td>\n      <td>0</td>\n      <td>0</td>\n      <td>...</td>\n      <td>0</td>\n      <td>0</td>\n      <td>0</td>\n      <td>NaN</td>\n      <td>NaN</td>\n      <td>NaN</td>\n      <td>NaN</td>\n      <td>NaN</td>\n      <td>NaN</td>\n      <td>NaN</td>\n    </tr>\n    <tr>\n      <th>275376998</th>\n      <td>3.0</td>\n      <td>active</td>\n      <td>NaN</td>\n      <td>NaN</td>\n      <td>0</td>\n      <td>0</td>\n      <td>0</td>\n      <td>0</td>\n      <td>0</td>\n      <td>0</td>\n      <td>...</td>\n      <td>0</td>\n      <td>0</td>\n      <td>0</td>\n      <td>NaN</td>\n      <td>NaN</td>\n      <td>NaN</td>\n      <td>NaN</td>\n      <td>NaN</td>\n      <td>NaN</td>\n      <td>NaN</td>\n    </tr>\n    <tr>\n      <th>275429414</th>\n      <td>3.0</td>\n      <td>active</td>\n      <td>NaN</td>\n      <td>NaN</td>\n      <td>0</td>\n      <td>0</td>\n      <td>0</td>\n      <td>0</td>\n      <td>0</td>\n      <td>0</td>\n      <td>...</td>\n      <td>0</td>\n      <td>0</td>\n      <td>0</td>\n      <td>NaN</td>\n      <td>NaN</td>\n      <td>NaN</td>\n      <td>NaN</td>\n      <td>NaN</td>\n      <td>NaN</td>\n      <td>NaN</td>\n    </tr>\n    <tr>\n      <th>275447451</th>\n      <td>1.0</td>\n      <td>active</td>\n      <td>NaN</td>\n      <td>NaN</td>\n      <td>0</td>\n      <td>0</td>\n      <td>0</td>\n      <td>0</td>\n      <td>0</td>\n      <td>0</td>\n      <td>...</td>\n      <td>0</td>\n      <td>0</td>\n      <td>0</td>\n      <td>NaN</td>\n      <td>NaN</td>\n      <td>NaN</td>\n      <td>NaN</td>\n      <td>NaN</td>\n      <td>NaN</td>\n      <td>NaN</td>\n    </tr>\n    <tr>\n      <th>275501620</th>\n      <td>1.0</td>\n      <td>active</td>\n      <td>NaN</td>\n      <td>NaN</td>\n      <td>0</td>\n      <td>0</td>\n      <td>0</td>\n      <td>0</td>\n      <td>0</td>\n      <td>0</td>\n      <td>...</td>\n      <td>0</td>\n      <td>0</td>\n      <td>0</td>\n      <td>NaN</td>\n      <td>NaN</td>\n      <td>NaN</td>\n      <td>NaN</td>\n      <td>NaN</td>\n      <td>NaN</td>\n      <td>NaN</td>\n    </tr>\n    <tr>\n      <th>...</th>\n      <td>...</td>\n      <td>...</td>\n      <td>...</td>\n      <td>...</td>\n      <td>...</td>\n      <td>...</td>\n      <td>...</td>\n      <td>...</td>\n      <td>...</td>\n      <td>...</td>\n      <td>...</td>\n      <td>...</td>\n      <td>...</td>\n      <td>...</td>\n      <td>...</td>\n      <td>...</td>\n      <td>...</td>\n      <td>...</td>\n      <td>...</td>\n      <td>...</td>\n      <td>...</td>\n    </tr>\n    <tr>\n      <th>899317849243693057</th>\n      <td>2.0</td>\n      <td>suspended</td>\n      <td>NaN</td>\n      <td>NaN</td>\n      <td>0</td>\n      <td>0</td>\n      <td>0</td>\n      <td>0</td>\n      <td>0</td>\n      <td>0</td>\n      <td>...</td>\n      <td>0</td>\n      <td>0</td>\n      <td>0</td>\n      <td>NaN</td>\n      <td>NaN</td>\n      <td>NaN</td>\n      <td>NaN</td>\n      <td>NaN</td>\n      <td>NaN</td>\n      <td>NaN</td>\n    </tr>\n    <tr>\n      <th>1296302672077758464</th>\n      <td>2.0</td>\n      <td>suspended</td>\n      <td>NaN</td>\n      <td>NaN</td>\n      <td>0</td>\n      <td>0</td>\n      <td>0</td>\n      <td>0</td>\n      <td>0</td>\n      <td>0</td>\n      <td>...</td>\n      <td>0</td>\n      <td>0</td>\n      <td>0</td>\n      <td>NaN</td>\n      <td>NaN</td>\n      <td>NaN</td>\n      <td>NaN</td>\n      <td>NaN</td>\n      <td>NaN</td>\n      <td>NaN</td>\n    </tr>\n    <tr>\n      <th>1403510982</th>\n      <td>1.0</td>\n      <td>deleted</td>\n      <td>NaN</td>\n      <td>NaN</td>\n      <td>0</td>\n      <td>0</td>\n      <td>0</td>\n      <td>0</td>\n      <td>0</td>\n      <td>0</td>\n      <td>...</td>\n      <td>0</td>\n      <td>0</td>\n      <td>0</td>\n      <td>NaN</td>\n      <td>NaN</td>\n      <td>NaN</td>\n      <td>NaN</td>\n      <td>NaN</td>\n      <td>NaN</td>\n      <td>NaN</td>\n    </tr>\n    <tr>\n      <th>1331876413926936577</th>\n      <td>1.0</td>\n      <td>suspended</td>\n      <td>NaN</td>\n      <td>NaN</td>\n      <td>0</td>\n      <td>0</td>\n      <td>0</td>\n      <td>0</td>\n      <td>0</td>\n      <td>0</td>\n      <td>...</td>\n      <td>0</td>\n      <td>0</td>\n      <td>0</td>\n      <td>NaN</td>\n      <td>NaN</td>\n      <td>NaN</td>\n      <td>NaN</td>\n      <td>NaN</td>\n      <td>NaN</td>\n      <td>NaN</td>\n    </tr>\n    <tr>\n      <th>1269104794511147008</th>\n      <td>1.0</td>\n      <td>deleted</td>\n      <td>NaN</td>\n      <td>NaN</td>\n      <td>0</td>\n      <td>0</td>\n      <td>0</td>\n      <td>0</td>\n      <td>0</td>\n      <td>0</td>\n      <td>...</td>\n      <td>0</td>\n      <td>0</td>\n      <td>0</td>\n      <td>NaN</td>\n      <td>NaN</td>\n      <td>NaN</td>\n      <td>NaN</td>\n      <td>NaN</td>\n      <td>NaN</td>\n      <td>NaN</td>\n    </tr>\n  </tbody>\n</table>\n<p>98843 rows × 23 columns</p>\n</div>"
     },
     "metadata": {},
     "execution_count": 93
    }
   ],
   "source": [
    "df_users_all_fields[df_users_all_fields.name.isnull()]"
   ]
  },
  {
   "cell_type": "code",
   "execution_count": 96,
   "metadata": {},
   "outputs": [
    {
     "output_type": "execute_result",
     "data": {
      "text/plain": [
       "user_active_status\n",
       "deleted      39577\n",
       "active       31872\n",
       "suspended    27394\n",
       "dtype: int64"
      ]
     },
     "metadata": {},
     "execution_count": 96
    }
   ],
   "source": [
    "df_users_all_fields[df_users_all_fields.name.isnull()].value_counts(\"user_active_status\")"
   ]
  },
  {
   "cell_type": "code",
   "execution_count": 23,
   "metadata": {},
   "outputs": [
    {
     "output_type": "execute_result",
     "data": {
      "text/plain": [
       "         user_community user_active_status  \\\n",
       "user_id                                      \n",
       "6590                0.0          suspended   \n",
       "10597               NaN            deleted   \n",
       "16943               NaN          suspended   \n",
       "29803               NaN          suspended   \n",
       "68093               0.0          suspended   \n",
       "\n",
       "         closeness_centrality_detractor_cluster  \\\n",
       "user_id                                           \n",
       "6590                                        NaN   \n",
       "10597                                       NaN   \n",
       "16943                                       NaN   \n",
       "29803                                       NaN   \n",
       "68093                                  0.076194   \n",
       "\n",
       "         closeness_centrality_promoter_cluster  retweet_count_by_community_0  \\\n",
       "user_id                                                                        \n",
       "6590                                       NaN                             0   \n",
       "10597                                      NaN                             0   \n",
       "16943                                      NaN                             0   \n",
       "29803                                      NaN                             0   \n",
       "68093                                      NaN                            16   \n",
       "\n",
       "         quote_count_by_community_0  retweet_count_by_community_1  \\\n",
       "user_id                                                             \n",
       "6590                              0                             0   \n",
       "10597                             0                             0   \n",
       "16943                             0                             0   \n",
       "29803                             0                             0   \n",
       "68093                             0                             0   \n",
       "\n",
       "         quote_count_by_community_1  retweet_count_by_community_2  \\\n",
       "user_id                                                             \n",
       "6590                              0                             0   \n",
       "10597                             0                             0   \n",
       "16943                             0                             0   \n",
       "29803                             0                             0   \n",
       "68093                             0                             0   \n",
       "\n",
       "         quote_count_by_community_2  retweet_count_by_community_3  \\\n",
       "user_id                                                             \n",
       "6590                              0                             0   \n",
       "10597                             0                             0   \n",
       "16943                             0                             0   \n",
       "29803                             0                             0   \n",
       "68093                             0                             0   \n",
       "\n",
       "         quote_count_by_community_3  retweet_count_by_community_4  \\\n",
       "user_id                                                             \n",
       "6590                              0                             0   \n",
       "10597                             0                             0   \n",
       "16943                             0                             0   \n",
       "29803                             0                             0   \n",
       "68093                             0                             0   \n",
       "\n",
       "         quote_count_by_community_4  retweet_count_by_suspended_users  \\\n",
       "user_id                                                                 \n",
       "6590                              0                                 0   \n",
       "10597                             0                                 0   \n",
       "16943                             0                                 0   \n",
       "29803                             0                                 0   \n",
       "68093                             0                                 1   \n",
       "\n",
       "         quote_count_by_suspended_users  \n",
       "user_id                                  \n",
       "6590                                  0  \n",
       "10597                                 0  \n",
       "16943                                 0  \n",
       "29803                                 0  \n",
       "68093                                 0  "
      ],
      "text/html": "<div>\n<style scoped>\n    .dataframe tbody tr th:only-of-type {\n        vertical-align: middle;\n    }\n\n    .dataframe tbody tr th {\n        vertical-align: top;\n    }\n\n    .dataframe thead th {\n        text-align: right;\n    }\n</style>\n<table border=\"1\" class=\"dataframe\">\n  <thead>\n    <tr style=\"text-align: right;\">\n      <th></th>\n      <th>user_community</th>\n      <th>user_active_status</th>\n      <th>closeness_centrality_detractor_cluster</th>\n      <th>closeness_centrality_promoter_cluster</th>\n      <th>retweet_count_by_community_0</th>\n      <th>quote_count_by_community_0</th>\n      <th>retweet_count_by_community_1</th>\n      <th>quote_count_by_community_1</th>\n      <th>retweet_count_by_community_2</th>\n      <th>quote_count_by_community_2</th>\n      <th>retweet_count_by_community_3</th>\n      <th>quote_count_by_community_3</th>\n      <th>retweet_count_by_community_4</th>\n      <th>quote_count_by_community_4</th>\n      <th>retweet_count_by_suspended_users</th>\n      <th>quote_count_by_suspended_users</th>\n    </tr>\n    <tr>\n      <th>user_id</th>\n      <th></th>\n      <th></th>\n      <th></th>\n      <th></th>\n      <th></th>\n      <th></th>\n      <th></th>\n      <th></th>\n      <th></th>\n      <th></th>\n      <th></th>\n      <th></th>\n      <th></th>\n      <th></th>\n      <th></th>\n      <th></th>\n    </tr>\n  </thead>\n  <tbody>\n    <tr>\n      <th>6590</th>\n      <td>0.0</td>\n      <td>suspended</td>\n      <td>NaN</td>\n      <td>NaN</td>\n      <td>0</td>\n      <td>0</td>\n      <td>0</td>\n      <td>0</td>\n      <td>0</td>\n      <td>0</td>\n      <td>0</td>\n      <td>0</td>\n      <td>0</td>\n      <td>0</td>\n      <td>0</td>\n      <td>0</td>\n    </tr>\n    <tr>\n      <th>10597</th>\n      <td>NaN</td>\n      <td>deleted</td>\n      <td>NaN</td>\n      <td>NaN</td>\n      <td>0</td>\n      <td>0</td>\n      <td>0</td>\n      <td>0</td>\n      <td>0</td>\n      <td>0</td>\n      <td>0</td>\n      <td>0</td>\n      <td>0</td>\n      <td>0</td>\n      <td>0</td>\n      <td>0</td>\n    </tr>\n    <tr>\n      <th>16943</th>\n      <td>NaN</td>\n      <td>suspended</td>\n      <td>NaN</td>\n      <td>NaN</td>\n      <td>0</td>\n      <td>0</td>\n      <td>0</td>\n      <td>0</td>\n      <td>0</td>\n      <td>0</td>\n      <td>0</td>\n      <td>0</td>\n      <td>0</td>\n      <td>0</td>\n      <td>0</td>\n      <td>0</td>\n    </tr>\n    <tr>\n      <th>29803</th>\n      <td>NaN</td>\n      <td>suspended</td>\n      <td>NaN</td>\n      <td>NaN</td>\n      <td>0</td>\n      <td>0</td>\n      <td>0</td>\n      <td>0</td>\n      <td>0</td>\n      <td>0</td>\n      <td>0</td>\n      <td>0</td>\n      <td>0</td>\n      <td>0</td>\n      <td>0</td>\n      <td>0</td>\n    </tr>\n    <tr>\n      <th>68093</th>\n      <td>0.0</td>\n      <td>suspended</td>\n      <td>0.076194</td>\n      <td>NaN</td>\n      <td>16</td>\n      <td>0</td>\n      <td>0</td>\n      <td>0</td>\n      <td>0</td>\n      <td>0</td>\n      <td>0</td>\n      <td>0</td>\n      <td>0</td>\n      <td>0</td>\n      <td>1</td>\n      <td>0</td>\n    </tr>\n  </tbody>\n</table>\n</div>"
     },
     "metadata": {},
     "execution_count": 23
    }
   ],
   "source": [
    "df_published_users.head()"
   ]
  },
  {
   "cell_type": "code",
   "execution_count": 57,
   "metadata": {},
   "outputs": [
    {
     "output_type": "execute_result",
     "data": {
      "text/plain": [
       "         user_community user_active_status  \\\n",
       "user_id                                      \n",
       "6590                0.0          suspended   \n",
       "10597               NaN            deleted   \n",
       "16943               NaN          suspended   \n",
       "29803               NaN          suspended   \n",
       "68093               0.0          suspended   \n",
       "\n",
       "         closeness_centrality_detractor_cluster  \\\n",
       "user_id                                           \n",
       "6590                                        NaN   \n",
       "10597                                       NaN   \n",
       "16943                                       NaN   \n",
       "29803                                       NaN   \n",
       "68093                                  0.076194   \n",
       "\n",
       "         closeness_centrality_promoter_cluster  retweet_count_by_community_0  \\\n",
       "user_id                                                                        \n",
       "6590                                       NaN                             0   \n",
       "10597                                      NaN                             0   \n",
       "16943                                      NaN                             0   \n",
       "29803                                      NaN                             0   \n",
       "68093                                      NaN                            16   \n",
       "\n",
       "         quote_count_by_community_0  retweet_count_by_community_1  \\\n",
       "user_id                                                             \n",
       "6590                              0                             0   \n",
       "10597                             0                             0   \n",
       "16943                             0                             0   \n",
       "29803                             0                             0   \n",
       "68093                             0                             0   \n",
       "\n",
       "         quote_count_by_community_1  retweet_count_by_community_2  \\\n",
       "user_id                                                             \n",
       "6590                              0                             0   \n",
       "10597                             0                             0   \n",
       "16943                             0                             0   \n",
       "29803                             0                             0   \n",
       "68093                             0                             0   \n",
       "\n",
       "         quote_count_by_community_2  ...  quote_count_by_community_4  \\\n",
       "user_id                              ...                               \n",
       "6590                              0  ...                           0   \n",
       "10597                             0  ...                           0   \n",
       "16943                             0  ...                           0   \n",
       "29803                             0  ...                           0   \n",
       "68093                             0  ...                           0   \n",
       "\n",
       "         retweet_count_by_suspended_users  quote_count_by_suspended_users  \\\n",
       "user_id                                                                     \n",
       "6590                                    0                               0   \n",
       "10597                                   0                               0   \n",
       "16943                                   0                               0   \n",
       "29803                                   0                               0   \n",
       "68093                                   1                               0   \n",
       "\n",
       "                                             name     handle  \\\n",
       "user_id                                                        \n",
       "6590                                    CyberBenB  cyberbenb   \n",
       "10597                            Ferdinand Reinke   reinkefj   \n",
       "16943                               Drew Robinson      ocean   \n",
       "29803    Nichelle “On Neida and Mildred” Stephens      niche   \n",
       "68093                                     Margery    margery   \n",
       "\n",
       "                   created_at verified  \\\n",
       "user_id                                  \n",
       "6590     2006-09-21T18:27:47Z    False   \n",
       "10597    2006-10-26T14:18:36Z    False   \n",
       "16943    2006-11-23T03:21:03Z    False   \n",
       "29803    2006-11-29T06:57:41Z    False   \n",
       "68093    2006-12-14T18:41:19Z    False   \n",
       "\n",
       "                                               description followers_count  \\\n",
       "user_id                                                                      \n",
       "6590     He/They - OKC/Spatz cult Survivor | info activ...          3527.0   \n",
       "10597    A fat old white guy injineer who is in pursuit...            52.0   \n",
       "16943    Relentless pursuer of Quality. Full stack deve...          1320.0   \n",
       "29803    Trust Black Women.   \\nEmail me for press inqu...          8563.0   \n",
       "68093      Carpe Diem. Despise and loathe Trump  #Resister          1696.0   \n",
       "\n",
       "                     location  \n",
       "user_id                        \n",
       "6590     🖤❤️💛🐧🏴‍☠️😷🏳️‍🌈☯️♻️🌍📢  \n",
       "10597                   08824  \n",
       "16943    Perth, WA, Australia  \n",
       "29803            Savannah, GA  \n",
       "68093      Massachusetts, USA  \n",
       "\n",
       "[5 rows x 23 columns]"
      ],
      "text/html": "<div>\n<style scoped>\n    .dataframe tbody tr th:only-of-type {\n        vertical-align: middle;\n    }\n\n    .dataframe tbody tr th {\n        vertical-align: top;\n    }\n\n    .dataframe thead th {\n        text-align: right;\n    }\n</style>\n<table border=\"1\" class=\"dataframe\">\n  <thead>\n    <tr style=\"text-align: right;\">\n      <th></th>\n      <th>user_community</th>\n      <th>user_active_status</th>\n      <th>closeness_centrality_detractor_cluster</th>\n      <th>closeness_centrality_promoter_cluster</th>\n      <th>retweet_count_by_community_0</th>\n      <th>quote_count_by_community_0</th>\n      <th>retweet_count_by_community_1</th>\n      <th>quote_count_by_community_1</th>\n      <th>retweet_count_by_community_2</th>\n      <th>quote_count_by_community_2</th>\n      <th>...</th>\n      <th>quote_count_by_community_4</th>\n      <th>retweet_count_by_suspended_users</th>\n      <th>quote_count_by_suspended_users</th>\n      <th>name</th>\n      <th>handle</th>\n      <th>created_at</th>\n      <th>verified</th>\n      <th>description</th>\n      <th>followers_count</th>\n      <th>location</th>\n    </tr>\n    <tr>\n      <th>user_id</th>\n      <th></th>\n      <th></th>\n      <th></th>\n      <th></th>\n      <th></th>\n      <th></th>\n      <th></th>\n      <th></th>\n      <th></th>\n      <th></th>\n      <th></th>\n      <th></th>\n      <th></th>\n      <th></th>\n      <th></th>\n      <th></th>\n      <th></th>\n      <th></th>\n      <th></th>\n      <th></th>\n      <th></th>\n    </tr>\n  </thead>\n  <tbody>\n    <tr>\n      <th>6590</th>\n      <td>0.0</td>\n      <td>suspended</td>\n      <td>NaN</td>\n      <td>NaN</td>\n      <td>0</td>\n      <td>0</td>\n      <td>0</td>\n      <td>0</td>\n      <td>0</td>\n      <td>0</td>\n      <td>...</td>\n      <td>0</td>\n      <td>0</td>\n      <td>0</td>\n      <td>CyberBenB</td>\n      <td>cyberbenb</td>\n      <td>2006-09-21T18:27:47Z</td>\n      <td>False</td>\n      <td>He/They - OKC/Spatz cult Survivor | info activ...</td>\n      <td>3527.0</td>\n      <td>🖤❤️💛🐧🏴‍☠️😷🏳️‍🌈☯️♻️🌍📢</td>\n    </tr>\n    <tr>\n      <th>10597</th>\n      <td>NaN</td>\n      <td>deleted</td>\n      <td>NaN</td>\n      <td>NaN</td>\n      <td>0</td>\n      <td>0</td>\n      <td>0</td>\n      <td>0</td>\n      <td>0</td>\n      <td>0</td>\n      <td>...</td>\n      <td>0</td>\n      <td>0</td>\n      <td>0</td>\n      <td>Ferdinand Reinke</td>\n      <td>reinkefj</td>\n      <td>2006-10-26T14:18:36Z</td>\n      <td>False</td>\n      <td>A fat old white guy injineer who is in pursuit...</td>\n      <td>52.0</td>\n      <td>08824</td>\n    </tr>\n    <tr>\n      <th>16943</th>\n      <td>NaN</td>\n      <td>suspended</td>\n      <td>NaN</td>\n      <td>NaN</td>\n      <td>0</td>\n      <td>0</td>\n      <td>0</td>\n      <td>0</td>\n      <td>0</td>\n      <td>0</td>\n      <td>...</td>\n      <td>0</td>\n      <td>0</td>\n      <td>0</td>\n      <td>Drew Robinson</td>\n      <td>ocean</td>\n      <td>2006-11-23T03:21:03Z</td>\n      <td>False</td>\n      <td>Relentless pursuer of Quality. Full stack deve...</td>\n      <td>1320.0</td>\n      <td>Perth, WA, Australia</td>\n    </tr>\n    <tr>\n      <th>29803</th>\n      <td>NaN</td>\n      <td>suspended</td>\n      <td>NaN</td>\n      <td>NaN</td>\n      <td>0</td>\n      <td>0</td>\n      <td>0</td>\n      <td>0</td>\n      <td>0</td>\n      <td>0</td>\n      <td>...</td>\n      <td>0</td>\n      <td>0</td>\n      <td>0</td>\n      <td>Nichelle “On Neida and Mildred” Stephens</td>\n      <td>niche</td>\n      <td>2006-11-29T06:57:41Z</td>\n      <td>False</td>\n      <td>Trust Black Women.   \\nEmail me for press inqu...</td>\n      <td>8563.0</td>\n      <td>Savannah, GA</td>\n    </tr>\n    <tr>\n      <th>68093</th>\n      <td>0.0</td>\n      <td>suspended</td>\n      <td>0.076194</td>\n      <td>NaN</td>\n      <td>16</td>\n      <td>0</td>\n      <td>0</td>\n      <td>0</td>\n      <td>0</td>\n      <td>0</td>\n      <td>...</td>\n      <td>0</td>\n      <td>1</td>\n      <td>0</td>\n      <td>Margery</td>\n      <td>margery</td>\n      <td>2006-12-14T18:41:19Z</td>\n      <td>False</td>\n      <td>Carpe Diem. Despise and loathe Trump  #Resister</td>\n      <td>1696.0</td>\n      <td>Massachusetts, USA</td>\n    </tr>\n  </tbody>\n</table>\n<p>5 rows × 23 columns</p>\n</div>"
     },
     "metadata": {},
     "execution_count": 57
    }
   ],
   "source": [
    "df_users_all_fields.head()"
   ]
  },
  {
   "cell_type": "code",
   "execution_count": 95,
   "metadata": {},
   "outputs": [],
   "source": [
    "df_users_all_fields.to_pickle(\"df_users_all_fields.pickle\")"
   ]
  },
  {
   "cell_type": "code",
   "execution_count": 65,
   "metadata": {},
   "outputs": [
    {
     "output_type": "execute_result",
     "data": {
      "text/plain": [
       "2559018"
      ]
     },
     "metadata": {},
     "execution_count": 65
    }
   ],
   "source": [
    "published_user_ids = set(df_published_users.index)\n",
    "len(published_user_ids)"
   ]
  },
  {
   "cell_type": "code",
   "execution_count": 68,
   "metadata": {},
   "outputs": [
    {
     "output_type": "execute_result",
     "data": {
      "text/plain": [
       "2460175"
      ]
     },
     "metadata": {},
     "execution_count": 68
    }
   ],
   "source": [
    "known_user_ids = set(df_users_joined.index)\n",
    "len(known_user_ids)"
   ]
  },
  {
   "cell_type": "code",
   "execution_count": 71,
   "metadata": {},
   "outputs": [
    {
     "output_type": "error",
     "ename": "NameError",
     "evalue": "name 'df_tweets' is not defined",
     "traceback": [
      "\u001b[1;31m---------------------------------------------------------------------------\u001b[0m",
      "\u001b[1;31mNameError\u001b[0m                                 Traceback (most recent call last)",
      "\u001b[1;32m<ipython-input-71-19ab6eab3520>\u001b[0m in \u001b[0;36m<module>\u001b[1;34m\u001b[0m\n\u001b[1;32m----> 1\u001b[1;33m \u001b[0mdf_tweets\u001b[0m\u001b[1;33m.\u001b[0m\u001b[0mhead\u001b[0m\u001b[1;33m(\u001b[0m\u001b[1;33m)\u001b[0m\u001b[1;33m\u001b[0m\u001b[1;33m\u001b[0m\u001b[0m\n\u001b[0m",
      "\u001b[1;31mNameError\u001b[0m: name 'df_tweets' is not defined"
     ]
    }
   ],
   "source": [
    "df_tweets.head()"
   ]
  },
  {
   "cell_type": "code",
   "execution_count": null,
   "metadata": {},
   "outputs": [],
   "source": []
  }
 ]
}