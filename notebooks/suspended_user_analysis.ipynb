{
 "metadata": {
  "language_info": {
   "codemirror_mode": {
    "name": "ipython",
    "version": 3
   },
   "file_extension": ".py",
   "mimetype": "text/x-python",
   "name": "python",
   "nbconvert_exporter": "python",
   "pygments_lexer": "ipython3",
   "version": "3.8.5-final"
  },
  "orig_nbformat": 2,
  "kernelspec": {
   "name": "python3",
   "display_name": "Python 3.8.5 64-bit ('voter-fraud': conda)",
   "metadata": {
    "interpreter": {
     "hash": "a0f90dcbb54bea4e60f894f8fd1d686cc0f74395b4029405cc9f13e0b975e641"
    }
   }
  }
 },
 "nbformat": 4,
 "nbformat_minor": 2,
 "cells": [
  {
   "cell_type": "code",
   "execution_count": 1,
   "metadata": {},
   "outputs": [],
   "source": [
    "from notebook_utils import setup\n",
    "import pandas as pd\n",
    "import networkx as nx\n",
    "from collections import defaultdict\n",
    "\n",
    "setup()\n",
    "\n",
    "import matplotlib.style as style\n",
    "\n",
    "style.use([\"seaborn-white\", \"seaborn-paper\"])"
   ]
  },
  {
   "cell_type": "code",
   "execution_count": 2,
   "metadata": {},
   "outputs": [],
   "source": [
    "DATE = \"16-dec\"\n",
    "DATA_DIR = \"../data/{}/\".format(DATE)\n",
    "EXPORT_DIR = \"../data/dataframes/{}/\".format(DATE)"
   ]
  },
  {
   "cell_type": "code",
   "execution_count": 3,
   "metadata": {},
   "outputs": [],
   "source": [
    "import pickle \n",
    "with open(\"./cached_graph.pickle\", \"rb\") as f:\n",
    "    cached_graph = pickle.load(f)"
   ]
  },
  {
   "cell_type": "code",
   "execution_count": 184,
   "metadata": {},
   "outputs": [
    {
     "output_type": "execute_result",
     "data": {
      "text/plain": [
       "dict_keys(['all_user_clusters', 'graph', 'node_id_map', 'clustering_directed_unweighted', 'clustering_directed_weighted', 'clustering_undirected_unweighted'])"
      ]
     },
     "metadata": {},
     "execution_count": 184
    }
   ],
   "source": [
    "node_id_map = cached_graph[\"node_id_map\"]\n",
    "cached_graph.keys()"
   ]
  },
  {
   "cell_type": "code",
   "execution_count": 12,
   "metadata": {},
   "outputs": [],
   "source": [
    "df_retweets = pd.read_pickle(EXPORT_DIR + './df_retweets.pickle')"
   ]
  },
  {
   "cell_type": "code",
   "execution_count": 23,
   "metadata": {},
   "outputs": [
    {
     "output_type": "stream",
     "name": "stdout",
     "text": [
      "Known users 1388621\nRetweet users 1887736\nUnknown users 1170397\n"
     ]
    }
   ],
   "source": [
    "known_users = set(df_users_by_follower_count.index.values)\n",
    "retweet_users = set()\n",
    "unknown_users = set()\n",
    "\n",
    "def add_user(user_id):\n",
    "    retweet_users.add(user_id)\n",
    "    if (user_id not in known_users):\n",
    "        unknown_users.add(user_id)\n",
    "\n",
    "for i, user1, user2 in df_retweets[[\"user\", \"retweetedFrom_user\"]].itertuples():\n",
    "    add_user(user1)\n",
    "    add_user(user2)\n",
    "\n",
    "print(\"Known users\", len(known_users))\n",
    "print(\"Retweet users\", len(retweet_users))\n",
    "print(\"Unknown users\", len(unknown_users))"
   ]
  },
  {
   "cell_type": "code",
   "execution_count": 24,
   "metadata": {},
   "outputs": [
    {
     "output_type": "stream",
     "name": "stdout",
     "text": [
      "2559018\n"
     ]
    }
   ],
   "source": [
    "print(len(known_users.union(unknown_users)))"
   ]
  },
  {
   "cell_type": "code",
   "execution_count": 5,
   "metadata": {},
   "outputs": [],
   "source": [
    "df_users_by_follower_count = pd.read_pickle('./df_users_with_clustering.pickle').sort_values(\"followers_count\", ascending=False)"
   ]
  },
  {
   "cell_type": "code",
   "execution_count": 6,
   "metadata": {},
   "outputs": [],
   "source": [
    "df_users_by_follower_count[\"inactive\"] = df_users_by_follower_count.apply(lambda user: (user.name) in all_inactive_users , axis=1)"
   ]
  },
  {
   "cell_type": "code",
   "execution_count": 7,
   "metadata": {},
   "outputs": [],
   "source": [
    "inactive_users = df_users_by_follower_count[df_users_by_follower_count[\"inactive\"] == True]"
   ]
  },
  {
   "cell_type": "code",
   "execution_count": 13,
   "metadata": {},
   "outputs": [
    {
     "output_type": "display_data",
     "data": {
      "text/plain": "<Figure size 864x432 with 1 Axes>",
      "image/svg+xml": "<?xml version=\"1.0\" encoding=\"utf-8\" standalone=\"no\"?>\n<!DOCTYPE svg PUBLIC \"-//W3C//DTD SVG 1.1//EN\"\n  \"http://www.w3.org/Graphics/SVG/1.1/DTD/svg11.dtd\">\n<!-- Created with matplotlib (https://matplotlib.org/) -->\n<svg height=\"386.199062pt\" version=\"1.1\" viewBox=\"0 0 745.419062 386.199062\" width=\"745.419062pt\" xmlns=\"http://www.w3.org/2000/svg\" xmlns:xlink=\"http://www.w3.org/1999/xlink\">\n <metadata>\n  <rdf:RDF xmlns:cc=\"http://creativecommons.org/ns#\" xmlns:dc=\"http://purl.org/dc/elements/1.1/\" xmlns:rdf=\"http://www.w3.org/1999/02/22-rdf-syntax-ns#\">\n   <cc:Work>\n    <dc:type rdf:resource=\"http://purl.org/dc/dcmitype/StillImage\"/>\n    <dc:date>2021-01-09T22:39:29.101127</dc:date>\n    <dc:format>image/svg+xml</dc:format>\n    <dc:creator>\n     <cc:Agent>\n      <dc:title>Matplotlib v3.3.3, https://matplotlib.org/</dc:title>\n     </cc:Agent>\n    </dc:creator>\n   </cc:Work>\n  </rdf:RDF>\n </metadata>\n <defs>\n  <style type=\"text/css\">*{stroke-linecap:butt;stroke-linejoin:round;}</style>\n </defs>\n <g id=\"figure_1\">\n  <g id=\"patch_1\">\n   <path d=\"M 0 386.199062 \nL 745.419062 386.199062 \nL 745.419062 0 \nL 0 0 \nz\n\" style=\"fill:#ffffff;\"/>\n  </g>\n  <g id=\"axes_1\">\n   <g id=\"patch_2\">\n    <path d=\"M 64.248437 355.107187 \nL 733.848438 355.107187 \nL 733.848438 28.947187 \nL 64.248437 28.947187 \nz\n\" style=\"fill:#eaeaf2;\"/>\n   </g>\n   <g id=\"matplotlib.axis_1\">\n    <g id=\"xtick_1\">\n     <g id=\"line2d_1\">\n      <path clip-path=\"url(#p72d262cd4a)\" d=\"M 147.948438 355.107187 \nL 147.948438 28.947187 \n\" style=\"fill:none;stroke:#ffffff;stroke-linecap:round;\"/>\n     </g>\n     <g id=\"line2d_2\"/>\n     <g id=\"text_1\">\n      <!-- (0 to 100] -->\n      <g style=\"fill:#262626;\" transform=\"translate(109.92625 375.210625)scale(0.18 -0.18)\">\n       <defs>\n        <path d=\"M 23.390625 -21.046875 \nQ 16.109375 -11.859375 11.078125 0.4375 \nQ 6.0625 12.75 6.0625 25.921875 \nQ 6.0625 37.546875 9.8125 48.1875 \nQ 14.203125 60.546875 23.390625 72.796875 \nL 29.6875 72.796875 \nQ 23.78125 62.640625 21.875 58.296875 \nQ 18.890625 51.5625 17.1875 44.234375 \nQ 15.09375 35.109375 15.09375 25.875 \nQ 15.09375 2.390625 29.6875 -21.046875 \nz\n\" id=\"ArialMT-40\"/>\n        <path d=\"M 4.15625 35.296875 \nQ 4.15625 48 6.765625 55.734375 \nQ 9.375 63.484375 14.515625 67.671875 \nQ 19.671875 71.875 27.484375 71.875 \nQ 33.25 71.875 37.59375 69.546875 \nQ 41.9375 67.234375 44.765625 62.859375 \nQ 47.609375 58.5 49.21875 52.21875 \nQ 50.828125 45.953125 50.828125 35.296875 \nQ 50.828125 22.703125 48.234375 14.96875 \nQ 45.65625 7.234375 40.5 3 \nQ 35.359375 -1.21875 27.484375 -1.21875 \nQ 17.140625 -1.21875 11.234375 6.203125 \nQ 4.15625 15.140625 4.15625 35.296875 \nz\nM 13.1875 35.296875 \nQ 13.1875 17.671875 17.3125 11.828125 \nQ 21.4375 6 27.484375 6 \nQ 33.546875 6 37.671875 11.859375 \nQ 41.796875 17.71875 41.796875 35.296875 \nQ 41.796875 52.984375 37.671875 58.78125 \nQ 33.546875 64.59375 27.390625 64.59375 \nQ 21.34375 64.59375 17.71875 59.46875 \nQ 13.1875 52.9375 13.1875 35.296875 \nz\n\" id=\"ArialMT-48\"/>\n        <path id=\"ArialMT-32\"/>\n        <path d=\"M 25.78125 7.859375 \nL 27.046875 0.09375 \nQ 23.34375 -0.6875 20.40625 -0.6875 \nQ 15.625 -0.6875 12.984375 0.828125 \nQ 10.359375 2.34375 9.28125 4.8125 \nQ 8.203125 7.28125 8.203125 15.1875 \nL 8.203125 45.015625 \nL 1.765625 45.015625 \nL 1.765625 51.859375 \nL 8.203125 51.859375 \nL 8.203125 64.703125 \nL 16.9375 69.96875 \nL 16.9375 51.859375 \nL 25.78125 51.859375 \nL 25.78125 45.015625 \nL 16.9375 45.015625 \nL 16.9375 14.703125 \nQ 16.9375 10.9375 17.40625 9.859375 \nQ 17.875 8.796875 18.921875 8.15625 \nQ 19.96875 7.515625 21.921875 7.515625 \nQ 23.390625 7.515625 25.78125 7.859375 \nz\n\" id=\"ArialMT-116\"/>\n        <path d=\"M 3.328125 25.921875 \nQ 3.328125 40.328125 11.328125 47.265625 \nQ 18.015625 53.03125 27.640625 53.03125 \nQ 38.328125 53.03125 45.109375 46.015625 \nQ 51.90625 39.015625 51.90625 26.65625 \nQ 51.90625 16.65625 48.90625 10.90625 \nQ 45.90625 5.171875 40.15625 2 \nQ 34.421875 -1.171875 27.640625 -1.171875 \nQ 16.75 -1.171875 10.03125 5.8125 \nQ 3.328125 12.796875 3.328125 25.921875 \nz\nM 12.359375 25.921875 \nQ 12.359375 15.96875 16.703125 11.015625 \nQ 21.046875 6.0625 27.640625 6.0625 \nQ 34.1875 6.0625 38.53125 11.03125 \nQ 42.875 16.015625 42.875 26.21875 \nQ 42.875 35.84375 38.5 40.796875 \nQ 34.125 45.75 27.640625 45.75 \nQ 21.046875 45.75 16.703125 40.8125 \nQ 12.359375 35.890625 12.359375 25.921875 \nz\n\" id=\"ArialMT-111\"/>\n        <path d=\"M 37.25 0 \nL 28.46875 0 \nL 28.46875 56 \nQ 25.296875 52.984375 20.140625 49.953125 \nQ 14.984375 46.921875 10.890625 45.40625 \nL 10.890625 53.90625 \nQ 18.265625 57.375 23.78125 62.296875 \nQ 29.296875 67.234375 31.59375 71.875 \nL 37.25 71.875 \nz\n\" id=\"ArialMT-49\"/>\n        <path d=\"M 21.296875 -19.875 \nL 1.90625 -19.875 \nL 1.90625 -12.59375 \nL 12.5 -12.59375 \nL 12.5 64.3125 \nL 1.90625 64.3125 \nL 1.90625 71.578125 \nL 21.296875 71.578125 \nz\n\" id=\"ArialMT-93\"/>\n       </defs>\n       <use xlink:href=\"#ArialMT-40\"/>\n       <use x=\"33.300781\" xlink:href=\"#ArialMT-48\"/>\n       <use x=\"88.916016\" xlink:href=\"#ArialMT-32\"/>\n       <use x=\"116.699219\" xlink:href=\"#ArialMT-116\"/>\n       <use x=\"144.482422\" xlink:href=\"#ArialMT-111\"/>\n       <use x=\"200.097656\" xlink:href=\"#ArialMT-32\"/>\n       <use x=\"227.880859\" xlink:href=\"#ArialMT-49\"/>\n       <use x=\"283.496094\" xlink:href=\"#ArialMT-48\"/>\n       <use x=\"339.111328\" xlink:href=\"#ArialMT-48\"/>\n       <use x=\"394.726562\" xlink:href=\"#ArialMT-93\"/>\n      </g>\n     </g>\n    </g>\n    <g id=\"xtick_2\">\n     <g id=\"line2d_3\">\n      <path clip-path=\"url(#p72d262cd4a)\" d=\"M 315.348438 355.107187 \nL 315.348438 28.947187 \n\" style=\"fill:none;stroke:#ffffff;stroke-linecap:round;\"/>\n     </g>\n     <g id=\"line2d_4\"/>\n     <g id=\"text_2\">\n      <!-- (100 to 1000] -->\n      <g style=\"fill:#262626;\" transform=\"translate(262.311719 375.210625)scale(0.18 -0.18)\">\n       <use xlink:href=\"#ArialMT-40\"/>\n       <use x=\"33.300781\" xlink:href=\"#ArialMT-49\"/>\n       <use x=\"88.916016\" xlink:href=\"#ArialMT-48\"/>\n       <use x=\"144.53125\" xlink:href=\"#ArialMT-48\"/>\n       <use x=\"200.146484\" xlink:href=\"#ArialMT-32\"/>\n       <use x=\"227.929688\" xlink:href=\"#ArialMT-116\"/>\n       <use x=\"255.712891\" xlink:href=\"#ArialMT-111\"/>\n       <use x=\"311.328125\" xlink:href=\"#ArialMT-32\"/>\n       <use x=\"339.111328\" xlink:href=\"#ArialMT-49\"/>\n       <use x=\"394.726562\" xlink:href=\"#ArialMT-48\"/>\n       <use x=\"450.341797\" xlink:href=\"#ArialMT-48\"/>\n       <use x=\"505.957031\" xlink:href=\"#ArialMT-48\"/>\n       <use x=\"561.572266\" xlink:href=\"#ArialMT-93\"/>\n      </g>\n     </g>\n    </g>\n    <g id=\"xtick_3\">\n     <g id=\"line2d_5\">\n      <path clip-path=\"url(#p72d262cd4a)\" d=\"M 482.748438 355.107187 \nL 482.748438 28.947187 \n\" style=\"fill:none;stroke:#ffffff;stroke-linecap:round;\"/>\n     </g>\n     <g id=\"line2d_6\"/>\n     <g id=\"text_3\">\n      <!-- (1000 to 10000] -->\n      <g style=\"fill:#262626;\" transform=\"translate(419.702031 375.210625)scale(0.18 -0.18)\">\n       <use xlink:href=\"#ArialMT-40\"/>\n       <use x=\"33.300781\" xlink:href=\"#ArialMT-49\"/>\n       <use x=\"88.916016\" xlink:href=\"#ArialMT-48\"/>\n       <use x=\"144.53125\" xlink:href=\"#ArialMT-48\"/>\n       <use x=\"200.146484\" xlink:href=\"#ArialMT-48\"/>\n       <use x=\"255.761719\" xlink:href=\"#ArialMT-32\"/>\n       <use x=\"283.544922\" xlink:href=\"#ArialMT-116\"/>\n       <use x=\"311.328125\" xlink:href=\"#ArialMT-111\"/>\n       <use x=\"366.943359\" xlink:href=\"#ArialMT-32\"/>\n       <use x=\"394.726562\" xlink:href=\"#ArialMT-49\"/>\n       <use x=\"450.341797\" xlink:href=\"#ArialMT-48\"/>\n       <use x=\"505.957031\" xlink:href=\"#ArialMT-48\"/>\n       <use x=\"561.572266\" xlink:href=\"#ArialMT-48\"/>\n       <use x=\"617.1875\" xlink:href=\"#ArialMT-48\"/>\n       <use x=\"672.802734\" xlink:href=\"#ArialMT-93\"/>\n      </g>\n     </g>\n    </g>\n    <g id=\"xtick_4\">\n     <g id=\"line2d_7\">\n      <path clip-path=\"url(#p72d262cd4a)\" d=\"M 650.148438 355.107187 \nL 650.148438 28.947187 \n\" style=\"fill:none;stroke:#ffffff;stroke-linecap:round;\"/>\n     </g>\n     <g id=\"line2d_8\"/>\n     <g id=\"text_4\">\n      <!-- (10000 to 100000000] -->\n      <g style=\"fill:#262626;\" transform=\"translate(562.077813 375.210625)scale(0.18 -0.18)\">\n       <use xlink:href=\"#ArialMT-40\"/>\n       <use x=\"33.300781\" xlink:href=\"#ArialMT-49\"/>\n       <use x=\"88.916016\" xlink:href=\"#ArialMT-48\"/>\n       <use x=\"144.53125\" xlink:href=\"#ArialMT-48\"/>\n       <use x=\"200.146484\" xlink:href=\"#ArialMT-48\"/>\n       <use x=\"255.761719\" xlink:href=\"#ArialMT-48\"/>\n       <use x=\"311.376953\" xlink:href=\"#ArialMT-32\"/>\n       <use x=\"339.160156\" xlink:href=\"#ArialMT-116\"/>\n       <use x=\"366.943359\" xlink:href=\"#ArialMT-111\"/>\n       <use x=\"422.558594\" xlink:href=\"#ArialMT-32\"/>\n       <use x=\"450.341797\" xlink:href=\"#ArialMT-49\"/>\n       <use x=\"505.957031\" xlink:href=\"#ArialMT-48\"/>\n       <use x=\"561.572266\" xlink:href=\"#ArialMT-48\"/>\n       <use x=\"617.1875\" xlink:href=\"#ArialMT-48\"/>\n       <use x=\"672.802734\" xlink:href=\"#ArialMT-48\"/>\n       <use x=\"728.417969\" xlink:href=\"#ArialMT-48\"/>\n       <use x=\"784.033203\" xlink:href=\"#ArialMT-48\"/>\n       <use x=\"839.648438\" xlink:href=\"#ArialMT-48\"/>\n       <use x=\"895.263672\" xlink:href=\"#ArialMT-48\"/>\n       <use x=\"950.878906\" xlink:href=\"#ArialMT-93\"/>\n      </g>\n     </g>\n    </g>\n   </g>\n   <g id=\"matplotlib.axis_2\">\n    <g id=\"ytick_1\">\n     <g id=\"line2d_9\">\n      <path clip-path=\"url(#p72d262cd4a)\" d=\"M 64.248437 355.107187 \nL 733.848438 355.107187 \n\" style=\"fill:none;stroke:#ffffff;stroke-linecap:round;\"/>\n     </g>\n     <g id=\"line2d_10\"/>\n     <g id=\"text_5\">\n      <!-- 0 -->\n      <g style=\"fill:#262626;\" transform=\"translate(47.23875 361.549219)scale(0.18 -0.18)\">\n       <use xlink:href=\"#ArialMT-48\"/>\n      </g>\n     </g>\n    </g>\n    <g id=\"ytick_2\">\n     <g id=\"line2d_11\">\n      <path clip-path=\"url(#p72d262cd4a)\" d=\"M 64.248437 304.68129 \nL 733.848438 304.68129 \n\" style=\"fill:none;stroke:#ffffff;stroke-linecap:round;\"/>\n     </g>\n     <g id=\"line2d_12\"/>\n     <g id=\"text_6\">\n      <!-- 10000 -->\n      <g style=\"fill:#262626;\" transform=\"translate(7.2 311.123321)scale(0.18 -0.18)\">\n       <use xlink:href=\"#ArialMT-49\"/>\n       <use x=\"55.615234\" xlink:href=\"#ArialMT-48\"/>\n       <use x=\"111.230469\" xlink:href=\"#ArialMT-48\"/>\n       <use x=\"166.845703\" xlink:href=\"#ArialMT-48\"/>\n       <use x=\"222.460938\" xlink:href=\"#ArialMT-48\"/>\n      </g>\n     </g>\n    </g>\n    <g id=\"ytick_3\">\n     <g id=\"line2d_13\">\n      <path clip-path=\"url(#p72d262cd4a)\" d=\"M 64.248437 254.255392 \nL 733.848438 254.255392 \n\" style=\"fill:none;stroke:#ffffff;stroke-linecap:round;\"/>\n     </g>\n     <g id=\"line2d_14\"/>\n     <g id=\"text_7\">\n      <!-- 20000 -->\n      <g style=\"fill:#262626;\" transform=\"translate(7.2 260.697424)scale(0.18 -0.18)\">\n       <defs>\n        <path d=\"M 50.34375 8.453125 \nL 50.34375 0 \nL 3.03125 0 \nQ 2.9375 3.171875 4.046875 6.109375 \nQ 5.859375 10.9375 9.828125 15.625 \nQ 13.8125 20.3125 21.34375 26.46875 \nQ 33.015625 36.03125 37.109375 41.625 \nQ 41.21875 47.21875 41.21875 52.203125 \nQ 41.21875 57.421875 37.46875 61 \nQ 33.734375 64.59375 27.734375 64.59375 \nQ 21.390625 64.59375 17.578125 60.78125 \nQ 13.765625 56.984375 13.71875 50.25 \nL 4.6875 51.171875 \nQ 5.609375 61.28125 11.65625 66.578125 \nQ 17.71875 71.875 27.9375 71.875 \nQ 38.234375 71.875 44.234375 66.15625 \nQ 50.25 60.453125 50.25 52 \nQ 50.25 47.703125 48.484375 43.546875 \nQ 46.734375 39.40625 42.65625 34.8125 \nQ 38.578125 30.21875 29.109375 22.21875 \nQ 21.1875 15.578125 18.9375 13.203125 \nQ 16.703125 10.84375 15.234375 8.453125 \nz\n\" id=\"ArialMT-50\"/>\n       </defs>\n       <use xlink:href=\"#ArialMT-50\"/>\n       <use x=\"55.615234\" xlink:href=\"#ArialMT-48\"/>\n       <use x=\"111.230469\" xlink:href=\"#ArialMT-48\"/>\n       <use x=\"166.845703\" xlink:href=\"#ArialMT-48\"/>\n       <use x=\"222.460938\" xlink:href=\"#ArialMT-48\"/>\n      </g>\n     </g>\n    </g>\n    <g id=\"ytick_4\">\n     <g id=\"line2d_15\">\n      <path clip-path=\"url(#p72d262cd4a)\" d=\"M 64.248437 203.829495 \nL 733.848438 203.829495 \n\" style=\"fill:none;stroke:#ffffff;stroke-linecap:round;\"/>\n     </g>\n     <g id=\"line2d_16\"/>\n     <g id=\"text_8\">\n      <!-- 30000 -->\n      <g style=\"fill:#262626;\" transform=\"translate(7.2 210.271526)scale(0.18 -0.18)\">\n       <defs>\n        <path d=\"M 4.203125 18.890625 \nL 12.984375 20.0625 \nQ 14.5 12.59375 18.140625 9.296875 \nQ 21.78125 6 27 6 \nQ 33.203125 6 37.46875 10.296875 \nQ 41.75 14.59375 41.75 20.953125 \nQ 41.75 27 37.796875 30.921875 \nQ 33.84375 34.859375 27.734375 34.859375 \nQ 25.25 34.859375 21.53125 33.890625 \nL 22.515625 41.609375 \nQ 23.390625 41.5 23.921875 41.5 \nQ 29.546875 41.5 34.03125 44.421875 \nQ 38.53125 47.359375 38.53125 53.46875 \nQ 38.53125 58.296875 35.25 61.46875 \nQ 31.984375 64.65625 26.8125 64.65625 \nQ 21.6875 64.65625 18.265625 61.421875 \nQ 14.84375 58.203125 13.875 51.765625 \nL 5.078125 53.328125 \nQ 6.6875 62.15625 12.390625 67.015625 \nQ 18.109375 71.875 26.609375 71.875 \nQ 32.46875 71.875 37.390625 69.359375 \nQ 42.328125 66.84375 44.9375 62.5 \nQ 47.5625 58.15625 47.5625 53.265625 \nQ 47.5625 48.640625 45.0625 44.828125 \nQ 42.578125 41.015625 37.703125 38.765625 \nQ 44.046875 37.3125 47.5625 32.6875 \nQ 51.078125 28.078125 51.078125 21.140625 \nQ 51.078125 11.765625 44.234375 5.25 \nQ 37.40625 -1.265625 26.953125 -1.265625 \nQ 17.53125 -1.265625 11.296875 4.34375 \nQ 5.078125 9.96875 4.203125 18.890625 \nz\n\" id=\"ArialMT-51\"/>\n       </defs>\n       <use xlink:href=\"#ArialMT-51\"/>\n       <use x=\"55.615234\" xlink:href=\"#ArialMT-48\"/>\n       <use x=\"111.230469\" xlink:href=\"#ArialMT-48\"/>\n       <use x=\"166.845703\" xlink:href=\"#ArialMT-48\"/>\n       <use x=\"222.460938\" xlink:href=\"#ArialMT-48\"/>\n      </g>\n     </g>\n    </g>\n    <g id=\"ytick_5\">\n     <g id=\"line2d_17\">\n      <path clip-path=\"url(#p72d262cd4a)\" d=\"M 64.248437 153.403597 \nL 733.848438 153.403597 \n\" style=\"fill:none;stroke:#ffffff;stroke-linecap:round;\"/>\n     </g>\n     <g id=\"line2d_18\"/>\n     <g id=\"text_9\">\n      <!-- 40000 -->\n      <g style=\"fill:#262626;\" transform=\"translate(7.2 159.845629)scale(0.18 -0.18)\">\n       <defs>\n        <path d=\"M 32.328125 0 \nL 32.328125 17.140625 \nL 1.265625 17.140625 \nL 1.265625 25.203125 \nL 33.9375 71.578125 \nL 41.109375 71.578125 \nL 41.109375 25.203125 \nL 50.78125 25.203125 \nL 50.78125 17.140625 \nL 41.109375 17.140625 \nL 41.109375 0 \nz\nM 32.328125 25.203125 \nL 32.328125 57.46875 \nL 9.90625 25.203125 \nz\n\" id=\"ArialMT-52\"/>\n       </defs>\n       <use xlink:href=\"#ArialMT-52\"/>\n       <use x=\"55.615234\" xlink:href=\"#ArialMT-48\"/>\n       <use x=\"111.230469\" xlink:href=\"#ArialMT-48\"/>\n       <use x=\"166.845703\" xlink:href=\"#ArialMT-48\"/>\n       <use x=\"222.460938\" xlink:href=\"#ArialMT-48\"/>\n      </g>\n     </g>\n    </g>\n    <g id=\"ytick_6\">\n     <g id=\"line2d_19\">\n      <path clip-path=\"url(#p72d262cd4a)\" d=\"M 64.248437 102.9777 \nL 733.848438 102.9777 \n\" style=\"fill:none;stroke:#ffffff;stroke-linecap:round;\"/>\n     </g>\n     <g id=\"line2d_20\"/>\n     <g id=\"text_10\">\n      <!-- 50000 -->\n      <g style=\"fill:#262626;\" transform=\"translate(7.2 109.419731)scale(0.18 -0.18)\">\n       <defs>\n        <path d=\"M 4.15625 18.75 \nL 13.375 19.53125 \nQ 14.40625 12.796875 18.140625 9.390625 \nQ 21.875 6 27.15625 6 \nQ 33.5 6 37.890625 10.78125 \nQ 42.28125 15.578125 42.28125 23.484375 \nQ 42.28125 31 38.0625 35.34375 \nQ 33.84375 39.703125 27 39.703125 \nQ 22.75 39.703125 19.328125 37.765625 \nQ 15.921875 35.84375 13.96875 32.765625 \nL 5.71875 33.84375 \nL 12.640625 70.609375 \nL 48.25 70.609375 \nL 48.25 62.203125 \nL 19.671875 62.203125 \nL 15.828125 42.96875 \nQ 22.265625 47.46875 29.34375 47.46875 \nQ 38.71875 47.46875 45.15625 40.96875 \nQ 51.609375 34.46875 51.609375 24.265625 \nQ 51.609375 14.546875 45.953125 7.46875 \nQ 39.0625 -1.21875 27.15625 -1.21875 \nQ 17.390625 -1.21875 11.203125 4.25 \nQ 5.03125 9.71875 4.15625 18.75 \nz\n\" id=\"ArialMT-53\"/>\n       </defs>\n       <use xlink:href=\"#ArialMT-53\"/>\n       <use x=\"55.615234\" xlink:href=\"#ArialMT-48\"/>\n       <use x=\"111.230469\" xlink:href=\"#ArialMT-48\"/>\n       <use x=\"166.845703\" xlink:href=\"#ArialMT-48\"/>\n       <use x=\"222.460938\" xlink:href=\"#ArialMT-48\"/>\n      </g>\n     </g>\n    </g>\n    <g id=\"ytick_7\">\n     <g id=\"line2d_21\">\n      <path clip-path=\"url(#p72d262cd4a)\" d=\"M 64.248437 52.551802 \nL 733.848438 52.551802 \n\" style=\"fill:none;stroke:#ffffff;stroke-linecap:round;\"/>\n     </g>\n     <g id=\"line2d_22\"/>\n     <g id=\"text_11\">\n      <!-- 60000 -->\n      <g style=\"fill:#262626;\" transform=\"translate(7.2 58.993834)scale(0.18 -0.18)\">\n       <defs>\n        <path d=\"M 49.75 54.046875 \nL 41.015625 53.375 \nQ 39.84375 58.546875 37.703125 60.890625 \nQ 34.125 64.65625 28.90625 64.65625 \nQ 24.703125 64.65625 21.53125 62.3125 \nQ 17.390625 59.28125 14.984375 53.46875 \nQ 12.59375 47.65625 12.5 36.921875 \nQ 15.671875 41.75 20.265625 44.09375 \nQ 24.859375 46.4375 29.890625 46.4375 \nQ 38.671875 46.4375 44.84375 39.96875 \nQ 51.03125 33.5 51.03125 23.25 \nQ 51.03125 16.5 48.125 10.71875 \nQ 45.21875 4.9375 40.140625 1.859375 \nQ 35.0625 -1.21875 28.609375 -1.21875 \nQ 17.625 -1.21875 10.6875 6.859375 \nQ 3.765625 14.9375 3.765625 33.5 \nQ 3.765625 54.25 11.421875 63.671875 \nQ 18.109375 71.875 29.4375 71.875 \nQ 37.890625 71.875 43.28125 67.140625 \nQ 48.6875 62.40625 49.75 54.046875 \nz\nM 13.875 23.1875 \nQ 13.875 18.65625 15.796875 14.5 \nQ 17.71875 10.359375 21.1875 8.171875 \nQ 24.65625 6 28.46875 6 \nQ 34.03125 6 38.03125 10.484375 \nQ 42.046875 14.984375 42.046875 22.703125 \nQ 42.046875 30.125 38.078125 34.390625 \nQ 34.125 38.671875 28.125 38.671875 \nQ 22.171875 38.671875 18.015625 34.390625 \nQ 13.875 30.125 13.875 23.1875 \nz\n\" id=\"ArialMT-54\"/>\n       </defs>\n       <use xlink:href=\"#ArialMT-54\"/>\n       <use x=\"55.615234\" xlink:href=\"#ArialMT-48\"/>\n       <use x=\"111.230469\" xlink:href=\"#ArialMT-48\"/>\n       <use x=\"166.845703\" xlink:href=\"#ArialMT-48\"/>\n       <use x=\"222.460938\" xlink:href=\"#ArialMT-48\"/>\n      </g>\n     </g>\n    </g>\n   </g>\n   <g id=\"patch_3\">\n    <path clip-path=\"url(#p72d262cd4a)\" d=\"M 106.098438 355.107187 \nL 189.798438 355.107187 \nL 189.798438 44.478616 \nL 106.098438 44.478616 \nz\n\" style=\"fill:#0000ff;\"/>\n   </g>\n   <g id=\"patch_4\">\n    <path clip-path=\"url(#p72d262cd4a)\" d=\"M 273.498438 355.107187 \nL 357.198438 355.107187 \nL 357.198438 139.531433 \nL 273.498438 139.531433 \nz\n\" style=\"fill:#0000ff;\"/>\n   </g>\n   <g id=\"patch_5\">\n    <path clip-path=\"url(#p72d262cd4a)\" d=\"M 440.898438 355.107187 \nL 524.598438 355.107187 \nL 524.598438 202.699955 \nL 440.898438 202.699955 \nz\n\" style=\"fill:#0000ff;\"/>\n   </g>\n   <g id=\"patch_6\">\n    <path clip-path=\"url(#p72d262cd4a)\" d=\"M 608.298438 355.107187 \nL 691.998438 355.107187 \nL 691.998438 332.445789 \nL 608.298438 332.445789 \nz\n\" style=\"fill:#0000ff;\"/>\n   </g>\n   <g id=\"patch_7\">\n    <path d=\"M 64.248437 355.107187 \nL 64.248437 28.947187 \n\" style=\"fill:none;\"/>\n   </g>\n   <g id=\"patch_8\">\n    <path d=\"M 733.848438 355.107187 \nL 733.848438 28.947187 \n\" style=\"fill:none;\"/>\n   </g>\n   <g id=\"patch_9\">\n    <path d=\"M 64.248438 355.107187 \nL 733.848438 355.107187 \n\" style=\"fill:none;\"/>\n   </g>\n   <g id=\"patch_10\">\n    <path d=\"M 64.248438 28.947187 \nL 733.848438 28.947187 \n\" style=\"fill:none;\"/>\n   </g>\n   <g id=\"text_12\">\n    <!-- Inactive users, followers distribution -->\n    <g style=\"fill:#262626;\" transform=\"translate(225.427187 22.947187)scale(0.22 -0.22)\">\n     <defs>\n      <path d=\"M 9.328125 0 \nL 9.328125 71.578125 \nL 18.796875 71.578125 \nL 18.796875 0 \nz\n\" id=\"ArialMT-73\"/>\n      <path d=\"M 6.59375 0 \nL 6.59375 51.859375 \nL 14.5 51.859375 \nL 14.5 44.484375 \nQ 20.21875 53.03125 31 53.03125 \nQ 35.6875 53.03125 39.625 51.34375 \nQ 43.5625 49.65625 45.515625 46.921875 \nQ 47.46875 44.1875 48.25 40.4375 \nQ 48.734375 37.984375 48.734375 31.890625 \nL 48.734375 0 \nL 39.9375 0 \nL 39.9375 31.546875 \nQ 39.9375 36.921875 38.90625 39.578125 \nQ 37.890625 42.234375 35.28125 43.8125 \nQ 32.671875 45.40625 29.15625 45.40625 \nQ 23.53125 45.40625 19.453125 41.84375 \nQ 15.375 38.28125 15.375 28.328125 \nL 15.375 0 \nz\n\" id=\"ArialMT-110\"/>\n      <path d=\"M 40.4375 6.390625 \nQ 35.546875 2.25 31.03125 0.53125 \nQ 26.515625 -1.171875 21.34375 -1.171875 \nQ 12.796875 -1.171875 8.203125 3 \nQ 3.609375 7.171875 3.609375 13.671875 \nQ 3.609375 17.484375 5.34375 20.625 \nQ 7.078125 23.78125 9.890625 25.6875 \nQ 12.703125 27.59375 16.21875 28.5625 \nQ 18.796875 29.25 24.03125 29.890625 \nQ 34.671875 31.15625 39.703125 32.90625 \nQ 39.75 34.71875 39.75 35.203125 \nQ 39.75 40.578125 37.25 42.78125 \nQ 33.890625 45.75 27.25 45.75 \nQ 21.046875 45.75 18.09375 43.578125 \nQ 15.140625 41.40625 13.71875 35.890625 \nL 5.125 37.0625 \nQ 6.296875 42.578125 8.984375 45.96875 \nQ 11.671875 49.359375 16.75 51.1875 \nQ 21.828125 53.03125 28.515625 53.03125 \nQ 35.15625 53.03125 39.296875 51.46875 \nQ 43.453125 49.90625 45.40625 47.53125 \nQ 47.359375 45.171875 48.140625 41.546875 \nQ 48.578125 39.3125 48.578125 33.453125 \nL 48.578125 21.734375 \nQ 48.578125 9.46875 49.140625 6.21875 \nQ 49.703125 2.984375 51.375 0 \nL 42.1875 0 \nQ 40.828125 2.734375 40.4375 6.390625 \nz\nM 39.703125 26.03125 \nQ 34.90625 24.078125 25.34375 22.703125 \nQ 19.921875 21.921875 17.671875 20.9375 \nQ 15.4375 19.96875 14.203125 18.09375 \nQ 12.984375 16.21875 12.984375 13.921875 \nQ 12.984375 10.40625 15.640625 8.0625 \nQ 18.3125 5.71875 23.4375 5.71875 \nQ 28.515625 5.71875 32.46875 7.9375 \nQ 36.421875 10.15625 38.28125 14.015625 \nQ 39.703125 17 39.703125 22.796875 \nz\n\" id=\"ArialMT-97\"/>\n      <path d=\"M 40.4375 19 \nL 49.078125 17.875 \nQ 47.65625 8.9375 41.8125 3.875 \nQ 35.984375 -1.171875 27.484375 -1.171875 \nQ 16.84375 -1.171875 10.375 5.78125 \nQ 3.90625 12.75 3.90625 25.734375 \nQ 3.90625 34.125 6.6875 40.421875 \nQ 9.46875 46.734375 15.15625 49.875 \nQ 20.84375 53.03125 27.546875 53.03125 \nQ 35.984375 53.03125 41.359375 48.75 \nQ 46.734375 44.484375 48.25 36.625 \nL 39.703125 35.296875 \nQ 38.484375 40.53125 35.375 43.15625 \nQ 32.28125 45.796875 27.875 45.796875 \nQ 21.234375 45.796875 17.078125 41.03125 \nQ 12.9375 36.28125 12.9375 25.984375 \nQ 12.9375 15.53125 16.9375 10.796875 \nQ 20.953125 6.0625 27.390625 6.0625 \nQ 32.5625 6.0625 36.03125 9.234375 \nQ 39.5 12.40625 40.4375 19 \nz\n\" id=\"ArialMT-99\"/>\n      <path d=\"M 6.640625 61.46875 \nL 6.640625 71.578125 \nL 15.4375 71.578125 \nL 15.4375 61.46875 \nz\nM 6.640625 0 \nL 6.640625 51.859375 \nL 15.4375 51.859375 \nL 15.4375 0 \nz\n\" id=\"ArialMT-105\"/>\n      <path d=\"M 21 0 \nL 1.265625 51.859375 \nL 10.546875 51.859375 \nL 21.6875 20.796875 \nQ 23.484375 15.765625 25 10.359375 \nQ 26.171875 14.453125 28.265625 20.21875 \nL 39.796875 51.859375 \nL 48.828125 51.859375 \nL 29.203125 0 \nz\n\" id=\"ArialMT-118\"/>\n      <path d=\"M 42.09375 16.703125 \nL 51.171875 15.578125 \nQ 49.03125 7.625 43.21875 3.21875 \nQ 37.40625 -1.171875 28.375 -1.171875 \nQ 17 -1.171875 10.328125 5.828125 \nQ 3.65625 12.84375 3.65625 25.484375 \nQ 3.65625 38.578125 10.390625 45.796875 \nQ 17.140625 53.03125 27.875 53.03125 \nQ 38.28125 53.03125 44.875 45.953125 \nQ 51.46875 38.875 51.46875 26.03125 \nQ 51.46875 25.25 51.421875 23.6875 \nL 12.75 23.6875 \nQ 13.234375 15.140625 17.578125 10.59375 \nQ 21.921875 6.0625 28.421875 6.0625 \nQ 33.25 6.0625 36.671875 8.59375 \nQ 40.09375 11.140625 42.09375 16.703125 \nz\nM 13.234375 30.90625 \nL 42.1875 30.90625 \nQ 41.609375 37.453125 38.875 40.71875 \nQ 34.671875 45.796875 27.984375 45.796875 \nQ 21.921875 45.796875 17.796875 41.75 \nQ 13.671875 37.703125 13.234375 30.90625 \nz\n\" id=\"ArialMT-101\"/>\n      <path d=\"M 40.578125 0 \nL 40.578125 7.625 \nQ 34.515625 -1.171875 24.125 -1.171875 \nQ 19.53125 -1.171875 15.546875 0.578125 \nQ 11.578125 2.34375 9.640625 5 \nQ 7.71875 7.671875 6.9375 11.53125 \nQ 6.390625 14.109375 6.390625 19.734375 \nL 6.390625 51.859375 \nL 15.1875 51.859375 \nL 15.1875 23.09375 \nQ 15.1875 16.21875 15.71875 13.8125 \nQ 16.546875 10.359375 19.234375 8.375 \nQ 21.921875 6.390625 25.875 6.390625 \nQ 29.828125 6.390625 33.296875 8.421875 \nQ 36.765625 10.453125 38.203125 13.9375 \nQ 39.65625 17.4375 39.65625 24.078125 \nL 39.65625 51.859375 \nL 48.4375 51.859375 \nL 48.4375 0 \nz\n\" id=\"ArialMT-117\"/>\n      <path d=\"M 3.078125 15.484375 \nL 11.765625 16.84375 \nQ 12.5 11.625 15.84375 8.84375 \nQ 19.1875 6.0625 25.203125 6.0625 \nQ 31.25 6.0625 34.171875 8.515625 \nQ 37.109375 10.984375 37.109375 14.3125 \nQ 37.109375 17.28125 34.515625 19 \nQ 32.71875 20.171875 25.53125 21.96875 \nQ 15.875 24.421875 12.140625 26.203125 \nQ 8.40625 27.984375 6.46875 31.125 \nQ 4.546875 34.28125 4.546875 38.09375 \nQ 4.546875 41.546875 6.125 44.5 \nQ 7.71875 47.46875 10.453125 49.421875 \nQ 12.5 50.921875 16.03125 51.96875 \nQ 19.578125 53.03125 23.640625 53.03125 \nQ 29.734375 53.03125 34.34375 51.265625 \nQ 38.96875 49.515625 41.15625 46.5 \nQ 43.359375 43.5 44.1875 38.484375 \nL 35.59375 37.3125 \nQ 35.015625 41.3125 32.203125 43.546875 \nQ 29.390625 45.796875 24.265625 45.796875 \nQ 18.21875 45.796875 15.625 43.796875 \nQ 13.03125 41.796875 13.03125 39.109375 \nQ 13.03125 37.40625 14.109375 36.03125 \nQ 15.1875 34.625 17.484375 33.6875 \nQ 18.796875 33.203125 25.25 31.453125 \nQ 34.578125 28.953125 38.25 27.359375 \nQ 41.9375 25.78125 44.03125 22.75 \nQ 46.140625 19.734375 46.140625 15.234375 \nQ 46.140625 10.84375 43.578125 6.953125 \nQ 41.015625 3.078125 36.171875 0.953125 \nQ 31.34375 -1.171875 25.25 -1.171875 \nQ 15.140625 -1.171875 9.84375 3.03125 \nQ 4.546875 7.234375 3.078125 15.484375 \nz\n\" id=\"ArialMT-115\"/>\n      <path d=\"M 6.5 0 \nL 6.5 51.859375 \nL 14.40625 51.859375 \nL 14.40625 44 \nQ 17.4375 49.515625 20 51.265625 \nQ 22.5625 53.03125 25.640625 53.03125 \nQ 30.078125 53.03125 34.671875 50.203125 \nL 31.640625 42.046875 \nQ 28.421875 43.953125 25.203125 43.953125 \nQ 22.3125 43.953125 20.015625 42.21875 \nQ 17.71875 40.484375 16.75 37.40625 \nQ 15.28125 32.71875 15.28125 27.15625 \nL 15.28125 0 \nz\n\" id=\"ArialMT-114\"/>\n      <path d=\"M 8.890625 0 \nL 8.890625 10.015625 \nL 18.890625 10.015625 \nL 18.890625 0 \nQ 18.890625 -5.515625 16.9375 -8.90625 \nQ 14.984375 -12.3125 10.75 -14.15625 \nL 8.296875 -10.40625 \nQ 11.078125 -9.1875 12.390625 -6.8125 \nQ 13.71875 -4.4375 13.875 0 \nz\n\" id=\"ArialMT-44\"/>\n      <path d=\"M 8.6875 0 \nL 8.6875 45.015625 \nL 0.921875 45.015625 \nL 0.921875 51.859375 \nL 8.6875 51.859375 \nL 8.6875 57.375 \nQ 8.6875 62.59375 9.625 65.140625 \nQ 10.890625 68.5625 14.078125 70.671875 \nQ 17.28125 72.796875 23.046875 72.796875 \nQ 26.765625 72.796875 31.25 71.921875 \nL 29.9375 64.265625 \nQ 27.203125 64.75 24.75 64.75 \nQ 20.75 64.75 19.09375 63.03125 \nQ 17.4375 61.328125 17.4375 56.640625 \nL 17.4375 51.859375 \nL 27.546875 51.859375 \nL 27.546875 45.015625 \nL 17.4375 45.015625 \nL 17.4375 0 \nz\n\" id=\"ArialMT-102\"/>\n      <path d=\"M 6.390625 0 \nL 6.390625 71.578125 \nL 15.1875 71.578125 \nL 15.1875 0 \nz\n\" id=\"ArialMT-108\"/>\n      <path d=\"M 16.15625 0 \nL 0.296875 51.859375 \nL 9.375 51.859375 \nL 17.625 21.921875 \nL 20.703125 10.796875 \nQ 20.90625 11.625 23.390625 21.484375 \nL 31.640625 51.859375 \nL 40.671875 51.859375 \nL 48.4375 21.78125 \nL 51.03125 11.859375 \nL 54 21.875 \nL 62.890625 51.859375 \nL 71.4375 51.859375 \nL 55.21875 0 \nL 46.09375 0 \nL 37.84375 31.0625 \nL 35.84375 39.890625 \nL 25.34375 0 \nz\n\" id=\"ArialMT-119\"/>\n      <path d=\"M 40.234375 0 \nL 40.234375 6.546875 \nQ 35.296875 -1.171875 25.734375 -1.171875 \nQ 19.53125 -1.171875 14.328125 2.25 \nQ 9.125 5.671875 6.265625 11.796875 \nQ 3.421875 17.921875 3.421875 25.875 \nQ 3.421875 33.640625 6 39.96875 \nQ 8.59375 46.296875 13.765625 49.65625 \nQ 18.953125 53.03125 25.34375 53.03125 \nQ 30.03125 53.03125 33.6875 51.046875 \nQ 37.359375 49.078125 39.65625 45.90625 \nL 39.65625 71.578125 \nL 48.390625 71.578125 \nL 48.390625 0 \nz\nM 12.453125 25.875 \nQ 12.453125 15.921875 16.640625 10.984375 \nQ 20.84375 6.0625 26.5625 6.0625 \nQ 32.328125 6.0625 36.34375 10.765625 \nQ 40.375 15.484375 40.375 25.140625 \nQ 40.375 35.796875 36.265625 40.765625 \nQ 32.171875 45.75 26.171875 45.75 \nQ 20.3125 45.75 16.375 40.96875 \nQ 12.453125 36.1875 12.453125 25.875 \nz\n\" id=\"ArialMT-100\"/>\n      <path d=\"M 14.703125 0 \nL 6.546875 0 \nL 6.546875 71.578125 \nL 15.328125 71.578125 \nL 15.328125 46.046875 \nQ 20.90625 53.03125 29.546875 53.03125 \nQ 34.328125 53.03125 38.59375 51.09375 \nQ 42.875 49.171875 45.625 45.671875 \nQ 48.390625 42.1875 49.953125 37.25 \nQ 51.515625 32.328125 51.515625 26.703125 \nQ 51.515625 13.375 44.921875 6.09375 \nQ 38.328125 -1.171875 29.109375 -1.171875 \nQ 19.921875 -1.171875 14.703125 6.5 \nz\nM 14.59375 26.3125 \nQ 14.59375 17 17.140625 12.84375 \nQ 21.296875 6.0625 28.375 6.0625 \nQ 34.125 6.0625 38.328125 11.0625 \nQ 42.53125 16.0625 42.53125 25.984375 \nQ 42.53125 36.140625 38.5 40.96875 \nQ 34.46875 45.796875 28.765625 45.796875 \nQ 23 45.796875 18.796875 40.796875 \nQ 14.59375 35.796875 14.59375 26.3125 \nz\n\" id=\"ArialMT-98\"/>\n     </defs>\n     <use xlink:href=\"#ArialMT-73\"/>\n     <use x=\"27.783203\" xlink:href=\"#ArialMT-110\"/>\n     <use x=\"83.398438\" xlink:href=\"#ArialMT-97\"/>\n     <use x=\"139.013672\" xlink:href=\"#ArialMT-99\"/>\n     <use x=\"189.013672\" xlink:href=\"#ArialMT-116\"/>\n     <use x=\"216.796875\" xlink:href=\"#ArialMT-105\"/>\n     <use x=\"239.013672\" xlink:href=\"#ArialMT-118\"/>\n     <use x=\"289.013672\" xlink:href=\"#ArialMT-101\"/>\n     <use x=\"344.628906\" xlink:href=\"#ArialMT-32\"/>\n     <use x=\"372.412109\" xlink:href=\"#ArialMT-117\"/>\n     <use x=\"428.027344\" xlink:href=\"#ArialMT-115\"/>\n     <use x=\"478.027344\" xlink:href=\"#ArialMT-101\"/>\n     <use x=\"533.642578\" xlink:href=\"#ArialMT-114\"/>\n     <use x=\"566.943359\" xlink:href=\"#ArialMT-115\"/>\n     <use x=\"616.943359\" xlink:href=\"#ArialMT-44\"/>\n     <use x=\"644.726562\" xlink:href=\"#ArialMT-32\"/>\n     <use x=\"672.509766\" xlink:href=\"#ArialMT-102\"/>\n     <use x=\"700.292969\" xlink:href=\"#ArialMT-111\"/>\n     <use x=\"755.908203\" xlink:href=\"#ArialMT-108\"/>\n     <use x=\"778.125\" xlink:href=\"#ArialMT-108\"/>\n     <use x=\"800.341797\" xlink:href=\"#ArialMT-111\"/>\n     <use x=\"855.957031\" xlink:href=\"#ArialMT-119\"/>\n     <use x=\"928.173828\" xlink:href=\"#ArialMT-101\"/>\n     <use x=\"983.789062\" xlink:href=\"#ArialMT-114\"/>\n     <use x=\"1017.089844\" xlink:href=\"#ArialMT-115\"/>\n     <use x=\"1067.089844\" xlink:href=\"#ArialMT-32\"/>\n     <use x=\"1094.873047\" xlink:href=\"#ArialMT-100\"/>\n     <use x=\"1150.488281\" xlink:href=\"#ArialMT-105\"/>\n     <use x=\"1172.705078\" xlink:href=\"#ArialMT-115\"/>\n     <use x=\"1222.705078\" xlink:href=\"#ArialMT-116\"/>\n     <use x=\"1250.488281\" xlink:href=\"#ArialMT-114\"/>\n     <use x=\"1283.789062\" xlink:href=\"#ArialMT-105\"/>\n     <use x=\"1306.005859\" xlink:href=\"#ArialMT-98\"/>\n     <use x=\"1361.621094\" xlink:href=\"#ArialMT-117\"/>\n     <use x=\"1417.236328\" xlink:href=\"#ArialMT-116\"/>\n     <use x=\"1445.019531\" xlink:href=\"#ArialMT-105\"/>\n     <use x=\"1467.236328\" xlink:href=\"#ArialMT-111\"/>\n     <use x=\"1522.851562\" xlink:href=\"#ArialMT-110\"/>\n    </g>\n   </g>\n  </g>\n </g>\n <defs>\n  <clipPath id=\"p72d262cd4a\">\n   <rect height=\"326.16\" width=\"669.6\" x=\"64.248437\" y=\"28.947187\"/>\n  </clipPath>\n </defs>\n</svg>\n",
      "image/png": "[encoded data removed]"
     },
     "metadata": {}
    },
    {
     "output_type": "stream",
     "name": "stdout",
     "text": [
      "Total users 1,388,621\nTotal inactive users 147,751 (10.6%)\nFollowers distribution\nmax 87364085\nmin 0\nmean 2184.247802045333\nmedian 122.0\n"
     ]
    }
   ],
   "source": [
    "import matplotlib.pyplot as plt\n",
    "\n",
    "style.use([\"seaborn\"])\n",
    "\n",
    "cats, out = pd.cut(inactive_users.followers_count, bins=[0, 100, 1000, 10000, 100000000], retbins=True)\n",
    "\n",
    "ax = cats.value_counts(sort=False).plot.bar(rot=0, color=\"b\", figsize=(12,6))\n",
    "ax.set_xticklabels([str(c).replace(\",\",\" to\") for c in cats.cat.categories])\n",
    "plt.title(\"Inactive users, followers distribution\", fontdict={\"fontsize\":22})\n",
    "plt.tick_params(axis='both', which='major', labelsize=18)\n",
    "plt.show()\n",
    "\n",
    "total_count = df_users_by_follower_count.shape[0]\n",
    "print(\"Total users {:,}\".format(total_count))\n",
    "print(\"Total inactive users {:,} ({:,.1f}%)\".format(inactive_users.shape[0], (inactive_users.shape[0] / total_count) * 100))\n",
    "print(\"Followers distribution\")\n",
    "print(\"max\", inactive_users.followers_count.max())\n",
    "print(\"min\", inactive_users.followers_count.min())\n",
    "print(\"mean\", inactive_users.followers_count.mean())\n",
    "print(\"median\", inactive_users.followers_count.median())"
   ]
  },
  {
   "cell_type": "code",
   "execution_count": 9,
   "metadata": {},
   "outputs": [],
   "source": [
    "import networkx as nx\n",
    "filename = \"../data/graphs/08-jan-sampled-graph-with-communities-smaller.gexf\"\n",
    "graph = nx.read_gexf(filename)"
   ]
  },
  {
   "cell_type": "code",
   "execution_count": 11,
   "metadata": {},
   "outputs": [],
   "source": [
    "import networkx as nx\n",
    "filename = \"../data/graphs/08-jan-sampled-graph-with-inactive-smaller.gexf\"\n",
    "graph_inactive = nx.read_gexf(filename)"
   ]
  },
  {
   "cell_type": "code",
   "execution_count": 8,
   "metadata": {},
   "outputs": [],
   "source": [
    "df_users = pd.read_pickle(\"./df_users_final.pickle\")\n",
    "suspended_uids = set(df_users[df_users[\"active_status\"] == \"suspended\"].index)"
   ]
  },
  {
   "cell_type": "code",
   "execution_count": 12,
   "metadata": {},
   "outputs": [],
   "source": [
    "inactive_count = 0\n",
    "suspended_count = 0\n",
    "for node, data in graph_inactive.nodes(data=True):\n",
    "    if (data[\"is_inactive\"]):\n",
    "        inactive_count += 1\n",
    "    if (data[\"user_id\"] in suspended_uids):\n",
    "        suspended_count += 1"
   ]
  },
  {
   "cell_type": "code",
   "execution_count": 18,
   "metadata": {},
   "outputs": [
    {
     "output_type": "stream",
     "name": "stdout",
     "text": [
      "2933\n"
     ]
    }
   ],
   "source": [
    "print(inactive_count)"
   ]
  },
  {
   "cell_type": "code",
   "execution_count": 15,
   "metadata": {},
   "outputs": [
    {
     "output_type": "stream",
     "name": "stdout",
     "text": [
      "Inactive 3234/44474\n"
     ]
    }
   ],
   "source": [
    "def set_node_inactive(G):\n",
    "    '''Add community to node attributes'''\n",
    "    inactive_count = 0\n",
    "    for n, data in list(G.nodes(data=True)):\n",
    "        if ('user_id' in data):\n",
    "            is_inactive = data[\"user_id\"] in all_inactive_users\n",
    "            data[\"is_inactive\"] = is_inactive\n",
    "\n",
    "            if is_inactive:\n",
    "                inactive_count += 1\n",
    "    print(\"Inactive {}/{}\".format(inactive_count, len(G.nodes)))\n",
    "    return G\n",
    "\n",
    "graph_with_inactive = set_node_inactive(graph)"
   ]
  },
  {
   "cell_type": "code",
   "execution_count": 4,
   "metadata": {},
   "outputs": [
    {
     "output_type": "stream",
     "name": "stdout",
     "text": [
      "Exported to ../data/graphs/08-jan-sampled-graph-with-inactive-smaller.gexf\n"
     ]
    }
   ],
   "source": [
    "filename = \"../data/graphs/08-jan-sampled-graph-with-inactive-smaller.gexf\"\n",
    "nx.write_gexf(graph_with_inactive, filename)\n",
    "print(\"Exported to {}\".format(filename))"
   ]
  },
  {
   "cell_type": "code",
   "execution_count": null,
   "metadata": {},
   "outputs": [],
   "source": []
  }
 ]
}