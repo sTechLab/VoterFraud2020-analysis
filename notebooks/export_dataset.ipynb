{
 "metadata": {
  "language_info": {
   "codemirror_mode": {
    "name": "ipython",
    "version": 3
   },
   "file_extension": ".py",
   "mimetype": "text/x-python",
   "name": "python",
   "nbconvert_exporter": "python",
   "pygments_lexer": "ipython3",
   "version": "3.8.5-final"
  },
  "orig_nbformat": 2,
  "kernelspec": {
   "name": "python3",
   "display_name": "Python 3.8.5 64-bit ('voter-fraud': conda)",
   "metadata": {
    "interpreter": {
     "hash": "a0f90dcbb54bea4e60f894f8fd1d686cc0f74395b4029405cc9f13e0b975e641"
    }
   }
  }
 },
 "nbformat": 4,
 "nbformat_minor": 2,
 "cells": [
  {
   "cell_type": "code",
   "execution_count": 13,
   "metadata": {},
   "outputs": [],
   "source": [
    "from notebook_utils import setup\n",
    "import pandas as pd\n",
    "import networkx as nx\n",
    "from collections import defaultdict\n",
    "import numpy as np\n",
    "import pickle\n",
    "\n",
    "setup()\n",
    "DATAFRAMES_DIR = \"../data/dataframes/16-dec/\"\n",
    "\n",
    "SAMPLE_SIZE = 100\n",
    "\n",
    "def extract_month(timestamp):\n",
    "    full = timestamp[:7]\n",
    "    year = full[:4]\n",
    "    month = full[5:]\n",
    "    return month + \"-\" + year\n",
    "\n",
    "def extract_month_from_date(date):\n",
    "    return date[:7]\n",
    "\n",
    "\n",
    "def extract_date(timestamp):\n",
    "    date = timestamp[:10]\n",
    "    return date\n",
    "\n",
    "EXPORT_CHUNK_SIZE = 500000\n",
    "\n",
    "def split_dataframe(df, chunk_size = EXPORT_CHUNK_SIZE): \n",
    "    chunks = list()\n",
    "    num_chunks = len(df) // chunk_size + 1\n",
    "    for i in range(num_chunks):\n",
    "        chunks.append(df[i*chunk_size:(i+1)*chunk_size])\n",
    "    return chunks\n",
    "\n",
    "def map_user_status(status):\n",
    "    if (status == \"inactive\"):\n",
    "        return \"deleted\"\n",
    "    else:\n",
    "        return status\n",
    "\n",
    "rename_dict = {}\n",
    "for i in range(5):\n",
    "    rename_dict[\"retweets_by_cluster_\" + str(i)] = \"retweet_count_by_community_\" + str(i)\n",
    "    rename_dict[\"quotes_by_cluster_\" + str(i)] = \"quote_count_by_community_\" + str(i)\n",
    "    rename_dict[\"tweets_by_cluster_\" + str(i)] = \"tweet_count_by_community_\" + str(i)\n",
    "rename_dict[\"tweets_by_suspended\"] = \"tweet_count_by_suspended_users\"\n",
    "rename_dict[\"quotes_by_suspended\"] = \"quote_count_by_suspended_users\"\n",
    "rename_dict[\"retweets_by_suspended\"] = \"retweet_count_by_suspended_users\"\n",
    "rename_dict[\"author_active_status\"] = \"user_active_status\" \n",
    "rename_dict[\"l_closeness\"] = \"closeness_centrality_detractor_cluster\"\n",
    "rename_dict[\"r_closeness\"] = \"closeness_centrality_promoter_cluster\"\n",
    "rename_dict[\"quote_count\"] = \"quote_count_metadata\"\n",
    "rename_dict[\"retweet_count\"] = \"retweet_count_metadata\"\n",
    "rename_dict[\"cluster\"] = \"user_community\"\n",
    "rename_dict[\"user_cluster\"] = \"user_community\"\n",
    "rename_dict[\"active_status\"] = \"user_active_status\"\n",
    "\n",
    "\n",
    "## Exception for user\n",
    "user_rename_dict = {**rename_dict}\n",
    "for i in range(5):\n",
    "    user_rename_dict[\"retweets_by_cluster_\" + str(i)] = \"retweet_count_by_community_\" + str(i)\n",
    "    user_rename_dict[\"quotes_by_cluster_\" + str(i)] = \"quote_count_by_community_\" + str(i)\n",
    "    user_rename_dict[\"tweets_by_cluster_\" + str(i)] = \"tweet_count_by_community_\" + str(i)\n",
    "user_rename_dict[\"retweets_by_suspended\"] = \"retweet_count_by_suspended_users\"\n",
    "user_rename_dict[\"quotes_by_suspended\"] = \"quote_count_by_suspended_users\"\n",
    "\n",
    "user_export_cols = [\"user_community\", \"user_active_status\", \"closeness_centrality_detractor_cluster\", \"closeness_centrality_promoter_cluster\"]\n",
    "\n",
    "retweeted_cols = []\n",
    "for i in range(5):\n",
    "    retweeted_cols.append(\"retweet_count_by_community_\" + str(i))\n",
    "    retweeted_cols.append(\"quote_count_by_community_\" + str(i))\n",
    "retweeted_cols.append(\"retweet_count_by_suspended_users\")\n",
    "retweeted_cols.append(\"quote_count_by_suspended_users\")\n",
    "user_export_cols += retweeted_cols\n",
    "\n",
    "media_share_cols = [\"tweet_count\", \"retweet_count_metadata\", \"quote_count_metadata\"]\n",
    "for i in range(5):\n",
    "    media_share_cols.append(\"tweet_count_by_community_\" + str(i))\n",
    "    media_share_cols.append(\"retweet_count_by_community_\" + str(i))\n",
    "    media_share_cols.append(\"quote_count_by_community_\" + str(i))\n",
    "media_share_cols.append(\"tweet_count_by_suspended_users\")\n",
    "media_share_cols.append(\"retweet_count_by_suspended_users\")\n",
    "media_share_cols.append(\"quote_count_by_suspended_users\")\n",
    "\n",
    "\n",
    "tweet_cols = [\"user_community\", \"user_active_status\", \"retweet_count_metadata\", \"quote_count_metadata\"]\n",
    "\n",
    "image_cols = [\"unique_id\", \"tweet_id\", \"a_hash\", \"p_hash\", \"w_hash\"]\n",
    "youtube_cols = [\"video_title\", \"video_description\", \"channel_id\", \"channel_title\", \"published_at\"] + media_share_cols \n",
    "url_cols = [\"domain\"] + media_share_cols"
   ]
  },
  {
   "cell_type": "code",
   "execution_count": 3,
   "metadata": {},
   "outputs": [
    {
     "output_type": "execute_result",
     "data": {
      "text/plain": [
       "Index(['created_at', 'friends_count', 'name', 'verified', 'followers_count',\n",
       "       'location', 'handle', 'data_source', 'active_status', 'cluster',\n",
       "       'l_closeness', 'r_closeness', 'retweets_by_cluster_0',\n",
       "       'quotes_by_cluster_0', 'retweets_by_cluster_1', 'quotes_by_cluster_1',\n",
       "       'retweets_by_cluster_2', 'quotes_by_cluster_2', 'retweets_by_cluster_3',\n",
       "       'quotes_by_cluster_3', 'retweets_by_cluster_4', 'quotes_by_cluster_4',\n",
       "       'retweets_by_suspended', 'quotes_by_suspended', 'retweets_crawled',\n",
       "       'quotes_crawled', 'retweets_by_l', 'retweets_by_r',\n",
       "       'retweets_suspended_ratio'],\n",
       "      dtype='object')"
      ]
     },
     "metadata": {},
     "execution_count": 3
    }
   ],
   "source": [
    "df_users.columns"
   ]
  },
  {
   "cell_type": "code",
   "execution_count": 46,
   "metadata": {},
   "outputs": [
    {
     "output_type": "execute_result",
     "data": {
      "text/plain": [
       "{'retweets_by_cluster_0': 'retweet_count_by_community_0',\n",
       " 'quotes_by_cluster_0': 'quote_count_by_community_0',\n",
       " 'tweets_by_cluster_0': 'tweet_count_by_community_0',\n",
       " 'retweets_by_cluster_1': 'retweet_count_by_community_1',\n",
       " 'quotes_by_cluster_1': 'quote_count_by_community_1',\n",
       " 'tweets_by_cluster_1': 'tweet_count_by_community_1',\n",
       " 'retweets_by_cluster_2': 'retweet_count_by_community_2',\n",
       " 'quotes_by_cluster_2': 'quote_count_by_community_2',\n",
       " 'tweets_by_cluster_2': 'tweet_count_by_community_2',\n",
       " 'retweets_by_cluster_3': 'retweet_count_by_community_3',\n",
       " 'quotes_by_cluster_3': 'quote_count_by_community_3',\n",
       " 'tweets_by_cluster_3': 'tweet_count_by_community_3',\n",
       " 'retweets_by_cluster_4': 'retweet_count_by_community_4',\n",
       " 'quotes_by_cluster_4': 'quote_count_by_community_4',\n",
       " 'tweets_by_cluster_4': 'tweet_count_by_community_4',\n",
       " 'tweets_by_suspended': 'tweet_count_suspended_users',\n",
       " 'quotes_by_suspended': 'quote_count_by_suspended_users',\n",
       " 'retweets_by_suspended': 'retweet_count_by_suspended_users',\n",
       " 'author_active_status': 'user_active_status',\n",
       " 'l_closeness': 'closeness_centrality_detractor_cluster',\n",
       " 'r_closeness': 'closeness_centrality_promoter_cluster',\n",
       " 'quote_count': 'quote_count_metadata',\n",
       " 'retweet_count': 'retweet_count_metadata',\n",
       " 'cluster': 'user_community',\n",
       " 'user_cluster': 'user_community',\n",
       " 'active_status': 'user_active_status'}"
      ]
     },
     "metadata": {},
     "execution_count": 46
    }
   ],
   "source": [
    "user_rename_dict"
   ]
  },
  {
   "cell_type": "code",
   "execution_count": 3,
   "metadata": {},
   "outputs": [
    {
     "output_type": "execute_result",
     "data": {
      "text/plain": [
       "25566698"
      ]
     },
     "metadata": {},
     "execution_count": 3
    }
   ],
   "source": [
    "df_retweets = pd.read_pickle(\"./df_retweets_with_cluster.pickle\")\n",
    "df_retweets.shape[0]"
   ]
  },
  {
   "cell_type": "code",
   "execution_count": 2,
   "metadata": {},
   "outputs": [
    {
     "output_type": "execute_result",
     "data": {
      "text/plain": [
       "7603103"
      ]
     },
     "metadata": {},
     "execution_count": 2
    }
   ],
   "source": [
    "df_recent_tweets = pd.read_pickle(\"./df_recent_tweets_with_final_metrics.pickle\")\n",
    "df_recent_tweets.shape[0]"
   ]
  },
  {
   "cell_type": "code",
   "execution_count": 2,
   "metadata": {},
   "outputs": [
    {
     "output_type": "stream",
     "name": "stdout",
     "text": [
      "<class 'pandas.core.frame.DataFrame'>\nIndex: 2559018 entries, 3288305608 to 1313243498\nData columns (total 29 columns):\n #   Column                    Dtype  \n---  ------                    -----  \n 0   created_at                object \n 1   friends_count             Int64  \n 2   name                      object \n 3   verified                  object \n 4   followers_count           Int64  \n 5   location                  object \n 6   handle                    object \n 7   data_source               object \n 8   active_status             object \n 9   cluster                   Int64  \n 10  l_closeness               float64\n 11  r_closeness               float64\n 12  retweets_by_cluster_0     int64  \n 13  quotes_by_cluster_0       int64  \n 14  retweets_by_cluster_1     int64  \n 15  quotes_by_cluster_1       int64  \n 16  retweets_by_cluster_2     int64  \n 17  quotes_by_cluster_2       int64  \n 18  retweets_by_cluster_3     int64  \n 19  quotes_by_cluster_3       int64  \n 20  retweets_by_cluster_4     int64  \n 21  quotes_by_cluster_4       int64  \n 22  retweets_by_suspended     int64  \n 23  quotes_by_suspended       int64  \n 24  retweets_crawled          int64  \n 25  quotes_crawled            int64  \n 26  retweets_by_l             int64  \n 27  retweets_by_r             int64  \n 28  retweets_suspended_ratio  float64\ndtypes: Int64(3), float64(3), int64(16), object(7)\nmemory usage: 593.0+ MB\n"
     ]
    }
   ],
   "source": [
    "df_users = pd.read_pickle(\"./df_users_final_with_metrics.pickle\")\n",
    "df_users.info()"
   ]
  },
  {
   "cell_type": "code",
   "execution_count": 9,
   "metadata": {},
   "outputs": [
    {
     "output_type": "execute_result",
     "data": {
      "text/plain": [
       "active       2343266\n",
       "deleted       115868\n",
       "suspended      99884\n",
       "Name: active_status, dtype: int64"
      ]
     },
     "metadata": {},
     "execution_count": 9
    }
   ],
   "source": [
    "#df_users = pd.read_pickle(\"./df_users_final_with_metrics.pickle\")\n",
    "#df_users[\"active_status\"] = df_users.apply(lambda u: map_user_status(u[\"active_status\"]), axis=1)\n",
    "df_users[\"active_status\"].value_counts()"
   ]
  },
  {
   "cell_type": "code",
   "execution_count": 10,
   "metadata": {},
   "outputs": [
    {
     "output_type": "stream",
     "name": "stdout",
     "text": [
      "Community 0\n",
      "Number of users: 860976\n",
      "32871086 & kylegriffin1 & active & 76,302\\\\\n",
      "1640929196 & mmpadellan & active & 74,393\\\\\n",
      "255812611 & donwinslow & active & 69,796\\\\\n",
      "216776631 & BernieSanders & active & 60,961\\\\\n",
      "15952856 & AriBerman & active & 58,222\\\\\n",
      "3622368202 & JohnFetterman & active & 54,200\\\\\n",
      "341190477 & TheRickyDavila & active & 51,117\\\\\n",
      "148529707 & RBReich & active & 42,324\\\\\n",
      "22129280 & jimsciutto & active & 41,438\\\\\n",
      "1416374742 & Al\\_Sanchino & active & 38,179\\\\\n",
      "Community 1\n",
      "Number of users: 437783\n",
      "25073877 & realDonaldTrump & suspended & 1,560,373\\\\\n",
      "187680645 & LLinWood & suspended & 1,057,805\\\\\n",
      "586707638 & SidneyPowell1 & suspended & 633,273\\\\\n",
      "240454812 & GenFlynn & suspended & 334,197\\\\\n",
      "1812055789 & CodeMonkeyZ & suspended & 274,210\\\\\n",
      "292929271 & charliekirk11 & active & 260,467\\\\\n",
      "16989178 & JamesOKeefeIII & active & 253,221\\\\\n",
      "770781940341288960 & RudyGiuliani & active & 238,842\\\\\n",
      "18266688 & TomFitton & active & 227,569\\\\\n",
      "875856268056969216 & DC\\_Draino & active & 211,189\\\\\n",
      "Community 2\n",
      "Number of users: 342184\n",
      "2922345639 & DonnaWR8 & suspended & 38,388\\\\\n",
      "259260816 & zeusFanHouse & suspended & 36,347\\\\\n",
      "393190233 & LeahR77 & suspended & 33,352\\\\\n",
      "951302891708583936 & TheRISEofROD & suspended & 32,992\\\\\n",
      "32804484 & Bubblebathgirl & active & 27,787\\\\\n",
      "1546656000 & Jali\\_Cat & suspended & 26,168\\\\\n",
      "1015029427284127745 & HizbkKhan & active & 24,780\\\\\n",
      "4710708974 & christianllamar & active & 24,305\\\\\n",
      "1197653491214368768 & TrumpRulzz & suspended & 24,170\\\\\n",
      "88426758 & SJPFISH & suspended & 23,383\\\\\n",
      "Community 3\n",
      "Number of users: 33587\n",
      "835040085573689346 & ganaha\\_masako & active & 12,480\\\\\n",
      "1128981340848656384 & KadotaRyusho & active & 6,890\\\\\n",
      "796450109986902016 & yamatogokorous & active & 5,716\\\\\n",
      "1166577240601239552 & mei98862477 & active & 5,347\\\\\n",
      "109458204 & kohyu1952 & active & 5,244\\\\\n",
      "94120026 & naoyafujiwara & active & 4,990\\\\\n",
      "822547465874378752 & TrumpTrackerJP & active & 4,527\\\\\n",
      "170175828 & jack\\_hikuma & active & 4,335\\\\\n",
      "1145196115056136193 & AaronOtsuka & active & 3,088\\\\\n",
      "794540635453853696 & kotamama318 & active & 2,826\\\\\n",
      "Community 4\n",
      "Number of users: 23414\n",
      "3393186119 & FernandoAmandi & active & 4,217\\\\\n",
      "1126414392080232449 & POTUS\\_Trump\\_ESP & active & 2,981\\\\\n",
      "1195348350620622850 & TDN\\_NOTICIAS & active & 2,459\\\\\n",
      "98294131 & 1VAFI & active & 1,802\\\\\n",
      "1068238181282267137 & Gamusina77 & active & 1,638\\\\\n",
      "257332880 & hermanntertsch & active & 1,444\\\\\n",
      "92376011 & garciabanchs & active & 1,343\\\\\n",
      "588501688 & ElenaBerberana & active & 1,315\\\\\n",
      "73948999 & EmmaRincon & active & 1,302\\\\\n",
      "1281192416 & WharfRat\\_DE & active & 1,076\\\\\n"
     ]
    }
   ],
   "source": [
    "for cluster in range(5):\n",
    "    cluster_users = df_users[df_users[\"cluster\"] == cluster]\n",
    "    print(\"Community {}\".format(cluster))\n",
    "    print(\"Number of users: {}\".format(cluster_users.shape[0]))\n",
    "\n",
    "    for user_id, handle, active_status, retweets in cluster_users.nlargest(10, \"retweets_crawled\")[[\"handle\", \"active_status\", \"retweets_crawled\"]].itertuples():\n",
    "        print(\"{} & {} & {} & {:,}\\\\\\\\\".format(user_id, handle.replace(\"_\", \"\\\\_\"), active_status, retweets))"
   ]
  },
  {
   "cell_type": "code",
   "execution_count": 12,
   "metadata": {},
   "outputs": [
    {
     "output_type": "stream",
     "name": "stdout",
     "text": [
      "Total 2,559,018\nactive 2,343,266 91.57%\ninactive 115,868 4.53%\nsuspended 99,884 3.90%\n"
     ]
    }
   ],
   "source": [
    "def count_active_status (df, col=\"active_status\"):\n",
    "    total = df.shape[0]\n",
    "    print(\"Total {:,}\".format(total))\n",
    "    for status, val in df[\"active_status\"].value_counts(dropna=False).to_dict().items():\n",
    "        print(status, (\"{:,} {:,.2f}%\").format(val, (val / total) * 100))\n",
    "\n",
    "count_active_status(df_users)"
   ]
  },
  {
   "cell_type": "code",
   "execution_count": 17,
   "metadata": {},
   "outputs": [
    {
     "output_type": "stream",
     "name": "stdout",
     "text": [
      "Promoters\n",
      "Total 836,968\n",
      "active 700,648 83.71%\n",
      "inactive 71,051 8.49%\n",
      "suspended 65,269 7.80%\n",
      "Detractors\n",
      "Total 860,976\n",
      "active 846,111 98.27%\n",
      "suspended 8,659 1.01%\n",
      "inactive 6,206 0.72%\n",
      "Promoters suspended X times as many as detractors\n",
      "7.537706432613466\n"
     ]
    }
   ],
   "source": [
    "promoter_users = df_users[(df_users[\"cluster\"] == 1) | (df_users[\"cluster\"] == 2) | (df_users[\"cluster\"] == 3) | (df_users[\"cluster\"] == 4)]\n",
    "detractor_users = df_users[df_users[\"cluster\"] == 0]\n",
    "\n",
    "print(\"Promoters\")\n",
    "count_active_status(promoter_users)\n",
    "\n",
    "print(\"Detractors\")\n",
    "count_active_status(detractor_users)\n",
    "\n",
    "\n",
    "print(\"Promoters suspended X times as many as detractors\")\n",
    "print(promoter_users[promoter_users[\"active_status\"] == \"suspended\"].shape[0] / detractor_users[detractor_users[\"active_status\"] == \"suspended\"].shape[0])"
   ]
  },
  {
   "cell_type": "code",
   "execution_count": 20,
   "metadata": {},
   "outputs": [
    {
     "output_type": "stream",
     "name": "stdout",
     "text": [
      "Community 2\n",
      "Total 342,184\n",
      "active 266,332 77.83%\n",
      "suspended 46,031 13.45%\n",
      "inactive 29,821 8.71%\n",
      "Community 2 suspended of all suspended\n",
      "0.46084457971246645\n"
     ]
    }
   ],
   "source": [
    "community_2_users = df_users[(df_users[\"cluster\"] == 2)]\n",
    "\n",
    "print(\"Community 2\")\n",
    "count_active_status(community_2_users)\n",
    "\n",
    "print(\"Community 2 suspended of all suspended\")\n",
    "print(community_2_users[community_2_users.active_status == \"suspended\"].shape[0] / df_users[df_users.active_status == \"suspended\"].shape[0])"
   ]
  },
  {
   "cell_type": "code",
   "execution_count": 4,
   "metadata": {},
   "outputs": [
    {
     "output_type": "stream",
     "name": "stdout",
     "text": [
      "Total 7603103\nOG tweets: 3781524\nQuote tweets: 3821579\n"
     ]
    }
   ],
   "source": [
    "quote_tweet_col = pd.read_pickle(\"./df_recent_tweets_with_cluster.pickle\")[\"quote_tweet\"]\n",
    "print(\"Total\", len(quote_tweet_col))\n",
    "print(\"OG tweets:\", len(quote_tweet_col) - quote_tweet_col.count())\n",
    "print(\"Quote tweets:\", quote_tweet_col.count())\n"
   ]
  },
  {
   "cell_type": "code",
   "execution_count": null,
   "metadata": {},
   "outputs": [],
   "source": [
    "df_users.head()"
   ]
  },
  {
   "source": [
    "## Aggregated DFs"
   ],
   "cell_type": "markdown",
   "metadata": {}
  },
  {
   "cell_type": "code",
   "execution_count": 2,
   "metadata": {},
   "outputs": [],
   "source": [
    "import pickle \n",
    "with open(\"./content_shares_by_cluster.pickle\", \"rb\") as f:\n",
    "    content_shares_by_cluster = pickle.load(f)"
   ]
  },
  {
   "cell_type": "code",
   "execution_count": 3,
   "metadata": {},
   "outputs": [],
   "source": [
    "import json\n",
    "with open(\"./data_export/url_stats/16-dec/expanded_url_map.json\") as json_file:\n",
    "    expanded_url_map = json.load(json_file)"
   ]
  },
  {
   "cell_type": "code",
   "execution_count": 4,
   "metadata": {},
   "outputs": [],
   "source": [
    "from urllib.parse import urlparse, parse_qs\n",
    "\n",
    "def get_domain(url):\n",
    "    parsed = urlparse(url)\n",
    "\n",
    "    return parsed.netloc.replace(\"www.\", \"\").lower()\n",
    "\n",
    "url_map_with_shares = {}\n",
    "for url, data in content_shares_by_cluster[\"url\"].items():\n",
    "    if \"twitter.com/\" not in url:\n",
    "        expanded_url_data = expanded_url_map[url][\"expanded_url\"]\n",
    "        if \"url\" in expanded_url_data:\n",
    "            url = expanded_url_data[\"url\"]\n",
    "            if \"google.com/sorry\" in url:\n",
    "                parsed_url = urlparse(url)\n",
    "                url = parse_qs(parsed_url.query)[\"continue\"][0]\n",
    "\n",
    "        data[\"domain\"] = get_domain(url)\n",
    "        url_map_with_shares[url] = data"
   ]
  },
  {
   "cell_type": "code",
   "execution_count": 5,
   "metadata": {},
   "outputs": [],
   "source": [
    "import json\n",
    "youtube_data = []\n",
    "with open(\"./data_export/url_stats/16-dec/youtube_data_details.json\") as json_file:\n",
    "    for line in json_file:\n",
    "        youtube_data.append(json.loads(line))\n",
    "\n",
    "youtube_data_by_id = {}\n",
    "for yt_video in youtube_data:\n",
    "  youtube_data_by_id[yt_video['id']] = yt_video"
   ]
  },
  {
   "cell_type": "code",
   "execution_count": 6,
   "metadata": {},
   "outputs": [],
   "source": [
    "from urllib.parse import urlparse, parse_qs\n",
    "\n",
    "def get_video_id(url):\n",
    "    \"\"\"\n",
    "    Examples:\n",
    "    - http://youtu.be/SA2iWivDJiE\n",
    "    - http://www.youtube.com/watch?v=_oPAwA_Udwc&feature=feedu\n",
    "    - http://www.youtube.com/embed/SA2iWivDJiE\n",
    "    - http://www.youtube.com/v/SA2iWivDJiE?version=3&amp;hl=en_US\n",
    "    \"\"\"\n",
    "    o = urlparse(url)\n",
    "    try:\n",
    "        if o.netloc == 'youtu.be':\n",
    "            return o.path[1:]\n",
    "        elif o.netloc in ('www.youtube.com', 'youtube.com'):\n",
    "            if o.path == '/watch':\n",
    "                id_index = o.query.index('v=')\n",
    "                return o.query[id_index+2:id_index+13]\n",
    "            elif o.path[:7] == '/embed/':\n",
    "                return o.path.split('/')[2]\n",
    "            elif o.path[:3] == '/v/':\n",
    "                return o.path.split('/')[2]\n",
    "    except:\n",
    "        pass\n",
    "    return None"
   ]
  },
  {
   "cell_type": "code",
   "execution_count": 7,
   "metadata": {},
   "outputs": [
    {
     "output_type": "stream",
     "name": "stdout",
     "text": [
      "Missing data 1649\n"
     ]
    }
   ],
   "source": [
    "youtube_map_with_shares = {}\n",
    "missing_youtube_ids = set()\n",
    "\n",
    "for url, data in url_map_with_shares.items():\n",
    "    video_id = get_video_id(url)\n",
    "    if (video_id is not None):\n",
    "        if (video_id in youtube_data_by_id):\n",
    "            if (video_id in youtube_map_with_shares):\n",
    "                for col, val in data.items():\n",
    "                    if col != \"domain\":\n",
    "                        youtube_map_with_shares[video_id][col] += val\n",
    "            else:\n",
    "                youtube_data = youtube_data_by_id[video_id]\n",
    "                youtube_share_data = data.copy()\n",
    "                del youtube_share_data[\"domain\"]\n",
    "                youtube_share_data[\"video_title\"] = youtube_data[\"snippet\"][\"title\"]\n",
    "                youtube_share_data[\"video_description\"] = youtube_data[\"snippet\"][\"description\"]\n",
    "                youtube_share_data[\"channel_title\"] = youtube_data[\"snippet\"][\"channelTitle\"]\n",
    "                youtube_share_data[\"channel_id\"] = youtube_data[\"snippet\"][\"channelId\"]\n",
    "                youtube_share_data[\"published_at\"] = youtube_data[\"snippet\"][\"publishedAt\"]\n",
    "                youtube_map_with_shares[video_id] = youtube_share_data\n",
    "        else:\n",
    "            missing_youtube_ids.add(video_id)\n",
    "\n",
    "print(\"Missing data\", len(missing_youtube_ids))"
   ]
  },
  {
   "cell_type": "code",
   "execution_count": 14,
   "metadata": {},
   "outputs": [],
   "source": [
    "df_hashtag = pd.DataFrame.from_dict(content_shares_by_cluster[\"hashtag\"]).T.sort_values(\"retweet_count\", ascending=False).rename(columns=rename_dict)[media_share_cols]\n",
    "df_url = pd.DataFrame.from_dict(url_map_with_shares).T.sort_values(\"retweet_count\", ascending=False).rename(columns=rename_dict)[url_cols]\n",
    "df_youtube = pd.DataFrame.from_dict(youtube_map_with_shares).T.sort_values(\"retweet_count\", ascending=False).rename(columns=rename_dict)[youtube_cols]"
   ]
  },
  {
   "cell_type": "code",
   "execution_count": 15,
   "metadata": {},
   "outputs": [
    {
     "output_type": "execute_result",
     "data": {
      "text/plain": [
       "                                                                  domain  \\\n",
       "https://www.foxnews.com/opinion/tucker-carlson-...           foxnews.com   \n",
       "https://www.legislationline.org/download/id/147...   legislationline.org   \n",
       "https://www.houstonchronicle.com/politics/texas...  houstonchronicle.com   \n",
       "https://nypost.com/2020/11/11/usps-whistleblowe...            nypost.com   \n",
       "https://thetexan.news/limestone-county-individu...         thetexan.news   \n",
       "\n",
       "                                                   tweet_count  \\\n",
       "https://www.foxnews.com/opinion/tucker-carlson-...         264   \n",
       "https://www.legislationline.org/download/id/147...         148   \n",
       "https://www.houstonchronicle.com/politics/texas...          56   \n",
       "https://nypost.com/2020/11/11/usps-whistleblowe...          85   \n",
       "https://thetexan.news/limestone-county-individu...         280   \n",
       "\n",
       "                                                   retweet_count_metadata  \\\n",
       "https://www.foxnews.com/opinion/tucker-carlson-...                  41078   \n",
       "https://www.legislationline.org/download/id/147...                  19221   \n",
       "https://www.houstonchronicle.com/politics/texas...                  16627   \n",
       "https://nypost.com/2020/11/11/usps-whistleblowe...                  15297   \n",
       "https://thetexan.news/limestone-county-individu...                  14525   \n",
       "\n",
       "                                                   quote_count_metadata  \\\n",
       "https://www.foxnews.com/opinion/tucker-carlson-...                 6543   \n",
       "https://www.legislationline.org/download/id/147...                 1973   \n",
       "https://www.houstonchronicle.com/politics/texas...                 2602   \n",
       "https://nypost.com/2020/11/11/usps-whistleblowe...                  983   \n",
       "https://thetexan.news/limestone-county-individu...                 1459   \n",
       "\n",
       "                                                   tweet_count_by_community_0  \\\n",
       "https://www.foxnews.com/opinion/tucker-carlson-...                         14   \n",
       "https://www.legislationline.org/download/id/147...                          0   \n",
       "https://www.houstonchronicle.com/politics/texas...                         13   \n",
       "https://nypost.com/2020/11/11/usps-whistleblowe...                          3   \n",
       "https://thetexan.news/limestone-county-individu...                          2   \n",
       "\n",
       "                                                   retweet_count_by_community_0  \\\n",
       "https://www.foxnews.com/opinion/tucker-carlson-...                           61   \n",
       "https://www.legislationline.org/download/id/147...                           24   \n",
       "https://www.houstonchronicle.com/politics/texas...                          103   \n",
       "https://nypost.com/2020/11/11/usps-whistleblowe...                           13   \n",
       "https://thetexan.news/limestone-county-individu...                           13   \n",
       "\n",
       "                                                   quote_count_by_community_0  \\\n",
       "https://www.foxnews.com/opinion/tucker-carlson-...                        401   \n",
       "https://www.legislationline.org/download/id/147...                         92   \n",
       "https://www.houstonchronicle.com/politics/texas...                        272   \n",
       "https://nypost.com/2020/11/11/usps-whistleblowe...                         23   \n",
       "https://thetexan.news/limestone-county-individu...                         21   \n",
       "\n",
       "                                                   tweet_count_by_community_1  \\\n",
       "https://www.foxnews.com/opinion/tucker-carlson-...                         27   \n",
       "https://www.legislationline.org/download/id/147...                         30   \n",
       "https://www.houstonchronicle.com/politics/texas...                          8   \n",
       "https://nypost.com/2020/11/11/usps-whistleblowe...                         11   \n",
       "https://thetexan.news/limestone-county-individu...                         41   \n",
       "\n",
       "                                                   retweet_count_by_community_1  \\\n",
       "https://www.foxnews.com/opinion/tucker-carlson-...                         3250   \n",
       "https://www.legislationline.org/download/id/147...                         2021   \n",
       "https://www.houstonchronicle.com/politics/texas...                         1037   \n",
       "https://nypost.com/2020/11/11/usps-whistleblowe...                          648   \n",
       "https://thetexan.news/limestone-county-individu...                         1368   \n",
       "\n",
       "                                                   quote_count_by_community_1  \\\n",
       "https://www.foxnews.com/opinion/tucker-carlson-...                        264   \n",
       "https://www.legislationline.org/download/id/147...                        161   \n",
       "https://www.houstonchronicle.com/politics/texas...                         77   \n",
       "https://nypost.com/2020/11/11/usps-whistleblowe...                         36   \n",
       "https://thetexan.news/limestone-county-individu...                        109   \n",
       "\n",
       "                                                    ...  \\\n",
       "https://www.foxnews.com/opinion/tucker-carlson-...  ...   \n",
       "https://www.legislationline.org/download/id/147...  ...   \n",
       "https://www.houstonchronicle.com/politics/texas...  ...   \n",
       "https://nypost.com/2020/11/11/usps-whistleblowe...  ...   \n",
       "https://thetexan.news/limestone-county-individu...  ...   \n",
       "\n",
       "                                                   quote_count_by_community_2  \\\n",
       "https://www.foxnews.com/opinion/tucker-carlson-...                        966   \n",
       "https://www.legislationline.org/download/id/147...                        509   \n",
       "https://www.houstonchronicle.com/politics/texas...                        345   \n",
       "https://nypost.com/2020/11/11/usps-whistleblowe...                        224   \n",
       "https://thetexan.news/limestone-county-individu...                        419   \n",
       "\n",
       "                                                   tweet_count_by_community_3  \\\n",
       "https://www.foxnews.com/opinion/tucker-carlson-...                          4   \n",
       "https://www.legislationline.org/download/id/147...                          0   \n",
       "https://www.houstonchronicle.com/politics/texas...                          3   \n",
       "https://nypost.com/2020/11/11/usps-whistleblowe...                          0   \n",
       "https://thetexan.news/limestone-county-individu...                          0   \n",
       "\n",
       "                                                   retweet_count_by_community_3  \\\n",
       "https://www.foxnews.com/opinion/tucker-carlson-...                          345   \n",
       "https://www.legislationline.org/download/id/147...                           25   \n",
       "https://www.houstonchronicle.com/politics/texas...                           74   \n",
       "https://nypost.com/2020/11/11/usps-whistleblowe...                           35   \n",
       "https://thetexan.news/limestone-county-individu...                           17   \n",
       "\n",
       "                                                   quote_count_by_community_3  \\\n",
       "https://www.foxnews.com/opinion/tucker-carlson-...                         39   \n",
       "https://www.legislationline.org/download/id/147...                          2   \n",
       "https://www.houstonchronicle.com/politics/texas...                         15   \n",
       "https://nypost.com/2020/11/11/usps-whistleblowe...                          1   \n",
       "https://thetexan.news/limestone-county-individu...                          3   \n",
       "\n",
       "                                                   tweet_count_by_community_4  \\\n",
       "https://www.foxnews.com/opinion/tucker-carlson-...                          8   \n",
       "https://www.legislationline.org/download/id/147...                          0   \n",
       "https://www.houstonchronicle.com/politics/texas...                          0   \n",
       "https://nypost.com/2020/11/11/usps-whistleblowe...                          0   \n",
       "https://thetexan.news/limestone-county-individu...                          1   \n",
       "\n",
       "                                                   retweet_count_by_community_4  \\\n",
       "https://www.foxnews.com/opinion/tucker-carlson-...                          483   \n",
       "https://www.legislationline.org/download/id/147...                          119   \n",
       "https://www.houstonchronicle.com/politics/texas...                           67   \n",
       "https://nypost.com/2020/11/11/usps-whistleblowe...                           41   \n",
       "https://thetexan.news/limestone-county-individu...                          102   \n",
       "\n",
       "                                                   quote_count_by_community_4  \\\n",
       "https://www.foxnews.com/opinion/tucker-carlson-...                         34   \n",
       "https://www.legislationline.org/download/id/147...                          8   \n",
       "https://www.houstonchronicle.com/politics/texas...                          4   \n",
       "https://nypost.com/2020/11/11/usps-whistleblowe...                          1   \n",
       "https://thetexan.news/limestone-county-individu...                          6   \n",
       "\n",
       "                                                   tweet_count_by_suspended_users  \\\n",
       "https://www.foxnews.com/opinion/tucker-carlson-...                             62   \n",
       "https://www.legislationline.org/download/id/147...                             26   \n",
       "https://www.houstonchronicle.com/politics/texas...                              3   \n",
       "https://nypost.com/2020/11/11/usps-whistleblowe...                             12   \n",
       "https://thetexan.news/limestone-county-individu...                             30   \n",
       "\n",
       "                                                   retweet_count_by_suspended_users  \\\n",
       "https://www.foxnews.com/opinion/tucker-carlson-...                             2555   \n",
       "https://www.legislationline.org/download/id/147...                             1793   \n",
       "https://www.houstonchronicle.com/politics/texas...                             1425   \n",
       "https://nypost.com/2020/11/11/usps-whistleblowe...                             1124   \n",
       "https://thetexan.news/limestone-county-individu...                             1385   \n",
       "\n",
       "                                                   quote_count_by_suspended_users  \n",
       "https://www.foxnews.com/opinion/tucker-carlson-...                            305  \n",
       "https://www.legislationline.org/download/id/147...                            139  \n",
       "https://www.houstonchronicle.com/politics/texas...                            106  \n",
       "https://nypost.com/2020/11/11/usps-whistleblowe...                             69  \n",
       "https://thetexan.news/limestone-county-individu...                            138  \n",
       "\n",
       "[5 rows x 22 columns]"
      ],
      "text/html": "<div>\n<style scoped>\n    .dataframe tbody tr th:only-of-type {\n        vertical-align: middle;\n    }\n\n    .dataframe tbody tr th {\n        vertical-align: top;\n    }\n\n    .dataframe thead th {\n        text-align: right;\n    }\n</style>\n<table border=\"1\" class=\"dataframe\">\n  <thead>\n    <tr style=\"text-align: right;\">\n      <th></th>\n      <th>domain</th>\n      <th>tweet_count</th>\n      <th>retweet_count_metadata</th>\n      <th>quote_count_metadata</th>\n      <th>tweet_count_by_community_0</th>\n      <th>retweet_count_by_community_0</th>\n      <th>quote_count_by_community_0</th>\n      <th>tweet_count_by_community_1</th>\n      <th>retweet_count_by_community_1</th>\n      <th>quote_count_by_community_1</th>\n      <th>...</th>\n      <th>quote_count_by_community_2</th>\n      <th>tweet_count_by_community_3</th>\n      <th>retweet_count_by_community_3</th>\n      <th>quote_count_by_community_3</th>\n      <th>tweet_count_by_community_4</th>\n      <th>retweet_count_by_community_4</th>\n      <th>quote_count_by_community_4</th>\n      <th>tweet_count_by_suspended_users</th>\n      <th>retweet_count_by_suspended_users</th>\n      <th>quote_count_by_suspended_users</th>\n    </tr>\n  </thead>\n  <tbody>\n    <tr>\n      <th>https://www.foxnews.com/opinion/tucker-carlson-2020-presidential-election-voter-fraud-dead-voters.amp</th>\n      <td>foxnews.com</td>\n      <td>264</td>\n      <td>41078</td>\n      <td>6543</td>\n      <td>14</td>\n      <td>61</td>\n      <td>401</td>\n      <td>27</td>\n      <td>3250</td>\n      <td>264</td>\n      <td>...</td>\n      <td>966</td>\n      <td>4</td>\n      <td>345</td>\n      <td>39</td>\n      <td>8</td>\n      <td>483</td>\n      <td>34</td>\n      <td>62</td>\n      <td>2555</td>\n      <td>305</td>\n    </tr>\n    <tr>\n      <th>https://www.legislationline.org/download/id/1472/file/3b50795b2d0374cbef5c29766256.pdf</th>\n      <td>legislationline.org</td>\n      <td>148</td>\n      <td>19221</td>\n      <td>1973</td>\n      <td>0</td>\n      <td>24</td>\n      <td>92</td>\n      <td>30</td>\n      <td>2021</td>\n      <td>161</td>\n      <td>...</td>\n      <td>509</td>\n      <td>0</td>\n      <td>25</td>\n      <td>2</td>\n      <td>0</td>\n      <td>119</td>\n      <td>8</td>\n      <td>26</td>\n      <td>1793</td>\n      <td>139</td>\n    </tr>\n    <tr>\n      <th>https://www.houstonchronicle.com/politics/texas/article/Texas-Lt-Gov-Dan-Patrick-offers-1-million-15716973.php?utm_campaign=CMS%20Sharing%20Tools%20(Premium)&amp;utm_source=t.co&amp;utm_medium=referral</th>\n      <td>houstonchronicle.com</td>\n      <td>56</td>\n      <td>16627</td>\n      <td>2602</td>\n      <td>13</td>\n      <td>103</td>\n      <td>272</td>\n      <td>8</td>\n      <td>1037</td>\n      <td>77</td>\n      <td>...</td>\n      <td>345</td>\n      <td>3</td>\n      <td>74</td>\n      <td>15</td>\n      <td>0</td>\n      <td>67</td>\n      <td>4</td>\n      <td>3</td>\n      <td>1425</td>\n      <td>106</td>\n    </tr>\n    <tr>\n      <th>https://nypost.com/2020/11/11/usps-whistleblower-denies-wapo-claim-he-recanted-allegations/?utm_source=twitter_sitebuttons&amp;utm_medium=site%20buttons&amp;utm_campaign=site%20buttons</th>\n      <td>nypost.com</td>\n      <td>85</td>\n      <td>15297</td>\n      <td>983</td>\n      <td>3</td>\n      <td>13</td>\n      <td>23</td>\n      <td>11</td>\n      <td>648</td>\n      <td>36</td>\n      <td>...</td>\n      <td>224</td>\n      <td>0</td>\n      <td>35</td>\n      <td>1</td>\n      <td>0</td>\n      <td>41</td>\n      <td>1</td>\n      <td>12</td>\n      <td>1124</td>\n      <td>69</td>\n    </tr>\n    <tr>\n      <th>https://thetexan.news/limestone-county-individual-charged-with-134-counts-of-voter-fraud-attorney-general-announces/</th>\n      <td>thetexan.news</td>\n      <td>280</td>\n      <td>14525</td>\n      <td>1459</td>\n      <td>2</td>\n      <td>13</td>\n      <td>21</td>\n      <td>41</td>\n      <td>1368</td>\n      <td>109</td>\n      <td>...</td>\n      <td>419</td>\n      <td>0</td>\n      <td>17</td>\n      <td>3</td>\n      <td>1</td>\n      <td>102</td>\n      <td>6</td>\n      <td>30</td>\n      <td>1385</td>\n      <td>138</td>\n    </tr>\n  </tbody>\n</table>\n<p>5 rows × 22 columns</p>\n</div>"
     },
     "metadata": {},
     "execution_count": 15
    }
   ],
   "source": [
    "df_url.head()"
   ]
  },
  {
   "cell_type": "code",
   "execution_count": 19,
   "metadata": {},
   "outputs": [],
   "source": [
    "df_youtube.to_csv(\"./data_export/final/youtube_videos.csv\", index_label=\"video_id\")\n",
    "df_hashtag.to_csv(\"./data_export/final/hashtags.csv\", index_label=\"hashtag\")\n",
    "df_url.to_csv(\"./data_export/final/urls.csv\", index_label=\"url\")"
   ]
  },
  {
   "cell_type": "code",
   "execution_count": 20,
   "metadata": {},
   "outputs": [],
   "source": [
    "df_youtube[:SAMPLE_SIZE].to_csv(\"./data_export/final/samples/youtube_videos-sample.csv\", index_label=\"video_id\")\n",
    "df_hashtag[:SAMPLE_SIZE].to_csv(\"./data_export/final/samples/hashtags-sample.csv\", index_label=\"hashtag\")\n",
    "df_url[:SAMPLE_SIZE].to_csv(\"./data_export/final/samples/urls-sample.csv\", index_label=\"url\")"
   ]
  },
  {
   "cell_type": "code",
   "execution_count": 21,
   "metadata": {},
   "outputs": [
    {
     "output_type": "stream",
     "name": "stdout",
     "text": [
      "<class 'pandas.core.frame.DataFrame'>\nIndex: 174604 entries, stopthesteal to fuckclinton\nData columns (total 21 columns):\n #   Column                            Non-Null Count   Dtype\n---  ------                            --------------   -----\n 0   tweet_count                       174604 non-null  int64\n 1   retweet_count_metadata            174604 non-null  int64\n 2   quote_count_metadata              174604 non-null  int64\n 3   tweet_count_by_community_0        174604 non-null  int64\n 4   retweet_count_by_community_0      174604 non-null  int64\n 5   quote_count_by_community_0        174604 non-null  int64\n 6   tweet_count_by_community_1        174604 non-null  int64\n 7   retweet_count_by_community_1      174604 non-null  int64\n 8   quote_count_by_community_1        174604 non-null  int64\n 9   tweet_count_by_community_2        174604 non-null  int64\n 10  retweet_count_by_community_2      174604 non-null  int64\n 11  quote_count_by_community_2        174604 non-null  int64\n 12  tweet_count_by_community_3        174604 non-null  int64\n 13  retweet_count_by_community_3      174604 non-null  int64\n 14  quote_count_by_community_3        174604 non-null  int64\n 15  tweet_count_by_community_4        174604 non-null  int64\n 16  retweet_count_by_community_4      174604 non-null  int64\n 17  quote_count_by_community_4        174604 non-null  int64\n 18  tweet_count_by_suspended_users    174604 non-null  int64\n 19  retweet_count_by_suspended_users  174604 non-null  int64\n 20  quote_count_by_suspended_users    174604 non-null  int64\ndtypes: int64(21)\nmemory usage: 29.3+ MB\nNone\n<class 'pandas.core.frame.DataFrame'>\nIndex: 138411 entries, https://www.foxnews.com/opinion/tucker-carlson-2020-presidential-election-voter-fraud-dead-voters.amp to https://www.americanthinker.com/blog/2020/11/project_veritas_reports_on_michigan_election_fraud.html#.X6Q6j0NCFro.twitter\nData columns (total 22 columns):\n #   Column                            Non-Null Count   Dtype \n---  ------                            --------------   ----- \n 0   domain                            138411 non-null  object\n 1   tweet_count                       138411 non-null  object\n 2   retweet_count_metadata            138411 non-null  object\n 3   quote_count_metadata              138411 non-null  object\n 4   tweet_count_by_community_0        138411 non-null  object\n 5   retweet_count_by_community_0      138411 non-null  object\n 6   quote_count_by_community_0        138411 non-null  object\n 7   tweet_count_by_community_1        138411 non-null  object\n 8   retweet_count_by_community_1      138411 non-null  object\n 9   quote_count_by_community_1        138411 non-null  object\n 10  tweet_count_by_community_2        138411 non-null  object\n 11  retweet_count_by_community_2      138411 non-null  object\n 12  quote_count_by_community_2        138411 non-null  object\n 13  tweet_count_by_community_3        138411 non-null  object\n 14  retweet_count_by_community_3      138411 non-null  object\n 15  quote_count_by_community_3        138411 non-null  object\n 16  tweet_count_by_community_4        138411 non-null  object\n 17  retweet_count_by_community_4      138411 non-null  object\n 18  quote_count_by_community_4        138411 non-null  object\n 19  tweet_count_by_suspended_users    138411 non-null  object\n 20  retweet_count_by_suspended_users  138411 non-null  object\n 21  quote_count_by_suspended_users    138411 non-null  object\ndtypes: object(22)\nmemory usage: 24.3+ MB\nNone\n<class 'pandas.core.frame.DataFrame'>\nIndex: 12002 entries, psGpIuNh_dU to xYhd5kLmmks\nData columns (total 26 columns):\n #   Column                            Non-Null Count  Dtype \n---  ------                            --------------  ----- \n 0   video_title                       12002 non-null  object\n 1   video_description                 12002 non-null  object\n 2   channel_id                        12002 non-null  object\n 3   channel_title                     12002 non-null  object\n 4   published_at                      12002 non-null  object\n 5   tweet_count                       12002 non-null  object\n 6   retweet_count_metadata            12002 non-null  object\n 7   quote_count_metadata              12002 non-null  object\n 8   tweet_count_by_community_0        12002 non-null  object\n 9   retweet_count_by_community_0      12002 non-null  object\n 10  quote_count_by_community_0        12002 non-null  object\n 11  tweet_count_by_community_1        12002 non-null  object\n 12  retweet_count_by_community_1      12002 non-null  object\n 13  quote_count_by_community_1        12002 non-null  object\n 14  tweet_count_by_community_2        12002 non-null  object\n 15  retweet_count_by_community_2      12002 non-null  object\n 16  quote_count_by_community_2        12002 non-null  object\n 17  tweet_count_by_community_3        12002 non-null  object\n 18  retweet_count_by_community_3      12002 non-null  object\n 19  quote_count_by_community_3        12002 non-null  object\n 20  tweet_count_by_community_4        12002 non-null  object\n 21  retweet_count_by_community_4      12002 non-null  object\n 22  quote_count_by_community_4        12002 non-null  object\n 23  tweet_count_by_suspended_users    12002 non-null  object\n 24  retweet_count_by_suspended_users  12002 non-null  object\n 25  quote_count_by_suspended_users    12002 non-null  object\ndtypes: object(26)\nmemory usage: 2.5+ MB\nNone\n"
     ]
    }
   ],
   "source": [
    "print(df_hashtag.info())\n",
    "print(df_url.info())\n",
    "print(df_youtube.info())"
   ]
  },
  {
   "cell_type": "code",
   "execution_count": 36,
   "metadata": {},
   "outputs": [
    {
     "output_type": "execute_result",
     "data": {
      "text/plain": [
       "                                                   tweet_count quote_count  \\\n",
       "https://www.youtube.com/watch?v=psGpIuNh_dU                  8        1288   \n",
       "http://www.gand.uscourts.gov/news/notice-audio-...          27         615   \n",
       "https://trulytimes.com/election-supervisor-show...           8         683   \n",
       "https://www.nytimes.com/2012/10/07/us/politics/...         105         834   \n",
       "https://www.foxnews.com/opinion/tucker-carlson-...         264        6543   \n",
       "https://www.theepochtimes.com/pennsylvania-hous...           2         575   \n",
       "https://www.thegatewaypundit.com/2020/11/michig...         249        1044   \n",
       "https://www.legislationline.org/download/id/147...         148        1973   \n",
       "https://columbusfreepress.com/article/scytl-has...         158         439   \n",
       "https://thedcpatriot.com/report-were-casino-add...           4         233   \n",
       "\n",
       "                                                   retweet_count  \\\n",
       "https://www.youtube.com/watch?v=psGpIuNh_dU                11827   \n",
       "http://www.gand.uscourts.gov/news/notice-audio-...          8658   \n",
       "https://trulytimes.com/election-supervisor-show...          9658   \n",
       "https://www.nytimes.com/2012/10/07/us/politics/...         12193   \n",
       "https://www.foxnews.com/opinion/tucker-carlson-...         41078   \n",
       "https://www.theepochtimes.com/pennsylvania-hous...          8275   \n",
       "https://www.thegatewaypundit.com/2020/11/michig...          7721   \n",
       "https://www.legislationline.org/download/id/147...         19221   \n",
       "https://columbusfreepress.com/article/scytl-has...          6397   \n",
       "https://thedcpatriot.com/report-were-casino-add...          4951   \n",
       "\n",
       "                                                   retweets_by_suspended  \\\n",
       "https://www.youtube.com/watch?v=psGpIuNh_dU                         3505   \n",
       "http://www.gand.uscourts.gov/news/notice-audio-...                  2690   \n",
       "https://trulytimes.com/election-supervisor-show...                  2677   \n",
       "https://www.nytimes.com/2012/10/07/us/politics/...                  2562   \n",
       "https://www.foxnews.com/opinion/tucker-carlson-...                  2555   \n",
       "https://www.theepochtimes.com/pennsylvania-hous...                  2507   \n",
       "https://www.thegatewaypundit.com/2020/11/michig...                  2020   \n",
       "https://www.legislationline.org/download/id/147...                  1793   \n",
       "https://columbusfreepress.com/article/scytl-has...                  1773   \n",
       "https://thedcpatriot.com/report-were-casino-add...                  1714   \n",
       "\n",
       "                                                   quotes_by_suspended  \\\n",
       "https://www.youtube.com/watch?v=psGpIuNh_dU                        398   \n",
       "http://www.gand.uscourts.gov/news/notice-audio-...                 143   \n",
       "https://trulytimes.com/election-supervisor-show...                 168   \n",
       "https://www.nytimes.com/2012/10/07/us/politics/...                 143   \n",
       "https://www.foxnews.com/opinion/tucker-carlson-...                 305   \n",
       "https://www.theepochtimes.com/pennsylvania-hous...                 154   \n",
       "https://www.thegatewaypundit.com/2020/11/michig...                 300   \n",
       "https://www.legislationline.org/download/id/147...                 139   \n",
       "https://columbusfreepress.com/article/scytl-has...                 139   \n",
       "https://thedcpatriot.com/report-were-casino-add...                  77   \n",
       "\n",
       "                                                   tweets_by_suspended  \\\n",
       "https://www.youtube.com/watch?v=psGpIuNh_dU                          2   \n",
       "http://www.gand.uscourts.gov/news/notice-audio-...                  14   \n",
       "https://trulytimes.com/election-supervisor-show...                   1   \n",
       "https://www.nytimes.com/2012/10/07/us/politics/...                  13   \n",
       "https://www.foxnews.com/opinion/tucker-carlson-...                  62   \n",
       "https://www.theepochtimes.com/pennsylvania-hous...                   2   \n",
       "https://www.thegatewaypundit.com/2020/11/michig...                  84   \n",
       "https://www.legislationline.org/download/id/147...                  26   \n",
       "https://columbusfreepress.com/article/scytl-has...                  47   \n",
       "https://thedcpatriot.com/report-were-casino-add...                   3   \n",
       "\n",
       "                                                   quotes_crawled  \\\n",
       "https://www.youtube.com/watch?v=psGpIuNh_dU                  1386   \n",
       "http://www.gand.uscourts.gov/news/notice-audio-...            620   \n",
       "https://trulytimes.com/election-supervisor-show...            655   \n",
       "https://www.nytimes.com/2012/10/07/us/politics/...            748   \n",
       "https://www.foxnews.com/opinion/tucker-carlson-...           2641   \n",
       "https://www.theepochtimes.com/pennsylvania-hous...            550   \n",
       "https://www.thegatewaypundit.com/2020/11/michig...            972   \n",
       "https://www.legislationline.org/download/id/147...           1024   \n",
       "https://columbusfreepress.com/article/scytl-has...            389   \n",
       "https://thedcpatriot.com/report-were-casino-add...            228   \n",
       "\n",
       "                                                   retweets_crawled  \\\n",
       "https://www.youtube.com/watch?v=psGpIuNh_dU                   10827   \n",
       "http://www.gand.uscourts.gov/news/notice-audio-...             8224   \n",
       "https://trulytimes.com/election-supervisor-show...             8835   \n",
       "https://www.nytimes.com/2012/10/07/us/politics/...             9956   \n",
       "https://www.foxnews.com/opinion/tucker-carlson-...            15021   \n",
       "https://www.theepochtimes.com/pennsylvania-hous...             7679   \n",
       "https://www.thegatewaypundit.com/2020/11/michig...             6790   \n",
       "https://www.legislationline.org/download/id/147...             9747   \n",
       "https://columbusfreepress.com/article/scytl-has...             5046   \n",
       "https://thedcpatriot.com/report-were-casino-add...             4599   \n",
       "\n",
       "                                                   retweets_by_cluster_0  \\\n",
       "https://www.youtube.com/watch?v=psGpIuNh_dU                            5   \n",
       "http://www.gand.uscourts.gov/news/notice-audio-...                     2   \n",
       "https://trulytimes.com/election-supervisor-show...                     4   \n",
       "https://www.nytimes.com/2012/10/07/us/politics/...                    24   \n",
       "https://www.foxnews.com/opinion/tucker-carlson-...                    61   \n",
       "https://www.theepochtimes.com/pennsylvania-hous...                     3   \n",
       "https://www.thegatewaypundit.com/2020/11/michig...                     4   \n",
       "https://www.legislationline.org/download/id/147...                    24   \n",
       "https://columbusfreepress.com/article/scytl-has...                     3   \n",
       "https://thedcpatriot.com/report-were-casino-add...                     1   \n",
       "\n",
       "                                                   retweets_by_cluster_1  ...  \\\n",
       "https://www.youtube.com/watch?v=psGpIuNh_dU                          544  ...   \n",
       "http://www.gand.uscourts.gov/news/notice-audio-...                   410  ...   \n",
       "https://trulytimes.com/election-supervisor-show...                   676  ...   \n",
       "https://www.nytimes.com/2012/10/07/us/politics/...                  1205  ...   \n",
       "https://www.foxnews.com/opinion/tucker-carlson-...                  3250  ...   \n",
       "https://www.theepochtimes.com/pennsylvania-hous...                   353  ...   \n",
       "https://www.thegatewaypundit.com/2020/11/michig...                   172  ...   \n",
       "https://www.legislationline.org/download/id/147...                  2021  ...   \n",
       "https://columbusfreepress.com/article/scytl-has...                   185  ...   \n",
       "https://thedcpatriot.com/report-were-casino-add...                   116  ...   \n",
       "\n",
       "                                                   quotes_by_cluster_1  \\\n",
       "https://www.youtube.com/watch?v=psGpIuNh_dU                        146   \n",
       "http://www.gand.uscourts.gov/news/notice-audio-...                  72   \n",
       "https://trulytimes.com/election-supervisor-show...                  85   \n",
       "https://www.nytimes.com/2012/10/07/us/politics/...                  92   \n",
       "https://www.foxnews.com/opinion/tucker-carlson-...                 264   \n",
       "https://www.theepochtimes.com/pennsylvania-hous...                  53   \n",
       "https://www.thegatewaypundit.com/2020/11/michig...                  45   \n",
       "https://www.legislationline.org/download/id/147...                 161   \n",
       "https://columbusfreepress.com/article/scytl-has...                  28   \n",
       "https://thedcpatriot.com/report-were-casino-add...                  30   \n",
       "\n",
       "                                                   quotes_by_cluster_2  \\\n",
       "https://www.youtube.com/watch?v=psGpIuNh_dU                       1109   \n",
       "http://www.gand.uscourts.gov/news/notice-audio-...                 467   \n",
       "https://trulytimes.com/election-supervisor-show...                 473   \n",
       "https://www.nytimes.com/2012/10/07/us/politics/...                 464   \n",
       "https://www.foxnews.com/opinion/tucker-carlson-...                 966   \n",
       "https://www.theepochtimes.com/pennsylvania-hous...                 423   \n",
       "https://www.thegatewaypundit.com/2020/11/michig...                 856   \n",
       "https://www.legislationline.org/download/id/147...                 509   \n",
       "https://columbusfreepress.com/article/scytl-has...                 320   \n",
       "https://thedcpatriot.com/report-were-casino-add...                 168   \n",
       "\n",
       "                                                   quotes_by_cluster_3  \\\n",
       "https://www.youtube.com/watch?v=psGpIuNh_dU                          5   \n",
       "http://www.gand.uscourts.gov/news/notice-audio-...                   7   \n",
       "https://trulytimes.com/election-supervisor-show...                   4   \n",
       "https://www.nytimes.com/2012/10/07/us/politics/...                   8   \n",
       "https://www.foxnews.com/opinion/tucker-carlson-...                  39   \n",
       "https://www.theepochtimes.com/pennsylvania-hous...                   5   \n",
       "https://www.thegatewaypundit.com/2020/11/michig...                   0   \n",
       "https://www.legislationline.org/download/id/147...                   2   \n",
       "https://columbusfreepress.com/article/scytl-has...                   4   \n",
       "https://thedcpatriot.com/report-were-casino-add...                   3   \n",
       "\n",
       "                                                   quotes_by_cluster_4  \\\n",
       "https://www.youtube.com/watch?v=psGpIuNh_dU                          5   \n",
       "http://www.gand.uscourts.gov/news/notice-audio-...                   1   \n",
       "https://trulytimes.com/election-supervisor-show...                   1   \n",
       "https://www.nytimes.com/2012/10/07/us/politics/...                   3   \n",
       "https://www.foxnews.com/opinion/tucker-carlson-...                  34   \n",
       "https://www.theepochtimes.com/pennsylvania-hous...                   2   \n",
       "https://www.thegatewaypundit.com/2020/11/michig...                   1   \n",
       "https://www.legislationline.org/download/id/147...                   8   \n",
       "https://columbusfreepress.com/article/scytl-has...                   1   \n",
       "https://thedcpatriot.com/report-were-casino-add...                   4   \n",
       "\n",
       "                                                   tweets_by_cluster_0  \\\n",
       "https://www.youtube.com/watch?v=psGpIuNh_dU                          0   \n",
       "http://www.gand.uscourts.gov/news/notice-audio-...                   0   \n",
       "https://trulytimes.com/election-supervisor-show...                   0   \n",
       "https://www.nytimes.com/2012/10/07/us/politics/...                   1   \n",
       "https://www.foxnews.com/opinion/tucker-carlson-...                  14   \n",
       "https://www.theepochtimes.com/pennsylvania-hous...                   0   \n",
       "https://www.thegatewaypundit.com/2020/11/michig...                   0   \n",
       "https://www.legislationline.org/download/id/147...                   0   \n",
       "https://columbusfreepress.com/article/scytl-has...                   0   \n",
       "https://thedcpatriot.com/report-were-casino-add...                   0   \n",
       "\n",
       "                                                   tweets_by_cluster_1  \\\n",
       "https://www.youtube.com/watch?v=psGpIuNh_dU                          3   \n",
       "http://www.gand.uscourts.gov/news/notice-audio-...                   2   \n",
       "https://trulytimes.com/election-supervisor-show...                   1   \n",
       "https://www.nytimes.com/2012/10/07/us/politics/...                  24   \n",
       "https://www.foxnews.com/opinion/tucker-carlson-...                  27   \n",
       "https://www.theepochtimes.com/pennsylvania-hous...                   1   \n",
       "https://www.thegatewaypundit.com/2020/11/michig...                  12   \n",
       "https://www.legislationline.org/download/id/147...                  30   \n",
       "https://columbusfreepress.com/article/scytl-has...                  14   \n",
       "https://thedcpatriot.com/report-were-casino-add...                   1   \n",
       "\n",
       "                                                   tweets_by_cluster_2  \\\n",
       "https://www.youtube.com/watch?v=psGpIuNh_dU                          3   \n",
       "http://www.gand.uscourts.gov/news/notice-audio-...                  24   \n",
       "https://trulytimes.com/election-supervisor-show...                   4   \n",
       "https://www.nytimes.com/2012/10/07/us/politics/...                  48   \n",
       "https://www.foxnews.com/opinion/tucker-carlson-...                  93   \n",
       "https://www.theepochtimes.com/pennsylvania-hous...                   0   \n",
       "https://www.thegatewaypundit.com/2020/11/michig...                 217   \n",
       "https://www.legislationline.org/download/id/147...                  73   \n",
       "https://columbusfreepress.com/article/scytl-has...                 123   \n",
       "https://thedcpatriot.com/report-were-casino-add...                   2   \n",
       "\n",
       "                                                   tweets_by_cluster_3  \\\n",
       "https://www.youtube.com/watch?v=psGpIuNh_dU                          0   \n",
       "http://www.gand.uscourts.gov/news/notice-audio-...                   1   \n",
       "https://trulytimes.com/election-supervisor-show...                   0   \n",
       "https://www.nytimes.com/2012/10/07/us/politics/...                   2   \n",
       "https://www.foxnews.com/opinion/tucker-carlson-...                   4   \n",
       "https://www.theepochtimes.com/pennsylvania-hous...                   0   \n",
       "https://www.thegatewaypundit.com/2020/11/michig...                   1   \n",
       "https://www.legislationline.org/download/id/147...                   0   \n",
       "https://columbusfreepress.com/article/scytl-has...                   1   \n",
       "https://thedcpatriot.com/report-were-casino-add...                   1   \n",
       "\n",
       "                                                   tweets_by_cluster_4  \\\n",
       "https://www.youtube.com/watch?v=psGpIuNh_dU                          0   \n",
       "http://www.gand.uscourts.gov/news/notice-audio-...                   0   \n",
       "https://trulytimes.com/election-supervisor-show...                   0   \n",
       "https://www.nytimes.com/2012/10/07/us/politics/...                   0   \n",
       "https://www.foxnews.com/opinion/tucker-carlson-...                   8   \n",
       "https://www.theepochtimes.com/pennsylvania-hous...                   0   \n",
       "https://www.thegatewaypundit.com/2020/11/michig...                   0   \n",
       "https://www.legislationline.org/download/id/147...                   0   \n",
       "https://columbusfreepress.com/article/scytl-has...                   2   \n",
       "https://thedcpatriot.com/report-were-casino-add...                   0   \n",
       "\n",
       "                                                                   domain  \n",
       "https://www.youtube.com/watch?v=psGpIuNh_dU                   youtube.com  \n",
       "http://www.gand.uscourts.gov/news/notice-audio-...      gand.uscourts.gov  \n",
       "https://trulytimes.com/election-supervisor-show...         trulytimes.com  \n",
       "https://www.nytimes.com/2012/10/07/us/politics/...            nytimes.com  \n",
       "https://www.foxnews.com/opinion/tucker-carlson-...            foxnews.com  \n",
       "https://www.theepochtimes.com/pennsylvania-hous...      theepochtimes.com  \n",
       "https://www.thegatewaypundit.com/2020/11/michig...   thegatewaypundit.com  \n",
       "https://www.legislationline.org/download/id/147...    legislationline.org  \n",
       "https://columbusfreepress.com/article/scytl-has...  columbusfreepress.com  \n",
       "https://thedcpatriot.com/report-were-casino-add...       thedcpatriot.com  \n",
       "\n",
       "[10 rows x 24 columns]"
      ],
      "text/html": "<div>\n<style scoped>\n    .dataframe tbody tr th:only-of-type {\n        vertical-align: middle;\n    }\n\n    .dataframe tbody tr th {\n        vertical-align: top;\n    }\n\n    .dataframe thead th {\n        text-align: right;\n    }\n</style>\n<table border=\"1\" class=\"dataframe\">\n  <thead>\n    <tr style=\"text-align: right;\">\n      <th></th>\n      <th>tweet_count</th>\n      <th>quote_count</th>\n      <th>retweet_count</th>\n      <th>retweets_by_suspended</th>\n      <th>quotes_by_suspended</th>\n      <th>tweets_by_suspended</th>\n      <th>quotes_crawled</th>\n      <th>retweets_crawled</th>\n      <th>retweets_by_cluster_0</th>\n      <th>retweets_by_cluster_1</th>\n      <th>...</th>\n      <th>quotes_by_cluster_1</th>\n      <th>quotes_by_cluster_2</th>\n      <th>quotes_by_cluster_3</th>\n      <th>quotes_by_cluster_4</th>\n      <th>tweets_by_cluster_0</th>\n      <th>tweets_by_cluster_1</th>\n      <th>tweets_by_cluster_2</th>\n      <th>tweets_by_cluster_3</th>\n      <th>tweets_by_cluster_4</th>\n      <th>domain</th>\n    </tr>\n  </thead>\n  <tbody>\n    <tr>\n      <th>https://www.youtube.com/watch?v=psGpIuNh_dU</th>\n      <td>8</td>\n      <td>1288</td>\n      <td>11827</td>\n      <td>3505</td>\n      <td>398</td>\n      <td>2</td>\n      <td>1386</td>\n      <td>10827</td>\n      <td>5</td>\n      <td>544</td>\n      <td>...</td>\n      <td>146</td>\n      <td>1109</td>\n      <td>5</td>\n      <td>5</td>\n      <td>0</td>\n      <td>3</td>\n      <td>3</td>\n      <td>0</td>\n      <td>0</td>\n      <td>youtube.com</td>\n    </tr>\n    <tr>\n      <th>http://www.gand.uscourts.gov/news/notice-audio-streaming-court-proceeding-pearson-et-al-v-kemp-et-al</th>\n      <td>27</td>\n      <td>615</td>\n      <td>8658</td>\n      <td>2690</td>\n      <td>143</td>\n      <td>14</td>\n      <td>620</td>\n      <td>8224</td>\n      <td>2</td>\n      <td>410</td>\n      <td>...</td>\n      <td>72</td>\n      <td>467</td>\n      <td>7</td>\n      <td>1</td>\n      <td>0</td>\n      <td>2</td>\n      <td>24</td>\n      <td>1</td>\n      <td>0</td>\n      <td>gand.uscourts.gov</td>\n    </tr>\n    <tr>\n      <th>https://trulytimes.com/election-supervisor-shows-on-video-how-dominion-software-allows-changing-adding-votes.html?amp=1</th>\n      <td>8</td>\n      <td>683</td>\n      <td>9658</td>\n      <td>2677</td>\n      <td>168</td>\n      <td>1</td>\n      <td>655</td>\n      <td>8835</td>\n      <td>4</td>\n      <td>676</td>\n      <td>...</td>\n      <td>85</td>\n      <td>473</td>\n      <td>4</td>\n      <td>1</td>\n      <td>0</td>\n      <td>1</td>\n      <td>4</td>\n      <td>0</td>\n      <td>0</td>\n      <td>trulytimes.com</td>\n    </tr>\n    <tr>\n      <th>https://www.nytimes.com/2012/10/07/us/politics/as-more-vote-by-mail-faulty-ballots-could-impact-elections.html</th>\n      <td>105</td>\n      <td>834</td>\n      <td>12193</td>\n      <td>2562</td>\n      <td>143</td>\n      <td>13</td>\n      <td>748</td>\n      <td>9956</td>\n      <td>24</td>\n      <td>1205</td>\n      <td>...</td>\n      <td>92</td>\n      <td>464</td>\n      <td>8</td>\n      <td>3</td>\n      <td>1</td>\n      <td>24</td>\n      <td>48</td>\n      <td>2</td>\n      <td>0</td>\n      <td>nytimes.com</td>\n    </tr>\n    <tr>\n      <th>https://www.foxnews.com/opinion/tucker-carlson-2020-presidential-election-voter-fraud-dead-voters.amp</th>\n      <td>264</td>\n      <td>6543</td>\n      <td>41078</td>\n      <td>2555</td>\n      <td>305</td>\n      <td>62</td>\n      <td>2641</td>\n      <td>15021</td>\n      <td>61</td>\n      <td>3250</td>\n      <td>...</td>\n      <td>264</td>\n      <td>966</td>\n      <td>39</td>\n      <td>34</td>\n      <td>14</td>\n      <td>27</td>\n      <td>93</td>\n      <td>4</td>\n      <td>8</td>\n      <td>foxnews.com</td>\n    </tr>\n    <tr>\n      <th>https://www.theepochtimes.com/pennsylvania-house-leaders-file-brief-to-support-texas-in-supreme-court-lawsuit-against-pennsylvania_3613557.html</th>\n      <td>2</td>\n      <td>575</td>\n      <td>8275</td>\n      <td>2507</td>\n      <td>154</td>\n      <td>2</td>\n      <td>550</td>\n      <td>7679</td>\n      <td>3</td>\n      <td>353</td>\n      <td>...</td>\n      <td>53</td>\n      <td>423</td>\n      <td>5</td>\n      <td>2</td>\n      <td>0</td>\n      <td>1</td>\n      <td>0</td>\n      <td>0</td>\n      <td>0</td>\n      <td>theepochtimes.com</td>\n    </tr>\n    <tr>\n      <th>https://www.thegatewaypundit.com/2020/11/michigan-judge-tossed-pro-trump-voter-fraud-suit-caught-releasing-child-molesters/?utm_source=Twitter&amp;utm_campaign=websitesharingbuttons</th>\n      <td>249</td>\n      <td>1044</td>\n      <td>7721</td>\n      <td>2020</td>\n      <td>300</td>\n      <td>84</td>\n      <td>972</td>\n      <td>6790</td>\n      <td>4</td>\n      <td>172</td>\n      <td>...</td>\n      <td>45</td>\n      <td>856</td>\n      <td>0</td>\n      <td>1</td>\n      <td>0</td>\n      <td>12</td>\n      <td>217</td>\n      <td>1</td>\n      <td>0</td>\n      <td>thegatewaypundit.com</td>\n    </tr>\n    <tr>\n      <th>https://www.legislationline.org/download/id/1472/file/3b50795b2d0374cbef5c29766256.pdf</th>\n      <td>148</td>\n      <td>1973</td>\n      <td>19221</td>\n      <td>1793</td>\n      <td>139</td>\n      <td>26</td>\n      <td>1024</td>\n      <td>9747</td>\n      <td>24</td>\n      <td>2021</td>\n      <td>...</td>\n      <td>161</td>\n      <td>509</td>\n      <td>2</td>\n      <td>8</td>\n      <td>0</td>\n      <td>30</td>\n      <td>73</td>\n      <td>0</td>\n      <td>0</td>\n      <td>legislationline.org</td>\n    </tr>\n    <tr>\n      <th>https://columbusfreepress.com/article/scytl-has-all-tools-it-needs-election-fraud</th>\n      <td>158</td>\n      <td>439</td>\n      <td>6397</td>\n      <td>1773</td>\n      <td>139</td>\n      <td>47</td>\n      <td>389</td>\n      <td>5046</td>\n      <td>3</td>\n      <td>185</td>\n      <td>...</td>\n      <td>28</td>\n      <td>320</td>\n      <td>4</td>\n      <td>1</td>\n      <td>0</td>\n      <td>14</td>\n      <td>123</td>\n      <td>1</td>\n      <td>2</td>\n      <td>columbusfreepress.com</td>\n    </tr>\n    <tr>\n      <th>https://thedcpatriot.com/report-were-casino-addresses-listed-as-residences-of-voters-in-nevada-of-course-they-were/</th>\n      <td>4</td>\n      <td>233</td>\n      <td>4951</td>\n      <td>1714</td>\n      <td>77</td>\n      <td>3</td>\n      <td>228</td>\n      <td>4599</td>\n      <td>1</td>\n      <td>116</td>\n      <td>...</td>\n      <td>30</td>\n      <td>168</td>\n      <td>3</td>\n      <td>4</td>\n      <td>0</td>\n      <td>1</td>\n      <td>2</td>\n      <td>1</td>\n      <td>0</td>\n      <td>thedcpatriot.com</td>\n    </tr>\n  </tbody>\n</table>\n<p>10 rows × 24 columns</p>\n</div>"
     },
     "metadata": {},
     "execution_count": 36
    }
   ],
   "source": [
    "df_url.sort_values(\"retweets_by_suspended\", ascending=False)[:10]"
   ]
  },
  {
   "cell_type": "code",
   "execution_count": 37,
   "metadata": {},
   "outputs": [
    {
     "output_type": "execute_result",
     "data": {
      "text/plain": [
       "                                                   video_title  \\\n",
       "psGpIuNh_dU  Articia Bomer Witnessed Dems Counting Spoiled ...   \n",
       "dB0h_50OfzA  Trump confidant: the president has all the pro...   \n",
       "VDf1j4IQz28  Bobby Piton testifies at AZ Election Fraud Hea...   \n",
       "Avy8eCHYd6I  11.13.20: D@Mini@n GOT CAUGHT! Amazing details...   \n",
       "fWLD-tL42kI  11.14.20: \"Release the KRAKEN\" says @SidneyPow...   \n",
       "KIlI46HdqKg  Smoking Gun: ES&S (Philly's Computer System) T...   \n",
       "VgMPDnWunqs  AG Barr releases memo on election fraud, DOJ o...   \n",
       "vb4zfltMBGg  11.24.20: This is about the SURVIVAL of the GR...   \n",
       "RGLHAs8kSJ8  12.4.20: SMOKING Guns everywhere! The WHOLE WO...   \n",
       "lriJ5mpuVY8  CNN denies voting fraud despite own reports fr...   \n",
       "\n",
       "                                             video_description  \\\n",
       "psGpIuNh_dU  Articia Bomer Witnessed Dems Counting Spoiled ...   \n",
       "dB0h_50OfzA  Steve Mosher of the Population Research Instit...   \n",
       "VDf1j4IQz28  Bobby Piton testifies at AZ Election Fraud Hea...   \n",
       "Avy8eCHYd6I  Protect Your Retirement W/ A Gold. IRA\\nhttps:...   \n",
       "fWLD-tL42kI  Prepare for Emergencies with a Food Supply\\nht...   \n",
       "KIlI46HdqKg  In this video you will see data from the NYT f...   \n",
       "VgMPDnWunqs  The head of the Justice Department’s elections...   \n",
       "vb4zfltMBGg  🌊 Heat & Boil Water In 30 Minutes Anywhere, Un...   \n",
       "RGLHAs8kSJ8  😎 Get The Same Solar Power Bank I Have Here: ☀...   \n",
       "lriJ5mpuVY8  Footage from CNN reveals they previously consi...   \n",
       "\n",
       "                           channel_id                channel_title  \\\n",
       "psGpIuNh_dU  UCekdKDk6d8opUrUEXtXD4XQ                  Precinct 13   \n",
       "dB0h_50OfzA  UCYImiD9L0dMycenfBy2al0Q                 LifeSiteNews   \n",
       "VDf1j4IQz28  UCSKoabidZh5qoTF4Xg96K7A  Three Headed Eagle Alliance   \n",
       "Avy8eCHYd6I  UCzkAzJ2vQgRyEDzHFiKOaQA                     AWK NEWS   \n",
       "fWLD-tL42kI  UCzkAzJ2vQgRyEDzHFiKOaQA                     AWK NEWS   \n",
       "KIlI46HdqKg  UCIxc8YMkny2KBaD5TQsSbpg               Edward Solomon   \n",
       "VgMPDnWunqs  UCNbIDJNNgaRrXOD7VllIMRQ     One America News Network   \n",
       "vb4zfltMBGg  UCzkAzJ2vQgRyEDzHFiKOaQA                     AWK NEWS   \n",
       "RGLHAs8kSJ8  UCzkAzJ2vQgRyEDzHFiKOaQA                     AWK NEWS   \n",
       "lriJ5mpuVY8  UCNbIDJNNgaRrXOD7VllIMRQ     One America News Network   \n",
       "\n",
       "                     published_at tweet_count retweet_count_metadata  \\\n",
       "psGpIuNh_dU  2020-11-23T10:32:13Z          88                  11909   \n",
       "dB0h_50OfzA  2020-11-13T22:14:18Z          27                    937   \n",
       "VDf1j4IQz28  2020-11-30T22:54:54Z          65                    919   \n",
       "Avy8eCHYd6I  2020-11-13T14:09:33Z           9                    738   \n",
       "fWLD-tL42kI  2020-11-14T13:35:51Z           7                    650   \n",
       "KIlI46HdqKg  2020-11-20T22:54:00Z          13                    781   \n",
       "VgMPDnWunqs  2020-11-11T23:58:41Z         150                   1605   \n",
       "vb4zfltMBGg  2020-11-25T05:27:13Z           4                    601   \n",
       "RGLHAs8kSJ8  2020-12-05T04:48:56Z          18                    621   \n",
       "lriJ5mpuVY8  2020-12-09T22:12:23Z          13                    371   \n",
       "\n",
       "            quote_count_metadata tweet_count_cluster_0  \\\n",
       "psGpIuNh_dU                 1301                     0   \n",
       "dB0h_50OfzA                   72                     0   \n",
       "VDf1j4IQz28                   45                     0   \n",
       "Avy8eCHYd6I                   85                     0   \n",
       "fWLD-tL42kI                  102                     0   \n",
       "KIlI46HdqKg                   50                     0   \n",
       "VgMPDnWunqs                  100                     1   \n",
       "vb4zfltMBGg                   54                     0   \n",
       "RGLHAs8kSJ8                   76                     0   \n",
       "lriJ5mpuVY8                   26                     0   \n",
       "\n",
       "            retweet_count_cluster_0  ... quote_count_cluster_2  \\\n",
       "psGpIuNh_dU                       5  ...                  1118   \n",
       "dB0h_50OfzA                       0  ...                    76   \n",
       "VDf1j4IQz28                       0  ...                    28   \n",
       "Avy8eCHYd6I                       0  ...                    61   \n",
       "fWLD-tL42kI                       0  ...                    69   \n",
       "KIlI46HdqKg                       2  ...                    44   \n",
       "VgMPDnWunqs                       0  ...                    28   \n",
       "vb4zfltMBGg                       1  ...                    37   \n",
       "RGLHAs8kSJ8                       0  ...                    72   \n",
       "lriJ5mpuVY8                       1  ...                    23   \n",
       "\n",
       "            tweet_count_cluster_3 retweet_count_cluster_3  \\\n",
       "psGpIuNh_dU                     0                      39   \n",
       "dB0h_50OfzA                     0                       6   \n",
       "VDf1j4IQz28                     0                       0   \n",
       "Avy8eCHYd6I                     0                       2   \n",
       "fWLD-tL42kI                     0                       2   \n",
       "KIlI46HdqKg                     0                       2   \n",
       "VgMPDnWunqs                     0                       2   \n",
       "vb4zfltMBGg                     0                       0   \n",
       "RGLHAs8kSJ8                     0                       1   \n",
       "lriJ5mpuVY8                     0                       0   \n",
       "\n",
       "            quote_count_cluster_3 tweet_count_cluster_4  \\\n",
       "psGpIuNh_dU                     5                     0   \n",
       "dB0h_50OfzA                     0                     0   \n",
       "VDf1j4IQz28                     0                     0   \n",
       "Avy8eCHYd6I                     0                     0   \n",
       "fWLD-tL42kI                     2                     0   \n",
       "KIlI46HdqKg                     1                     0   \n",
       "VgMPDnWunqs                     0                     0   \n",
       "vb4zfltMBGg                     0                     0   \n",
       "RGLHAs8kSJ8                     2                     0   \n",
       "lriJ5mpuVY8                     0                     0   \n",
       "\n",
       "            retweet_count_cluster_4 quote_count_cluster_4  \\\n",
       "psGpIuNh_dU                      50                     5   \n",
       "dB0h_50OfzA                       7                     0   \n",
       "VDf1j4IQz28                       5                     1   \n",
       "Avy8eCHYd6I                       1                     0   \n",
       "fWLD-tL42kI                       1                     0   \n",
       "KIlI46HdqKg                       3                     0   \n",
       "VgMPDnWunqs                       3                     0   \n",
       "vb4zfltMBGg                       0                     0   \n",
       "RGLHAs8kSJ8                       1                     0   \n",
       "lriJ5mpuVY8                       0                     0   \n",
       "\n",
       "            tweet_count_suspended_users retweet_count_suspended_users  \\\n",
       "psGpIuNh_dU                          34                          3527   \n",
       "dB0h_50OfzA                           4                           391   \n",
       "VDf1j4IQz28                           9                           266   \n",
       "Avy8eCHYd6I                           1                           240   \n",
       "fWLD-tL42kI                           2                           239   \n",
       "KIlI46HdqKg                           1                           237   \n",
       "VgMPDnWunqs                          27                           235   \n",
       "vb4zfltMBGg                           0                           220   \n",
       "RGLHAs8kSJ8                           7                           208   \n",
       "lriJ5mpuVY8                           5                           195   \n",
       "\n",
       "            quote_count_suspended_users  \n",
       "psGpIuNh_dU                         401  \n",
       "dB0h_50OfzA                          21  \n",
       "VDf1j4IQz28                           6  \n",
       "Avy8eCHYd6I                          26  \n",
       "fWLD-tL42kI                          40  \n",
       "KIlI46HdqKg                          12  \n",
       "VgMPDnWunqs                           8  \n",
       "vb4zfltMBGg                          19  \n",
       "RGLHAs8kSJ8                          27  \n",
       "lriJ5mpuVY8                           9  \n",
       "\n",
       "[10 rows x 26 columns]"
      ],
      "text/html": "<div>\n<style scoped>\n    .dataframe tbody tr th:only-of-type {\n        vertical-align: middle;\n    }\n\n    .dataframe tbody tr th {\n        vertical-align: top;\n    }\n\n    .dataframe thead th {\n        text-align: right;\n    }\n</style>\n<table border=\"1\" class=\"dataframe\">\n  <thead>\n    <tr style=\"text-align: right;\">\n      <th></th>\n      <th>video_title</th>\n      <th>video_description</th>\n      <th>channel_id</th>\n      <th>channel_title</th>\n      <th>published_at</th>\n      <th>tweet_count</th>\n      <th>retweet_count_metadata</th>\n      <th>quote_count_metadata</th>\n      <th>tweet_count_cluster_0</th>\n      <th>retweet_count_cluster_0</th>\n      <th>...</th>\n      <th>quote_count_cluster_2</th>\n      <th>tweet_count_cluster_3</th>\n      <th>retweet_count_cluster_3</th>\n      <th>quote_count_cluster_3</th>\n      <th>tweet_count_cluster_4</th>\n      <th>retweet_count_cluster_4</th>\n      <th>quote_count_cluster_4</th>\n      <th>tweet_count_suspended_users</th>\n      <th>retweet_count_suspended_users</th>\n      <th>quote_count_suspended_users</th>\n    </tr>\n  </thead>\n  <tbody>\n    <tr>\n      <th>psGpIuNh_dU</th>\n      <td>Articia Bomer Witnessed Dems Counting Spoiled ...</td>\n      <td>Articia Bomer Witnessed Dems Counting Spoiled ...</td>\n      <td>UCekdKDk6d8opUrUEXtXD4XQ</td>\n      <td>Precinct 13</td>\n      <td>2020-11-23T10:32:13Z</td>\n      <td>88</td>\n      <td>11909</td>\n      <td>1301</td>\n      <td>0</td>\n      <td>5</td>\n      <td>...</td>\n      <td>1118</td>\n      <td>0</td>\n      <td>39</td>\n      <td>5</td>\n      <td>0</td>\n      <td>50</td>\n      <td>5</td>\n      <td>34</td>\n      <td>3527</td>\n      <td>401</td>\n    </tr>\n    <tr>\n      <th>dB0h_50OfzA</th>\n      <td>Trump confidant: the president has all the pro...</td>\n      <td>Steve Mosher of the Population Research Instit...</td>\n      <td>UCYImiD9L0dMycenfBy2al0Q</td>\n      <td>LifeSiteNews</td>\n      <td>2020-11-13T22:14:18Z</td>\n      <td>27</td>\n      <td>937</td>\n      <td>72</td>\n      <td>0</td>\n      <td>0</td>\n      <td>...</td>\n      <td>76</td>\n      <td>0</td>\n      <td>6</td>\n      <td>0</td>\n      <td>0</td>\n      <td>7</td>\n      <td>0</td>\n      <td>4</td>\n      <td>391</td>\n      <td>21</td>\n    </tr>\n    <tr>\n      <th>VDf1j4IQz28</th>\n      <td>Bobby Piton testifies at AZ Election Fraud Hea...</td>\n      <td>Bobby Piton testifies at AZ Election Fraud Hea...</td>\n      <td>UCSKoabidZh5qoTF4Xg96K7A</td>\n      <td>Three Headed Eagle Alliance</td>\n      <td>2020-11-30T22:54:54Z</td>\n      <td>65</td>\n      <td>919</td>\n      <td>45</td>\n      <td>0</td>\n      <td>0</td>\n      <td>...</td>\n      <td>28</td>\n      <td>0</td>\n      <td>0</td>\n      <td>0</td>\n      <td>0</td>\n      <td>5</td>\n      <td>1</td>\n      <td>9</td>\n      <td>266</td>\n      <td>6</td>\n    </tr>\n    <tr>\n      <th>Avy8eCHYd6I</th>\n      <td>11.13.20: D@Mini@n GOT CAUGHT! Amazing details...</td>\n      <td>Protect Your Retirement W/ A Gold. IRA\\nhttps:...</td>\n      <td>UCzkAzJ2vQgRyEDzHFiKOaQA</td>\n      <td>AWK NEWS</td>\n      <td>2020-11-13T14:09:33Z</td>\n      <td>9</td>\n      <td>738</td>\n      <td>85</td>\n      <td>0</td>\n      <td>0</td>\n      <td>...</td>\n      <td>61</td>\n      <td>0</td>\n      <td>2</td>\n      <td>0</td>\n      <td>0</td>\n      <td>1</td>\n      <td>0</td>\n      <td>1</td>\n      <td>240</td>\n      <td>26</td>\n    </tr>\n    <tr>\n      <th>fWLD-tL42kI</th>\n      <td>11.14.20: \"Release the KRAKEN\" says @SidneyPow...</td>\n      <td>Prepare for Emergencies with a Food Supply\\nht...</td>\n      <td>UCzkAzJ2vQgRyEDzHFiKOaQA</td>\n      <td>AWK NEWS</td>\n      <td>2020-11-14T13:35:51Z</td>\n      <td>7</td>\n      <td>650</td>\n      <td>102</td>\n      <td>0</td>\n      <td>0</td>\n      <td>...</td>\n      <td>69</td>\n      <td>0</td>\n      <td>2</td>\n      <td>2</td>\n      <td>0</td>\n      <td>1</td>\n      <td>0</td>\n      <td>2</td>\n      <td>239</td>\n      <td>40</td>\n    </tr>\n    <tr>\n      <th>KIlI46HdqKg</th>\n      <td>Smoking Gun: ES&amp;S (Philly's Computer System) T...</td>\n      <td>In this video you will see data from the NYT f...</td>\n      <td>UCIxc8YMkny2KBaD5TQsSbpg</td>\n      <td>Edward Solomon</td>\n      <td>2020-11-20T22:54:00Z</td>\n      <td>13</td>\n      <td>781</td>\n      <td>50</td>\n      <td>0</td>\n      <td>2</td>\n      <td>...</td>\n      <td>44</td>\n      <td>0</td>\n      <td>2</td>\n      <td>1</td>\n      <td>0</td>\n      <td>3</td>\n      <td>0</td>\n      <td>1</td>\n      <td>237</td>\n      <td>12</td>\n    </tr>\n    <tr>\n      <th>VgMPDnWunqs</th>\n      <td>AG Barr releases memo on election fraud, DOJ o...</td>\n      <td>The head of the Justice Department’s elections...</td>\n      <td>UCNbIDJNNgaRrXOD7VllIMRQ</td>\n      <td>One America News Network</td>\n      <td>2020-11-11T23:58:41Z</td>\n      <td>150</td>\n      <td>1605</td>\n      <td>100</td>\n      <td>1</td>\n      <td>0</td>\n      <td>...</td>\n      <td>28</td>\n      <td>0</td>\n      <td>2</td>\n      <td>0</td>\n      <td>0</td>\n      <td>3</td>\n      <td>0</td>\n      <td>27</td>\n      <td>235</td>\n      <td>8</td>\n    </tr>\n    <tr>\n      <th>vb4zfltMBGg</th>\n      <td>11.24.20: This is about the SURVIVAL of the GR...</td>\n      <td>🌊 Heat &amp; Boil Water In 30 Minutes Anywhere, Un...</td>\n      <td>UCzkAzJ2vQgRyEDzHFiKOaQA</td>\n      <td>AWK NEWS</td>\n      <td>2020-11-25T05:27:13Z</td>\n      <td>4</td>\n      <td>601</td>\n      <td>54</td>\n      <td>0</td>\n      <td>1</td>\n      <td>...</td>\n      <td>37</td>\n      <td>0</td>\n      <td>0</td>\n      <td>0</td>\n      <td>0</td>\n      <td>0</td>\n      <td>0</td>\n      <td>0</td>\n      <td>220</td>\n      <td>19</td>\n    </tr>\n    <tr>\n      <th>RGLHAs8kSJ8</th>\n      <td>12.4.20: SMOKING Guns everywhere! The WHOLE WO...</td>\n      <td>😎 Get The Same Solar Power Bank I Have Here: ☀...</td>\n      <td>UCzkAzJ2vQgRyEDzHFiKOaQA</td>\n      <td>AWK NEWS</td>\n      <td>2020-12-05T04:48:56Z</td>\n      <td>18</td>\n      <td>621</td>\n      <td>76</td>\n      <td>0</td>\n      <td>0</td>\n      <td>...</td>\n      <td>72</td>\n      <td>0</td>\n      <td>1</td>\n      <td>2</td>\n      <td>0</td>\n      <td>1</td>\n      <td>0</td>\n      <td>7</td>\n      <td>208</td>\n      <td>27</td>\n    </tr>\n    <tr>\n      <th>lriJ5mpuVY8</th>\n      <td>CNN denies voting fraud despite own reports fr...</td>\n      <td>Footage from CNN reveals they previously consi...</td>\n      <td>UCNbIDJNNgaRrXOD7VllIMRQ</td>\n      <td>One America News Network</td>\n      <td>2020-12-09T22:12:23Z</td>\n      <td>13</td>\n      <td>371</td>\n      <td>26</td>\n      <td>0</td>\n      <td>1</td>\n      <td>...</td>\n      <td>23</td>\n      <td>0</td>\n      <td>0</td>\n      <td>0</td>\n      <td>0</td>\n      <td>0</td>\n      <td>0</td>\n      <td>5</td>\n      <td>195</td>\n      <td>9</td>\n    </tr>\n  </tbody>\n</table>\n<p>10 rows × 26 columns</p>\n</div>"
     },
     "metadata": {},
     "execution_count": 37
    }
   ],
   "source": [
    "df_youtube.sort_values(\"retweet_count_suspended_users\", ascending=False)[:10]"
   ]
  },
  {
   "cell_type": "code",
   "execution_count": 17,
   "metadata": {},
   "outputs": [
    {
     "output_type": "execute_result",
     "data": {
      "text/plain": [
       "               tweet_count  retweet_count_metadata  quote_count_metadata  \\\n",
       "stopthesteal        618759                 2904540                285153   \n",
       "electionfraud       168633                  748128                 68344   \n",
       "voterfraud          214111                  725446                 75793   \n",
       "fightback            62468                  417935                 39542   \n",
       "maga                 91585                  425527                 41211   \n",
       "wethepeople          20906                  296242                 34428   \n",
       "georgia              19460                  289947                 25900   \n",
       "trump2020           103816                  291376                 25995   \n",
       "election2020         75853                  396909                 54530   \n",
       "trumpwon             42972                  193667                 12680   \n",
       "\n",
       "               tweet_count_cluster_0  retweet_count_cluster_0  \\\n",
       "stopthesteal                   17662                    15201   \n",
       "electionfraud                   5928                     4617   \n",
       "voterfraud                      8423                     7925   \n",
       "fightback                        391                      460   \n",
       "maga                            8610                     6626   \n",
       "wethepeople                      447                      425   \n",
       "georgia                         2222                     2748   \n",
       "trump2020                       1896                     1192   \n",
       "election2020                    5765                    22384   \n",
       "trumpwon                         314                      124   \n",
       "\n",
       "               quote_count_cluster_0  tweet_count_cluster_1  \\\n",
       "stopthesteal                    7750                  60645   \n",
       "electionfraud                   1607                  16711   \n",
       "voterfraud                      1677                  19912   \n",
       "fightback                        187                   3448   \n",
       "maga                            1599                   8976   \n",
       "wethepeople                      564                   2638   \n",
       "georgia                          605                   2067   \n",
       "trump2020                        883                  10306   \n",
       "election2020                    6384                   6553   \n",
       "trumpwon                         120                   2506   \n",
       "\n",
       "               retweet_count_cluster_1  quote_count_cluster_1  \\\n",
       "stopthesteal                     96515                  20926   \n",
       "electionfraud                    29138                   5988   \n",
       "voterfraud                       20717                   5539   \n",
       "fightback                        12643                   2154   \n",
       "maga                             17060                   4606   \n",
       "wethepeople                      19564                   4282   \n",
       "georgia                          14496                   2090   \n",
       "trump2020                         4251                   1601   \n",
       "election2020                     16005                   2990   \n",
       "trumpwon                          5791                    878   \n",
       "\n",
       "               tweet_count_cluster_2  ...  quote_count_cluster_2  \\\n",
       "stopthesteal                  516242  ...                 149113   \n",
       "electionfraud                 133381  ...                  47773   \n",
       "voterfraud                    170801  ...                  43946   \n",
       "fightback                      57416  ...                  20179   \n",
       "maga                           64001  ...                  25825   \n",
       "wethepeople                    16566  ...                  22490   \n",
       "georgia                        13905  ...                  14937   \n",
       "trump2020                      82310  ...                  16403   \n",
       "election2020                   52048  ...                  17800   \n",
       "trumpwon                       39453  ...                   8563   \n",
       "\n",
       "               tweet_count_cluster_3  retweet_count_cluster_3  \\\n",
       "stopthesteal                    3921                    15387   \n",
       "electionfraud                    342                     4215   \n",
       "voterfraud                       473                     2605   \n",
       "fightback                        106                     2009   \n",
       "maga                             316                     1778   \n",
       "wethepeople                      100                     1444   \n",
       "georgia                           60                     2556   \n",
       "trump2020                        291                      709   \n",
       "election2020                     137                     1710   \n",
       "trumpwon                          75                     1349   \n",
       "\n",
       "               quote_count_cluster_3  tweet_count_cluster_4  \\\n",
       "stopthesteal                    1947                   1734   \n",
       "electionfraud                    476                    411   \n",
       "voterfraud                       409                    695   \n",
       "fightback                        194                    100   \n",
       "maga                             269                    291   \n",
       "wethepeople                      200                     58   \n",
       "georgia                          185                    120   \n",
       "trump2020                        128                    404   \n",
       "election2020                     254                    324   \n",
       "trumpwon                          74                    133   \n",
       "\n",
       "               retweet_count_cluster_4  quote_count_cluster_4  \\\n",
       "stopthesteal                     12191                   1245   \n",
       "electionfraud                     3511                    293   \n",
       "voterfraud                        3200                    381   \n",
       "fightback                         1668                    109   \n",
       "maga                              3565                    397   \n",
       "wethepeople                       1628                    163   \n",
       "georgia                           3057                    139   \n",
       "trump2020                         1218                    161   \n",
       "election2020                      1567                    159   \n",
       "trumpwon                          1030                     56   \n",
       "\n",
       "               tweet_count_suspended_users  retweet_count_suspended_users  \\\n",
       "stopthesteal                        188792                         557301   \n",
       "electionfraud                        48761                         188020   \n",
       "voterfraud                           63689                         140311   \n",
       "fightback                            28268                          99819   \n",
       "maga                                 29267                          97692   \n",
       "wethepeople                           7256                          74255   \n",
       "georgia                               5235                          68927   \n",
       "trump2020                            35448                          66898   \n",
       "election2020                         16522                          57469   \n",
       "trumpwon                             19549                          56506   \n",
       "\n",
       "               quote_count_suspended_users  \n",
       "stopthesteal                         48784  \n",
       "electionfraud                        15735  \n",
       "voterfraud                           16167  \n",
       "fightback                             7402  \n",
       "maga                                  9734  \n",
       "wethepeople                           7737  \n",
       "georgia                               4928  \n",
       "trump2020                             6767  \n",
       "election2020                          7516  \n",
       "trumpwon                              3021  \n",
       "\n",
       "[10 rows x 21 columns]"
      ],
      "text/html": "<div>\n<style scoped>\n    .dataframe tbody tr th:only-of-type {\n        vertical-align: middle;\n    }\n\n    .dataframe tbody tr th {\n        vertical-align: top;\n    }\n\n    .dataframe thead th {\n        text-align: right;\n    }\n</style>\n<table border=\"1\" class=\"dataframe\">\n  <thead>\n    <tr style=\"text-align: right;\">\n      <th></th>\n      <th>tweet_count</th>\n      <th>retweet_count_metadata</th>\n      <th>quote_count_metadata</th>\n      <th>tweet_count_cluster_0</th>\n      <th>retweet_count_cluster_0</th>\n      <th>quote_count_cluster_0</th>\n      <th>tweet_count_cluster_1</th>\n      <th>retweet_count_cluster_1</th>\n      <th>quote_count_cluster_1</th>\n      <th>tweet_count_cluster_2</th>\n      <th>...</th>\n      <th>quote_count_cluster_2</th>\n      <th>tweet_count_cluster_3</th>\n      <th>retweet_count_cluster_3</th>\n      <th>quote_count_cluster_3</th>\n      <th>tweet_count_cluster_4</th>\n      <th>retweet_count_cluster_4</th>\n      <th>quote_count_cluster_4</th>\n      <th>tweet_count_suspended_users</th>\n      <th>retweet_count_suspended_users</th>\n      <th>quote_count_suspended_users</th>\n    </tr>\n  </thead>\n  <tbody>\n    <tr>\n      <th>stopthesteal</th>\n      <td>618759</td>\n      <td>2904540</td>\n      <td>285153</td>\n      <td>17662</td>\n      <td>15201</td>\n      <td>7750</td>\n      <td>60645</td>\n      <td>96515</td>\n      <td>20926</td>\n      <td>516242</td>\n      <td>...</td>\n      <td>149113</td>\n      <td>3921</td>\n      <td>15387</td>\n      <td>1947</td>\n      <td>1734</td>\n      <td>12191</td>\n      <td>1245</td>\n      <td>188792</td>\n      <td>557301</td>\n      <td>48784</td>\n    </tr>\n    <tr>\n      <th>electionfraud</th>\n      <td>168633</td>\n      <td>748128</td>\n      <td>68344</td>\n      <td>5928</td>\n      <td>4617</td>\n      <td>1607</td>\n      <td>16711</td>\n      <td>29138</td>\n      <td>5988</td>\n      <td>133381</td>\n      <td>...</td>\n      <td>47773</td>\n      <td>342</td>\n      <td>4215</td>\n      <td>476</td>\n      <td>411</td>\n      <td>3511</td>\n      <td>293</td>\n      <td>48761</td>\n      <td>188020</td>\n      <td>15735</td>\n    </tr>\n    <tr>\n      <th>voterfraud</th>\n      <td>214111</td>\n      <td>725446</td>\n      <td>75793</td>\n      <td>8423</td>\n      <td>7925</td>\n      <td>1677</td>\n      <td>19912</td>\n      <td>20717</td>\n      <td>5539</td>\n      <td>170801</td>\n      <td>...</td>\n      <td>43946</td>\n      <td>473</td>\n      <td>2605</td>\n      <td>409</td>\n      <td>695</td>\n      <td>3200</td>\n      <td>381</td>\n      <td>63689</td>\n      <td>140311</td>\n      <td>16167</td>\n    </tr>\n    <tr>\n      <th>fightback</th>\n      <td>62468</td>\n      <td>417935</td>\n      <td>39542</td>\n      <td>391</td>\n      <td>460</td>\n      <td>187</td>\n      <td>3448</td>\n      <td>12643</td>\n      <td>2154</td>\n      <td>57416</td>\n      <td>...</td>\n      <td>20179</td>\n      <td>106</td>\n      <td>2009</td>\n      <td>194</td>\n      <td>100</td>\n      <td>1668</td>\n      <td>109</td>\n      <td>28268</td>\n      <td>99819</td>\n      <td>7402</td>\n    </tr>\n    <tr>\n      <th>maga</th>\n      <td>91585</td>\n      <td>425527</td>\n      <td>41211</td>\n      <td>8610</td>\n      <td>6626</td>\n      <td>1599</td>\n      <td>8976</td>\n      <td>17060</td>\n      <td>4606</td>\n      <td>64001</td>\n      <td>...</td>\n      <td>25825</td>\n      <td>316</td>\n      <td>1778</td>\n      <td>269</td>\n      <td>291</td>\n      <td>3565</td>\n      <td>397</td>\n      <td>29267</td>\n      <td>97692</td>\n      <td>9734</td>\n    </tr>\n    <tr>\n      <th>wethepeople</th>\n      <td>20906</td>\n      <td>296242</td>\n      <td>34428</td>\n      <td>447</td>\n      <td>425</td>\n      <td>564</td>\n      <td>2638</td>\n      <td>19564</td>\n      <td>4282</td>\n      <td>16566</td>\n      <td>...</td>\n      <td>22490</td>\n      <td>100</td>\n      <td>1444</td>\n      <td>200</td>\n      <td>58</td>\n      <td>1628</td>\n      <td>163</td>\n      <td>7256</td>\n      <td>74255</td>\n      <td>7737</td>\n    </tr>\n    <tr>\n      <th>georgia</th>\n      <td>19460</td>\n      <td>289947</td>\n      <td>25900</td>\n      <td>2222</td>\n      <td>2748</td>\n      <td>605</td>\n      <td>2067</td>\n      <td>14496</td>\n      <td>2090</td>\n      <td>13905</td>\n      <td>...</td>\n      <td>14937</td>\n      <td>60</td>\n      <td>2556</td>\n      <td>185</td>\n      <td>120</td>\n      <td>3057</td>\n      <td>139</td>\n      <td>5235</td>\n      <td>68927</td>\n      <td>4928</td>\n    </tr>\n    <tr>\n      <th>trump2020</th>\n      <td>103816</td>\n      <td>291376</td>\n      <td>25995</td>\n      <td>1896</td>\n      <td>1192</td>\n      <td>883</td>\n      <td>10306</td>\n      <td>4251</td>\n      <td>1601</td>\n      <td>82310</td>\n      <td>...</td>\n      <td>16403</td>\n      <td>291</td>\n      <td>709</td>\n      <td>128</td>\n      <td>404</td>\n      <td>1218</td>\n      <td>161</td>\n      <td>35448</td>\n      <td>66898</td>\n      <td>6767</td>\n    </tr>\n    <tr>\n      <th>election2020</th>\n      <td>75853</td>\n      <td>396909</td>\n      <td>54530</td>\n      <td>5765</td>\n      <td>22384</td>\n      <td>6384</td>\n      <td>6553</td>\n      <td>16005</td>\n      <td>2990</td>\n      <td>52048</td>\n      <td>...</td>\n      <td>17800</td>\n      <td>137</td>\n      <td>1710</td>\n      <td>254</td>\n      <td>324</td>\n      <td>1567</td>\n      <td>159</td>\n      <td>16522</td>\n      <td>57469</td>\n      <td>7516</td>\n    </tr>\n    <tr>\n      <th>trumpwon</th>\n      <td>42972</td>\n      <td>193667</td>\n      <td>12680</td>\n      <td>314</td>\n      <td>124</td>\n      <td>120</td>\n      <td>2506</td>\n      <td>5791</td>\n      <td>878</td>\n      <td>39453</td>\n      <td>...</td>\n      <td>8563</td>\n      <td>75</td>\n      <td>1349</td>\n      <td>74</td>\n      <td>133</td>\n      <td>1030</td>\n      <td>56</td>\n      <td>19549</td>\n      <td>56506</td>\n      <td>3021</td>\n    </tr>\n  </tbody>\n</table>\n<p>10 rows × 21 columns</p>\n</div>"
     },
     "metadata": {},
     "execution_count": 17
    }
   ],
   "source": [
    "df_hashtag.sort_values(\"retweet_count_suspended_users\", ascending=False)[:10]"
   ]
  },
  {
   "cell_type": "code",
   "execution_count": 32,
   "metadata": {},
   "outputs": [
    {
     "output_type": "execute_result",
     "data": {
      "text/plain": [
       "               tweet_count  retweet_count_metadata  quote_count_metadata  \\\n",
       "stopthesteal        618759                 2904540                285153   \n",
       "electionfraud       168633                  748128                 68344   \n",
       "voterfraud          214111                  725446                 75793   \n",
       "maga                 91585                  425527                 41211   \n",
       "fightback            62468                  417935                 39542   \n",
       "\n",
       "               tweet_count_cluster_0  retweet_count_cluster_0  \\\n",
       "stopthesteal                   17662                    15201   \n",
       "electionfraud                   5928                     4617   \n",
       "voterfraud                      8423                     7925   \n",
       "maga                            8610                     6626   \n",
       "fightback                        391                      460   \n",
       "\n",
       "               quote_count_cluster_0  tweet_count_cluster_1  \\\n",
       "stopthesteal                    7750                  60645   \n",
       "electionfraud                   1607                  16711   \n",
       "voterfraud                      1677                  19912   \n",
       "maga                            1599                   8976   \n",
       "fightback                        187                   3448   \n",
       "\n",
       "               retweet_count_cluster_1  quote_count_cluster_1  \\\n",
       "stopthesteal                     96515                  20926   \n",
       "electionfraud                    29138                   5988   \n",
       "voterfraud                       20717                   5539   \n",
       "maga                             17060                   4606   \n",
       "fightback                        12643                   2154   \n",
       "\n",
       "               tweet_count_cluster_2  ...  tweet_count_cluster_4  \\\n",
       "stopthesteal                  516242  ...                   1734   \n",
       "electionfraud                 133381  ...                    411   \n",
       "voterfraud                    170801  ...                    695   \n",
       "maga                           64001  ...                    291   \n",
       "fightback                      57416  ...                    100   \n",
       "\n",
       "               retweet_count_cluster_4  quote_count_cluster_4  \\\n",
       "stopthesteal                     12191                   1245   \n",
       "electionfraud                     3511                    293   \n",
       "voterfraud                        3200                    381   \n",
       "maga                              3565                    397   \n",
       "fightback                         1668                    109   \n",
       "\n",
       "               tweet_count_suspended_users  retweet_count_suspended_users  \\\n",
       "stopthesteal                        188792                         557301   \n",
       "electionfraud                        48761                         188020   \n",
       "voterfraud                           63689                         140311   \n",
       "maga                                 29267                          97692   \n",
       "fightback                            28268                          99819   \n",
       "\n",
       "               quote_count_suspended_users  retweet_count_detractors  \\\n",
       "stopthesteal                         48784                     15201   \n",
       "electionfraud                        15735                      4617   \n",
       "voterfraud                           16167                      7925   \n",
       "maga                                  9734                      6626   \n",
       "fightback                             7402                       460   \n",
       "\n",
       "               retweet_count_promoters  tweet_count_detractors  \\\n",
       "stopthesteal                   1561790                   17662   \n",
       "electionfraud                   500632                    5928   \n",
       "voterfraud                      394145                    8423   \n",
       "maga                            261084                    8610   \n",
       "fightback                       251893                     391   \n",
       "\n",
       "               tweet_count_promoters  \n",
       "stopthesteal                  582542  \n",
       "electionfraud                 150845  \n",
       "voterfraud                    191881  \n",
       "maga                           73584  \n",
       "fightback                      61070  \n",
       "\n",
       "[5 rows x 25 columns]"
      ],
      "text/html": "<div>\n<style scoped>\n    .dataframe tbody tr th:only-of-type {\n        vertical-align: middle;\n    }\n\n    .dataframe tbody tr th {\n        vertical-align: top;\n    }\n\n    .dataframe thead th {\n        text-align: right;\n    }\n</style>\n<table border=\"1\" class=\"dataframe\">\n  <thead>\n    <tr style=\"text-align: right;\">\n      <th></th>\n      <th>tweet_count</th>\n      <th>retweet_count_metadata</th>\n      <th>quote_count_metadata</th>\n      <th>tweet_count_cluster_0</th>\n      <th>retweet_count_cluster_0</th>\n      <th>quote_count_cluster_0</th>\n      <th>tweet_count_cluster_1</th>\n      <th>retweet_count_cluster_1</th>\n      <th>quote_count_cluster_1</th>\n      <th>tweet_count_cluster_2</th>\n      <th>...</th>\n      <th>tweet_count_cluster_4</th>\n      <th>retweet_count_cluster_4</th>\n      <th>quote_count_cluster_4</th>\n      <th>tweet_count_suspended_users</th>\n      <th>retweet_count_suspended_users</th>\n      <th>quote_count_suspended_users</th>\n      <th>retweet_count_detractors</th>\n      <th>retweet_count_promoters</th>\n      <th>tweet_count_detractors</th>\n      <th>tweet_count_promoters</th>\n    </tr>\n  </thead>\n  <tbody>\n    <tr>\n      <th>stopthesteal</th>\n      <td>618759</td>\n      <td>2904540</td>\n      <td>285153</td>\n      <td>17662</td>\n      <td>15201</td>\n      <td>7750</td>\n      <td>60645</td>\n      <td>96515</td>\n      <td>20926</td>\n      <td>516242</td>\n      <td>...</td>\n      <td>1734</td>\n      <td>12191</td>\n      <td>1245</td>\n      <td>188792</td>\n      <td>557301</td>\n      <td>48784</td>\n      <td>15201</td>\n      <td>1561790</td>\n      <td>17662</td>\n      <td>582542</td>\n    </tr>\n    <tr>\n      <th>electionfraud</th>\n      <td>168633</td>\n      <td>748128</td>\n      <td>68344</td>\n      <td>5928</td>\n      <td>4617</td>\n      <td>1607</td>\n      <td>16711</td>\n      <td>29138</td>\n      <td>5988</td>\n      <td>133381</td>\n      <td>...</td>\n      <td>411</td>\n      <td>3511</td>\n      <td>293</td>\n      <td>48761</td>\n      <td>188020</td>\n      <td>15735</td>\n      <td>4617</td>\n      <td>500632</td>\n      <td>5928</td>\n      <td>150845</td>\n    </tr>\n    <tr>\n      <th>voterfraud</th>\n      <td>214111</td>\n      <td>725446</td>\n      <td>75793</td>\n      <td>8423</td>\n      <td>7925</td>\n      <td>1677</td>\n      <td>19912</td>\n      <td>20717</td>\n      <td>5539</td>\n      <td>170801</td>\n      <td>...</td>\n      <td>695</td>\n      <td>3200</td>\n      <td>381</td>\n      <td>63689</td>\n      <td>140311</td>\n      <td>16167</td>\n      <td>7925</td>\n      <td>394145</td>\n      <td>8423</td>\n      <td>191881</td>\n    </tr>\n    <tr>\n      <th>maga</th>\n      <td>91585</td>\n      <td>425527</td>\n      <td>41211</td>\n      <td>8610</td>\n      <td>6626</td>\n      <td>1599</td>\n      <td>8976</td>\n      <td>17060</td>\n      <td>4606</td>\n      <td>64001</td>\n      <td>...</td>\n      <td>291</td>\n      <td>3565</td>\n      <td>397</td>\n      <td>29267</td>\n      <td>97692</td>\n      <td>9734</td>\n      <td>6626</td>\n      <td>261084</td>\n      <td>8610</td>\n      <td>73584</td>\n    </tr>\n    <tr>\n      <th>fightback</th>\n      <td>62468</td>\n      <td>417935</td>\n      <td>39542</td>\n      <td>391</td>\n      <td>460</td>\n      <td>187</td>\n      <td>3448</td>\n      <td>12643</td>\n      <td>2154</td>\n      <td>57416</td>\n      <td>...</td>\n      <td>100</td>\n      <td>1668</td>\n      <td>109</td>\n      <td>28268</td>\n      <td>99819</td>\n      <td>7402</td>\n      <td>460</td>\n      <td>251893</td>\n      <td>391</td>\n      <td>61070</td>\n    </tr>\n  </tbody>\n</table>\n<p>5 rows × 25 columns</p>\n</div>"
     },
     "metadata": {},
     "execution_count": 32
    }
   ],
   "source": [
    "df_hashtag.head()"
   ]
  },
  {
   "cell_type": "code",
   "execution_count": 31,
   "metadata": {},
   "outputs": [],
   "source": [
    "df_hashtag[\"retweet_count_detractors\"] = df_hashtag.apply(lambda h: h[\"retweet_count_cluster_0\"], axis=1)\n",
    "df_hashtag[\"retweet_count_promoters\"] = df_hashtag.apply(lambda h: h[\"retweet_count_cluster_1\"] + h[\"retweet_count_cluster_2\"] + h[\"retweet_count_cluster_3\"] + h[\"retweet_count_cluster_4\"], axis=1)\n",
    "\n",
    "df_hashtag[\"tweet_count_detractors\"] = df_hashtag.apply(lambda h: h[\"tweet_count_cluster_0\"], axis=1)\n",
    "df_hashtag[\"tweet_count_promoters\"] = df_hashtag.apply(lambda h: h[\"tweet_count_cluster_1\"] + h[\"tweet_count_cluster_2\"] + h[\"tweet_count_cluster_3\"] + h[\"tweet_count_cluster_4\"], axis=1)"
   ]
  },
  {
   "cell_type": "code",
   "execution_count": 10,
   "metadata": {},
   "outputs": [
    {
     "output_type": "execute_result",
     "data": {
      "text/plain": [
       "tweet_count                       91585\n",
       "retweet_count_metadata           425527\n",
       "quote_count_metadata              41211\n",
       "tweet_count_cluster_0              8610\n",
       "retweet_count_cluster_0            6626\n",
       "quote_count_cluster_0              1599\n",
       "tweet_count_cluster_1              8976\n",
       "retweet_count_cluster_1           17060\n",
       "quote_count_cluster_1              4606\n",
       "tweet_count_cluster_2             64001\n",
       "retweet_count_cluster_2          238681\n",
       "quote_count_cluster_2             25825\n",
       "tweet_count_cluster_3               316\n",
       "retweet_count_cluster_3            1778\n",
       "quote_count_cluster_3               269\n",
       "tweet_count_cluster_4               291\n",
       "retweet_count_cluster_4            3565\n",
       "quote_count_cluster_4               397\n",
       "tweet_count_suspended_users       29267\n",
       "retweet_count_suspended_users     97692\n",
       "quote_count_suspended_users        9734\n",
       "Name: maga, dtype: int64"
      ]
     },
     "metadata": {},
     "execution_count": 10
    }
   ],
   "source": [
    "df_hashtag.loc[\"maga\"]"
   ]
  },
  {
   "cell_type": "code",
   "execution_count": 33,
   "metadata": {},
   "outputs": [
    {
     "output_type": "stream",
     "name": "stdout",
     "text": [
      "Top 10 by  promoters\n               retweet_count_promoters  tweet_count_promoters\nstopthesteal                   1561790                 582542\nelectionfraud                   500632                 150845\nvoterfraud                      394145                 191881\nmaga                            261084                  73584\nfightback                       251893                  61070\nwethepeople                     208667                  19362\ngeorgia                         191745                  16152\nelection2020                    177869                  59062\ntrump2020                       170154                  93311\ntrumpwon                        136153                  42167\nTop 10 by  detractors\n                     retweet_count_detractors  tweet_count_detractors\nelection2020                            22384                    5765\nprotect2020                             15297                     124\nstopthesteal                            15201                   17662\ntrump                                    9976                   10121\nelectionresults2020                      9444                    1076\nliarinchief                              8917                     596\nvoterfraud                               7925                    8423\ngapol                                    7767                     668\ndemvoice1                                6943                     357\nmaga                                     6626                    8610\nTop 10 by  suspended_users\n               retweet_count_suspended_users  tweet_count_suspended_users\nstopthesteal                          557301                       188792\nelectionfraud                         188020                        48761\nvoterfraud                            140311                        63689\nfightback                              99819                        28268\nmaga                                   97692                        29267\nwethepeople                            74255                         7256\ngeorgia                                68927                         5235\ntrump2020                              66898                        35448\nelection2020                           57469                        16522\ntrumpwon                               56506                        19549\n"
     ]
    }
   ],
   "source": [
    "for metric in [\"promoters\", \"detractors\", \"suspended_users\"]:\n",
    "    print(\"Top 10 by \", metric)\n",
    "    print(df_hashtag.nlargest(10, \"retweet_count_{}\".format(metric))[[\"retweet_count_{}\".format(metric), \"tweet_count_{}\".format(metric)]])"
   ]
  },
  {
   "source": [
    "## Candidate shares\n"
   ],
   "cell_type": "markdown",
   "metadata": {}
  },
  {
   "source": [
    "## Media"
   ],
   "cell_type": "markdown",
   "metadata": {}
  },
  {
   "cell_type": "code",
   "execution_count": 22,
   "metadata": {},
   "outputs": [
    {
     "output_type": "stream",
     "name": "stdout",
     "text": [
      "<class 'pandas.core.frame.DataFrame'>\nIndex: 201259 entries, 5327346445844480 to 5114016670154752\nData columns (total 53 columns):\n #   Column                      Non-Null Count   Dtype           \n---  ------                      --------------   -----           \n 0   w_hash                      201259 non-null  object          \n 1   tweet_id                    201259 non-null  object          \n 2   p_hash                      201259 non-null  object          \n 3   media_id                    201259 non-null  object          \n 4   a_hash                      201259 non-null  object          \n 5   type                        201259 non-null  object          \n 6   media_url                   201259 non-null  object          \n 7   urls                        201259 non-null  object          \n 8   hasMedia                    201259 non-null  bool            \n 9   hashtags                    201259 non-null  object          \n 10  retweet_count               201259 non-null  int32           \n 11  quote_count                 201259 non-null  int32           \n 12  user                        201259 non-null  object          \n 13  text                        201259 non-null  object          \n 14  quote_tweet                 94890 non-null   object          \n 15  timestamp                   201259 non-null  object          \n 16  tokens                      201259 non-null  object          \n 17  election fraud              201259 non-null  Sparse[int64, 0]\n 18  voter fraud                 201259 non-null  Sparse[int64, 0]\n 19  #voterfraud                 201259 non-null  Sparse[int64, 0]\n 20  #stopthesteal               201259 non-null  Sparse[int64, 0]\n 21  #ballotharvesting           201259 non-null  Sparse[int64, 0]\n 22  ballot fraud                201259 non-null  Sparse[int64, 0]\n 23  #electionfraud              201259 non-null  Sparse[int64, 0]\n 24  #electioninterference       201259 non-null  Sparse[int64, 0]\n 25  ballot harvesting           201259 non-null  Sparse[int64, 0]\n 26  election interference       201259 non-null  Sparse[int64, 0]\n 27  #electiontampering          201259 non-null  Sparse[int64, 0]\n 28  #cheatingdemocrats          201259 non-null  Sparse[int64, 0]\n 29  election tampering          201259 non-null  Sparse[int64, 0]\n 30  democrats cheat             201259 non-null  Sparse[int64, 0]\n 31  #voterfraudisreal           201259 non-null  Sparse[int64, 0]\n 32  cheating democrats          201259 non-null  Sparse[int64, 0]\n 33  #gopvoterfraud              201259 non-null  Sparse[int64, 0]\n 34  destroyed ballots           201259 non-null  Sparse[int64, 0]\n 35  stolen ballots              201259 non-null  Sparse[int64, 0]\n 36  #ballotfraud                201259 non-null  Sparse[int64, 0]\n 37  discarded ballots           201259 non-null  Sparse[int64, 0]\n 38  hacked voting machine       201259 non-null  Sparse[int64, 0]\n 39  pre-filled ballot           201259 non-null  Sparse[int64, 0]\n 40  harvest ballot              201259 non-null  Sparse[int64, 0]\n 41  #stopvoterfraud             201259 non-null  Sparse[int64, 0]\n 42  #democratvoterfraud         201259 non-null  Sparse[int64, 0]\n 43  #ballotvoterfraud           201259 non-null  Sparse[int64, 0]\n 44  #nomailinvoting             201259 non-null  Sparse[int64, 0]\n 45  #ilhanomarballotharvesting  201259 non-null  Sparse[int64, 0]\n 46  vote by mail fraud          201259 non-null  Sparse[int64, 0]\n 47  #mailinvoterfraud           201259 non-null  Sparse[int64, 0]\n 48  #votebymailfraud            201259 non-null  Sparse[int64, 0]\n 49  #ilhanomarvoterfraud        201259 non-null  Sparse[int64, 0]\n 50  #stopgopvoterfraud          201259 non-null  Sparse[int64, 0]\n 51  #discardedballots           201259 non-null  Sparse[int64, 0]\n 52  #hackedvotingmachines       201259 non-null  Sparse[int64, 0]\ndtypes: Sparse[int64, 0](36), bool(1), int32(2), object(14)\nmemory usage: 26.0+ MB\n"
     ]
    }
   ],
   "source": [
    "df_media_with_tweets = pd.read_pickle(DATAFRAMES_DIR + 'df_media_with_tweets.pickle')\n",
    "df_media_with_tweets.info()"
   ]
  },
  {
   "cell_type": "code",
   "execution_count": 23,
   "metadata": {},
   "outputs": [
    {
     "output_type": "execute_result",
     "data": {
      "text/plain": [
       "['retweets_by_suspended',\n",
       " 'quotes_by_suspended',\n",
       " 'quotes_crawled',\n",
       " 'retweets_crawled',\n",
       " 'retweets_by_cluster_0',\n",
       " 'retweets_by_cluster_1',\n",
       " 'retweets_by_cluster_2',\n",
       " 'retweets_by_cluster_3',\n",
       " 'retweets_by_cluster_4',\n",
       " 'quotes_by_cluster_0',\n",
       " 'quotes_by_cluster_1',\n",
       " 'quotes_by_cluster_2',\n",
       " 'quotes_by_cluster_3',\n",
       " 'quotes_by_cluster_4']"
      ]
     },
     "metadata": {},
     "execution_count": 23
    }
   ],
   "source": [
    "relevant_media_dict_cols = [key for key in next(iter(content_shares_by_cluster[\"media_by_tweet_id\"].values())).keys() if key not in [\"tweet_count\", \"retweet_count\", \"quote_count\"] and not key.startswith(\"tweets_by_\")]\n",
    "\n",
    "relevant_media_dict_cols"
   ]
  },
  {
   "cell_type": "code",
   "execution_count": 13,
   "metadata": {},
   "outputs": [],
   "source": [
    "with open(\"./candidate_shares.pickle\", \"rb\") as f:\n",
    "    candidates_json = pickle.load(f)\n",
    "    candidate_shares = candidates_json[\"candidate_shares\"]\n",
    "    candidate_map = candidates_json[\"candidate_map\"]"
   ]
  },
  {
   "cell_type": "code",
   "execution_count": 30,
   "metadata": {},
   "outputs": [],
   "source": [
    "promoter_cluster_p_hashes = set([\"b9b7628638c935ca\", \"d47a09e12cb81fc7\", \"9a2f6093d0aadcec\"])\n",
    "detractor_cluster_p_hashes = set([\"db89245c35ad52ad\", \"d5ad2ad8d5274658\", \"9ab74070ec46f0bd\"])\n",
    "\n",
    "media_shares_by_candidates = {\n",
    "    \"retweets\": defaultdict(lambda: []),\n",
    "    \"tweets\": defaultdict(lambda: [])\n",
    "}\n",
    "\n",
    "for i, tweet_id, user, p_hash in df_media_with_tweets[[\"tweet_id\", \"user\", \"p_hash\"]].itertuples():\n",
    "    if (user in candidate_map):\n",
    "        media_shares_by_candidates[\"tweets\"][user].append(tweet_id)\n",
    "\n",
    "        if (p_hash in promoter_cluster_p_hashes):\n",
    "            print(\"p_hash match, promoter tweet\")\n",
    "\n",
    "        if (p_hash in detractor_cluster_p_hashes):\n",
    "            print(\"p_hash match, detractor tweet\")\n",
    "\n",
    "    if (tweet_id in candidate_shares):\n",
    "        media_shares_by_candidates[\"retweets\"][user].append(tweet_id)\n",
    "\n",
    "        if (p_hash in promoter_cluster_p_hashes):\n",
    "            print(\"p_hash match, promoter retweet\")\n",
    "\n",
    "        if (p_hash in detractor_cluster_p_hashes):\n",
    "            print(\"p_hash match, detractor retweet\")\n"
   ]
  },
  {
   "cell_type": "code",
   "execution_count": 24,
   "metadata": {
    "tags": []
   },
   "outputs": [],
   "source": [
    "media_map = content_shares_by_cluster[\"media_by_tweet_id\"]\n",
    "def get_media_metrics (tweet_id, col):\n",
    "    if (tweet_id in media_map):\n",
    "        return media_map[tweet_id][col]\n",
    "    else:\n",
    "        raise (\"Missing media tweet id\", tweet_id)\n",
    "        \n",
    "for col in relevant_media_dict_cols:\n",
    "    df_media_with_tweets[col] = df_media_with_tweets.apply(lambda x: get_media_metrics(x[\"tweet_id\"], col), axis=1)"
   ]
  },
  {
   "cell_type": "code",
   "execution_count": 25,
   "metadata": {},
   "outputs": [],
   "source": [
    "import pickle \n",
    "with open(\"./graph_with_communities.pickle\", \"rb\") as f:\n",
    "    graph_with_communities = pickle.load(f)"
   ]
  },
  {
   "cell_type": "code",
   "execution_count": 26,
   "metadata": {},
   "outputs": [
    {
     "output_type": "stream",
     "name": "stdout",
     "text": [
      "1697944\n"
     ]
    }
   ],
   "source": [
    "user_community_map = {}\n",
    "\n",
    "for node, data in graph_with_communities.nodes(data=True):\n",
    "    user_community_map[data[\"user_id\"]] = data[\"community\"]\n",
    "\n",
    "print(len(user_community_map))\n",
    "\n",
    "def get_user_community(user_id):\n",
    "    if user_id in user_community_map:\n",
    "        return user_community_map[user_id]\n",
    "    else:\n",
    "        return np.nan\n",
    "\n",
    "df_media_with_tweets[\"user_cluster\"] = df_media_with_tweets.apply(lambda x: get_user_community(x[\"user\"]), axis=1).astype('Int64')"
   ]
  },
  {
   "cell_type": "code",
   "execution_count": null,
   "metadata": {},
   "outputs": [],
   "source": [
    "df_media_with_tweets[df_media_with_tweets.p_hash.notna()]"
   ]
  },
  {
   "cell_type": "code",
   "execution_count": 27,
   "metadata": {},
   "outputs": [
    {
     "output_type": "execute_result",
     "data": {
      "text/plain": [
       "                             tweet_id             media_id  \\\n",
       "datastore_id                                                 \n",
       "6245933826179072  1324064583355494400  1324064556117733376   \n",
       "5894090105290752  1324064583355494400  1324064576673968128   \n",
       "5964458849468416  1324064583355494400  1324064568486764548   \n",
       "\n",
       "                                user  user_cluster  retweets_by_suspended  \\\n",
       "datastore_id                                                                \n",
       "6245933826179072  999153867374841856             1                    682   \n",
       "5894090105290752  999153867374841856             1                    682   \n",
       "5964458849468416  999153867374841856             1                    682   \n",
       "\n",
       "                  quotes_by_suspended  quotes_crawled  retweets_crawled  \\\n",
       "datastore_id                                                              \n",
       "6245933826179072                  140            1583              6318   \n",
       "5894090105290752                  140            1583              6318   \n",
       "5964458849468416                  140            1583              6318   \n",
       "\n",
       "                  retweets_by_cluster_0  retweets_by_cluster_1  \\\n",
       "datastore_id                                                     \n",
       "6245933826179072                     21                   1986   \n",
       "5894090105290752                     21                   1986   \n",
       "5964458849468416                     21                   1986   \n",
       "\n",
       "                  retweets_by_cluster_2  retweets_by_cluster_3  \\\n",
       "datastore_id                                                     \n",
       "6245933826179072                   2014                   1187   \n",
       "5894090105290752                   2014                   1187   \n",
       "5964458849468416                   2014                   1187   \n",
       "\n",
       "                  retweets_by_cluster_4  quotes_by_cluster_0  \\\n",
       "datastore_id                                                   \n",
       "6245933826179072                    283                   13   \n",
       "5894090105290752                    283                   13   \n",
       "5964458849468416                    283                   13   \n",
       "\n",
       "                  quotes_by_cluster_1  quotes_by_cluster_2  \\\n",
       "datastore_id                                                 \n",
       "6245933826179072                  135                  415   \n",
       "5894090105290752                  135                  415   \n",
       "5964458849468416                  135                  415   \n",
       "\n",
       "                  quotes_by_cluster_3  quotes_by_cluster_4  \n",
       "datastore_id                                                \n",
       "6245933826179072                  274                  110  \n",
       "5894090105290752                  274                  110  \n",
       "5964458849468416                  274                  110  "
      ],
      "text/html": "<div>\n<style scoped>\n    .dataframe tbody tr th:only-of-type {\n        vertical-align: middle;\n    }\n\n    .dataframe tbody tr th {\n        vertical-align: top;\n    }\n\n    .dataframe thead th {\n        text-align: right;\n    }\n</style>\n<table border=\"1\" class=\"dataframe\">\n  <thead>\n    <tr style=\"text-align: right;\">\n      <th></th>\n      <th>tweet_id</th>\n      <th>media_id</th>\n      <th>user</th>\n      <th>user_cluster</th>\n      <th>retweets_by_suspended</th>\n      <th>quotes_by_suspended</th>\n      <th>quotes_crawled</th>\n      <th>retweets_crawled</th>\n      <th>retweets_by_cluster_0</th>\n      <th>retweets_by_cluster_1</th>\n      <th>retweets_by_cluster_2</th>\n      <th>retweets_by_cluster_3</th>\n      <th>retweets_by_cluster_4</th>\n      <th>quotes_by_cluster_0</th>\n      <th>quotes_by_cluster_1</th>\n      <th>quotes_by_cluster_2</th>\n      <th>quotes_by_cluster_3</th>\n      <th>quotes_by_cluster_4</th>\n    </tr>\n    <tr>\n      <th>datastore_id</th>\n      <th></th>\n      <th></th>\n      <th></th>\n      <th></th>\n      <th></th>\n      <th></th>\n      <th></th>\n      <th></th>\n      <th></th>\n      <th></th>\n      <th></th>\n      <th></th>\n      <th></th>\n      <th></th>\n      <th></th>\n      <th></th>\n      <th></th>\n      <th></th>\n    </tr>\n  </thead>\n  <tbody>\n    <tr>\n      <th>6245933826179072</th>\n      <td>1324064583355494400</td>\n      <td>1324064556117733376</td>\n      <td>999153867374841856</td>\n      <td>1</td>\n      <td>682</td>\n      <td>140</td>\n      <td>1583</td>\n      <td>6318</td>\n      <td>21</td>\n      <td>1986</td>\n      <td>2014</td>\n      <td>1187</td>\n      <td>283</td>\n      <td>13</td>\n      <td>135</td>\n      <td>415</td>\n      <td>274</td>\n      <td>110</td>\n    </tr>\n    <tr>\n      <th>5894090105290752</th>\n      <td>1324064583355494400</td>\n      <td>1324064576673968128</td>\n      <td>999153867374841856</td>\n      <td>1</td>\n      <td>682</td>\n      <td>140</td>\n      <td>1583</td>\n      <td>6318</td>\n      <td>21</td>\n      <td>1986</td>\n      <td>2014</td>\n      <td>1187</td>\n      <td>283</td>\n      <td>13</td>\n      <td>135</td>\n      <td>415</td>\n      <td>274</td>\n      <td>110</td>\n    </tr>\n    <tr>\n      <th>5964458849468416</th>\n      <td>1324064583355494400</td>\n      <td>1324064568486764548</td>\n      <td>999153867374841856</td>\n      <td>1</td>\n      <td>682</td>\n      <td>140</td>\n      <td>1583</td>\n      <td>6318</td>\n      <td>21</td>\n      <td>1986</td>\n      <td>2014</td>\n      <td>1187</td>\n      <td>283</td>\n      <td>13</td>\n      <td>135</td>\n      <td>415</td>\n      <td>274</td>\n      <td>110</td>\n    </tr>\n  </tbody>\n</table>\n</div>"
     },
     "metadata": {},
     "execution_count": 27
    }
   ],
   "source": [
    "df_media_with_tweets[df_media_with_tweets.duplicated(\"tweet_id\")].sort_values(\"retweet_count\", ascending=False)[:3][[\"tweet_id\", \"media_id\", \"user\", \"user_cluster\"] + relevant_media_dict_cols]"
   ]
  },
  {
   "cell_type": "code",
   "execution_count": 15,
   "metadata": {},
   "outputs": [
    {
     "output_type": "execute_result",
     "data": {
      "text/plain": [
       "196330"
      ]
     },
     "metadata": {},
     "execution_count": 15
    }
   ],
   "source": [
    "df_media_with_tweets[\"media_id\"].nunique()"
   ]
  },
  {
   "cell_type": "code",
   "execution_count": 31,
   "metadata": {},
   "outputs": [
    {
     "output_type": "stream",
     "name": "stdout",
     "text": [
      "(167696, 4)\nIndex(['tweet_id', 'a_hash', 'p_hash', 'w_hash'], dtype='object')\n"
     ]
    }
   ],
   "source": [
    "import pandas as pd\n",
    "\n",
    "df_media_with_tweets['timestamp'] = pd.to_datetime(df_media_with_tweets['timestamp'])\n",
    "for_export = df_media_with_tweets[(df_media_with_tweets['timestamp'] > '2020-10-23 00:00:00')  & (df_media_with_tweets['w_hash'] != \"NA\")][[\n",
    "#'media_url', 'p_hash', 'w_hash', 'a_hash', 'media_id', 'tweet_id', 'hashtags', 'user', 'user_cluster', 'type', 'retweet_count', 'quote_count', 'timestamp'\n",
    "#] + relevant_media_dict_cols]\n",
    "    'tweet_id', 'a_hash', 'p_hash', 'w_hash'\n",
    "]] \n",
    "\n",
    "#print(for_export['timestamp'].min())\n",
    "#print(for_export['timestamp'].max())\n",
    "print(for_export.shape)\n",
    "print(for_export.columns)\n",
    "for_export.to_csv(\"./data_export/final/images.csv\", index_label=\"unique_id\")"
   ]
  },
  {
   "cell_type": "code",
   "execution_count": 32,
   "metadata": {},
   "outputs": [],
   "source": [
    "for_export.to_csv(\"./data_export/final/samples/images-sample.csv\", index_label=\"unique_id\")"
   ]
  },
  {
   "cell_type": "code",
   "execution_count": 46,
   "metadata": {},
   "outputs": [
    {
     "output_type": "stream",
     "name": "stdout",
     "text": [
      "(201259, 4)\nIndex(['tweet_id', 'a_hash', 'p_hash', 'w_hash'], dtype='object')\n"
     ]
    }
   ],
   "source": [
    "import pandas as pd\n",
    "\n",
    "for_export = df_media_with_tweets[[\n",
    "    'media_url', 'p_hash', 'w_hash', 'a_hash', 'media_id', 'tweet_id', 'hashtags', 'user', 'user_cluster', 'type', 'retweet_count', 'quote_count', 'timestamp'\n",
    "] + relevant_media_dict_cols]\n",
    "\n",
    "for_export['timestamp'] = pd.to_datetime(for_export['timestamp'])\n",
    "for_export = for_export[(for_export['timestamp'] > '2020-10-23 00:00:00') & (for_export['w_hash'] != \"NA\")]\n",
    "print(for_export['timestamp'].min())\n",
    "print(for_export['timestamp'].max())\n",
    "print(for_export.shape)\n",
    "print(for_export.columns)\n",
    "for_export.to_csv(\"./data_export/final/media.csv\", index_label=\"datastore_id\")"
   ]
  },
  {
   "cell_type": "code",
   "execution_count": null,
   "metadata": {},
   "outputs": [],
   "source": []
  },
  {
   "cell_type": "code",
   "execution_count": 57,
   "metadata": {},
   "outputs": [
    {
     "output_type": "execute_result",
     "data": {
      "text/plain": [
       "196330"
      ]
     },
     "metadata": {},
     "execution_count": 57
    }
   ],
   "source": [
    "df_media_with_tweets[\"media_id\"].nunique()"
   ]
  },
  {
   "cell_type": "code",
   "execution_count": 58,
   "metadata": {},
   "outputs": [
    {
     "output_type": "execute_result",
     "data": {
      "text/plain": [
       "164774"
      ]
     },
     "metadata": {},
     "execution_count": 58
    }
   ],
   "source": [
    "df_media_with_tweets[df_media_with_tweets.w_hash != \"NA\"][\"media_id\"].nunique()"
   ]
  },
  {
   "cell_type": "code",
   "execution_count": 18,
   "metadata": {},
   "outputs": [
    {
     "output_type": "stream",
     "name": "stdout",
     "text": [
      "2020-10-23T17:00:04Z\n",
      "2020-12-16T13:08:49Z\n"
     ]
    }
   ],
   "source": [
    "print(df_recent_tweets[\"timestamp\"].min())\n",
    "print(df_recent_tweets[\"timestamp\"].max())"
   ]
  },
  {
   "cell_type": "code",
   "execution_count": 42,
   "metadata": {},
   "outputs": [
    {
     "output_type": "stream",
     "name": "stdout",
     "text": [
      "<class 'pandas.core.frame.DataFrame'>\nRangeIndex: 201259 entries, 0 to 201258\nData columns (total 28 columns):\n #   Column                 Non-Null Count   Dtype  \n---  ------                 --------------   -----  \n 0   datastore_id           201259 non-null  int64  \n 1   media_url              201259 non-null  object \n 2   p_hash                 167696 non-null  object \n 3   w_hash                 167696 non-null  object \n 4   a_hash                 167696 non-null  object \n 5   media_id               201259 non-null  int64  \n 6   tweet_id               201259 non-null  int64  \n 7   hashtags               201259 non-null  object \n 8   user                   201259 non-null  int64  \n 9   user_cluster           159574 non-null  float64\n 10  type                   201259 non-null  object \n 11  retweet_count          201259 non-null  int64  \n 12  quote_count            201259 non-null  int64  \n 13  timestamp              201259 non-null  object \n 14  retweets_by_suspended  201259 non-null  int64  \n 15  quotes_by_suspended    201259 non-null  int64  \n 16  quotes_crawled         201259 non-null  int64  \n 17  retweets_crawled       201259 non-null  int64  \n 18  retweets_by_cluster_0  201259 non-null  int64  \n 19  retweets_by_cluster_1  201259 non-null  int64  \n 20  retweets_by_cluster_2  201259 non-null  int64  \n 21  retweets_by_cluster_3  201259 non-null  int64  \n 22  retweets_by_cluster_4  201259 non-null  int64  \n 23  quotes_by_cluster_0    201259 non-null  int64  \n 24  quotes_by_cluster_1    201259 non-null  int64  \n 25  quotes_by_cluster_2    201259 non-null  int64  \n 26  quotes_by_cluster_3    201259 non-null  int64  \n 27  quotes_by_cluster_4    201259 non-null  int64  \ndtypes: float64(1), int64(20), object(7)\nmemory usage: 43.0+ MB\n"
     ]
    }
   ],
   "source": [
    "# Test export\n",
    "df = pd.read_csv(\"./data_export/final/media.csv\")\n",
    "df.info()"
   ]
  },
  {
   "cell_type": "code",
   "execution_count": 129,
   "metadata": {},
   "outputs": [
    {
     "output_type": "execute_result",
     "data": {
      "text/plain": [
       "            datastore_id                                          media_url  \\\n",
       "8959    6641351693172736  http://pbs.twimg.com/amplify_video_thumb/13316...   \n",
       "146404  6245933826179072     http://pbs.twimg.com/media/EmAFstcVMAAtFSs.jpg   \n",
       "146406  5964458849468416     http://pbs.twimg.com/media/EmAFtbhVoAQFOoR.jpg   \n",
       "146403  6597777547067392     http://pbs.twimg.com/media/EmAFs4dUcAAm9aG.jpg   \n",
       "146405  5894090105290752     http://pbs.twimg.com/media/EmAFt6BUcAAcs5r.jpg   \n",
       "...                  ...                                                ...   \n",
       "67449   4983273570697216     http://pbs.twimg.com/media/El5rE6cX0AEzHiE.jpg   \n",
       "67450   6601754686783488     http://pbs.twimg.com/media/El5rQJeXUAYvD12.jpg   \n",
       "67451   6194288320839680     http://pbs.twimg.com/media/El5rdnpWoAAONuA.jpg   \n",
       "67452   6335025809195008  http://pbs.twimg.com/ext_tw_video_thumb/132361...   \n",
       "201258  5114016670154752     http://pbs.twimg.com/media/EmE-D5KWoAEZLbG.jpg   \n",
       "\n",
       "                  p_hash            w_hash            a_hash  \\\n",
       "8959                 NaN               NaN               NaN   \n",
       "146404  830c29a73df3259d  131d3c3c3e3ebe08  131c3c3c3e3ebc0c   \n",
       "146406  9a2f6093d0aadcec  e703933c3e1e5748  c701812c3c1e47c0   \n",
       "146403  a9661439e4e4db1b  010177ffdf8f0b02  010037f7df8f0b00   \n",
       "146405  bb608e97dc25b10b  3f6701011f0f1f1f  3f6341831f0f1f1f   \n",
       "...                  ...               ...               ...   \n",
       "67449   8d5350f3d2e1b2a9  7e003b333b333b32  7e103b3333333332   \n",
       "67450   8ac775384ec7b0b8  0000ffffffff0000  0000ffff19000000   \n",
       "67451   91f3e72c082c5776  efefee5f0d0a0200  e7efee590c000200   \n",
       "67452                NaN               NaN               NaN   \n",
       "201258  91849f933cc71fd0  7f7e7e722e286800  7e7e7e704a082000   \n",
       "\n",
       "                   media_id             tweet_id                     hashtags  \\\n",
       "8959    1331691016974446597  1331695288231333890                           []   \n",
       "146404  1324064556117733376  1324064583355494400                           []   \n",
       "146406  1324064568486764548  1324064583355494400                           []   \n",
       "146403  1324064559074668544  1324064583355494400                           []   \n",
       "146405  1324064576673968128  1324064583355494400                           []   \n",
       "...                     ...                  ...                          ...   \n",
       "67449   1323613072645410817  1323613145701720070                           []   \n",
       "67450   1323613265658859526  1323613278317219840                           []   \n",
       "67451   1323613497096314880  1323613499428405250                           []   \n",
       "67452   1323613542642311168  1323613620404686849  ['DemocratsTheEnemyWithin']   \n",
       "201258  1324408002028412929  1324408006675779585                           []   \n",
       "\n",
       "                       user  user_cluster  ... retweets_by_cluster_0  \\\n",
       "8959               25073877           1.0  ...                    55   \n",
       "146404   999153867374841856           1.0  ...                    21   \n",
       "146406   999153867374841856           1.0  ...                    21   \n",
       "146403   999153867374841856           1.0  ...                    21   \n",
       "146405   999153867374841856           1.0  ...                    21   \n",
       "...                     ...           ...  ...                   ...   \n",
       "67449    817742628984909824           2.0  ...                     0   \n",
       "67450   1314260098013974530           1.0  ...                     0   \n",
       "67451   1313936553568276481           2.0  ...                     0   \n",
       "67452    870850619397087232           2.0  ...                     0   \n",
       "201258  1305995470339178496           2.0  ...                     0   \n",
       "\n",
       "        retweets_by_cluster_1  retweets_by_cluster_2 retweets_by_cluster_3  \\\n",
       "8959                     3195                   9805                   398   \n",
       "146404                   1986                   2014                  1187   \n",
       "146406                   1986                   2014                  1187   \n",
       "146403                   1986                   2014                  1187   \n",
       "146405                   1986                   2014                  1187   \n",
       "...                       ...                    ...                   ...   \n",
       "67449                       0                      7                     0   \n",
       "67450                       0                      0                     0   \n",
       "67451                       0                      0                     0   \n",
       "67452                       0                      0                     0   \n",
       "201258                      0                      0                     0   \n",
       "\n",
       "        retweets_by_cluster_4  quotes_by_cluster_0  quotes_by_cluster_1  \\\n",
       "8959                      395                    4                   17   \n",
       "146404                    283                   13                  135   \n",
       "146406                    283                   13                  135   \n",
       "146403                    283                   13                  135   \n",
       "146405                    283                   13                  135   \n",
       "...                       ...                  ...                  ...   \n",
       "67449                       0                    0                    0   \n",
       "67450                       0                    0                    0   \n",
       "67451                       0                    0                    0   \n",
       "67452                       0                    0                    0   \n",
       "201258                      0                    0                    0   \n",
       "\n",
       "        quotes_by_cluster_2  quotes_by_cluster_3  quotes_by_cluster_4  \n",
       "8959                    139                    0                    0  \n",
       "146404                  415                  274                  110  \n",
       "146406                  415                  274                  110  \n",
       "146403                  415                  274                  110  \n",
       "146405                  415                  274                  110  \n",
       "...                     ...                  ...                  ...  \n",
       "67449                     2                    0                    0  \n",
       "67450                     0                    0                    0  \n",
       "67451                     0                    0                    0  \n",
       "67452                     0                    0                    0  \n",
       "201258                    0                    0                    0  \n",
       "\n",
       "[201259 rows x 24 columns]"
      ],
      "text/html": "<div>\n<style scoped>\n    .dataframe tbody tr th:only-of-type {\n        vertical-align: middle;\n    }\n\n    .dataframe tbody tr th {\n        vertical-align: top;\n    }\n\n    .dataframe thead th {\n        text-align: right;\n    }\n</style>\n<table border=\"1\" class=\"dataframe\">\n  <thead>\n    <tr style=\"text-align: right;\">\n      <th></th>\n      <th>datastore_id</th>\n      <th>media_url</th>\n      <th>p_hash</th>\n      <th>w_hash</th>\n      <th>a_hash</th>\n      <th>media_id</th>\n      <th>tweet_id</th>\n      <th>hashtags</th>\n      <th>user</th>\n      <th>user_cluster</th>\n      <th>...</th>\n      <th>retweets_by_cluster_0</th>\n      <th>retweets_by_cluster_1</th>\n      <th>retweets_by_cluster_2</th>\n      <th>retweets_by_cluster_3</th>\n      <th>retweets_by_cluster_4</th>\n      <th>quotes_by_cluster_0</th>\n      <th>quotes_by_cluster_1</th>\n      <th>quotes_by_cluster_2</th>\n      <th>quotes_by_cluster_3</th>\n      <th>quotes_by_cluster_4</th>\n    </tr>\n  </thead>\n  <tbody>\n    <tr>\n      <th>8959</th>\n      <td>6641351693172736</td>\n      <td>http://pbs.twimg.com/amplify_video_thumb/13316...</td>\n      <td>NaN</td>\n      <td>NaN</td>\n      <td>NaN</td>\n      <td>1331691016974446597</td>\n      <td>1331695288231333890</td>\n      <td>[]</td>\n      <td>25073877</td>\n      <td>1.0</td>\n      <td>...</td>\n      <td>55</td>\n      <td>3195</td>\n      <td>9805</td>\n      <td>398</td>\n      <td>395</td>\n      <td>4</td>\n      <td>17</td>\n      <td>139</td>\n      <td>0</td>\n      <td>0</td>\n    </tr>\n    <tr>\n      <th>146404</th>\n      <td>6245933826179072</td>\n      <td>http://pbs.twimg.com/media/EmAFstcVMAAtFSs.jpg</td>\n      <td>830c29a73df3259d</td>\n      <td>131d3c3c3e3ebe08</td>\n      <td>131c3c3c3e3ebc0c</td>\n      <td>1324064556117733376</td>\n      <td>1324064583355494400</td>\n      <td>[]</td>\n      <td>999153867374841856</td>\n      <td>1.0</td>\n      <td>...</td>\n      <td>21</td>\n      <td>1986</td>\n      <td>2014</td>\n      <td>1187</td>\n      <td>283</td>\n      <td>13</td>\n      <td>135</td>\n      <td>415</td>\n      <td>274</td>\n      <td>110</td>\n    </tr>\n    <tr>\n      <th>146406</th>\n      <td>5964458849468416</td>\n      <td>http://pbs.twimg.com/media/EmAFtbhVoAQFOoR.jpg</td>\n      <td>9a2f6093d0aadcec</td>\n      <td>e703933c3e1e5748</td>\n      <td>c701812c3c1e47c0</td>\n      <td>1324064568486764548</td>\n      <td>1324064583355494400</td>\n      <td>[]</td>\n      <td>999153867374841856</td>\n      <td>1.0</td>\n      <td>...</td>\n      <td>21</td>\n      <td>1986</td>\n      <td>2014</td>\n      <td>1187</td>\n      <td>283</td>\n      <td>13</td>\n      <td>135</td>\n      <td>415</td>\n      <td>274</td>\n      <td>110</td>\n    </tr>\n    <tr>\n      <th>146403</th>\n      <td>6597777547067392</td>\n      <td>http://pbs.twimg.com/media/EmAFs4dUcAAm9aG.jpg</td>\n      <td>a9661439e4e4db1b</td>\n      <td>010177ffdf8f0b02</td>\n      <td>010037f7df8f0b00</td>\n      <td>1324064559074668544</td>\n      <td>1324064583355494400</td>\n      <td>[]</td>\n      <td>999153867374841856</td>\n      <td>1.0</td>\n      <td>...</td>\n      <td>21</td>\n      <td>1986</td>\n      <td>2014</td>\n      <td>1187</td>\n      <td>283</td>\n      <td>13</td>\n      <td>135</td>\n      <td>415</td>\n      <td>274</td>\n      <td>110</td>\n    </tr>\n    <tr>\n      <th>146405</th>\n      <td>5894090105290752</td>\n      <td>http://pbs.twimg.com/media/EmAFt6BUcAAcs5r.jpg</td>\n      <td>bb608e97dc25b10b</td>\n      <td>3f6701011f0f1f1f</td>\n      <td>3f6341831f0f1f1f</td>\n      <td>1324064576673968128</td>\n      <td>1324064583355494400</td>\n      <td>[]</td>\n      <td>999153867374841856</td>\n      <td>1.0</td>\n      <td>...</td>\n      <td>21</td>\n      <td>1986</td>\n      <td>2014</td>\n      <td>1187</td>\n      <td>283</td>\n      <td>13</td>\n      <td>135</td>\n      <td>415</td>\n      <td>274</td>\n      <td>110</td>\n    </tr>\n    <tr>\n      <th>...</th>\n      <td>...</td>\n      <td>...</td>\n      <td>...</td>\n      <td>...</td>\n      <td>...</td>\n      <td>...</td>\n      <td>...</td>\n      <td>...</td>\n      <td>...</td>\n      <td>...</td>\n      <td>...</td>\n      <td>...</td>\n      <td>...</td>\n      <td>...</td>\n      <td>...</td>\n      <td>...</td>\n      <td>...</td>\n      <td>...</td>\n      <td>...</td>\n      <td>...</td>\n      <td>...</td>\n    </tr>\n    <tr>\n      <th>67449</th>\n      <td>4983273570697216</td>\n      <td>http://pbs.twimg.com/media/El5rE6cX0AEzHiE.jpg</td>\n      <td>8d5350f3d2e1b2a9</td>\n      <td>7e003b333b333b32</td>\n      <td>7e103b3333333332</td>\n      <td>1323613072645410817</td>\n      <td>1323613145701720070</td>\n      <td>[]</td>\n      <td>817742628984909824</td>\n      <td>2.0</td>\n      <td>...</td>\n      <td>0</td>\n      <td>0</td>\n      <td>7</td>\n      <td>0</td>\n      <td>0</td>\n      <td>0</td>\n      <td>0</td>\n      <td>2</td>\n      <td>0</td>\n      <td>0</td>\n    </tr>\n    <tr>\n      <th>67450</th>\n      <td>6601754686783488</td>\n      <td>http://pbs.twimg.com/media/El5rQJeXUAYvD12.jpg</td>\n      <td>8ac775384ec7b0b8</td>\n      <td>0000ffffffff0000</td>\n      <td>0000ffff19000000</td>\n      <td>1323613265658859526</td>\n      <td>1323613278317219840</td>\n      <td>[]</td>\n      <td>1314260098013974530</td>\n      <td>1.0</td>\n      <td>...</td>\n      <td>0</td>\n      <td>0</td>\n      <td>0</td>\n      <td>0</td>\n      <td>0</td>\n      <td>0</td>\n      <td>0</td>\n      <td>0</td>\n      <td>0</td>\n      <td>0</td>\n    </tr>\n    <tr>\n      <th>67451</th>\n      <td>6194288320839680</td>\n      <td>http://pbs.twimg.com/media/El5rdnpWoAAONuA.jpg</td>\n      <td>91f3e72c082c5776</td>\n      <td>efefee5f0d0a0200</td>\n      <td>e7efee590c000200</td>\n      <td>1323613497096314880</td>\n      <td>1323613499428405250</td>\n      <td>[]</td>\n      <td>1313936553568276481</td>\n      <td>2.0</td>\n      <td>...</td>\n      <td>0</td>\n      <td>0</td>\n      <td>0</td>\n      <td>0</td>\n      <td>0</td>\n      <td>0</td>\n      <td>0</td>\n      <td>0</td>\n      <td>0</td>\n      <td>0</td>\n    </tr>\n    <tr>\n      <th>67452</th>\n      <td>6335025809195008</td>\n      <td>http://pbs.twimg.com/ext_tw_video_thumb/132361...</td>\n      <td>NaN</td>\n      <td>NaN</td>\n      <td>NaN</td>\n      <td>1323613542642311168</td>\n      <td>1323613620404686849</td>\n      <td>['DemocratsTheEnemyWithin']</td>\n      <td>870850619397087232</td>\n      <td>2.0</td>\n      <td>...</td>\n      <td>0</td>\n      <td>0</td>\n      <td>0</td>\n      <td>0</td>\n      <td>0</td>\n      <td>0</td>\n      <td>0</td>\n      <td>0</td>\n      <td>0</td>\n      <td>0</td>\n    </tr>\n    <tr>\n      <th>201258</th>\n      <td>5114016670154752</td>\n      <td>http://pbs.twimg.com/media/EmE-D5KWoAEZLbG.jpg</td>\n      <td>91849f933cc71fd0</td>\n      <td>7f7e7e722e286800</td>\n      <td>7e7e7e704a082000</td>\n      <td>1324408002028412929</td>\n      <td>1324408006675779585</td>\n      <td>[]</td>\n      <td>1305995470339178496</td>\n      <td>2.0</td>\n      <td>...</td>\n      <td>0</td>\n      <td>0</td>\n      <td>0</td>\n      <td>0</td>\n      <td>0</td>\n      <td>0</td>\n      <td>0</td>\n      <td>0</td>\n      <td>0</td>\n      <td>0</td>\n    </tr>\n  </tbody>\n</table>\n<p>201259 rows × 24 columns</p>\n</div>"
     },
     "metadata": {},
     "execution_count": 129
    }
   ],
   "source": [
    "df.sort_values(\"retweets_by_cluster_1\", ascending=False)"
   ]
  },
  {
   "source": [
    "# Users"
   ],
   "cell_type": "markdown",
   "metadata": {}
  },
  {
   "cell_type": "code",
   "execution_count": 15,
   "metadata": {},
   "outputs": [
    {
     "output_type": "execute_result",
     "data": {
      "text/plain": [
       "836968"
      ]
     },
     "metadata": {},
     "execution_count": 15
    }
   ],
   "source": [
    "promoters = df_users[(df_users.cluster == 1) | (df_users.cluster == 2) | (df_users.cluster == 3) | (df_users.cluster == 4)]\n",
    "\n",
    "promoters.shape[0]"
   ]
  },
  {
   "source": [
    "## Promoters cluster ban percentage"
   ],
   "cell_type": "markdown",
   "metadata": {}
  },
  {
   "cell_type": "code",
   "execution_count": 17,
   "metadata": {},
   "outputs": [
    {
     "output_type": "execute_result",
     "data": {
      "text/plain": [
       "0.07798267078311237"
      ]
     },
     "metadata": {},
     "execution_count": 17
    }
   ],
   "source": [
    "promoters[promoters.active_status == \"suspended\"].shape[0] / promoters.shape[0]"
   ]
  },
  {
   "cell_type": "code",
   "execution_count": 30,
   "metadata": {},
   "outputs": [
    {
     "output_type": "stream",
     "name": "stdout",
     "text": [
      "--Users retweeted more than 1,000 times in right clusters\nCount: 1596\nAuthor activity status distribution\nactive 988 (61.90%)\nsuspended 560 (35.09%)\ninactive 48 (3.01%)\nCluster distribution\n1 812\n2 727\n3 26\n4 13\n0 4\nRetweets suspended ratio\nMax 0.6788844621513944\nMean 0.32772360586217436\nMin 0.0\n\n\n--Users retweeted more than 5,000 times in right clusters\nCount: 501\nAuthor activity status distribution\nactive 322 (64.27%)\nsuspended 168 (33.53%)\ninactive 11 (2.20%)\nCluster distribution\n1 341\n2 149\n3 5\nRetweets suspended ratio\nMax 0.5953736001468698\nMean 0.3087240788919267\nMin 0.0055152394775036286\n\n\n--Users retweeted more than 10,000 times in right clusters\nCount: 273\nAuthor activity status distribution\nactive 179 (65.57%)\nsuspended 88 (32.23%)\ninactive 6 (2.20%)\nCluster distribution\n1 208\n2 58\n3 1\nRetweets suspended ratio\nMax 0.5287391139719803\nMean 0.29908733942727034\nMin 0.006570512820512821\n\n\n"
     ]
    }
   ],
   "source": [
    "for x in [1000, 5000, 10000]:  \n",
    "    users = df_users[df_users[\"retweets_by_r\"] > x]\n",
    "    total = users.shape[0]\n",
    "    print(\"--Users retweeted more than {:,} times in right clusters\".format(x))\n",
    "    print(\"Count:\", total)\n",
    "    print(\"Author activity status distribution\")\n",
    "    for status, value in users.value_counts(\"active_status\").to_dict().items():\n",
    "        print(status, value, \"({:,.2f}%)\".format((value / total) * 100))\n",
    "    print(\"Cluster distribution\")\n",
    "    for cluster, value in users.value_counts(\"cluster\").to_dict().items():\n",
    "        print(cluster, value)\n",
    "\n",
    "    print(\"Retweets suspended ratio\")\n",
    "    print(\"Max\", users.retweets_suspended_ratio.max())\n",
    "    print(\"Mean\", users.retweets_suspended_ratio.mean())\n",
    "    print(\"Min\", users.retweets_suspended_ratio.min())\n",
    "\n",
    "\n",
    "    \n",
    "    print()\n",
    "    print()"
   ]
  },
  {
   "source": [
    "# Tweets\n"
   ],
   "cell_type": "markdown",
   "metadata": {}
  },
  {
   "cell_type": "code",
   "execution_count": 2,
   "metadata": {},
   "outputs": [],
   "source": [
    "tweets_active_status = pd.read_pickle(\"./df_recent_tweets_with_final_metrics.pickle\")[\"author_active_status\"]"
   ]
  },
  {
   "cell_type": "code",
   "execution_count": 3,
   "metadata": {},
   "outputs": [
    {
     "output_type": "execute_result",
     "data": {
      "text/plain": [
       "active       5842842\n",
       "suspended    1240405\n",
       "inactive      519856\n",
       "Name: author_active_status, dtype: int64"
      ]
     },
     "metadata": {},
     "execution_count": 3
    }
   ],
   "source": [
    "tweets_active_status.value_counts()"
   ]
  },
  {
   "source": [
    "## Tweets with URLs"
   ],
   "cell_type": "markdown",
   "metadata": {}
  },
  {
   "cell_type": "code",
   "execution_count": 10,
   "metadata": {
    "tags": []
   },
   "outputs": [
    {
     "output_type": "stream",
     "name": "stdout",
     "text": [
      "609513\n"
     ]
    }
   ],
   "source": [
    "external_url_tweets = 0\n",
    "for urls in df_recent_tweets.urls:\n",
    "    for url in urls:\n",
    "        if \"twitter.com\" not in url:\n",
    "            external_url_tweets += 1\n",
    "            break\n",
    "\n",
    "print(external_url_tweets)"
   ]
  },
  {
   "cell_type": "code",
   "execution_count": 25,
   "metadata": {},
   "outputs": [
    {
     "output_type": "stream",
     "name": "stdout",
     "text": [
      "--Tweets retweeted more than 100 times in right clusters\nCount: 19464\nAuthor activity status distribution\nactive 11559 (59.39%)\nsuspended 7467 (38.36%)\ninactive 438 (2.25%)\nCluster distribution (authors)\n1 10969\n2 7753\n3 286\n4 112\n0 38\nFor available tweets (11,559):\nRetweets crawled: 10,308,355\nRetweets suspended: 2,543,631 (24.68%)\n\n\n--Tweets retweeted more than 500 times in right clusters\nCount: 4935\nAuthor activity status distribution\nactive 3233 (65.51%)\nsuspended 1593 (32.28%)\ninactive 109 (2.21%)\nCluster distribution (authors)\n1 3866\n2 942\n3 36\n4 10\n0 6\nFor available tweets (3,233):\nRetweets crawled: 8,033,534\nRetweets suspended: 1,967,933 (24.50%)\n\n\n--Tweets retweeted more than 1,000 times in right clusters\nCount: 2685\nAuthor activity status distribution\nactive 1811 (67.45%)\nsuspended 823 (30.65%)\ninactive 51 (1.90%)\nCluster distribution (authors)\n1 2363\n2 276\n3 14\n0 3\n4 1\nFor available tweets (1,811):\nRetweets crawled: 6,853,742\nRetweets suspended: 1,656,724 (24.17%)\n\n\n--Tweets retweeted more than 5,000 times in right clusters\nCount: 487\nAuthor activity status distribution\nactive 269 (55.24%)\nsuspended 216 (44.35%)\ninactive 2 (0.41%)\nCluster distribution (authors)\n1 479\n2 4\nFor available tweets (269):\nRetweets crawled: 2,881,930\nRetweets suspended: 644,771 (22.37%)\n\n\n"
     ]
    }
   ],
   "source": [
    "for x in [100, 500, 1000, 5000]:  \n",
    "    tweets = df_recent_tweets[df_recent_tweets[\"retweets_by_r\"] > x]\n",
    "    total = tweets.shape[0]\n",
    "    print(\"--Tweets retweeted more than {:,} times in right clusters\".format(x))\n",
    "    print(\"Count:\", total)\n",
    "    print(\"Author activity status distribution\")\n",
    "    for status, value in tweets.value_counts(\"author_active_status\").to_dict().items():\n",
    "        print(status, value, \"({:,.2f}%)\".format((value / total) * 100))\n",
    "    print(\"Cluster distribution (authors)\")\n",
    "    for cluster, value in tweets.value_counts(\"cluster\").to_dict().items():\n",
    "        print(cluster, value)\n",
    "\n",
    "    available_tweets = tweets[tweets[\"author_active_status\"] == \"active\"]\n",
    "\n",
    "    print(\"For available tweets ({:,}):\".format(available_tweets.shape[0]))\n",
    "    retweets_crawled = available_tweets.retweets_crawled.sum()\n",
    "    retweets_suspended = available_tweets.retweets_by_suspended.sum()\n",
    "    print(\"Retweets crawled: {:,}\".format(retweets_crawled))\n",
    "    print(\"Retweets suspended: {:,} ({:,.2f}%)\".format(retweets_suspended, (retweets_suspended / retweets_crawled) * 100))\n",
    "\n",
    "    \n",
    "    print()\n",
    "    print()"
   ]
  },
  {
   "cell_type": "code",
   "execution_count": 12,
   "metadata": {},
   "outputs": [
    {
     "output_type": "execute_result",
     "data": {
      "text/plain": [
       "                datastore_id  \\\n",
       "7566713  1324357146088267777   \n",
       "2856721  1324420619539271680   \n",
       "702702   1332352538855747584   \n",
       "1540579  1338871862315667456   \n",
       "6454752  1330148622898515969   \n",
       "5477139  1336811823232921600   \n",
       "1225216  1325432465415163904   \n",
       "5800786  1332317394165968899   \n",
       "816188   1327750127679889409   \n",
       "526525   1337745268591259648   \n",
       "\n",
       "                                                      urls  hasMedia hashtags  \\\n",
       "7566713  [https://twitter.com/i/web/status/132435714608...     False       []   \n",
       "2856721  [https://twitter.com/i/web/status/132442061953...     False       []   \n",
       "702702   [https://twitter.com/i/web/status/133235253885...     False       []   \n",
       "1540579                                                 []     False       []   \n",
       "6454752                                                 []     False       []   \n",
       "5477139  [https://twitter.com/i/web/status/133681182323...     False       []   \n",
       "1225216  [https://twitter.com/i/web/status/132543246541...     False       []   \n",
       "5800786  [https://twitter.com/i/web/status/133231739416...     False       []   \n",
       "816188   [https://twitter.com/i/web/status/132775012767...     False       []   \n",
       "526525   [https://twitter.com/i/web/status/133774526859...     False       []   \n",
       "\n",
       "         retweet_count  quote_count        user  \\\n",
       "7566713         205823         8271  1416374742   \n",
       "2856721         149829         9116   216776631   \n",
       "702702           91902        27139    25073877   \n",
       "1540579          79140        14591    25073877   \n",
       "6454752          78904        13190    25073877   \n",
       "5477139          76171        14055    25073877   \n",
       "1225216          75385        13632    25073877   \n",
       "5800786          73664         9768    25073877   \n",
       "816188           71054        11185    25073877   \n",
       "526525           66741        54083    25073877   \n",
       "\n",
       "                                                      text quote_tweet  \\\n",
       "7566713  It’s wild Trump supporters believe there’s vot...        None   \n",
       "2856721  In 2016, when Trump won PA, MI, and WI by a ha...        None   \n",
       "702702   Biden can only enter the White House as Presid...        None   \n",
       "1540579  Tremendous evidence pouring in on voter fraud....        None   \n",
       "6454752  Big voter fraud information coming out concern...        None   \n",
       "5477139  Wow! At least 17 States have joined Texas in t...        None   \n",
       "1225216  “We should look at the votes. We’re just begin...        None   \n",
       "5800786  Wow! Twitter bans highly respected Pennsylvani...        None   \n",
       "816188   There is tremendous evidence of wide spread vo...        None   \n",
       "526525   I WON THE ELECTION IN A LANDSLIDE, but remembe...        None   \n",
       "\n",
       "                    timestamp  ... author_active_status  \\\n",
       "7566713  2020-11-05T14:25:23Z  ...               active   \n",
       "2856721  2020-11-05T18:37:36Z  ...               active   \n",
       "702702   2020-11-27T15:56:13Z  ...            suspended   \n",
       "1540579  2020-12-15T15:41:41Z  ...            suspended   \n",
       "6454752  2020-11-21T13:58:39Z  ...            suspended   \n",
       "5477139  2020-12-09T23:15:50Z  ...            suspended   \n",
       "1225216  2020-11-08T13:38:19Z  ...            suspended   \n",
       "5800786  2020-11-27T13:36:34Z  ...            suspended   \n",
       "816188   2020-11-14T23:07:53Z  ...            suspended   \n",
       "526525   2020-12-12T13:05:00Z  ...            suspended   \n",
       "\n",
       "         retweets_by_suspended  quotes_by_suspended  retweets_crawled  \\\n",
       "7566713                    110                   13             38179   \n",
       "2856721                    140                   21             21992   \n",
       "702702                    7702                 1588             53428   \n",
       "1540579                  11883                 1418             73245   \n",
       "6454752                   8981                  934             55987   \n",
       "5477139                   8863                 1691             62453   \n",
       "1225216                   4165                  574             26038   \n",
       "5800786                   7722                  936             51111   \n",
       "816188                    9181                 1068             55793   \n",
       "526525                    8307                 4525             55290   \n",
       "\n",
       "         quotes_crawled  retweets_by_l  retweets_by_r  \\\n",
       "7566713            1684          38097             48   \n",
       "2856721            1504          21819             73   \n",
       "702702            17331            267          42901   \n",
       "1540579           14233            243          57703   \n",
       "6454752            9827            308          44456   \n",
       "5477139           12129            195          49421   \n",
       "1225216            4928            168          20932   \n",
       "5800786            7046            141          40311   \n",
       "816188             9268            224          43876   \n",
       "526525            42386            211          43843   \n",
       "\n",
       "         retweets_suspended_ratio  quote_coverage  retweet_coverage  \n",
       "7566713                  0.002881        0.203603          0.185494  \n",
       "2856721                  0.006366        0.164985          0.146781  \n",
       "702702                   0.144157        0.638601          0.581358  \n",
       "1540579                  0.162236        0.975464          0.925512  \n",
       "6454752                  0.160412        0.745034          0.709558  \n",
       "5477139                  0.141915        0.862967          0.819905  \n",
       "1225216                  0.159959        0.361502          0.345400  \n",
       "5800786                  0.151083        0.721335          0.693840  \n",
       "816188                   0.164555        0.828610          0.785220  \n",
       "526525                   0.150244        0.783721          0.828426  \n",
       "\n",
       "[10 rows x 68 columns]"
      ],
      "text/html": "<div>\n<style scoped>\n    .dataframe tbody tr th:only-of-type {\n        vertical-align: middle;\n    }\n\n    .dataframe tbody tr th {\n        vertical-align: top;\n    }\n\n    .dataframe thead th {\n        text-align: right;\n    }\n</style>\n<table border=\"1\" class=\"dataframe\">\n  <thead>\n    <tr style=\"text-align: right;\">\n      <th></th>\n      <th>datastore_id</th>\n      <th>urls</th>\n      <th>hasMedia</th>\n      <th>hashtags</th>\n      <th>retweet_count</th>\n      <th>quote_count</th>\n      <th>user</th>\n      <th>text</th>\n      <th>quote_tweet</th>\n      <th>timestamp</th>\n      <th>...</th>\n      <th>author_active_status</th>\n      <th>retweets_by_suspended</th>\n      <th>quotes_by_suspended</th>\n      <th>retweets_crawled</th>\n      <th>quotes_crawled</th>\n      <th>retweets_by_l</th>\n      <th>retweets_by_r</th>\n      <th>retweets_suspended_ratio</th>\n      <th>quote_coverage</th>\n      <th>retweet_coverage</th>\n    </tr>\n  </thead>\n  <tbody>\n    <tr>\n      <th>7566713</th>\n      <td>1324357146088267777</td>\n      <td>[https://twitter.com/i/web/status/132435714608...</td>\n      <td>False</td>\n      <td>[]</td>\n      <td>205823</td>\n      <td>8271</td>\n      <td>1416374742</td>\n      <td>It’s wild Trump supporters believe there’s vot...</td>\n      <td>None</td>\n      <td>2020-11-05T14:25:23Z</td>\n      <td>...</td>\n      <td>active</td>\n      <td>110</td>\n      <td>13</td>\n      <td>38179</td>\n      <td>1684</td>\n      <td>38097</td>\n      <td>48</td>\n      <td>0.002881</td>\n      <td>0.203603</td>\n      <td>0.185494</td>\n    </tr>\n    <tr>\n      <th>2856721</th>\n      <td>1324420619539271680</td>\n      <td>[https://twitter.com/i/web/status/132442061953...</td>\n      <td>False</td>\n      <td>[]</td>\n      <td>149829</td>\n      <td>9116</td>\n      <td>216776631</td>\n      <td>In 2016, when Trump won PA, MI, and WI by a ha...</td>\n      <td>None</td>\n      <td>2020-11-05T18:37:36Z</td>\n      <td>...</td>\n      <td>active</td>\n      <td>140</td>\n      <td>21</td>\n      <td>21992</td>\n      <td>1504</td>\n      <td>21819</td>\n      <td>73</td>\n      <td>0.006366</td>\n      <td>0.164985</td>\n      <td>0.146781</td>\n    </tr>\n    <tr>\n      <th>702702</th>\n      <td>1332352538855747584</td>\n      <td>[https://twitter.com/i/web/status/133235253885...</td>\n      <td>False</td>\n      <td>[]</td>\n      <td>91902</td>\n      <td>27139</td>\n      <td>25073877</td>\n      <td>Biden can only enter the White House as Presid...</td>\n      <td>None</td>\n      <td>2020-11-27T15:56:13Z</td>\n      <td>...</td>\n      <td>suspended</td>\n      <td>7702</td>\n      <td>1588</td>\n      <td>53428</td>\n      <td>17331</td>\n      <td>267</td>\n      <td>42901</td>\n      <td>0.144157</td>\n      <td>0.638601</td>\n      <td>0.581358</td>\n    </tr>\n    <tr>\n      <th>1540579</th>\n      <td>1338871862315667456</td>\n      <td>[]</td>\n      <td>False</td>\n      <td>[]</td>\n      <td>79140</td>\n      <td>14591</td>\n      <td>25073877</td>\n      <td>Tremendous evidence pouring in on voter fraud....</td>\n      <td>None</td>\n      <td>2020-12-15T15:41:41Z</td>\n      <td>...</td>\n      <td>suspended</td>\n      <td>11883</td>\n      <td>1418</td>\n      <td>73245</td>\n      <td>14233</td>\n      <td>243</td>\n      <td>57703</td>\n      <td>0.162236</td>\n      <td>0.975464</td>\n      <td>0.925512</td>\n    </tr>\n    <tr>\n      <th>6454752</th>\n      <td>1330148622898515969</td>\n      <td>[]</td>\n      <td>False</td>\n      <td>[]</td>\n      <td>78904</td>\n      <td>13190</td>\n      <td>25073877</td>\n      <td>Big voter fraud information coming out concern...</td>\n      <td>None</td>\n      <td>2020-11-21T13:58:39Z</td>\n      <td>...</td>\n      <td>suspended</td>\n      <td>8981</td>\n      <td>934</td>\n      <td>55987</td>\n      <td>9827</td>\n      <td>308</td>\n      <td>44456</td>\n      <td>0.160412</td>\n      <td>0.745034</td>\n      <td>0.709558</td>\n    </tr>\n    <tr>\n      <th>5477139</th>\n      <td>1336811823232921600</td>\n      <td>[https://twitter.com/i/web/status/133681182323...</td>\n      <td>False</td>\n      <td>[]</td>\n      <td>76171</td>\n      <td>14055</td>\n      <td>25073877</td>\n      <td>Wow! At least 17 States have joined Texas in t...</td>\n      <td>None</td>\n      <td>2020-12-09T23:15:50Z</td>\n      <td>...</td>\n      <td>suspended</td>\n      <td>8863</td>\n      <td>1691</td>\n      <td>62453</td>\n      <td>12129</td>\n      <td>195</td>\n      <td>49421</td>\n      <td>0.141915</td>\n      <td>0.862967</td>\n      <td>0.819905</td>\n    </tr>\n    <tr>\n      <th>1225216</th>\n      <td>1325432465415163904</td>\n      <td>[https://twitter.com/i/web/status/132543246541...</td>\n      <td>False</td>\n      <td>[]</td>\n      <td>75385</td>\n      <td>13632</td>\n      <td>25073877</td>\n      <td>“We should look at the votes. We’re just begin...</td>\n      <td>None</td>\n      <td>2020-11-08T13:38:19Z</td>\n      <td>...</td>\n      <td>suspended</td>\n      <td>4165</td>\n      <td>574</td>\n      <td>26038</td>\n      <td>4928</td>\n      <td>168</td>\n      <td>20932</td>\n      <td>0.159959</td>\n      <td>0.361502</td>\n      <td>0.345400</td>\n    </tr>\n    <tr>\n      <th>5800786</th>\n      <td>1332317394165968899</td>\n      <td>[https://twitter.com/i/web/status/133231739416...</td>\n      <td>False</td>\n      <td>[]</td>\n      <td>73664</td>\n      <td>9768</td>\n      <td>25073877</td>\n      <td>Wow! Twitter bans highly respected Pennsylvani...</td>\n      <td>None</td>\n      <td>2020-11-27T13:36:34Z</td>\n      <td>...</td>\n      <td>suspended</td>\n      <td>7722</td>\n      <td>936</td>\n      <td>51111</td>\n      <td>7046</td>\n      <td>141</td>\n      <td>40311</td>\n      <td>0.151083</td>\n      <td>0.721335</td>\n      <td>0.693840</td>\n    </tr>\n    <tr>\n      <th>816188</th>\n      <td>1327750127679889409</td>\n      <td>[https://twitter.com/i/web/status/132775012767...</td>\n      <td>False</td>\n      <td>[]</td>\n      <td>71054</td>\n      <td>11185</td>\n      <td>25073877</td>\n      <td>There is tremendous evidence of wide spread vo...</td>\n      <td>None</td>\n      <td>2020-11-14T23:07:53Z</td>\n      <td>...</td>\n      <td>suspended</td>\n      <td>9181</td>\n      <td>1068</td>\n      <td>55793</td>\n      <td>9268</td>\n      <td>224</td>\n      <td>43876</td>\n      <td>0.164555</td>\n      <td>0.828610</td>\n      <td>0.785220</td>\n    </tr>\n    <tr>\n      <th>526525</th>\n      <td>1337745268591259648</td>\n      <td>[https://twitter.com/i/web/status/133774526859...</td>\n      <td>False</td>\n      <td>[]</td>\n      <td>66741</td>\n      <td>54083</td>\n      <td>25073877</td>\n      <td>I WON THE ELECTION IN A LANDSLIDE, but remembe...</td>\n      <td>None</td>\n      <td>2020-12-12T13:05:00Z</td>\n      <td>...</td>\n      <td>suspended</td>\n      <td>8307</td>\n      <td>4525</td>\n      <td>55290</td>\n      <td>42386</td>\n      <td>211</td>\n      <td>43843</td>\n      <td>0.150244</td>\n      <td>0.783721</td>\n      <td>0.828426</td>\n    </tr>\n  </tbody>\n</table>\n<p>10 rows × 68 columns</p>\n</div>"
     },
     "metadata": {},
     "execution_count": 12
    }
   ],
   "source": [
    "df_recent_tweets.nlargest(10, \"retweet_count\")"
   ]
  },
  {
   "cell_type": "code",
   "execution_count": 3,
   "metadata": {},
   "outputs": [],
   "source": [
    "tweets_by_cluster = df_recent_tweets.groupby(['cluster']).agg(\n",
    "    count=(\"datastore_id\", \"count\")\n",
    ")"
   ]
  },
  {
   "cell_type": "code",
   "execution_count": 4,
   "metadata": {},
   "outputs": [
    {
     "output_type": "execute_result",
     "data": {
      "text/plain": [
       "           count\n",
       "cluster         \n",
       "0        1199587\n",
       "1         644219\n",
       "2        3982990\n",
       "3          27699\n",
       "4          24191"
      ],
      "text/html": "<div>\n<style scoped>\n    .dataframe tbody tr th:only-of-type {\n        vertical-align: middle;\n    }\n\n    .dataframe tbody tr th {\n        vertical-align: top;\n    }\n\n    .dataframe thead th {\n        text-align: right;\n    }\n</style>\n<table border=\"1\" class=\"dataframe\">\n  <thead>\n    <tr style=\"text-align: right;\">\n      <th></th>\n      <th>count</th>\n    </tr>\n    <tr>\n      <th>cluster</th>\n      <th></th>\n    </tr>\n  </thead>\n  <tbody>\n    <tr>\n      <th>0</th>\n      <td>1199587</td>\n    </tr>\n    <tr>\n      <th>1</th>\n      <td>644219</td>\n    </tr>\n    <tr>\n      <th>2</th>\n      <td>3982990</td>\n    </tr>\n    <tr>\n      <th>3</th>\n      <td>27699</td>\n    </tr>\n    <tr>\n      <th>4</th>\n      <td>24191</td>\n    </tr>\n  </tbody>\n</table>\n</div>"
     },
     "metadata": {},
     "execution_count": 4
    }
   ],
   "source": [
    "tweets_by_cluster"
   ]
  },
  {
   "source": [
    "## Export"
   ],
   "cell_type": "markdown",
   "metadata": {}
  },
  {
   "source": [
    "### Users\n"
   ],
   "cell_type": "markdown",
   "metadata": {}
  },
  {
   "cell_type": "code",
   "execution_count": 3,
   "metadata": {},
   "outputs": [
    {
     "output_type": "stream",
     "name": "stdout",
     "text": [
      "<class 'pandas.core.frame.DataFrame'>\nIndex: 2559018 entries, 3288305608 to 1313243498\nData columns (total 29 columns):\n #   Column                    Dtype  \n---  ------                    -----  \n 0   created_at                object \n 1   friends_count             Int64  \n 2   name                      object \n 3   verified                  object \n 4   followers_count           Int64  \n 5   location                  object \n 6   handle                    object \n 7   data_source               object \n 8   active_status             object \n 9   cluster                   Int64  \n 10  l_closeness               float64\n 11  r_closeness               float64\n 12  retweets_by_cluster_0     int64  \n 13  quotes_by_cluster_0       int64  \n 14  retweets_by_cluster_1     int64  \n 15  quotes_by_cluster_1       int64  \n 16  retweets_by_cluster_2     int64  \n 17  quotes_by_cluster_2       int64  \n 18  retweets_by_cluster_3     int64  \n 19  quotes_by_cluster_3       int64  \n 20  retweets_by_cluster_4     int64  \n 21  quotes_by_cluster_4       int64  \n 22  retweets_by_suspended     int64  \n 23  quotes_by_suspended       int64  \n 24  retweets_crawled          int64  \n 25  quotes_crawled            int64  \n 26  retweets_by_l             int64  \n 27  retweets_by_r             int64  \n 28  retweets_suspended_ratio  float64\ndtypes: Int64(3), float64(3), int64(16), object(7)\nmemory usage: 593.0+ MB\n"
     ]
    }
   ],
   "source": [
    "df_users.info()"
   ]
  },
  {
   "cell_type": "code",
   "execution_count": 4,
   "metadata": {},
   "outputs": [],
   "source": [
    "df_users_export = df_users.sort_values(\"created_at\").rename(columns=user_rename_dict)"
   ]
  },
  {
   "cell_type": "code",
   "execution_count": 5,
   "metadata": {},
   "outputs": [
    {
     "output_type": "execute_result",
     "data": {
      "text/plain": [
       "                 created_at  friends_count  \\\n",
       "id                                           \n",
       "6590   2006-09-21T18:27:47Z           4599   \n",
       "10597  2006-10-26T14:18:36Z            243   \n",
       "16943  2006-11-23T03:21:03Z            866   \n",
       "29803  2006-11-29T06:57:41Z           6898   \n",
       "68093  2006-12-14T18:41:19Z           2581   \n",
       "\n",
       "                                           name verified  followers_count  \\\n",
       "id                                                                          \n",
       "6590                                  CyberBenB    False             3527   \n",
       "10597                          Ferdinand Reinke    False               52   \n",
       "16943                             Drew Robinson    False             1320   \n",
       "29803  Nichelle “On Neida and Mildred” Stephens    False             8563   \n",
       "68093                                   Margery    False             1696   \n",
       "\n",
       "                   location     handle data_source user_active_status  \\\n",
       "id                                                                      \n",
       "6590   🖤❤️💛🐧🏴‍☠️😷🏳️‍🌈☯️♻️🌍📢  cyberbenb         old          suspended   \n",
       "10597                 08824   reinkefj         old            deleted   \n",
       "16943  Perth, WA, Australia      ocean         old          suspended   \n",
       "29803          Savannah, GA      niche         old          suspended   \n",
       "68093    Massachusetts, USA    margery         old          suspended   \n",
       "\n",
       "       user_community  ...  quote_count_by_community_3  \\\n",
       "id                     ...                               \n",
       "6590                0  ...                           0   \n",
       "10597            <NA>  ...                           0   \n",
       "16943            <NA>  ...                           0   \n",
       "29803            <NA>  ...                           0   \n",
       "68093               0  ...                           0   \n",
       "\n",
       "       retweet_count_by_community_4  quote_count_by_community_4  \\\n",
       "id                                                                \n",
       "6590                              0                           0   \n",
       "10597                             0                           0   \n",
       "16943                             0                           0   \n",
       "29803                             0                           0   \n",
       "68093                             0                           0   \n",
       "\n",
       "       retweet_count_by_suspended_users  quote_count_by_suspended_users  \\\n",
       "id                                                                        \n",
       "6590                                  0                               0   \n",
       "10597                                 0                               0   \n",
       "16943                                 0                               0   \n",
       "29803                                 0                               0   \n",
       "68093                                 1                               0   \n",
       "\n",
       "       retweets_crawled  quotes_crawled  retweets_by_l  retweets_by_r  \\\n",
       "id                                                                      \n",
       "6590                  0               0              0              0   \n",
       "10597                 0               0              0              0   \n",
       "16943                 0               0              0              0   \n",
       "29803                 1               0              0              0   \n",
       "68093                16               0             16              0   \n",
       "\n",
       "       retweets_suspended_ratio  \n",
       "id                               \n",
       "6590                     0.0000  \n",
       "10597                    0.0000  \n",
       "16943                    0.0000  \n",
       "29803                    0.0000  \n",
       "68093                    0.0625  \n",
       "\n",
       "[5 rows x 29 columns]"
      ],
      "text/html": "<div>\n<style scoped>\n    .dataframe tbody tr th:only-of-type {\n        vertical-align: middle;\n    }\n\n    .dataframe tbody tr th {\n        vertical-align: top;\n    }\n\n    .dataframe thead th {\n        text-align: right;\n    }\n</style>\n<table border=\"1\" class=\"dataframe\">\n  <thead>\n    <tr style=\"text-align: right;\">\n      <th></th>\n      <th>created_at</th>\n      <th>friends_count</th>\n      <th>name</th>\n      <th>verified</th>\n      <th>followers_count</th>\n      <th>location</th>\n      <th>handle</th>\n      <th>data_source</th>\n      <th>user_active_status</th>\n      <th>user_community</th>\n      <th>...</th>\n      <th>quote_count_by_community_3</th>\n      <th>retweet_count_by_community_4</th>\n      <th>quote_count_by_community_4</th>\n      <th>retweet_count_by_suspended_users</th>\n      <th>quote_count_by_suspended_users</th>\n      <th>retweets_crawled</th>\n      <th>quotes_crawled</th>\n      <th>retweets_by_l</th>\n      <th>retweets_by_r</th>\n      <th>retweets_suspended_ratio</th>\n    </tr>\n    <tr>\n      <th>id</th>\n      <th></th>\n      <th></th>\n      <th></th>\n      <th></th>\n      <th></th>\n      <th></th>\n      <th></th>\n      <th></th>\n      <th></th>\n      <th></th>\n      <th></th>\n      <th></th>\n      <th></th>\n      <th></th>\n      <th></th>\n      <th></th>\n      <th></th>\n      <th></th>\n      <th></th>\n      <th></th>\n      <th></th>\n    </tr>\n  </thead>\n  <tbody>\n    <tr>\n      <th>6590</th>\n      <td>2006-09-21T18:27:47Z</td>\n      <td>4599</td>\n      <td>CyberBenB</td>\n      <td>False</td>\n      <td>3527</td>\n      <td>🖤❤️💛🐧🏴‍☠️😷🏳️‍🌈☯️♻️🌍📢</td>\n      <td>cyberbenb</td>\n      <td>old</td>\n      <td>suspended</td>\n      <td>0</td>\n      <td>...</td>\n      <td>0</td>\n      <td>0</td>\n      <td>0</td>\n      <td>0</td>\n      <td>0</td>\n      <td>0</td>\n      <td>0</td>\n      <td>0</td>\n      <td>0</td>\n      <td>0.0000</td>\n    </tr>\n    <tr>\n      <th>10597</th>\n      <td>2006-10-26T14:18:36Z</td>\n      <td>243</td>\n      <td>Ferdinand Reinke</td>\n      <td>False</td>\n      <td>52</td>\n      <td>08824</td>\n      <td>reinkefj</td>\n      <td>old</td>\n      <td>deleted</td>\n      <td>&lt;NA&gt;</td>\n      <td>...</td>\n      <td>0</td>\n      <td>0</td>\n      <td>0</td>\n      <td>0</td>\n      <td>0</td>\n      <td>0</td>\n      <td>0</td>\n      <td>0</td>\n      <td>0</td>\n      <td>0.0000</td>\n    </tr>\n    <tr>\n      <th>16943</th>\n      <td>2006-11-23T03:21:03Z</td>\n      <td>866</td>\n      <td>Drew Robinson</td>\n      <td>False</td>\n      <td>1320</td>\n      <td>Perth, WA, Australia</td>\n      <td>ocean</td>\n      <td>old</td>\n      <td>suspended</td>\n      <td>&lt;NA&gt;</td>\n      <td>...</td>\n      <td>0</td>\n      <td>0</td>\n      <td>0</td>\n      <td>0</td>\n      <td>0</td>\n      <td>0</td>\n      <td>0</td>\n      <td>0</td>\n      <td>0</td>\n      <td>0.0000</td>\n    </tr>\n    <tr>\n      <th>29803</th>\n      <td>2006-11-29T06:57:41Z</td>\n      <td>6898</td>\n      <td>Nichelle “On Neida and Mildred” Stephens</td>\n      <td>False</td>\n      <td>8563</td>\n      <td>Savannah, GA</td>\n      <td>niche</td>\n      <td>old</td>\n      <td>suspended</td>\n      <td>&lt;NA&gt;</td>\n      <td>...</td>\n      <td>0</td>\n      <td>0</td>\n      <td>0</td>\n      <td>0</td>\n      <td>0</td>\n      <td>1</td>\n      <td>0</td>\n      <td>0</td>\n      <td>0</td>\n      <td>0.0000</td>\n    </tr>\n    <tr>\n      <th>68093</th>\n      <td>2006-12-14T18:41:19Z</td>\n      <td>2581</td>\n      <td>Margery</td>\n      <td>False</td>\n      <td>1696</td>\n      <td>Massachusetts, USA</td>\n      <td>margery</td>\n      <td>old</td>\n      <td>suspended</td>\n      <td>0</td>\n      <td>...</td>\n      <td>0</td>\n      <td>0</td>\n      <td>0</td>\n      <td>1</td>\n      <td>0</td>\n      <td>16</td>\n      <td>0</td>\n      <td>16</td>\n      <td>0</td>\n      <td>0.0625</td>\n    </tr>\n  </tbody>\n</table>\n<p>5 rows × 29 columns</p>\n</div>"
     },
     "metadata": {},
     "execution_count": 5
    }
   ],
   "source": [
    "df_users_export.head()"
   ]
  },
  {
   "cell_type": "code",
   "execution_count": 6,
   "metadata": {},
   "outputs": [
    {
     "output_type": "execute_result",
     "data": {
      "text/plain": [
       "                     user_community user_active_status  \\\n",
       "id                                                       \n",
       "6590                              0          suspended   \n",
       "10597                          <NA>            deleted   \n",
       "16943                          <NA>          suspended   \n",
       "29803                          <NA>          suspended   \n",
       "68093                             0          suspended   \n",
       "...                             ...                ...   \n",
       "899317849243693057                2          suspended   \n",
       "1296302672077758464               2          suspended   \n",
       "1403510982                        1            deleted   \n",
       "1331876413926936577               1          suspended   \n",
       "1269104794511147008               1            deleted   \n",
       "\n",
       "                     closeness_centrality_detractor_cluster  \\\n",
       "id                                                            \n",
       "6590                                                    NaN   \n",
       "10597                                                   NaN   \n",
       "16943                                                   NaN   \n",
       "29803                                                   NaN   \n",
       "68093                                              0.076194   \n",
       "...                                                     ...   \n",
       "899317849243693057                                      NaN   \n",
       "1296302672077758464                                     NaN   \n",
       "1403510982                                              NaN   \n",
       "1331876413926936577                                     NaN   \n",
       "1269104794511147008                                     NaN   \n",
       "\n",
       "                     closeness_centrality_promoter_cluster  \\\n",
       "id                                                           \n",
       "6590                                                   NaN   \n",
       "10597                                                  NaN   \n",
       "16943                                                  NaN   \n",
       "29803                                                  NaN   \n",
       "68093                                                  NaN   \n",
       "...                                                    ...   \n",
       "899317849243693057                                     NaN   \n",
       "1296302672077758464                                    NaN   \n",
       "1403510982                                             NaN   \n",
       "1331876413926936577                                    NaN   \n",
       "1269104794511147008                                    NaN   \n",
       "\n",
       "                     retweet_count_by_community_0  quote_count_by_community_0  \\\n",
       "id                                                                              \n",
       "6590                                            0                           0   \n",
       "10597                                           0                           0   \n",
       "16943                                           0                           0   \n",
       "29803                                           0                           0   \n",
       "68093                                          16                           0   \n",
       "...                                           ...                         ...   \n",
       "899317849243693057                              0                           0   \n",
       "1296302672077758464                             0                           0   \n",
       "1403510982                                      0                           0   \n",
       "1331876413926936577                             0                           0   \n",
       "1269104794511147008                             0                           0   \n",
       "\n",
       "                     retweet_count_by_community_1  quote_count_by_community_1  \\\n",
       "id                                                                              \n",
       "6590                                            0                           0   \n",
       "10597                                           0                           0   \n",
       "16943                                           0                           0   \n",
       "29803                                           0                           0   \n",
       "68093                                           0                           0   \n",
       "...                                           ...                         ...   \n",
       "899317849243693057                              0                           0   \n",
       "1296302672077758464                             0                           0   \n",
       "1403510982                                      0                           0   \n",
       "1331876413926936577                             0                           0   \n",
       "1269104794511147008                             0                           0   \n",
       "\n",
       "                     retweet_count_by_community_2  quote_count_by_community_2  \\\n",
       "id                                                                              \n",
       "6590                                            0                           0   \n",
       "10597                                           0                           0   \n",
       "16943                                           0                           0   \n",
       "29803                                           0                           0   \n",
       "68093                                           0                           0   \n",
       "...                                           ...                         ...   \n",
       "899317849243693057                              0                           0   \n",
       "1296302672077758464                             0                           0   \n",
       "1403510982                                      0                           0   \n",
       "1331876413926936577                             0                           0   \n",
       "1269104794511147008                             0                           0   \n",
       "\n",
       "                     retweet_count_by_community_3  quote_count_by_community_3  \\\n",
       "id                                                                              \n",
       "6590                                            0                           0   \n",
       "10597                                           0                           0   \n",
       "16943                                           0                           0   \n",
       "29803                                           0                           0   \n",
       "68093                                           0                           0   \n",
       "...                                           ...                         ...   \n",
       "899317849243693057                              0                           0   \n",
       "1296302672077758464                             0                           0   \n",
       "1403510982                                      0                           0   \n",
       "1331876413926936577                             0                           0   \n",
       "1269104794511147008                             0                           0   \n",
       "\n",
       "                     retweet_count_by_community_4  quote_count_by_community_4  \\\n",
       "id                                                                              \n",
       "6590                                            0                           0   \n",
       "10597                                           0                           0   \n",
       "16943                                           0                           0   \n",
       "29803                                           0                           0   \n",
       "68093                                           0                           0   \n",
       "...                                           ...                         ...   \n",
       "899317849243693057                              0                           0   \n",
       "1296302672077758464                             0                           0   \n",
       "1403510982                                      0                           0   \n",
       "1331876413926936577                             0                           0   \n",
       "1269104794511147008                             0                           0   \n",
       "\n",
       "                     retweet_count_by_suspended_users  \\\n",
       "id                                                      \n",
       "6590                                                0   \n",
       "10597                                               0   \n",
       "16943                                               0   \n",
       "29803                                               0   \n",
       "68093                                               1   \n",
       "...                                               ...   \n",
       "899317849243693057                                  0   \n",
       "1296302672077758464                                 0   \n",
       "1403510982                                          0   \n",
       "1331876413926936577                                 0   \n",
       "1269104794511147008                                 0   \n",
       "\n",
       "                     quote_count_by_suspended_users  \n",
       "id                                                   \n",
       "6590                                              0  \n",
       "10597                                             0  \n",
       "16943                                             0  \n",
       "29803                                             0  \n",
       "68093                                             0  \n",
       "...                                             ...  \n",
       "899317849243693057                                0  \n",
       "1296302672077758464                               0  \n",
       "1403510982                                        0  \n",
       "1331876413926936577                               0  \n",
       "1269104794511147008                               0  \n",
       "\n",
       "[2559018 rows x 16 columns]"
      ],
      "text/html": "<div>\n<style scoped>\n    .dataframe tbody tr th:only-of-type {\n        vertical-align: middle;\n    }\n\n    .dataframe tbody tr th {\n        vertical-align: top;\n    }\n\n    .dataframe thead th {\n        text-align: right;\n    }\n</style>\n<table border=\"1\" class=\"dataframe\">\n  <thead>\n    <tr style=\"text-align: right;\">\n      <th></th>\n      <th>user_community</th>\n      <th>user_active_status</th>\n      <th>closeness_centrality_detractor_cluster</th>\n      <th>closeness_centrality_promoter_cluster</th>\n      <th>retweet_count_by_community_0</th>\n      <th>quote_count_by_community_0</th>\n      <th>retweet_count_by_community_1</th>\n      <th>quote_count_by_community_1</th>\n      <th>retweet_count_by_community_2</th>\n      <th>quote_count_by_community_2</th>\n      <th>retweet_count_by_community_3</th>\n      <th>quote_count_by_community_3</th>\n      <th>retweet_count_by_community_4</th>\n      <th>quote_count_by_community_4</th>\n      <th>retweet_count_by_suspended_users</th>\n      <th>quote_count_by_suspended_users</th>\n    </tr>\n    <tr>\n      <th>id</th>\n      <th></th>\n      <th></th>\n      <th></th>\n      <th></th>\n      <th></th>\n      <th></th>\n      <th></th>\n      <th></th>\n      <th></th>\n      <th></th>\n      <th></th>\n      <th></th>\n      <th></th>\n      <th></th>\n      <th></th>\n      <th></th>\n    </tr>\n  </thead>\n  <tbody>\n    <tr>\n      <th>6590</th>\n      <td>0</td>\n      <td>suspended</td>\n      <td>NaN</td>\n      <td>NaN</td>\n      <td>0</td>\n      <td>0</td>\n      <td>0</td>\n      <td>0</td>\n      <td>0</td>\n      <td>0</td>\n      <td>0</td>\n      <td>0</td>\n      <td>0</td>\n      <td>0</td>\n      <td>0</td>\n      <td>0</td>\n    </tr>\n    <tr>\n      <th>10597</th>\n      <td>&lt;NA&gt;</td>\n      <td>deleted</td>\n      <td>NaN</td>\n      <td>NaN</td>\n      <td>0</td>\n      <td>0</td>\n      <td>0</td>\n      <td>0</td>\n      <td>0</td>\n      <td>0</td>\n      <td>0</td>\n      <td>0</td>\n      <td>0</td>\n      <td>0</td>\n      <td>0</td>\n      <td>0</td>\n    </tr>\n    <tr>\n      <th>16943</th>\n      <td>&lt;NA&gt;</td>\n      <td>suspended</td>\n      <td>NaN</td>\n      <td>NaN</td>\n      <td>0</td>\n      <td>0</td>\n      <td>0</td>\n      <td>0</td>\n      <td>0</td>\n      <td>0</td>\n      <td>0</td>\n      <td>0</td>\n      <td>0</td>\n      <td>0</td>\n      <td>0</td>\n      <td>0</td>\n    </tr>\n    <tr>\n      <th>29803</th>\n      <td>&lt;NA&gt;</td>\n      <td>suspended</td>\n      <td>NaN</td>\n      <td>NaN</td>\n      <td>0</td>\n      <td>0</td>\n      <td>0</td>\n      <td>0</td>\n      <td>0</td>\n      <td>0</td>\n      <td>0</td>\n      <td>0</td>\n      <td>0</td>\n      <td>0</td>\n      <td>0</td>\n      <td>0</td>\n    </tr>\n    <tr>\n      <th>68093</th>\n      <td>0</td>\n      <td>suspended</td>\n      <td>0.076194</td>\n      <td>NaN</td>\n      <td>16</td>\n      <td>0</td>\n      <td>0</td>\n      <td>0</td>\n      <td>0</td>\n      <td>0</td>\n      <td>0</td>\n      <td>0</td>\n      <td>0</td>\n      <td>0</td>\n      <td>1</td>\n      <td>0</td>\n    </tr>\n    <tr>\n      <th>...</th>\n      <td>...</td>\n      <td>...</td>\n      <td>...</td>\n      <td>...</td>\n      <td>...</td>\n      <td>...</td>\n      <td>...</td>\n      <td>...</td>\n      <td>...</td>\n      <td>...</td>\n      <td>...</td>\n      <td>...</td>\n      <td>...</td>\n      <td>...</td>\n      <td>...</td>\n      <td>...</td>\n    </tr>\n    <tr>\n      <th>899317849243693057</th>\n      <td>2</td>\n      <td>suspended</td>\n      <td>NaN</td>\n      <td>NaN</td>\n      <td>0</td>\n      <td>0</td>\n      <td>0</td>\n      <td>0</td>\n      <td>0</td>\n      <td>0</td>\n      <td>0</td>\n      <td>0</td>\n      <td>0</td>\n      <td>0</td>\n      <td>0</td>\n      <td>0</td>\n    </tr>\n    <tr>\n      <th>1296302672077758464</th>\n      <td>2</td>\n      <td>suspended</td>\n      <td>NaN</td>\n      <td>NaN</td>\n      <td>0</td>\n      <td>0</td>\n      <td>0</td>\n      <td>0</td>\n      <td>0</td>\n      <td>0</td>\n      <td>0</td>\n      <td>0</td>\n      <td>0</td>\n      <td>0</td>\n      <td>0</td>\n      <td>0</td>\n    </tr>\n    <tr>\n      <th>1403510982</th>\n      <td>1</td>\n      <td>deleted</td>\n      <td>NaN</td>\n      <td>NaN</td>\n      <td>0</td>\n      <td>0</td>\n      <td>0</td>\n      <td>0</td>\n      <td>0</td>\n      <td>0</td>\n      <td>0</td>\n      <td>0</td>\n      <td>0</td>\n      <td>0</td>\n      <td>0</td>\n      <td>0</td>\n    </tr>\n    <tr>\n      <th>1331876413926936577</th>\n      <td>1</td>\n      <td>suspended</td>\n      <td>NaN</td>\n      <td>NaN</td>\n      <td>0</td>\n      <td>0</td>\n      <td>0</td>\n      <td>0</td>\n      <td>0</td>\n      <td>0</td>\n      <td>0</td>\n      <td>0</td>\n      <td>0</td>\n      <td>0</td>\n      <td>0</td>\n      <td>0</td>\n    </tr>\n    <tr>\n      <th>1269104794511147008</th>\n      <td>1</td>\n      <td>deleted</td>\n      <td>NaN</td>\n      <td>NaN</td>\n      <td>0</td>\n      <td>0</td>\n      <td>0</td>\n      <td>0</td>\n      <td>0</td>\n      <td>0</td>\n      <td>0</td>\n      <td>0</td>\n      <td>0</td>\n      <td>0</td>\n      <td>0</td>\n      <td>0</td>\n    </tr>\n  </tbody>\n</table>\n<p>2559018 rows × 16 columns</p>\n</div>"
     },
     "metadata": {},
     "execution_count": 6
    }
   ],
   "source": [
    "df_users_export[user_export_cols]"
   ]
  },
  {
   "cell_type": "code",
   "execution_count": 15,
   "metadata": {},
   "outputs": [],
   "source": [
    "df_users_export[user_export_cols].to_csv(\"./data_export/final/users.csv\", index_label=\"user_id\")"
   ]
  },
  {
   "cell_type": "code",
   "execution_count": 16,
   "metadata": {},
   "outputs": [],
   "source": [
    "for i, df_chunk in enumerate(split_dataframe(df_users_export[user_export_cols], chunk_size=500000)):\n",
    "    df_chunk.to_csv(\"./data_export/final/users-{}.csv\".format(i), index_label=\"user_id\")"
   ]
  },
  {
   "cell_type": "code",
   "execution_count": 20,
   "metadata": {},
   "outputs": [],
   "source": [
    "df_users_export[:SAMPLE_SIZE][user_export_cols].to_csv(\"./data_export/final/samples/users-sample.csv\", index_label=\"user_id\")"
   ]
  },
  {
   "cell_type": "code",
   "execution_count": 7,
   "metadata": {},
   "outputs": [],
   "source": [
    "df_users_export[user_export_cols].to_csv(\"./data_export/final/users.csv\", index_label=\"user_id\")"
   ]
  },
  {
   "source": [
    "### Tweets"
   ],
   "cell_type": "markdown",
   "metadata": {}
  },
  {
   "cell_type": "code",
   "execution_count": 32,
   "metadata": {},
   "outputs": [
    {
     "output_type": "execute_result",
     "data": {
      "text/plain": [
       "          datastore_id                                               urls  \\\n",
       "0  1327172028709801985  [https://twitter.com/i/web/status/132717202870...   \n",
       "1  1327172032002486273  [https://twitter.com/i/web/status/132717203200...   \n",
       "2  1327172032061173761                                                 []   \n",
       "3  1327172033143316480  [https://www.bbc.co.uk/news/election-us-2020-5...   \n",
       "4  1327172039669665794                                                 []   \n",
       "5  1327172041091526657  [https://twitter.com/i/web/status/132717204109...   \n",
       "6  1327172041473187841  [https://twitter.com/i/web/status/132717204147...   \n",
       "7  1327172050499330049  [https://twitter.com/i/web/status/132717205049...   \n",
       "8  1327172052202078208  [https://twitter.com/i/web/status/132717205220...   \n",
       "9  1327172055154954241                                                 []   \n",
       "\n",
       "   hasMedia                   hashtags  retweet_count  quote_count  \\\n",
       "0     False  [auspol, ConcedeNowTrump]              0            0   \n",
       "1     False                         []              0            0   \n",
       "2     False                         []              0            0   \n",
       "3     False                         []              0            0   \n",
       "4      True                         []              0            0   \n",
       "5     False                         []              0            0   \n",
       "6     False                         []              8            1   \n",
       "7     False            [FoxNewsIsDead]              0            0   \n",
       "8     False                         []              0            0   \n",
       "9     False                         []              0            0   \n",
       "\n",
       "                  user                                               text  \\\n",
       "0           2313341894  @realDonaldTrump \"No evidence of US election f...   \n",
       "1            750121838  @TRUTHandFREED0M @kpolantz Plus the evidence o...   \n",
       "2            546655747                           Hear HEAR @RealDLHughley   \n",
       "3             25709850  US election security officials reject Trump's ...   \n",
       "4  1254057289113317382  The election results themselves are disputed b...   \n",
       "5             58768691  \"On Newsmax, voter fraud innuendo is everywher...   \n",
       "6   824158324094619650  Think about this: Some people are saying Trump...   \n",
       "7            225635916  If it's on @FoxNews so it must be true.🤣🤣 #Fox...   \n",
       "8           4505958373  Dude, WHY bring the word EXECUTION into the Ei...   \n",
       "9   854432647610871808                                CC @realDonaldTrump   \n",
       "\n",
       "           quote_tweet             timestamp  ... author_active_status  \\\n",
       "0                 None  2020-11-13T08:50:43Z  ...               active   \n",
       "1                 None  2020-11-13T08:50:44Z  ...               active   \n",
       "2  1326904412527276037  2020-11-13T08:50:44Z  ...               active   \n",
       "3                 None  2020-11-13T08:50:45Z  ...               active   \n",
       "4                 None  2020-11-13T08:50:46Z  ...               active   \n",
       "5                 None  2020-11-13T08:50:46Z  ...               active   \n",
       "6                 None  2020-11-13T08:50:47Z  ...               active   \n",
       "7  1327038586819145732  2020-11-13T08:50:49Z  ...               active   \n",
       "8  1327099760927379457  2020-11-13T08:50:49Z  ...               active   \n",
       "9  1326951148721496064  2020-11-13T08:50:50Z  ...               active   \n",
       "\n",
       "   retweets_by_suspended  quotes_by_suspended  retweets_crawled  \\\n",
       "0                      0                    0                 0   \n",
       "1                      0                    0                 0   \n",
       "2                      0                    0                 0   \n",
       "3                      0                    0                 0   \n",
       "4                      0                    0                 0   \n",
       "5                      0                    0                 0   \n",
       "6                      4                    2                 7   \n",
       "7                      0                    0                 0   \n",
       "8                      0                    0                 0   \n",
       "9                      0                    0                 0   \n",
       "\n",
       "   quotes_crawled  retweets_by_l  retweets_by_r  retweets_suspended_ratio  \\\n",
       "0               0              0              0                  0.000000   \n",
       "1               0              0              0                  0.000000   \n",
       "2               0              0              0                  0.000000   \n",
       "3               0              0              0                  0.000000   \n",
       "4               0              0              0                  0.000000   \n",
       "5               0              0              0                  0.000000   \n",
       "6               2              0              7                  0.571429   \n",
       "7               0              0              0                  0.000000   \n",
       "8               0              0              0                  0.000000   \n",
       "9               0              0              0                  0.000000   \n",
       "\n",
       "   quote_coverage  retweet_coverage  \n",
       "0             0.0             0.000  \n",
       "1             0.0             0.000  \n",
       "2             0.0             0.000  \n",
       "3             0.0             0.000  \n",
       "4             0.0             0.000  \n",
       "5             0.0             0.000  \n",
       "6             2.0             0.875  \n",
       "7             0.0             0.000  \n",
       "8             0.0             0.000  \n",
       "9             0.0             0.000  \n",
       "\n",
       "[10 rows x 68 columns]"
      ],
      "text/html": "<div>\n<style scoped>\n    .dataframe tbody tr th:only-of-type {\n        vertical-align: middle;\n    }\n\n    .dataframe tbody tr th {\n        vertical-align: top;\n    }\n\n    .dataframe thead th {\n        text-align: right;\n    }\n</style>\n<table border=\"1\" class=\"dataframe\">\n  <thead>\n    <tr style=\"text-align: right;\">\n      <th></th>\n      <th>datastore_id</th>\n      <th>urls</th>\n      <th>hasMedia</th>\n      <th>hashtags</th>\n      <th>retweet_count</th>\n      <th>quote_count</th>\n      <th>user</th>\n      <th>text</th>\n      <th>quote_tweet</th>\n      <th>timestamp</th>\n      <th>...</th>\n      <th>author_active_status</th>\n      <th>retweets_by_suspended</th>\n      <th>quotes_by_suspended</th>\n      <th>retweets_crawled</th>\n      <th>quotes_crawled</th>\n      <th>retweets_by_l</th>\n      <th>retweets_by_r</th>\n      <th>retweets_suspended_ratio</th>\n      <th>quote_coverage</th>\n      <th>retweet_coverage</th>\n    </tr>\n  </thead>\n  <tbody>\n    <tr>\n      <th>0</th>\n      <td>1327172028709801985</td>\n      <td>[https://twitter.com/i/web/status/132717202870...</td>\n      <td>False</td>\n      <td>[auspol, ConcedeNowTrump]</td>\n      <td>0</td>\n      <td>0</td>\n      <td>2313341894</td>\n      <td>@realDonaldTrump \"No evidence of US election f...</td>\n      <td>None</td>\n      <td>2020-11-13T08:50:43Z</td>\n      <td>...</td>\n      <td>active</td>\n      <td>0</td>\n      <td>0</td>\n      <td>0</td>\n      <td>0</td>\n      <td>0</td>\n      <td>0</td>\n      <td>0.000000</td>\n      <td>0.0</td>\n      <td>0.000</td>\n    </tr>\n    <tr>\n      <th>1</th>\n      <td>1327172032002486273</td>\n      <td>[https://twitter.com/i/web/status/132717203200...</td>\n      <td>False</td>\n      <td>[]</td>\n      <td>0</td>\n      <td>0</td>\n      <td>750121838</td>\n      <td>@TRUTHandFREED0M @kpolantz Plus the evidence o...</td>\n      <td>None</td>\n      <td>2020-11-13T08:50:44Z</td>\n      <td>...</td>\n      <td>active</td>\n      <td>0</td>\n      <td>0</td>\n      <td>0</td>\n      <td>0</td>\n      <td>0</td>\n      <td>0</td>\n      <td>0.000000</td>\n      <td>0.0</td>\n      <td>0.000</td>\n    </tr>\n    <tr>\n      <th>2</th>\n      <td>1327172032061173761</td>\n      <td>[]</td>\n      <td>False</td>\n      <td>[]</td>\n      <td>0</td>\n      <td>0</td>\n      <td>546655747</td>\n      <td>Hear HEAR @RealDLHughley</td>\n      <td>1326904412527276037</td>\n      <td>2020-11-13T08:50:44Z</td>\n      <td>...</td>\n      <td>active</td>\n      <td>0</td>\n      <td>0</td>\n      <td>0</td>\n      <td>0</td>\n      <td>0</td>\n      <td>0</td>\n      <td>0.000000</td>\n      <td>0.0</td>\n      <td>0.000</td>\n    </tr>\n    <tr>\n      <th>3</th>\n      <td>1327172033143316480</td>\n      <td>[https://www.bbc.co.uk/news/election-us-2020-5...</td>\n      <td>False</td>\n      <td>[]</td>\n      <td>0</td>\n      <td>0</td>\n      <td>25709850</td>\n      <td>US election security officials reject Trump's ...</td>\n      <td>None</td>\n      <td>2020-11-13T08:50:45Z</td>\n      <td>...</td>\n      <td>active</td>\n      <td>0</td>\n      <td>0</td>\n      <td>0</td>\n      <td>0</td>\n      <td>0</td>\n      <td>0</td>\n      <td>0.000000</td>\n      <td>0.0</td>\n      <td>0.000</td>\n    </tr>\n    <tr>\n      <th>4</th>\n      <td>1327172039669665794</td>\n      <td>[]</td>\n      <td>True</td>\n      <td>[]</td>\n      <td>0</td>\n      <td>0</td>\n      <td>1254057289113317382</td>\n      <td>The election results themselves are disputed b...</td>\n      <td>None</td>\n      <td>2020-11-13T08:50:46Z</td>\n      <td>...</td>\n      <td>active</td>\n      <td>0</td>\n      <td>0</td>\n      <td>0</td>\n      <td>0</td>\n      <td>0</td>\n      <td>0</td>\n      <td>0.000000</td>\n      <td>0.0</td>\n      <td>0.000</td>\n    </tr>\n    <tr>\n      <th>5</th>\n      <td>1327172041091526657</td>\n      <td>[https://twitter.com/i/web/status/132717204109...</td>\n      <td>False</td>\n      <td>[]</td>\n      <td>0</td>\n      <td>0</td>\n      <td>58768691</td>\n      <td>\"On Newsmax, voter fraud innuendo is everywher...</td>\n      <td>None</td>\n      <td>2020-11-13T08:50:46Z</td>\n      <td>...</td>\n      <td>active</td>\n      <td>0</td>\n      <td>0</td>\n      <td>0</td>\n      <td>0</td>\n      <td>0</td>\n      <td>0</td>\n      <td>0.000000</td>\n      <td>0.0</td>\n      <td>0.000</td>\n    </tr>\n    <tr>\n      <th>6</th>\n      <td>1327172041473187841</td>\n      <td>[https://twitter.com/i/web/status/132717204147...</td>\n      <td>False</td>\n      <td>[]</td>\n      <td>8</td>\n      <td>1</td>\n      <td>824158324094619650</td>\n      <td>Think about this: Some people are saying Trump...</td>\n      <td>None</td>\n      <td>2020-11-13T08:50:47Z</td>\n      <td>...</td>\n      <td>active</td>\n      <td>4</td>\n      <td>2</td>\n      <td>7</td>\n      <td>2</td>\n      <td>0</td>\n      <td>7</td>\n      <td>0.571429</td>\n      <td>2.0</td>\n      <td>0.875</td>\n    </tr>\n    <tr>\n      <th>7</th>\n      <td>1327172050499330049</td>\n      <td>[https://twitter.com/i/web/status/132717205049...</td>\n      <td>False</td>\n      <td>[FoxNewsIsDead]</td>\n      <td>0</td>\n      <td>0</td>\n      <td>225635916</td>\n      <td>If it's on @FoxNews so it must be true.🤣🤣 #Fox...</td>\n      <td>1327038586819145732</td>\n      <td>2020-11-13T08:50:49Z</td>\n      <td>...</td>\n      <td>active</td>\n      <td>0</td>\n      <td>0</td>\n      <td>0</td>\n      <td>0</td>\n      <td>0</td>\n      <td>0</td>\n      <td>0.000000</td>\n      <td>0.0</td>\n      <td>0.000</td>\n    </tr>\n    <tr>\n      <th>8</th>\n      <td>1327172052202078208</td>\n      <td>[https://twitter.com/i/web/status/132717205220...</td>\n      <td>False</td>\n      <td>[]</td>\n      <td>0</td>\n      <td>0</td>\n      <td>4505958373</td>\n      <td>Dude, WHY bring the word EXECUTION into the Ei...</td>\n      <td>1327099760927379457</td>\n      <td>2020-11-13T08:50:49Z</td>\n      <td>...</td>\n      <td>active</td>\n      <td>0</td>\n      <td>0</td>\n      <td>0</td>\n      <td>0</td>\n      <td>0</td>\n      <td>0</td>\n      <td>0.000000</td>\n      <td>0.0</td>\n      <td>0.000</td>\n    </tr>\n    <tr>\n      <th>9</th>\n      <td>1327172055154954241</td>\n      <td>[]</td>\n      <td>False</td>\n      <td>[]</td>\n      <td>0</td>\n      <td>0</td>\n      <td>854432647610871808</td>\n      <td>CC @realDonaldTrump</td>\n      <td>1326951148721496064</td>\n      <td>2020-11-13T08:50:50Z</td>\n      <td>...</td>\n      <td>active</td>\n      <td>0</td>\n      <td>0</td>\n      <td>0</td>\n      <td>0</td>\n      <td>0</td>\n      <td>0</td>\n      <td>0.000000</td>\n      <td>0.0</td>\n      <td>0.000</td>\n    </tr>\n  </tbody>\n</table>\n<p>10 rows × 68 columns</p>\n</div>"
     },
     "metadata": {},
     "execution_count": 32
    }
   ],
   "source": [
    "df_recent_tweets[:10]"
   ]
  },
  {
   "cell_type": "code",
   "execution_count": 4,
   "metadata": {},
   "outputs": [
    {
     "output_type": "stream",
     "name": "stdout",
     "text": [
      "<class 'pandas.core.frame.DataFrame'>\nInt64Index: 7603103 entries, 0 to 7609004\nData columns (total 68 columns):\n #   Column                      Dtype           \n---  ------                      -----           \n 0   datastore_id                object          \n 1   urls                        object          \n 2   hasMedia                    bool            \n 3   hashtags                    object          \n 4   retweet_count               int32           \n 5   quote_count                 int32           \n 6   user                        object          \n 7   text                        object          \n 8   quote_tweet                 object          \n 9   timestamp                   object          \n 10  tokens                      object          \n 11  election fraud              Sparse[int64, 0]\n 12  voter fraud                 Sparse[int64, 0]\n 13  #voterfraud                 Sparse[int64, 0]\n 14  #stopthesteal               Sparse[int64, 0]\n 15  #ballotharvesting           Sparse[int64, 0]\n 16  ballot fraud                Sparse[int64, 0]\n 17  #electionfraud              Sparse[int64, 0]\n 18  #electioninterference       Sparse[int64, 0]\n 19  ballot harvesting           Sparse[int64, 0]\n 20  election interference       Sparse[int64, 0]\n 21  #electiontampering          Sparse[int64, 0]\n 22  #cheatingdemocrats          Sparse[int64, 0]\n 23  election tampering          Sparse[int64, 0]\n 24  democrats cheat             Sparse[int64, 0]\n 25  #voterfraudisreal           Sparse[int64, 0]\n 26  cheating democrats          Sparse[int64, 0]\n 27  #gopvoterfraud              Sparse[int64, 0]\n 28  destroyed ballots           Sparse[int64, 0]\n 29  stolen ballots              Sparse[int64, 0]\n 30  #ballotfraud                Sparse[int64, 0]\n 31  discarded ballots           Sparse[int64, 0]\n 32  hacked voting machine       Sparse[int64, 0]\n 33  pre-filled ballot           Sparse[int64, 0]\n 34  harvest ballot              Sparse[int64, 0]\n 35  #stopvoterfraud             Sparse[int64, 0]\n 36  #democratvoterfraud         Sparse[int64, 0]\n 37  #ballotvoterfraud           Sparse[int64, 0]\n 38  #nomailinvoting             Sparse[int64, 0]\n 39  #ilhanomarballotharvesting  Sparse[int64, 0]\n 40  vote by mail fraud          Sparse[int64, 0]\n 41  #mailinvoterfraud           Sparse[int64, 0]\n 42  #votebymailfraud            Sparse[int64, 0]\n 43  #ilhanomarvoterfraud        Sparse[int64, 0]\n 44  #stopgopvoterfraud          Sparse[int64, 0]\n 45  #discardedballots           Sparse[int64, 0]\n 46  #hackedvotingmachines       Sparse[int64, 0]\n 47  cluster                     Int64           \n 48  retweets_by_cluster_0       int64           \n 49  quotes_by_cluster_0         int64           \n 50  retweets_by_cluster_1       int64           \n 51  quotes_by_cluster_1         int64           \n 52  retweets_by_cluster_2       int64           \n 53  quotes_by_cluster_2         int64           \n 54  retweets_by_cluster_3       int64           \n 55  quotes_by_cluster_3         int64           \n 56  retweets_by_cluster_4       int64           \n 57  quotes_by_cluster_4         int64           \n 58  author_active_status        object          \n 59  retweets_by_suspended       int64           \n 60  quotes_by_suspended         int64           \n 61  retweets_crawled            int64           \n 62  quotes_crawled              int64           \n 63  retweets_by_l               int64           \n 64  retweets_by_r               int64           \n 65  retweets_suspended_ratio    float64         \n 66  quote_coverage              float64         \n 67  retweet_coverage            float64         \ndtypes: Int64(1), Sparse[int64, 0](36), bool(1), float64(3), int32(2), int64(16), object(9)\nmemory usage: 1.8+ GB\n"
     ]
    }
   ],
   "source": [
    "df_recent_tweets.info()"
   ]
  },
  {
   "cell_type": "code",
   "execution_count": 5,
   "metadata": {},
   "outputs": [
    {
     "output_type": "stream",
     "name": "stdout",
     "text": [
      "{'retweets_by_cluster_0': 'retweet_count_by_community_0', 'quotes_by_cluster_0': 'quote_count_by_community_0', 'tweets_by_cluster_0': 'tweet_count_by_community_0', 'retweets_by_cluster_1': 'retweet_count_by_community_1', 'quotes_by_cluster_1': 'quote_count_by_community_1', 'tweets_by_cluster_1': 'tweet_count_by_community_1', 'retweets_by_cluster_2': 'retweet_count_by_community_2', 'quotes_by_cluster_2': 'quote_count_by_community_2', 'tweets_by_cluster_2': 'tweet_count_by_community_2', 'retweets_by_cluster_3': 'retweet_count_by_community_3', 'quotes_by_cluster_3': 'quote_count_by_community_3', 'tweets_by_cluster_3': 'tweet_count_by_community_3', 'retweets_by_cluster_4': 'retweet_count_by_community_4', 'quotes_by_cluster_4': 'quote_count_by_community_4', 'tweets_by_cluster_4': 'tweet_count_by_community_4', 'tweets_by_suspended': 'tweet_count_by_suspended_users', 'quotes_by_suspended': 'quote_count_by_suspended_users', 'retweets_by_suspended': 'retweet_count_by_suspended_users', 'author_active_status': 'user_active_status', 'l_closeness': 'closeness_centrality_detractor_cluster', 'r_closeness': 'closeness_centrality_promoter_cluster', 'quote_count': 'quote_count_metadata', 'retweet_count': 'retweet_count_metadata', 'cluster': 'user_community', 'user_cluster': 'user_community', 'active_status': 'user_active_status', 'datastore_id': 'tweet_id'}\n"
     ]
    }
   ],
   "source": [
    "rename_tweet_cols = {\n",
    "    **rename_dict,\n",
    "    \"datastore_id\": \"tweet_id\",\n",
    "    \"cluster\": \"user_community\",\n",
    "    \"retweet_count\": \"retweet_count_metadata\",\n",
    "    \"quote_count\": \"quote_count_metadata\",\n",
    "}\n",
    "print(rename_tweet_cols)"
   ]
  },
  {
   "cell_type": "code",
   "execution_count": 6,
   "metadata": {},
   "outputs": [
    {
     "output_type": "execute_result",
     "data": {
      "text/plain": [
       "['user_community',\n",
       " 'user_active_status',\n",
       " 'retweet_count_metadata',\n",
       " 'quote_count_metadata']"
      ]
     },
     "metadata": {},
     "execution_count": 6
    }
   ],
   "source": [
    "tweet_cols"
   ]
  },
  {
   "cell_type": "code",
   "execution_count": 9,
   "metadata": {},
   "outputs": [],
   "source": [
    "df_tweets_export = df_recent_tweets.rename(rename_tweet_cols, axis=\"columns\").set_index(\"tweet_id\").sort_values(\"timestamp\")"
   ]
  },
  {
   "cell_type": "code",
   "execution_count": 10,
   "metadata": {},
   "outputs": [],
   "source": [
    "df_tweets_export[\"date\"] = df_tweets_export.apply(lambda t: extract_date(t[\"timestamp\"]), axis=1)"
   ]
  },
  {
   "cell_type": "code",
   "execution_count": 17,
   "metadata": {},
   "outputs": [
    {
     "output_type": "execute_result",
     "data": {
      "text/plain": [
       "                     user_community user_active_status  \\\n",
       "tweet_id                                                 \n",
       "1319685030826938369               2           inactive   \n",
       "1319685039714717696            <NA>             active   \n",
       "1319685089375158274            <NA>             active   \n",
       "1319685151031500801            <NA>          suspended   \n",
       "1319685176436396035               2           inactive   \n",
       "\n",
       "                     retweet_count_metadata  quote_count_metadata  \\\n",
       "tweet_id                                                            \n",
       "1319685030826938369                       0                     0   \n",
       "1319685039714717696                       0                     0   \n",
       "1319685089375158274                       0                     0   \n",
       "1319685151031500801                       0                     0   \n",
       "1319685176436396035                       0                     0   \n",
       "\n",
       "                     retweet_count_by_community_0  quote_count_by_community_0  \\\n",
       "tweet_id                                                                        \n",
       "1319685030826938369                             0                           0   \n",
       "1319685039714717696                             0                           0   \n",
       "1319685089375158274                             0                           0   \n",
       "1319685151031500801                             0                           0   \n",
       "1319685176436396035                             0                           0   \n",
       "\n",
       "                     retweet_count_by_community_1  quote_count_by_community_1  \\\n",
       "tweet_id                                                                        \n",
       "1319685030826938369                             0                           0   \n",
       "1319685039714717696                             0                           0   \n",
       "1319685089375158274                             0                           0   \n",
       "1319685151031500801                             0                           0   \n",
       "1319685176436396035                             0                           0   \n",
       "\n",
       "                     retweet_count_by_community_2  quote_count_by_community_2  \\\n",
       "tweet_id                                                                        \n",
       "1319685030826938369                             0                           0   \n",
       "1319685039714717696                             0                           0   \n",
       "1319685089375158274                             0                           0   \n",
       "1319685151031500801                             0                           0   \n",
       "1319685176436396035                             0                           0   \n",
       "\n",
       "                     retweet_count_by_community_3  quote_count_by_community_3  \\\n",
       "tweet_id                                                                        \n",
       "1319685030826938369                             0                           0   \n",
       "1319685039714717696                             0                           0   \n",
       "1319685089375158274                             0                           0   \n",
       "1319685151031500801                             0                           0   \n",
       "1319685176436396035                             0                           0   \n",
       "\n",
       "                     retweet_count_by_community_4  quote_count_by_community_4  \\\n",
       "tweet_id                                                                        \n",
       "1319685030826938369                             0                           0   \n",
       "1319685039714717696                             0                           0   \n",
       "1319685089375158274                             0                           0   \n",
       "1319685151031500801                             0                           0   \n",
       "1319685176436396035                             0                           0   \n",
       "\n",
       "                     retweet_count_by_suspended_users  \\\n",
       "tweet_id                                                \n",
       "1319685030826938369                                 0   \n",
       "1319685039714717696                                 0   \n",
       "1319685089375158274                                 0   \n",
       "1319685151031500801                                 0   \n",
       "1319685176436396035                                 0   \n",
       "\n",
       "                     quote_count_by_suspended_users        date  \n",
       "tweet_id                                                         \n",
       "1319685030826938369                               0  2020-10-23  \n",
       "1319685039714717696                               0  2020-10-23  \n",
       "1319685089375158274                               0  2020-10-23  \n",
       "1319685151031500801                               0  2020-10-23  \n",
       "1319685176436396035                               0  2020-10-23  "
      ],
      "text/html": "<div>\n<style scoped>\n    .dataframe tbody tr th:only-of-type {\n        vertical-align: middle;\n    }\n\n    .dataframe tbody tr th {\n        vertical-align: top;\n    }\n\n    .dataframe thead th {\n        text-align: right;\n    }\n</style>\n<table border=\"1\" class=\"dataframe\">\n  <thead>\n    <tr style=\"text-align: right;\">\n      <th></th>\n      <th>user_community</th>\n      <th>user_active_status</th>\n      <th>retweet_count_metadata</th>\n      <th>quote_count_metadata</th>\n      <th>retweet_count_by_community_0</th>\n      <th>quote_count_by_community_0</th>\n      <th>retweet_count_by_community_1</th>\n      <th>quote_count_by_community_1</th>\n      <th>retweet_count_by_community_2</th>\n      <th>quote_count_by_community_2</th>\n      <th>retweet_count_by_community_3</th>\n      <th>quote_count_by_community_3</th>\n      <th>retweet_count_by_community_4</th>\n      <th>quote_count_by_community_4</th>\n      <th>retweet_count_by_suspended_users</th>\n      <th>quote_count_by_suspended_users</th>\n      <th>date</th>\n    </tr>\n    <tr>\n      <th>tweet_id</th>\n      <th></th>\n      <th></th>\n      <th></th>\n      <th></th>\n      <th></th>\n      <th></th>\n      <th></th>\n      <th></th>\n      <th></th>\n      <th></th>\n      <th></th>\n      <th></th>\n      <th></th>\n      <th></th>\n      <th></th>\n      <th></th>\n      <th></th>\n    </tr>\n  </thead>\n  <tbody>\n    <tr>\n      <th>1319685030826938369</th>\n      <td>2</td>\n      <td>inactive</td>\n      <td>0</td>\n      <td>0</td>\n      <td>0</td>\n      <td>0</td>\n      <td>0</td>\n      <td>0</td>\n      <td>0</td>\n      <td>0</td>\n      <td>0</td>\n      <td>0</td>\n      <td>0</td>\n      <td>0</td>\n      <td>0</td>\n      <td>0</td>\n      <td>2020-10-23</td>\n    </tr>\n    <tr>\n      <th>1319685039714717696</th>\n      <td>&lt;NA&gt;</td>\n      <td>active</td>\n      <td>0</td>\n      <td>0</td>\n      <td>0</td>\n      <td>0</td>\n      <td>0</td>\n      <td>0</td>\n      <td>0</td>\n      <td>0</td>\n      <td>0</td>\n      <td>0</td>\n      <td>0</td>\n      <td>0</td>\n      <td>0</td>\n      <td>0</td>\n      <td>2020-10-23</td>\n    </tr>\n    <tr>\n      <th>1319685089375158274</th>\n      <td>&lt;NA&gt;</td>\n      <td>active</td>\n      <td>0</td>\n      <td>0</td>\n      <td>0</td>\n      <td>0</td>\n      <td>0</td>\n      <td>0</td>\n      <td>0</td>\n      <td>0</td>\n      <td>0</td>\n      <td>0</td>\n      <td>0</td>\n      <td>0</td>\n      <td>0</td>\n      <td>0</td>\n      <td>2020-10-23</td>\n    </tr>\n    <tr>\n      <th>1319685151031500801</th>\n      <td>&lt;NA&gt;</td>\n      <td>suspended</td>\n      <td>0</td>\n      <td>0</td>\n      <td>0</td>\n      <td>0</td>\n      <td>0</td>\n      <td>0</td>\n      <td>0</td>\n      <td>0</td>\n      <td>0</td>\n      <td>0</td>\n      <td>0</td>\n      <td>0</td>\n      <td>0</td>\n      <td>0</td>\n      <td>2020-10-23</td>\n    </tr>\n    <tr>\n      <th>1319685176436396035</th>\n      <td>2</td>\n      <td>inactive</td>\n      <td>0</td>\n      <td>0</td>\n      <td>0</td>\n      <td>0</td>\n      <td>0</td>\n      <td>0</td>\n      <td>0</td>\n      <td>0</td>\n      <td>0</td>\n      <td>0</td>\n      <td>0</td>\n      <td>0</td>\n      <td>0</td>\n      <td>0</td>\n      <td>2020-10-23</td>\n    </tr>\n  </tbody>\n</table>\n</div>"
     },
     "metadata": {},
     "execution_count": 17
    }
   ],
   "source": [
    "df_tweets_export = df_tweets_export[tweet_cols + retweeted_cols + [\"date\"]] \n",
    "\n",
    "df_tweets_export.head()"
   ]
  },
  {
   "cell_type": "code",
   "execution_count": 18,
   "metadata": {},
   "outputs": [
    {
     "output_type": "stream",
     "name": "stdout",
     "text": [
      "<class 'pandas.core.frame.DataFrame'>\nIndex: 7603103 entries, 1319685030826938369 to 1339195780704382980\nData columns (total 17 columns):\n #   Column                            Dtype \n---  ------                            ----- \n 0   user_community                    Int64 \n 1   user_active_status                object\n 2   retweet_count_metadata            int32 \n 3   quote_count_metadata              int32 \n 4   retweet_count_by_community_0      int64 \n 5   quote_count_by_community_0        int64 \n 6   retweet_count_by_community_1      int64 \n 7   quote_count_by_community_1        int64 \n 8   retweet_count_by_community_2      int64 \n 9   quote_count_by_community_2        int64 \n 10  retweet_count_by_community_3      int64 \n 11  quote_count_by_community_3        int64 \n 12  retweet_count_by_community_4      int64 \n 13  quote_count_by_community_4        int64 \n 14  retweet_count_by_suspended_users  int64 \n 15  quote_count_by_suspended_users    int64 \n 16  date                              object\ndtypes: Int64(1), int32(2), int64(12), object(2)\nmemory usage: 993.4+ MB\n"
     ]
    }
   ],
   "source": [
    "df_tweets_export.info()"
   ]
  },
  {
   "cell_type": "code",
   "execution_count": 8,
   "metadata": {},
   "outputs": [],
   "source": [
    "df_tweets_export.to_pickle(\"./df_tweets_export.pickle\")"
   ]
  },
  {
   "cell_type": "code",
   "execution_count": 2,
   "metadata": {},
   "outputs": [],
   "source": [
    "df_tweets_export = pd.read_pickle(\"./df_tweets_export.pickle\")"
   ]
  },
  {
   "cell_type": "code",
   "execution_count": 5,
   "metadata": {},
   "outputs": [
    {
     "output_type": "execute_result",
     "data": {
      "text/plain": [
       "active       5842842\n",
       "suspended    1240405\n",
       "deleted       519856\n",
       "Name: user_active_status, dtype: int64"
      ]
     },
     "metadata": {},
     "execution_count": 5
    }
   ],
   "source": [
    "df_tweets_export[\"user_active_status\"] = df_tweets_export.apply(lambda t: map_user_status(t[\"user_active_status\"]), axis=1)\n",
    "\n",
    "df_tweets_export[\"user_active_status\"].value_counts()"
   ]
  },
  {
   "cell_type": "code",
   "execution_count": 3,
   "metadata": {},
   "outputs": [
    {
     "output_type": "stream",
     "name": "stdout",
     "text": [
      "month\n2020-11    5067170\n2020-12    2326439\n2020-10     209494\ndtype: int64\n"
     ]
    }
   ],
   "source": [
    "df_tweets_export[\"month\"] = df_tweets_export.apply(lambda t: extract_month_from_date(t[\"date\"]), axis=1)\n",
    "print(df_tweets_export.value_counts(\"month\"))"
   ]
  },
  {
   "cell_type": "code",
   "execution_count": 6,
   "metadata": {},
   "outputs": [
    {
     "output_type": "stream",
     "name": "stdout",
     "text": [
      "month\n2020-11    5067170\n2020-12    2326439\n2020-10     209494\ndtype: int64\n"
     ]
    }
   ],
   "source": [
    "months = df_tweets_export.value_counts(\"month\").index\n",
    "print(df_tweets_export.value_counts(\"month\"))"
   ]
  },
  {
   "cell_type": "code",
   "execution_count": 7,
   "metadata": {},
   "outputs": [
    {
     "output_type": "stream",
     "name": "stdout",
     "text": [
      "date\n",
      "2020-11-08    235919\n",
      "2020-11-07    226763\n",
      "2020-11-04    215303\n",
      "2020-11-09    214297\n",
      "2020-11-12    211928\n",
      "2020-11-13    211857\n",
      "2020-11-05    210509\n",
      "2020-11-06    207111\n",
      "2020-11-11    206726\n",
      "2020-11-20    201131\n",
      "2020-11-14    196038\n",
      "2020-12-03    195279\n",
      "2020-12-04    193360\n",
      "2020-11-15    192879\n",
      "2020-11-10    188568\n",
      "2020-12-02    187500\n",
      "2020-11-18    184239\n",
      "2020-12-01    177588\n",
      "2020-12-12    169345\n",
      "2020-11-19    168638\n",
      "2020-11-30    166738\n",
      "2020-12-06    161904\n",
      "2020-11-17    160088\n",
      "2020-12-05    159894\n",
      "2020-11-22    158702\n",
      "2020-11-16    158490\n",
      "2020-11-28    156268\n",
      "2020-11-21    153956\n",
      "2020-12-10    153413\n",
      "2020-11-25    151395\n",
      "2020-11-29    150275\n",
      "2020-11-24    147488\n",
      "2020-11-23    146170\n",
      "2020-11-27    145193\n",
      "2020-11-26    138883\n",
      "2020-12-15    135706\n",
      "2020-12-09    134030\n",
      "2020-12-07    130496\n",
      "2020-12-08    126510\n",
      "2020-12-14    123276\n",
      "2020-12-11    119214\n",
      "2020-12-13    106339\n",
      "2020-11-03     84523\n",
      "2020-10-25     57640\n",
      "2020-12-16     52585\n",
      "2020-11-02     45353\n",
      "2020-10-28     36175\n",
      "2020-11-01     31742\n",
      "2020-10-31     25314\n",
      "2020-10-24     25045\n",
      "2020-10-27     21742\n",
      "2020-10-29     20498\n",
      "2020-10-30     17629\n",
      "2020-10-23      3271\n",
      "2020-10-26      2180\n",
      "dtype: int64\n",
      "7603103\n"
     ]
    }
   ],
   "source": [
    "dates = df_tweets_export.value_counts(\"date\").index\n",
    "print(df_tweets_export.value_counts(\"date\"))\n",
    "print(df_tweets_export.value_counts(\"date\").sum())"
   ]
  },
  {
   "cell_type": "code",
   "execution_count": 9,
   "metadata": {},
   "outputs": [
    {
     "output_type": "stream",
     "name": "stdout",
     "text": [
      "2020-11-08\n",
      "2020-11-07\n",
      "2020-11-04\n",
      "2020-11-09\n",
      "2020-11-12\n",
      "2020-11-13\n",
      "2020-11-05\n",
      "2020-11-06\n",
      "2020-11-11\n",
      "2020-11-20\n",
      "2020-11-14\n",
      "2020-12-03\n",
      "2020-12-04\n",
      "2020-11-15\n",
      "2020-11-10\n",
      "2020-12-02\n",
      "2020-11-18\n",
      "2020-12-01\n",
      "2020-12-12\n",
      "2020-11-19\n",
      "2020-11-30\n",
      "2020-12-06\n",
      "2020-11-17\n",
      "2020-12-05\n",
      "2020-11-22\n",
      "2020-11-16\n",
      "2020-11-28\n",
      "2020-11-21\n",
      "2020-12-10\n",
      "2020-11-25\n",
      "2020-11-29\n",
      "2020-11-24\n",
      "2020-11-23\n",
      "2020-11-27\n",
      "2020-11-26\n",
      "2020-12-15\n",
      "2020-12-09\n",
      "2020-12-07\n",
      "2020-12-08\n",
      "2020-12-14\n",
      "2020-12-11\n",
      "2020-12-13\n",
      "2020-11-03\n",
      "2020-10-25\n",
      "2020-12-16\n",
      "2020-11-02\n",
      "2020-10-28\n",
      "2020-11-01\n",
      "2020-10-31\n",
      "2020-10-24\n",
      "2020-10-27\n",
      "2020-10-29\n",
      "2020-10-30\n",
      "2020-10-23\n",
      "2020-10-26\n"
     ]
    }
   ],
   "source": [
    "for d in dates:\n",
    "    print(d)\n",
    "    date_tweets = df_tweets_export[df_tweets_export[\"date\"] == d].drop([\"date\", \"month\"], axis=1)\n",
    "    date_tweets.to_csv(\"./data_export/final/tweets/tweets-{}.csv\".format(d), index_label=\"tweet_id\")"
   ]
  },
  {
   "cell_type": "code",
   "execution_count": 7,
   "metadata": {},
   "outputs": [
    {
     "output_type": "execute_result",
     "data": {
      "text/plain": [
       "Index(['user_community', 'user_active_status', 'retweet_count_metadata',\n",
       "       'quote_count_metadata', 'retweet_count_by_community_0',\n",
       "       'quote_count_by_community_0', 'retweet_count_by_community_1',\n",
       "       'quote_count_by_community_1', 'retweet_count_by_community_2',\n",
       "       'quote_count_by_community_2', 'retweet_count_by_community_3',\n",
       "       'quote_count_by_community_3', 'retweet_count_by_community_4',\n",
       "       'quote_count_by_community_4', 'retweet_count_by_suspended_users',\n",
       "       'quote_count_by_suspended_users', 'date', 'month'],\n",
       "      dtype='object')"
      ]
     },
     "metadata": {},
     "execution_count": 7
    }
   ],
   "source": [
    "df_tweets_export.columns"
   ]
  },
  {
   "cell_type": "code",
   "execution_count": 10,
   "metadata": {},
   "outputs": [
    {
     "output_type": "stream",
     "name": "stdout",
     "text": [
      "2020-11\n",
      "2020-12\n",
      "2020-10\n"
     ]
    }
   ],
   "source": [
    "for m in months:\n",
    "    print(m)\n",
    "    month_tweets = df_tweets_export[df_tweets_export[\"month\"] == m]\n",
    "    month_tweets.drop([\"month\", \"date\"], axis=1).to_csv(\"./data_export/final/tweets-{}.csv\".format(m), index_label=\"tweet_id\")"
   ]
  },
  {
   "cell_type": "code",
   "execution_count": 11,
   "metadata": {},
   "outputs": [],
   "source": [
    "df_tweets_export[:SAMPLE_SIZE].drop([\"month\", \"date\"], axis=1).to_csv(\"./data_export/final/samples/tweets-sample.csv\")"
   ]
  },
  {
   "source": [
    "# Retweets"
   ],
   "cell_type": "markdown",
   "metadata": {}
  },
  {
   "cell_type": "code",
   "execution_count": 14,
   "metadata": {},
   "outputs": [],
   "source": [
    "df_users = pd.read_pickle(\"./df_users_final.pickle\")"
   ]
  },
  {
   "cell_type": "code",
   "execution_count": 7,
   "metadata": {},
   "outputs": [
    {
     "output_type": "stream",
     "name": "stdout",
     "text": [
      "99884\n"
     ]
    }
   ],
   "source": [
    "suspended_user_ids = set(df_users[df_users[\"active_status\"] == \"suspended\"].index)\n",
    "print(len(suspended_user_ids))"
   ]
  },
  {
   "cell_type": "code",
   "execution_count": 4,
   "metadata": {},
   "outputs": [],
   "source": [
    "df_retweets = pd.read_pickle(\"./df_retweets_with_cluster.pickle\")"
   ]
  },
  {
   "cell_type": "code",
   "execution_count": 8,
   "metadata": {},
   "outputs": [
    {
     "output_type": "stream",
     "name": "stdout",
     "text": [
      "6246245\n"
     ]
    }
   ],
   "source": [
    "suspended_retweets = 0\n",
    "for user in df_retweets[\"user\"]:\n",
    "    if user in suspended_user_ids:\n",
    "        suspended_retweets += 1\n",
    "print(suspended_retweets)"
   ]
  },
  {
   "cell_type": "code",
   "execution_count": 5,
   "metadata": {},
   "outputs": [
    {
     "output_type": "execute_result",
     "data": {
      "text/plain": [
       "Index(['user', 'timestamp', 'retweeted', 'retweetedFrom_user', 'cluster'], dtype='object')"
      ]
     },
     "metadata": {},
     "execution_count": 5
    }
   ],
   "source": [
    "df_retweets.columns"
   ]
  },
  {
   "cell_type": "code",
   "execution_count": 3,
   "metadata": {},
   "outputs": [
    {
     "output_type": "execute_result",
     "data": {
      "text/plain": [
       "cluster\n",
       "2    16403520\n",
       "0     3805080\n",
       "1     1595997\n",
       "3      267116\n",
       "4      190078\n",
       "dtype: int64"
      ]
     },
     "metadata": {},
     "execution_count": 3
    }
   ],
   "source": [
    "df_retweets.value_counts(\"cluster\")"
   ]
  },
  {
   "cell_type": "code",
   "execution_count": 4,
   "metadata": {},
   "outputs": [],
   "source": [
    "retweets_export = df_retweets.set_index(\"retweeted\").rename(columns={\"user\": \"user_id\"}).sort_values(\"timestamp\")"
   ]
  },
  {
   "cell_type": "code",
   "execution_count": 5,
   "metadata": {},
   "outputs": [
    {
     "output_type": "execute_result",
     "data": {
      "text/plain": [
       "(25566698, 4)"
      ]
     },
     "metadata": {},
     "execution_count": 5
    }
   ],
   "source": [
    "retweets_export.shape"
   ]
  },
  {
   "cell_type": "code",
   "execution_count": 6,
   "metadata": {},
   "outputs": [
    {
     "output_type": "execute_result",
     "data": {
      "text/plain": [
       "'2020-10-23'"
      ]
     },
     "metadata": {},
     "execution_count": 6
    }
   ],
   "source": [
    "extract_date(retweets_export['timestamp'][0])"
   ]
  },
  {
   "cell_type": "code",
   "execution_count": 7,
   "metadata": {},
   "outputs": [
    {
     "output_type": "execute_result",
     "data": {
      "text/plain": [
       "                                 user_id             timestamp  \\\n",
       "retweeted                                                        \n",
       "1319609788091817985  1198035481650515974  2020-10-23T16:59:58Z   \n",
       "1319667770083233792   910642944293654528  2020-10-23T17:00:10Z   \n",
       "1319550613668175875            372053421  2020-10-23T17:00:12Z   \n",
       "1310647895033610240  1032786509995421696  2020-10-23T17:00:16Z   \n",
       "1319677395629006849            380671484  2020-10-23T17:00:27Z   \n",
       "\n",
       "                     retweetedFrom_user  cluster        date  \n",
       "retweeted                                                     \n",
       "1319609788091817985             2836421        0  2020-10-23  \n",
       "1319667770083233792           327126454        2  2020-10-23  \n",
       "1319550613668175875           506228902        0  2020-10-23  \n",
       "1310647895033610240  764261361044037632        2  2020-10-23  \n",
       "1319677395629006849           289777188        0  2020-10-23  "
      ],
      "text/html": "<div>\n<style scoped>\n    .dataframe tbody tr th:only-of-type {\n        vertical-align: middle;\n    }\n\n    .dataframe tbody tr th {\n        vertical-align: top;\n    }\n\n    .dataframe thead th {\n        text-align: right;\n    }\n</style>\n<table border=\"1\" class=\"dataframe\">\n  <thead>\n    <tr style=\"text-align: right;\">\n      <th></th>\n      <th>user_id</th>\n      <th>timestamp</th>\n      <th>retweetedFrom_user</th>\n      <th>cluster</th>\n      <th>date</th>\n    </tr>\n    <tr>\n      <th>retweeted</th>\n      <th></th>\n      <th></th>\n      <th></th>\n      <th></th>\n      <th></th>\n    </tr>\n  </thead>\n  <tbody>\n    <tr>\n      <th>1319609788091817985</th>\n      <td>1198035481650515974</td>\n      <td>2020-10-23T16:59:58Z</td>\n      <td>2836421</td>\n      <td>0</td>\n      <td>2020-10-23</td>\n    </tr>\n    <tr>\n      <th>1319667770083233792</th>\n      <td>910642944293654528</td>\n      <td>2020-10-23T17:00:10Z</td>\n      <td>327126454</td>\n      <td>2</td>\n      <td>2020-10-23</td>\n    </tr>\n    <tr>\n      <th>1319550613668175875</th>\n      <td>372053421</td>\n      <td>2020-10-23T17:00:12Z</td>\n      <td>506228902</td>\n      <td>0</td>\n      <td>2020-10-23</td>\n    </tr>\n    <tr>\n      <th>1310647895033610240</th>\n      <td>1032786509995421696</td>\n      <td>2020-10-23T17:00:16Z</td>\n      <td>764261361044037632</td>\n      <td>2</td>\n      <td>2020-10-23</td>\n    </tr>\n    <tr>\n      <th>1319677395629006849</th>\n      <td>380671484</td>\n      <td>2020-10-23T17:00:27Z</td>\n      <td>289777188</td>\n      <td>0</td>\n      <td>2020-10-23</td>\n    </tr>\n  </tbody>\n</table>\n</div>"
     },
     "metadata": {},
     "execution_count": 7
    }
   ],
   "source": [
    "retweets_export[\"date\"] = retweets_export.apply(lambda t: extract_date(t[\"timestamp\"]), axis=1)\n",
    "\n",
    "retweets_export.head()"
   ]
  },
  {
   "cell_type": "code",
   "execution_count": 8,
   "metadata": {},
   "outputs": [
    {
     "output_type": "stream",
     "name": "stdout",
     "text": [
      "date\n2020-11-13    675245\n2020-12-04    675054\n2020-11-07    668635\n2020-11-30    658901\n2020-11-12    653637\n2020-11-08    651532\n2020-12-02    648041\n2020-11-05    645642\n2020-12-01    644312\n2020-11-15    640723\n2020-11-29    633232\n2020-11-18    623733\n2020-11-19    616084\n2020-11-17    614764\n2020-12-03    614437\n2020-12-14    611553\n2020-11-06    608799\n2020-11-11    607056\n2020-12-06    606066\n2020-11-20    601064\n2020-11-21    599459\n2020-11-14    597390\n2020-11-10    595891\n2020-11-25    595767\n2020-12-10    594627\n2020-11-09    584638\n2020-12-05    579855\n2020-11-04    573657\n2020-11-26    556641\n2020-11-24    549216\n2020-11-27    546625\n2020-11-16    543611\n2020-11-22    521146\n2020-12-07    493525\n2020-12-12    473139\n2020-11-28    472749\n2020-12-15    463129\n2020-12-08    457307\n2020-11-23    452395\n2020-12-13    438165\n2020-12-09    433909\n2020-12-11    376370\n2020-11-03    255821\n2020-10-25    207132\n2020-12-16    203827\n2020-10-28    149863\n2020-11-02    129096\n2020-10-27     80816\n2020-11-01     80056\n2020-10-31     70766\n2020-10-24     70260\n2020-10-29     67806\n2020-10-30     41621\n2020-10-23      6420\n2020-10-26      5493\ndtype: int64\n"
     ]
    }
   ],
   "source": [
    "print(retweets_export.value_counts(\"date\"))"
   ]
  },
  {
   "cell_type": "code",
   "execution_count": 9,
   "metadata": {},
   "outputs": [],
   "source": [
    "dates = retweets_export.value_counts(\"date\").index"
   ]
  },
  {
   "cell_type": "code",
   "execution_count": 10,
   "metadata": {},
   "outputs": [
    {
     "output_type": "stream",
     "name": "stdout",
     "text": [
      "2020-11-13\n",
      "2020-12-04\n",
      "2020-11-07\n",
      "2020-11-30\n",
      "2020-11-12\n",
      "2020-11-08\n",
      "2020-12-02\n",
      "2020-11-05\n",
      "2020-12-01\n",
      "2020-11-15\n",
      "2020-11-29\n",
      "2020-11-18\n",
      "2020-11-19\n",
      "2020-11-17\n",
      "2020-12-03\n",
      "2020-12-14\n",
      "2020-11-06\n",
      "2020-11-11\n",
      "2020-12-06\n",
      "2020-11-20\n",
      "2020-11-21\n",
      "2020-11-14\n",
      "2020-11-10\n",
      "2020-11-25\n",
      "2020-12-10\n",
      "2020-11-09\n",
      "2020-12-05\n",
      "2020-11-04\n",
      "2020-11-26\n",
      "2020-11-24\n",
      "2020-11-27\n",
      "2020-11-16\n",
      "2020-11-22\n",
      "2020-12-07\n",
      "2020-12-12\n",
      "2020-11-28\n",
      "2020-12-15\n",
      "2020-12-08\n",
      "2020-11-23\n",
      "2020-12-13\n",
      "2020-12-09\n",
      "2020-12-11\n",
      "2020-11-03\n",
      "2020-10-25\n",
      "2020-12-16\n",
      "2020-10-28\n",
      "2020-11-02\n",
      "2020-10-27\n",
      "2020-11-01\n",
      "2020-10-31\n",
      "2020-10-24\n",
      "2020-10-29\n",
      "2020-10-30\n",
      "2020-10-23\n",
      "2020-10-26\n"
     ]
    }
   ],
   "source": [
    "for d in dates:\n",
    "    print(d)\n",
    "    date_retweets = retweets_export[retweets_export[\"date\"] == d][[\"user_id\"]]\n",
    "    date_retweets.to_csv(\"./data_export/final/retweets/retweets-{}.csv\".format(d), index_label=\"retweeted_id\")"
   ]
  }
 ]
}