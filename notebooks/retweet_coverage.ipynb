{
 "metadata": {
  "language_info": {
   "codemirror_mode": {
    "name": "ipython",
    "version": 3
   },
   "file_extension": ".py",
   "mimetype": "text/x-python",
   "name": "python",
   "nbconvert_exporter": "python",
   "pygments_lexer": "ipython3",
   "version": "3.8.5-final"
  },
  "orig_nbformat": 2,
  "kernelspec": {
   "name": "python3",
   "display_name": "Python 3.8.5 64-bit ('voter-fraud': conda)",
   "metadata": {
    "interpreter": {
     "hash": "a0f90dcbb54bea4e60f894f8fd1d686cc0f74395b4029405cc9f13e0b975e641"
    }
   }
  }
 },
 "nbformat": 4,
 "nbformat_minor": 2,
 "cells": [
  {
   "cell_type": "code",
   "execution_count": 2,
   "metadata": {},
   "outputs": [],
   "source": [
    "# Resolve paths from root project directory\n",
    "\n",
    "import os\n",
    "import sys\n",
    "module_path = os.path.abspath(os.path.join('..'))\n",
    "if module_path not in sys.path:\n",
    "    sys.path.append(module_path)"
   ]
  },
  {
   "cell_type": "code",
   "execution_count": 6,
   "metadata": {},
   "outputs": [
    {
     "output_type": "stream",
     "name": "stdout",
     "text": [
      "Loading 2696807 json lines\n",
      "(4%): 100000 lines in ../data/14-nov/parsed_tweets.json processed (1.9913108348846436 sec)\n",
      "(7%): 200000 lines in ../data/14-nov/parsed_tweets.json processed (2.366476058959961 sec)\n",
      "(11%): 300000 lines in ../data/14-nov/parsed_tweets.json processed (1.922652006149292 sec)\n",
      "(15%): 400000 lines in ../data/14-nov/parsed_tweets.json processed (1.9044489860534668 sec)\n",
      "(19%): 500000 lines in ../data/14-nov/parsed_tweets.json processed (2.027184009552002 sec)\n",
      "(22%): 600000 lines in ../data/14-nov/parsed_tweets.json processed (1.9191839694976807 sec)\n",
      "(26%): 700000 lines in ../data/14-nov/parsed_tweets.json processed (1.942857265472412 sec)\n",
      "(30%): 800000 lines in ../data/14-nov/parsed_tweets.json processed (1.9039320945739746 sec)\n",
      "(33%): 900000 lines in ../data/14-nov/parsed_tweets.json processed (2.217972993850708 sec)\n",
      "(37%): 1000000 lines in ../data/14-nov/parsed_tweets.json processed (2.2439732551574707 sec)\n",
      "(41%): 1100000 lines in ../data/14-nov/parsed_tweets.json processed (2.021998167037964 sec)\n",
      "(44%): 1200000 lines in ../data/14-nov/parsed_tweets.json processed (2.0800130367279053 sec)\n",
      "(48%): 1300000 lines in ../data/14-nov/parsed_tweets.json processed (1.9684491157531738 sec)\n",
      "(52%): 1400000 lines in ../data/14-nov/parsed_tweets.json processed (2.0975558757781982 sec)\n",
      "(56%): 1500000 lines in ../data/14-nov/parsed_tweets.json processed (2.0636959075927734 sec)\n",
      "(59%): 1600000 lines in ../data/14-nov/parsed_tweets.json processed (1.9173331260681152 sec)\n",
      "(63%): 1700000 lines in ../data/14-nov/parsed_tweets.json processed (2.055133819580078 sec)\n",
      "(67%): 1800000 lines in ../data/14-nov/parsed_tweets.json processed (2.0648629665374756 sec)\n",
      "(70%): 1900000 lines in ../data/14-nov/parsed_tweets.json processed (2.1806740760803223 sec)\n",
      "(74%): 2000000 lines in ../data/14-nov/parsed_tweets.json processed (2.1890320777893066 sec)\n",
      "(78%): 2100000 lines in ../data/14-nov/parsed_tweets.json processed (2.045111656188965 sec)\n",
      "(82%): 2200000 lines in ../data/14-nov/parsed_tweets.json processed (2.0904150009155273 sec)\n",
      "(85%): 2300000 lines in ../data/14-nov/parsed_tweets.json processed (1.8325567245483398 sec)\n",
      "(89%): 2400000 lines in ../data/14-nov/parsed_tweets.json processed (2.334578037261963 sec)\n",
      "(93%): 2500000 lines in ../data/14-nov/parsed_tweets.json processed (2.1712419986724854 sec)\n",
      "(96%): 2600000 lines in ../data/14-nov/parsed_tweets.json processed (1.962399959564209 sec)\n",
      "Done loading ../data/14-nov/parsed_tweets.json\n",
      "2696807 lines in ../data/14-nov/parsed_tweets.json processed (55.51286816596985 sec)\n",
      "<class 'pandas.core.frame.DataFrame'>\n",
      "Index: 2696807 entries, 1324415392761171970 to 1324026879720984580\n",
      "Data columns (total 4 columns):\n",
      " #   Column         Dtype \n",
      "---  ------         ----- \n",
      " 0   quote_tweet    object\n",
      " 1   retweet_count  int32 \n",
      " 2   timestamp      object\n",
      " 3   quote_count    int16 \n",
      "dtypes: int16(1), int32(1), object(2)\n",
      "memory usage: 77.2+ MB\n"
     ]
    }
   ],
   "source": [
    "import pandas as pd\n",
    "from data_tools import load_crawled_terms, load_parsed_data\n",
    "\n",
    "tweet_df = load_parsed_data('../data/14-nov/parsed_tweets.json', include_cols={\n",
    "    \"datastore_id\",\n",
    "    \"timestamp\",\n",
    "    \"retweet_count\",\n",
    "    \"quote_count\",\n",
    "    \"quote_tweet\"\n",
    "}, verbose=True, index_col=\"datastore_id\")\n",
    "recent_tweet_df = tweet_df[tweet_df.timestamp > '2020-10-23 00:00:00']\n",
    "tweet_df.info()"
   ]
  },
  {
   "cell_type": "code",
   "execution_count": 4,
   "metadata": {},
   "outputs": [
    {
     "output_type": "stream",
     "name": "stdout",
     "text": [
      "Loading 8044982 json lines\n",
      "(1%): 100000 lines in ../data/14-nov/parsed_retweets.json processed (0.48587703704833984 sec)\n",
      "(2%): 200000 lines in ../data/14-nov/parsed_retweets.json processed (0.5202829837799072 sec)\n",
      "(4%): 300000 lines in ../data/14-nov/parsed_retweets.json processed (0.44507288932800293 sec)\n",
      "(5%): 400000 lines in ../data/14-nov/parsed_retweets.json processed (0.4861891269683838 sec)\n",
      "(6%): 500000 lines in ../data/14-nov/parsed_retweets.json processed (0.5641098022460938 sec)\n",
      "(7%): 600000 lines in ../data/14-nov/parsed_retweets.json processed (0.5244688987731934 sec)\n",
      "(9%): 700000 lines in ../data/14-nov/parsed_retweets.json processed (0.43213796615600586 sec)\n",
      "(10%): 800000 lines in ../data/14-nov/parsed_retweets.json processed (0.5323379039764404 sec)\n",
      "(11%): 900000 lines in ../data/14-nov/parsed_retweets.json processed (0.4484238624572754 sec)\n",
      "(12%): 1000000 lines in ../data/14-nov/parsed_retweets.json processed (0.4755403995513916 sec)\n",
      "(14%): 1100000 lines in ../data/14-nov/parsed_retweets.json processed (0.5109779834747314 sec)\n",
      "(15%): 1200000 lines in ../data/14-nov/parsed_retweets.json processed (0.4923877716064453 sec)\n",
      "(16%): 1300000 lines in ../data/14-nov/parsed_retweets.json processed (0.4188511371612549 sec)\n",
      "(17%): 1400000 lines in ../data/14-nov/parsed_retweets.json processed (0.5353310108184814 sec)\n",
      "(19%): 1500000 lines in ../data/14-nov/parsed_retweets.json processed (0.438870906829834 sec)\n",
      "(20%): 1600000 lines in ../data/14-nov/parsed_retweets.json processed (0.4499328136444092 sec)\n",
      "(21%): 1700000 lines in ../data/14-nov/parsed_retweets.json processed (0.5192251205444336 sec)\n",
      "(22%): 1800000 lines in ../data/14-nov/parsed_retweets.json processed (0.5919990539550781 sec)\n",
      "(24%): 1900000 lines in ../data/14-nov/parsed_retweets.json processed (0.4917597770690918 sec)\n",
      "(25%): 2000000 lines in ../data/14-nov/parsed_retweets.json processed (0.6121070384979248 sec)\n",
      "(26%): 2100000 lines in ../data/14-nov/parsed_retweets.json processed (0.5217361450195312 sec)\n",
      "(27%): 2200000 lines in ../data/14-nov/parsed_retweets.json processed (0.6578049659729004 sec)\n",
      "(29%): 2300000 lines in ../data/14-nov/parsed_retweets.json processed (0.49733591079711914 sec)\n",
      "(30%): 2400000 lines in ../data/14-nov/parsed_retweets.json processed (0.5260097980499268 sec)\n",
      "(31%): 2500000 lines in ../data/14-nov/parsed_retweets.json processed (0.6208231449127197 sec)\n",
      "(32%): 2600000 lines in ../data/14-nov/parsed_retweets.json processed (0.5224168300628662 sec)\n",
      "(34%): 2700000 lines in ../data/14-nov/parsed_retweets.json processed (0.4998209476470947 sec)\n",
      "(35%): 2800000 lines in ../data/14-nov/parsed_retweets.json processed (0.5728609561920166 sec)\n",
      "(36%): 2900000 lines in ../data/14-nov/parsed_retweets.json processed (0.589163064956665 sec)\n",
      "(37%): 3000000 lines in ../data/14-nov/parsed_retweets.json processed (0.482180118560791 sec)\n",
      "(39%): 3100000 lines in ../data/14-nov/parsed_retweets.json processed (0.6508219242095947 sec)\n",
      "(40%): 3200000 lines in ../data/14-nov/parsed_retweets.json processed (0.5774478912353516 sec)\n",
      "(41%): 3300000 lines in ../data/14-nov/parsed_retweets.json processed (0.5640451908111572 sec)\n",
      "(42%): 3400000 lines in ../data/14-nov/parsed_retweets.json processed (0.5720670223236084 sec)\n",
      "(44%): 3500000 lines in ../data/14-nov/parsed_retweets.json processed (0.5009980201721191 sec)\n",
      "(45%): 3600000 lines in ../data/14-nov/parsed_retweets.json processed (0.6590297222137451 sec)\n",
      "(46%): 3700000 lines in ../data/14-nov/parsed_retweets.json processed (0.5339100360870361 sec)\n",
      "(47%): 3800000 lines in ../data/14-nov/parsed_retweets.json processed (0.6404678821563721 sec)\n",
      "(48%): 3900000 lines in ../data/14-nov/parsed_retweets.json processed (0.6044790744781494 sec)\n",
      "(50%): 4000000 lines in ../data/14-nov/parsed_retweets.json processed (0.520503044128418 sec)\n",
      "(51%): 4100000 lines in ../data/14-nov/parsed_retweets.json processed (0.6008780002593994 sec)\n",
      "(52%): 4200000 lines in ../data/14-nov/parsed_retweets.json processed (0.5167958736419678 sec)\n",
      "(53%): 4300000 lines in ../data/14-nov/parsed_retweets.json processed (0.5481159687042236 sec)\n",
      "(55%): 4400000 lines in ../data/14-nov/parsed_retweets.json processed (0.629472017288208 sec)\n",
      "(56%): 4500000 lines in ../data/14-nov/parsed_retweets.json processed (0.5795080661773682 sec)\n",
      "(57%): 4600000 lines in ../data/14-nov/parsed_retweets.json processed (0.614250898361206 sec)\n",
      "(58%): 4700000 lines in ../data/14-nov/parsed_retweets.json processed (0.5682072639465332 sec)\n",
      "(60%): 4800000 lines in ../data/14-nov/parsed_retweets.json processed (0.5845229625701904 sec)\n",
      "(61%): 4900000 lines in ../data/14-nov/parsed_retweets.json processed (0.6712009906768799 sec)\n",
      "(62%): 5000000 lines in ../data/14-nov/parsed_retweets.json processed (0.5263769626617432 sec)\n",
      "(63%): 5100000 lines in ../data/14-nov/parsed_retweets.json processed (0.6009039878845215 sec)\n",
      "(65%): 5200000 lines in ../data/14-nov/parsed_retweets.json processed (0.5234518051147461 sec)\n",
      "(66%): 5300000 lines in ../data/14-nov/parsed_retweets.json processed (0.6715970039367676 sec)\n",
      "(67%): 5400000 lines in ../data/14-nov/parsed_retweets.json processed (0.5771751403808594 sec)\n",
      "(68%): 5500000 lines in ../data/14-nov/parsed_retweets.json processed (0.5783159732818604 sec)\n",
      "(70%): 5600000 lines in ../data/14-nov/parsed_retweets.json processed (0.6207411289215088 sec)\n",
      "(71%): 5700000 lines in ../data/14-nov/parsed_retweets.json processed (0.6103537082672119 sec)\n",
      "(72%): 5800000 lines in ../data/14-nov/parsed_retweets.json processed (0.9627277851104736 sec)\n",
      "(73%): 5900000 lines in ../data/14-nov/parsed_retweets.json processed (0.6286778450012207 sec)\n",
      "(75%): 6000000 lines in ../data/14-nov/parsed_retweets.json processed (0.5258162021636963 sec)\n",
      "(76%): 6100000 lines in ../data/14-nov/parsed_retweets.json processed (0.6237139701843262 sec)\n",
      "(77%): 6200000 lines in ../data/14-nov/parsed_retweets.json processed (0.5304529666900635 sec)\n",
      "(78%): 6300000 lines in ../data/14-nov/parsed_retweets.json processed (0.5927853584289551 sec)\n",
      "(80%): 6400000 lines in ../data/14-nov/parsed_retweets.json processed (0.6089253425598145 sec)\n",
      "(81%): 6500000 lines in ../data/14-nov/parsed_retweets.json processed (0.5456767082214355 sec)\n",
      "(82%): 6600000 lines in ../data/14-nov/parsed_retweets.json processed (0.697516918182373 sec)\n",
      "(83%): 6700000 lines in ../data/14-nov/parsed_retweets.json processed (0.5488228797912598 sec)\n",
      "(85%): 6800000 lines in ../data/14-nov/parsed_retweets.json processed (0.5694708824157715 sec)\n",
      "(86%): 6900000 lines in ../data/14-nov/parsed_retweets.json processed (0.6297829151153564 sec)\n",
      "(87%): 7000000 lines in ../data/14-nov/parsed_retweets.json processed (0.545759916305542 sec)\n",
      "(88%): 7100000 lines in ../data/14-nov/parsed_retweets.json processed (0.650446891784668 sec)\n",
      "(89%): 7200000 lines in ../data/14-nov/parsed_retweets.json processed (0.549670934677124 sec)\n",
      "(91%): 7300000 lines in ../data/14-nov/parsed_retweets.json processed (0.6932830810546875 sec)\n",
      "(92%): 7400000 lines in ../data/14-nov/parsed_retweets.json processed (0.5747320652008057 sec)\n",
      "(93%): 7500000 lines in ../data/14-nov/parsed_retweets.json processed (0.5655150413513184 sec)\n",
      "(94%): 7600000 lines in ../data/14-nov/parsed_retweets.json processed (0.629997968673706 sec)\n",
      "(96%): 7700000 lines in ../data/14-nov/parsed_retweets.json processed (0.5481758117675781 sec)\n",
      "(97%): 7800000 lines in ../data/14-nov/parsed_retweets.json processed (0.6867051124572754 sec)\n",
      "(98%): 7900000 lines in ../data/14-nov/parsed_retweets.json processed (0.6995100975036621 sec)\n",
      "(99%): 8000000 lines in ../data/14-nov/parsed_retweets.json processed (0.5621249675750732 sec)\n",
      "Done loading ../data/14-nov/parsed_retweets.json\n",
      "8044982 lines in ../data/14-nov/parsed_retweets.json processed (45.85704803466797 sec)\n",
      "<class 'pandas.core.frame.DataFrame'>\n",
      "RangeIndex: 8044982 entries, 0 to 8044981\n",
      "Data columns (total 4 columns):\n",
      " #   Column              Dtype \n",
      "---  ------              ----- \n",
      " 0   timestamp           object\n",
      " 1   user                object\n",
      " 2   retweeted           object\n",
      " 3   retweetedFrom_user  object\n",
      "dtypes: object(4)\n",
      "memory usage: 245.5+ MB\n"
     ]
    }
   ],
   "source": [
    "retweet_df = load_parsed_data('../data/14-nov/parsed_retweets.json')\n",
    "\n",
    "retweet_df.info()"
   ]
  },
  {
   "source": [
    "# How complete is our retweet graph?\n",
    "\n",
    "Method: sampling N tweets from our dataset and checking how many retweets we have crawled"
   ],
   "cell_type": "markdown",
   "metadata": {}
  },
  {
   "cell_type": "code",
   "execution_count": 32,
   "metadata": {},
   "outputs": [
    {
     "output_type": "stream",
     "name": "stdout",
     "text": [
      "Retweet coverage for 50 samples: 45.3% (2381/5252)\n...for each tweet\n[1325798366694010882 tweeted at 2020-11-09T13:52:17Z]: 45.6% (675 / 1480)\n[1324020755768791040 tweeted at 2020-11-04T16:08:41Z]: 36.4% (514 / 1413)\n[1326698096059846656 tweeted at 2020-11-12T01:27:29Z]: 76.2% (205 / 269)\n[1326263772705517569 tweeted at 2020-11-10T20:41:38Z]: 30.6% (82 / 268)\n[1325046856309637120 tweeted at 2020-11-07T12:06:03Z]: 33.6% (73 / 217)\n[1327088479411589120 tweeted at 2020-11-13T03:18:44Z]: 73.0% (143 / 196)\n[1324614148907540480 tweeted at 2020-11-06T07:26:37Z]: 59.9% (85 / 142)\n[1324027372971188235 tweeted at 2020-11-04T16:34:59Z]: 34.0% (48 / 141)\n[1325347051144667136 tweeted at 2020-11-08T07:58:55Z]: 66.4% (83 / 125)\n[1326156206285746179 tweeted at 2020-11-10T13:34:13Z]: 20.0% (15 / 75)\n[1326188900470190081 tweeted at 2020-11-10T15:44:07Z]: 19.2% (14 / 73)\n[1325134916078587906 tweeted at 2020-11-07T17:55:58Z]: 43.8% (28 / 64)\n[1324543390269263873 tweeted at 2020-11-06T02:45:27Z]: 20.6% (13 / 63)\n[1324699196805521408 tweeted at 2020-11-06T13:04:34Z]: 17.3% (9 / 52)\n[1323975715918876672 tweeted at 2020-11-04T13:09:43Z]: 63.0% (29 / 46)\n[1326967859956867074 tweeted at 2020-11-12T19:19:26Z]: 41.9% (18 / 43)\n[1323895874796355591 tweeted at 2020-11-04T07:52:28Z]: 76.7% (33 / 43)\n[1325168886845591554 tweeted at 2020-11-07T20:10:57Z]: 34.1% (14 / 41)\n[1327183739634388993 tweeted at 2020-11-13T09:37:16Z]: 88.9% (32 / 36)\n[1324464313910857731 tweeted at 2020-11-05T21:31:14Z]: 69.7% (23 / 33)\n[1324365605387051010 tweeted at 2020-11-05T14:59:00Z]: 31.2% (10 / 32)\n[1325968351059869697 tweeted at 2020-11-10T01:07:44Z]: 27.6% (8 / 29)\n[1325273662589706240 tweeted at 2020-11-08T03:07:18Z]: 26.9% (7 / 26)\n[1324187620939685892 tweeted at 2020-11-05T03:11:45Z]: 39.1% (9 / 23)\n[1322304449126301697 tweeted at 2020-10-30T22:28:42Z]: 100.0% (20 / 20)\n[1325304055288180736 tweeted at 2020-11-08T05:08:04Z]: 60.0% (12 / 20)\n[1321494010070994946 tweeted at 2020-10-28T16:48:18Z]: 100.0% (20 / 20)\n[1324718392687828993 tweeted at 2020-11-06T14:20:51Z]: 36.8% (7 / 19)\n[1324773977546321920 tweeted at 2020-11-06T18:01:44Z]: 29.4% (5 / 17)\n[1326163175188942850 tweeted at 2020-11-10T14:01:54Z]: 25.0% (4 / 16)\n[1327102000534753281 tweeted at 2020-11-13T04:12:27Z]: 87.5% (14 / 16)\n[1325058146839244800 tweeted at 2020-11-07T12:50:55Z]: 56.2% (9 / 16)\n[1325254070270046210 tweeted at 2020-11-08T01:49:27Z]: 71.4% (10 / 14)\n[1326634644465475584 tweeted at 2020-11-11T21:15:21Z]: 76.9% (10 / 13)\n[1327297175206977536 tweeted at 2020-11-13T17:08:01Z]: 53.8% (7 / 13)\n[1327597914835857408 tweeted at 2020-11-14T13:03:03Z]: 100.0% (12 / 12)\n[1323893405005484032 tweeted at 2020-11-04T07:42:39Z]: 63.6% (7 / 11)\n[1324468236524597248 tweeted at 2020-11-05T21:46:49Z]: 9.1% (1 / 11)\n[1325319510669266945 tweeted at 2020-11-08T06:09:29Z]: 100.0% (11 / 11)\n[1326343147660730369 tweeted at 2020-11-11T01:57:03Z]: 36.4% (4 / 11)\n[1321496992141508608 tweeted at 2020-10-28T17:00:09Z]: 100.0% (10 / 10)\n[1325903555123945474 tweeted at 2020-11-09T20:50:16Z]: 30.0% (3 / 10)\n[1327079570206580736 tweeted at 2020-11-13T02:43:20Z]: 80.0% (8 / 10)\n[1322124203542241281 tweeted at 2020-10-30T10:32:28Z]: 100.0% (9 / 9)\n[1324576146118205446 tweeted at 2020-11-06T04:55:37Z]: 25.0% (2 / 8)\n[1324833715432923136 tweeted at 2020-11-06T21:59:06Z]: 25.0% (2 / 8)\n[1325264781704650753 tweeted at 2020-11-08T02:32:00Z]: 71.4% (5 / 7)\n[1327516301686870017 tweeted at 2020-11-14T07:38:45Z]: 100.0% (7 / 7)\n[1325692749727883264 tweeted at 2020-11-09T06:52:36Z]: 85.7% (6 / 7)\n[1323664555956981763 tweeted at 2020-11-03T16:33:17Z]: 100.0% (6 / 6)\n"
     ]
    }
   ],
   "source": [
    "N = 50\n",
    "sampled_tweets = recent_tweet_df[recent_tweet_df[\"retweet_count\"] > 5].sample(N)\n",
    "retweeted_id_df = retweet_df[\"retweeted\"]\n",
    "retweet_coverage_stats = []\n",
    "\n",
    "for tweet_id, tweet in sampled_tweets.iterrows():\n",
    "    stats = {}\n",
    "    crawled_retweet_count = 0\n",
    "\n",
    "    for i, retweeted_tweet_id in retweeted_id_df.iteritems():\n",
    "        if retweeted_tweet_id == tweet_id:\n",
    "            crawled_retweet_count += 1\n",
    "\n",
    "    stats[\"tweet_id\"] = tweet_id\n",
    "    stats[\"timestamp\"] = tweet[\"timestamp\"]\n",
    "    stats[\"metadata_retweet_count\"] = tweet[\"retweet_count\"]\n",
    "    stats[\"crawled_retweet_count\"] = crawled_retweet_count\n",
    "\n",
    "    retweet_coverage_stats.append(stats)\n",
    "\n",
    "retweet_coverage_stats_df = pd.DataFrame(retweet_coverage_stats).sort_values('metadata_retweet_count', ascending=False)\n",
    "\n",
    "aggregated_metadata_retweet_count = retweet_coverage_stats_df[\"metadata_retweet_count\"].sum()\n",
    "aggregated_crawled_retweet_count = retweet_coverage_stats_df[\"crawled_retweet_count\"].sum()\n",
    "\n",
    "print(\"Retweet coverage for {} samples: {:,.1f}% ({}/{})\".format(\n",
    "    N,\n",
    "    (aggregated_crawled_retweet_count / aggregated_metadata_retweet_count) * 100,\n",
    "    aggregated_crawled_retweet_count,\n",
    "    aggregated_metadata_retweet_count\n",
    "))\n",
    "\n",
    "print(\"...for each tweet\")\n",
    "\n",
    "for i, tweet in retweet_coverage_stats_df.iterrows():\n",
    "    print(\"[{} tweeted at {}]: {:,.1f}% ({} / {})\".format(\n",
    "        tweet[\"tweet_id\"],\n",
    "        tweet[\"timestamp\"],\n",
    "        tweet[\"crawled_retweet_count\"] / tweet[\"metadata_retweet_count\"] * 100,\n",
    "        tweet[\"crawled_retweet_count\"],\n",
    "        tweet[\"metadata_retweet_count\"]\n",
    "    ))"
   ]
  },
  {
   "source": [
    "# How complete is our quote graph?"
   ],
   "cell_type": "markdown",
   "metadata": {}
  },
  {
   "cell_type": "code",
   "execution_count": 11,
   "metadata": {},
   "outputs": [
    {
     "output_type": "stream",
     "name": "stdout",
     "text": [
      "Quote coverage for 25 samples: 42.5% (657/1545)\n...for each tweet\n[1324308133888593920 tweeted at 2020-11-05T11:10:38Z]: 28.0% (162 / 578)\n[1325513854676242432 tweeted at 2020-11-08T19:01:44Z]: 124.7% (192 / 154)\n[1323980770931806210 tweeted at 2020-11-04T13:29:48Z]: 57.3% (86 / 150)\n[1325261660735614983 tweeted at 2020-11-08T02:19:36Z]: 51.9% (54 / 104)\n[1325571200295251968 tweeted at 2020-11-08T22:49:36Z]: 32.2% (28 / 87)\n[1324891059147714564 tweeted at 2020-11-07T01:46:58Z]: 1.5% (1 / 65)\n[1324166447011082240 tweeted at 2020-11-05T01:47:37Z]: 45.5% (25 / 55)\n[1324183965683515393 tweeted at 2020-11-05T02:57:14Z]: 37.5% (18 / 48)\n[1324465010882478080 tweeted at 2020-11-05T21:34:00Z]: 21.6% (8 / 37)\n[1325869668645564418 tweeted at 2020-11-09T18:35:37Z]: 55.6% (20 / 36)\n[1326494444045086720 tweeted at 2020-11-11T11:58:15Z]: 0.0% (0 / 32)\n[1325977970675232768 tweeted at 2020-11-10T01:45:58Z]: 0.0% (0 / 25)\n[1325931988503703552 tweeted at 2020-11-09T22:43:15Z]: 48.0% (12 / 25)\n[1324522762451394561 tweeted at 2020-11-06T01:23:29Z]: 0.0% (0 / 25)\n[1326279670443208711 tweeted at 2020-11-10T21:44:49Z]: 29.2% (7 / 24)\n[1323877024675540995 tweeted at 2020-11-04T06:37:33Z]: 53.8% (7 / 13)\n[1324082187323514882 tweeted at 2020-11-04T20:12:48Z]: 0.0% (0 / 12)\n[1324894821979475969 tweeted at 2020-11-07T02:01:55Z]: 8.3% (1 / 12)\n[1325604016366161921 tweeted at 2020-11-09T01:00:00Z]: 63.6% (7 / 11)\n[1324806016412897281 tweeted at 2020-11-06T20:09:02Z]: 63.6% (7 / 11)\n[1326641098144567298 tweeted at 2020-11-11T21:41:00Z]: 80.0% (8 / 10)\n[1323876394531770368 tweeted at 2020-11-04T06:35:03Z]: 100.0% (10 / 10)\n[1325878297797025796 tweeted at 2020-11-09T19:09:54Z]: 50.0% (4 / 8)\n[1324764495059759105 tweeted at 2020-11-06T17:24:03Z]: 0.0% (0 / 7)\n[1324161509052846080 tweeted at 2020-11-05T01:28:00Z]: 0.0% (0 / 6)\n"
     ]
    }
   ],
   "source": [
    "import pandas as pd\n",
    "N = 25\n",
    "sampled_tweets = recent_tweet_df[recent_tweet_df[\"quote_count\"] > 5].sample(N)\n",
    "quoted_id_df = recent_tweet_df[\"quote_tweet\"]\n",
    "quote_coverage_stats = []\n",
    "\n",
    "for tweet_id, tweet in sampled_tweets.iterrows():\n",
    "    stats = {}\n",
    "    crawled_quote_count = 0\n",
    "\n",
    "    for i, quoted_tweet_id in quoted_id_df.iteritems():\n",
    "        if quoted_tweet_id == tweet_id:\n",
    "            crawled_quote_count += 1\n",
    "\n",
    "    stats[\"tweet_id\"] = tweet_id\n",
    "    stats[\"timestamp\"] = tweet[\"timestamp\"]\n",
    "    stats[\"metadata_quote_count\"] = tweet[\"quote_count\"]\n",
    "    stats[\"crawled_quote_count\"] = crawled_quote_count\n",
    "\n",
    "    quote_coverage_stats.append(stats)\n",
    "\n",
    "quote_coverage_stats_df = pd.DataFrame(quote_coverage_stats).sort_values('metadata_quote_count', ascending=False)\n",
    "\n",
    "aggregated_metadata_quote_count = quote_coverage_stats_df[\"metadata_quote_count\"].sum()\n",
    "aggregated_crawled_quote_count = quote_coverage_stats_df[\"crawled_quote_count\"].sum()\n",
    "\n",
    "print(\"Quote coverage for {} samples: {:,.1f}% ({}/{})\".format(\n",
    "    N,\n",
    "    (aggregated_crawled_quote_count / aggregated_metadata_quote_count) * 100,\n",
    "    aggregated_crawled_quote_count,\n",
    "    aggregated_metadata_quote_count\n",
    "))\n",
    "\n",
    "print(\"...for each tweet\")\n",
    "\n",
    "for i, tweet in quote_coverage_stats_df.iterrows():\n",
    "    print(\"[{} tweeted at {}]: {:,.1f}% ({} / {})\".format(\n",
    "        tweet[\"tweet_id\"],\n",
    "        tweet[\"timestamp\"],\n",
    "        tweet[\"crawled_quote_count\"] / tweet[\"metadata_quote_count\"] * 100,\n",
    "        tweet[\"crawled_quote_count\"],\n",
    "        tweet[\"metadata_quote_count\"]\n",
    "    ))"
   ]
  },
  {
   "source": [
    "# How complete is our retweet count?\n",
    "\n",
    "Method: sampling 100 tweets from our datastore and comparing their retweet count with their retweet count according to the Twitter API."
   ],
   "cell_type": "markdown",
   "metadata": {}
  },
  {
   "cell_type": "code",
   "execution_count": null,
   "metadata": {},
   "outputs": [],
   "source": []
  }
 ]
}