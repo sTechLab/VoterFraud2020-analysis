{
 "metadata": {
  "language_info": {
   "codemirror_mode": {
    "name": "ipython",
    "version": 3
   },
   "file_extension": ".py",
   "mimetype": "text/x-python",
   "name": "python",
   "nbconvert_exporter": "python",
   "pygments_lexer": "ipython3",
   "version": "3.8.5-final"
  },
  "orig_nbformat": 2,
  "kernelspec": {
   "name": "python3",
   "display_name": "Python 3.8.5 64-bit ('voter-fraud': conda)",
   "metadata": {
    "interpreter": {
     "hash": "a0f90dcbb54bea4e60f894f8fd1d686cc0f74395b4029405cc9f13e0b975e641"
    }
   }
  }
 },
 "nbformat": 4,
 "nbformat_minor": 2,
 "cells": [
  {
   "cell_type": "code",
   "execution_count": 2,
   "metadata": {},
   "outputs": [],
   "source": [
    "# Resolve paths from root project directory\n",
    "\n",
    "import os\n",
    "import sys\n",
    "module_path = os.path.abspath(os.path.join('..'))\n",
    "if module_path not in sys.path:\n",
    "    sys.path.append(module_path)"
   ]
  },
  {
   "cell_type": "code",
   "execution_count": 6,
   "metadata": {},
   "outputs": [
    {
     "output_type": "stream",
     "name": "stdout",
     "text": [
      "Loading 2696807 json lines\n",
      "(4%): 100000 lines in ../data/14-nov/parsed_tweets.json processed (1.9913108348846436 sec)\n",
      "(7%): 200000 lines in ../data/14-nov/parsed_tweets.json processed (2.366476058959961 sec)\n",
      "(11%): 300000 lines in ../data/14-nov/parsed_tweets.json processed (1.922652006149292 sec)\n",
      "(15%): 400000 lines in ../data/14-nov/parsed_tweets.json processed (1.9044489860534668 sec)\n",
      "(19%): 500000 lines in ../data/14-nov/parsed_tweets.json processed (2.027184009552002 sec)\n",
      "(22%): 600000 lines in ../data/14-nov/parsed_tweets.json processed (1.9191839694976807 sec)\n",
      "(26%): 700000 lines in ../data/14-nov/parsed_tweets.json processed (1.942857265472412 sec)\n",
      "(30%): 800000 lines in ../data/14-nov/parsed_tweets.json processed (1.9039320945739746 sec)\n",
      "(33%): 900000 lines in ../data/14-nov/parsed_tweets.json processed (2.217972993850708 sec)\n",
      "(37%): 1000000 lines in ../data/14-nov/parsed_tweets.json processed (2.2439732551574707 sec)\n",
      "(41%): 1100000 lines in ../data/14-nov/parsed_tweets.json processed (2.021998167037964 sec)\n",
      "(44%): 1200000 lines in ../data/14-nov/parsed_tweets.json processed (2.0800130367279053 sec)\n",
      "(48%): 1300000 lines in ../data/14-nov/parsed_tweets.json processed (1.9684491157531738 sec)\n",
      "(52%): 1400000 lines in ../data/14-nov/parsed_tweets.json processed (2.0975558757781982 sec)\n",
      "(56%): 1500000 lines in ../data/14-nov/parsed_tweets.json processed (2.0636959075927734 sec)\n",
      "(59%): 1600000 lines in ../data/14-nov/parsed_tweets.json processed (1.9173331260681152 sec)\n",
      "(63%): 1700000 lines in ../data/14-nov/parsed_tweets.json processed (2.055133819580078 sec)\n",
      "(67%): 1800000 lines in ../data/14-nov/parsed_tweets.json processed (2.0648629665374756 sec)\n",
      "(70%): 1900000 lines in ../data/14-nov/parsed_tweets.json processed (2.1806740760803223 sec)\n",
      "(74%): 2000000 lines in ../data/14-nov/parsed_tweets.json processed (2.1890320777893066 sec)\n",
      "(78%): 2100000 lines in ../data/14-nov/parsed_tweets.json processed (2.045111656188965 sec)\n",
      "(82%): 2200000 lines in ../data/14-nov/parsed_tweets.json processed (2.0904150009155273 sec)\n",
      "(85%): 2300000 lines in ../data/14-nov/parsed_tweets.json processed (1.8325567245483398 sec)\n",
      "(89%): 2400000 lines in ../data/14-nov/parsed_tweets.json processed (2.334578037261963 sec)\n",
      "(93%): 2500000 lines in ../data/14-nov/parsed_tweets.json processed (2.1712419986724854 sec)\n",
      "(96%): 2600000 lines in ../data/14-nov/parsed_tweets.json processed (1.962399959564209 sec)\n",
      "Done loading ../data/14-nov/parsed_tweets.json\n",
      "2696807 lines in ../data/14-nov/parsed_tweets.json processed (55.51286816596985 sec)\n",
      "<class 'pandas.core.frame.DataFrame'>\n",
      "Index: 2696807 entries, 1324415392761171970 to 1324026879720984580\n",
      "Data columns (total 4 columns):\n",
      " #   Column         Dtype \n",
      "---  ------         ----- \n",
      " 0   quote_tweet    object\n",
      " 1   retweet_count  int32 \n",
      " 2   timestamp      object\n",
      " 3   quote_count    int16 \n",
      "dtypes: int16(1), int32(1), object(2)\n",
      "memory usage: 77.2+ MB\n"
     ]
    }
   ],
   "source": [
    "import pandas as pd\n",
    "from data_tools import load_crawled_terms, load_parsed_data\n",
    "\n",
    "tweet_df = load_parsed_data('../data/14-nov/parsed_tweets.json', include_cols={\n",
    "    \"datastore_id\",\n",
    "    \"timestamp\",\n",
    "    \"retweet_count\",\n",
    "    \"quote_count\",\n",
    "    \"quote_tweet\"\n",
    "}, verbose=True, index_col=\"datastore_id\")\n",
    "recent_tweet_df = tweet_df[tweet_df.timestamp > '2020-10-23 00:00:00']\n",
    "tweet_df.info()"
   ]
  },
  {
   "cell_type": "code",
   "execution_count": 4,
   "metadata": {},
   "outputs": [
    {
     "output_type": "stream",
     "name": "stdout",
     "text": [
      "Loading 8044982 json lines\n",
      "(1%): 100000 lines in ../data/14-nov/parsed_retweets.json processed (0.48587703704833984 sec)\n",
      "(2%): 200000 lines in ../data/14-nov/parsed_retweets.json processed (0.5202829837799072 sec)\n",
      "(4%): 300000 lines in ../data/14-nov/parsed_retweets.json processed (0.44507288932800293 sec)\n",
      "(5%): 400000 lines in ../data/14-nov/parsed_retweets.json processed (0.4861891269683838 sec)\n",
      "(6%): 500000 lines in ../data/14-nov/parsed_retweets.json processed (0.5641098022460938 sec)\n",
      "(7%): 600000 lines in ../data/14-nov/parsed_retweets.json processed (0.5244688987731934 sec)\n",
      "(9%): 700000 lines in ../data/14-nov/parsed_retweets.json processed (0.43213796615600586 sec)\n",
      "(10%): 800000 lines in ../data/14-nov/parsed_retweets.json processed (0.5323379039764404 sec)\n",
      "(11%): 900000 lines in ../data/14-nov/parsed_retweets.json processed (0.4484238624572754 sec)\n",
      "(12%): 1000000 lines in ../data/14-nov/parsed_retweets.json processed (0.4755403995513916 sec)\n",
      "(14%): 1100000 lines in ../data/14-nov/parsed_retweets.json processed (0.5109779834747314 sec)\n",
      "(15%): 1200000 lines in ../data/14-nov/parsed_retweets.json processed (0.4923877716064453 sec)\n",
      "(16%): 1300000 lines in ../data/14-nov/parsed_retweets.json processed (0.4188511371612549 sec)\n",
      "(17%): 1400000 lines in ../data/14-nov/parsed_retweets.json processed (0.5353310108184814 sec)\n",
      "(19%): 1500000 lines in ../data/14-nov/parsed_retweets.json processed (0.438870906829834 sec)\n",
      "(20%): 1600000 lines in ../data/14-nov/parsed_retweets.json processed (0.4499328136444092 sec)\n",
      "(21%): 1700000 lines in ../data/14-nov/parsed_retweets.json processed (0.5192251205444336 sec)\n",
      "(22%): 1800000 lines in ../data/14-nov/parsed_retweets.json processed (0.5919990539550781 sec)\n",
      "(24%): 1900000 lines in ../data/14-nov/parsed_retweets.json processed (0.4917597770690918 sec)\n",
      "(25%): 2000000 lines in ../data/14-nov/parsed_retweets.json processed (0.6121070384979248 sec)\n",
      "(26%): 2100000 lines in ../data/14-nov/parsed_retweets.json processed (0.5217361450195312 sec)\n",
      "(27%): 2200000 lines in ../data/14-nov/parsed_retweets.json processed (0.6578049659729004 sec)\n",
      "(29%): 2300000 lines in ../data/14-nov/parsed_retweets.json processed (0.49733591079711914 sec)\n",
      "(30%): 2400000 lines in ../data/14-nov/parsed_retweets.json processed (0.5260097980499268 sec)\n",
      "(31%): 2500000 lines in ../data/14-nov/parsed_retweets.json processed (0.6208231449127197 sec)\n",
      "(32%): 2600000 lines in ../data/14-nov/parsed_retweets.json processed (0.5224168300628662 sec)\n",
      "(34%): 2700000 lines in ../data/14-nov/parsed_retweets.json processed (0.4998209476470947 sec)\n",
      "(35%): 2800000 lines in ../data/14-nov/parsed_retweets.json processed (0.5728609561920166 sec)\n",
      "(36%): 2900000 lines in ../data/14-nov/parsed_retweets.json processed (0.589163064956665 sec)\n",
      "(37%): 3000000 lines in ../data/14-nov/parsed_retweets.json processed (0.482180118560791 sec)\n",
      "(39%): 3100000 lines in ../data/14-nov/parsed_retweets.json processed (0.6508219242095947 sec)\n",
      "(40%): 3200000 lines in ../data/14-nov/parsed_retweets.json processed (0.5774478912353516 sec)\n",
      "(41%): 3300000 lines in ../data/14-nov/parsed_retweets.json processed (0.5640451908111572 sec)\n",
      "(42%): 3400000 lines in ../data/14-nov/parsed_retweets.json processed (0.5720670223236084 sec)\n",
      "(44%): 3500000 lines in ../data/14-nov/parsed_retweets.json processed (0.5009980201721191 sec)\n",
      "(45%): 3600000 lines in ../data/14-nov/parsed_retweets.json processed (0.6590297222137451 sec)\n",
      "(46%): 3700000 lines in ../data/14-nov/parsed_retweets.json processed (0.5339100360870361 sec)\n",
      "(47%): 3800000 lines in ../data/14-nov/parsed_retweets.json processed (0.6404678821563721 sec)\n",
      "(48%): 3900000 lines in ../data/14-nov/parsed_retweets.json processed (0.6044790744781494 sec)\n",
      "(50%): 4000000 lines in ../data/14-nov/parsed_retweets.json processed (0.520503044128418 sec)\n",
      "(51%): 4100000 lines in ../data/14-nov/parsed_retweets.json processed (0.6008780002593994 sec)\n",
      "(52%): 4200000 lines in ../data/14-nov/parsed_retweets.json processed (0.5167958736419678 sec)\n",
      "(53%): 4300000 lines in ../data/14-nov/parsed_retweets.json processed (0.5481159687042236 sec)\n",
      "(55%): 4400000 lines in ../data/14-nov/parsed_retweets.json processed (0.629472017288208 sec)\n",
      "(56%): 4500000 lines in ../data/14-nov/parsed_retweets.json processed (0.5795080661773682 sec)\n",
      "(57%): 4600000 lines in ../data/14-nov/parsed_retweets.json processed (0.614250898361206 sec)\n",
      "(58%): 4700000 lines in ../data/14-nov/parsed_retweets.json processed (0.5682072639465332 sec)\n",
      "(60%): 4800000 lines in ../data/14-nov/parsed_retweets.json processed (0.5845229625701904 sec)\n",
      "(61%): 4900000 lines in ../data/14-nov/parsed_retweets.json processed (0.6712009906768799 sec)\n",
      "(62%): 5000000 lines in ../data/14-nov/parsed_retweets.json processed (0.5263769626617432 sec)\n",
      "(63%): 5100000 lines in ../data/14-nov/parsed_retweets.json processed (0.6009039878845215 sec)\n",
      "(65%): 5200000 lines in ../data/14-nov/parsed_retweets.json processed (0.5234518051147461 sec)\n",
      "(66%): 5300000 lines in ../data/14-nov/parsed_retweets.json processed (0.6715970039367676 sec)\n",
      "(67%): 5400000 lines in ../data/14-nov/parsed_retweets.json processed (0.5771751403808594 sec)\n",
      "(68%): 5500000 lines in ../data/14-nov/parsed_retweets.json processed (0.5783159732818604 sec)\n",
      "(70%): 5600000 lines in ../data/14-nov/parsed_retweets.json processed (0.6207411289215088 sec)\n",
      "(71%): 5700000 lines in ../data/14-nov/parsed_retweets.json processed (0.6103537082672119 sec)\n",
      "(72%): 5800000 lines in ../data/14-nov/parsed_retweets.json processed (0.9627277851104736 sec)\n",
      "(73%): 5900000 lines in ../data/14-nov/parsed_retweets.json processed (0.6286778450012207 sec)\n",
      "(75%): 6000000 lines in ../data/14-nov/parsed_retweets.json processed (0.5258162021636963 sec)\n",
      "(76%): 6100000 lines in ../data/14-nov/parsed_retweets.json processed (0.6237139701843262 sec)\n",
      "(77%): 6200000 lines in ../data/14-nov/parsed_retweets.json processed (0.5304529666900635 sec)\n",
      "(78%): 6300000 lines in ../data/14-nov/parsed_retweets.json processed (0.5927853584289551 sec)\n",
      "(80%): 6400000 lines in ../data/14-nov/parsed_retweets.json processed (0.6089253425598145 sec)\n",
      "(81%): 6500000 lines in ../data/14-nov/parsed_retweets.json processed (0.5456767082214355 sec)\n",
      "(82%): 6600000 lines in ../data/14-nov/parsed_retweets.json processed (0.697516918182373 sec)\n",
      "(83%): 6700000 lines in ../data/14-nov/parsed_retweets.json processed (0.5488228797912598 sec)\n",
      "(85%): 6800000 lines in ../data/14-nov/parsed_retweets.json processed (0.5694708824157715 sec)\n",
      "(86%): 6900000 lines in ../data/14-nov/parsed_retweets.json processed (0.6297829151153564 sec)\n",
      "(87%): 7000000 lines in ../data/14-nov/parsed_retweets.json processed (0.545759916305542 sec)\n",
      "(88%): 7100000 lines in ../data/14-nov/parsed_retweets.json processed (0.650446891784668 sec)\n",
      "(89%): 7200000 lines in ../data/14-nov/parsed_retweets.json processed (0.549670934677124 sec)\n",
      "(91%): 7300000 lines in ../data/14-nov/parsed_retweets.json processed (0.6932830810546875 sec)\n",
      "(92%): 7400000 lines in ../data/14-nov/parsed_retweets.json processed (0.5747320652008057 sec)\n",
      "(93%): 7500000 lines in ../data/14-nov/parsed_retweets.json processed (0.5655150413513184 sec)\n",
      "(94%): 7600000 lines in ../data/14-nov/parsed_retweets.json processed (0.629997968673706 sec)\n",
      "(96%): 7700000 lines in ../data/14-nov/parsed_retweets.json processed (0.5481758117675781 sec)\n",
      "(97%): 7800000 lines in ../data/14-nov/parsed_retweets.json processed (0.6867051124572754 sec)\n",
      "(98%): 7900000 lines in ../data/14-nov/parsed_retweets.json processed (0.6995100975036621 sec)\n",
      "(99%): 8000000 lines in ../data/14-nov/parsed_retweets.json processed (0.5621249675750732 sec)\n",
      "Done loading ../data/14-nov/parsed_retweets.json\n",
      "8044982 lines in ../data/14-nov/parsed_retweets.json processed (45.85704803466797 sec)\n",
      "<class 'pandas.core.frame.DataFrame'>\n",
      "RangeIndex: 8044982 entries, 0 to 8044981\n",
      "Data columns (total 4 columns):\n",
      " #   Column              Dtype \n",
      "---  ------              ----- \n",
      " 0   timestamp           object\n",
      " 1   user                object\n",
      " 2   retweeted           object\n",
      " 3   retweetedFrom_user  object\n",
      "dtypes: object(4)\n",
      "memory usage: 245.5+ MB\n"
     ]
    }
   ],
   "source": [
    "retweet_df = load_parsed_data('../data/14-nov/parsed_retweets.json')\n",
    "\n",
    "retweet_df.info()"
   ]
  },
  {
   "source": [
    "# How complete is our retweet graph?\n",
    "\n",
    "Method: sampling N tweets from our dataset and checking how many retweets we have crawled"
   ],
   "cell_type": "markdown",
   "metadata": {}
  },
  {
   "cell_type": "code",
   "execution_count": 13,
   "metadata": {},
   "outputs": [
    {
     "output_type": "stream",
     "name": "stdout",
     "text": [
      "Retweet coverage for 100 samples: 39.2% (3578/9121)\n...for each tweet\n[1326541495118147584 tweeted at 2020-11-11T15:05:13Z]: 31.6% (1356 / 4293)\n[1326000151891226624 tweeted at 2020-11-10T03:14:06Z]: 33.3% (181 / 544)\n[1325995326134611970 tweeted at 2020-11-10T02:54:56Z]: 18.2% (69 / 379)\n[1327435166361542656 tweeted at 2020-11-14T02:16:20Z]: 84.3% (312 / 370)\n[1324915867239370752 tweeted at 2020-11-07T03:25:33Z]: 41.8% (136 / 325)\n[1326331897803382784 tweeted at 2020-11-11T01:12:21Z]: 39.9% (107 / 268)\n[1325916351664443392 tweeted at 2020-11-09T21:41:07Z]: 27.4% (69 / 252)\n[1326188548274393088 tweeted at 2020-11-10T15:42:43Z]: 35.2% (86 / 244)\n[1325866072000630788 tweeted at 2020-11-09T18:21:19Z]: 45.3% (72 / 159)\n[1324601975057559553 tweeted at 2020-11-06T06:38:15Z]: 45.8% (55 / 120)\n[1324853764382199814 tweeted at 2020-11-06T23:18:46Z]: 16.4% (19 / 116)\n[1326017576439173121 tweeted at 2020-11-10T04:23:21Z]: 40.4% (46 / 114)\n[1326960290106400768 tweeted at 2020-11-12T18:49:21Z]: 50.5% (55 / 109)\n[1325308370333609984 tweeted at 2020-11-08T05:25:13Z]: 60.8% (59 / 97)\n[1325527523107758082 tweeted at 2020-11-08T19:56:03Z]: 66.3% (57 / 86)\n[1326728939751010309 tweeted at 2020-11-12T03:30:03Z]: 81.2% (69 / 85)\n[1326023948048490498 tweeted at 2020-11-10T04:48:40Z]: 52.1% (38 / 73)\n[1324153171556605954 tweeted at 2020-11-05T00:54:52Z]: 64.6% (42 / 65)\n[1326331842778308609 tweeted at 2020-11-11T01:12:08Z]: 33.9% (21 / 62)\n[1325057762011844609 tweeted at 2020-11-07T12:49:23Z]: 35.0% (21 / 60)\n[1320200926733438982 tweeted at 2020-10-25T03:10:03Z]: 96.5% (55 / 57)\n[1326608133561610241 tweeted at 2020-11-11T19:30:00Z]: 37.7% (20 / 53)\n[1324232076556529669 tweeted at 2020-11-05T06:08:24Z]: 75.0% (39 / 52)\n[1326982166199189505 tweeted at 2020-11-12T20:16:17Z]: 64.4% (29 / 45)\n[1326234032900804608 tweeted at 2020-11-10T18:43:28Z]: 11.4% (5 / 44)\n[1324586241938071552 tweeted at 2020-11-06T05:35:44Z]: 31.8% (14 / 44)\n[1326684729173741570 tweeted at 2020-11-12T00:34:22Z]: 21.1% (8 / 38)\n[1325240077329567745 tweeted at 2020-11-08T00:53:50Z]: 78.1% (25 / 32)\n[1327027521460850688 tweeted at 2020-11-12T23:16:30Z]: 40.6% (13 / 32)\n[1327346674495176704 tweeted at 2020-11-13T20:24:42Z]: 77.4% (24 / 31)\n[1325265223700406275 tweeted at 2020-11-08T02:33:46Z]: 53.3% (16 / 30)\n[1324325788481716225 tweeted at 2020-11-05T12:20:47Z]: 23.3% (7 / 30)\n[1325230767950028800 tweeted at 2020-11-08T00:16:51Z]: 27.6% (8 / 29)\n[1326733853147467777 tweeted at 2020-11-12T03:49:34Z]: 84.0% (21 / 25)\n[1325906389764464640 tweeted at 2020-11-09T21:01:32Z]: 54.2% (13 / 24)\n[1323750023281201154 tweeted at 2020-11-03T22:12:54Z]: 83.3% (20 / 24)\n[1327033220265877504 tweeted at 2020-11-12T23:39:09Z]: 37.5% (9 / 24)\n[1325399613923332097 tweeted at 2020-11-08T11:27:47Z]: 37.5% (9 / 24)\n[1324909278076006401 tweeted at 2020-11-07T02:59:22Z]: 59.1% (13 / 22)\n[1324828591612338177 tweeted at 2020-11-06T21:38:45Z]: 10.0% (2 / 20)\n[1323324441498144772 tweeted at 2020-11-02T18:01:47Z]: 94.7% (18 / 19)\n[1323860829075316748 tweeted at 2020-11-04T05:33:12Z]: 100.0% (18 / 18)\n[1325440530386391040 tweeted at 2020-11-08T14:10:22Z]: 33.3% (6 / 18)\n[1326086454221529088 tweeted at 2020-11-10T08:57:02Z]: 17.6% (3 / 17)\n[1327382671455117328 tweeted at 2020-11-13T22:47:45Z]: 70.6% (12 / 17)\n[1325227980185096192 tweeted at 2020-11-08T00:05:46Z]: 17.6% (3 / 17)\n[1325705277077909504 tweeted at 2020-11-09T07:42:23Z]: 100.0% (17 / 17)\n[1324556870703443968 tweeted at 2020-11-06T03:39:01Z]: 11.8% (2 / 17)\n[1325690189226729472 tweeted at 2020-11-09T06:42:25Z]: 100.0% (16 / 16)\n[1327024558172495873 tweeted at 2020-11-12T23:04:44Z]: 81.2% (13 / 16)\n[1325512262757609472 tweeted at 2020-11-08T18:55:24Z]: 56.2% (9 / 16)\n[1326272429442871297 tweeted at 2020-11-10T21:16:02Z]: 56.2% (9 / 16)\n[1324218539167883264 tweeted at 2020-11-05T05:14:37Z]: 26.7% (4 / 15)\n[1326857173117378560 tweeted at 2020-11-12T11:59:36Z]: 100.0% (14 / 14)\n[1324114566394060802 tweeted at 2020-11-04T22:21:28Z]: 21.4% (3 / 14)\n[1326307431610281985 tweeted at 2020-11-10T23:35:07Z]: 14.3% (2 / 14)\n[1323774711835348997 tweeted at 2020-11-03T23:51:00Z]: 100.0% (13 / 13)\n[1325424837586808833 tweeted at 2020-11-08T13:08:01Z]: 83.3% (10 / 12)\n[1324178046711140353 tweeted at 2020-11-05T02:33:43Z]: 18.2% (2 / 11)\n[1327666058627600386 tweeted at 2020-11-14T17:33:49Z]: 81.8% (9 / 11)\n[1323971811915276288 tweeted at 2020-11-04T12:54:12Z]: 36.4% (4 / 11)\n[1324133633695862796 tweeted at 2020-11-04T23:37:14Z]: 20.0% (2 / 10)\n[1324476109933694978 tweeted at 2020-11-05T22:18:06Z]: 10.0% (1 / 10)\n[1326312947057111041 tweeted at 2020-11-10T23:57:02Z]: 40.0% (4 / 10)\n[1324057612875452416 tweeted at 2020-11-04T18:35:09Z]: 40.0% (4 / 10)\n[1325152073902559233 tweeted at 2020-11-07T19:04:09Z]: 30.0% (3 / 10)\n[1324460722668142592 tweeted at 2020-11-05T21:16:58Z]: 20.0% (2 / 10)\n[1323975359201599488 tweeted at 2020-11-04T13:08:18Z]: 55.6% (5 / 9)\n[1326018512331083776 tweeted at 2020-11-10T04:27:04Z]: 77.8% (7 / 9)\n[1325783933859065857 tweeted at 2020-11-09T12:54:56Z]: 77.8% (7 / 9)\n[1327641846709972994 tweeted at 2020-11-14T15:57:37Z]: 100.0% (9 / 9)\n[1324072978213195776 tweeted at 2020-11-04T19:36:12Z]: 33.3% (3 / 9)\n[1325448366004776960 tweeted at 2020-11-08T14:41:30Z]: 55.6% (5 / 9)\n[1323340241374048261 tweeted at 2020-11-02T19:04:34Z]: 100.0% (9 / 9)\n[1327201877562449920 tweeted at 2020-11-13T10:49:20Z]: 100.0% (9 / 9)\n[1324027300673892357 tweeted at 2020-11-04T16:34:42Z]: 12.5% (1 / 8)\n[1327324501290356736 tweeted at 2020-11-13T18:56:36Z]: 62.5% (5 / 8)\n[1324854614634590209 tweeted at 2020-11-06T23:22:09Z]: 25.0% (2 / 8)\n[1324258996065218561 tweeted at 2020-11-05T07:55:22Z]: 75.0% (6 / 8)\n[1321886525022502918 tweeted at 2020-10-29T18:48:01Z]: 85.7% (6 / 7)\n[1322673805223972866 tweeted at 2020-10-31T22:56:23Z]: 100.0% (7 / 7)\n[1326501473581211653 tweeted at 2020-11-11T12:26:11Z]: 71.4% (5 / 7)\n[1324388638319353858 tweeted at 2020-11-05T16:30:31Z]: 71.4% (5 / 7)\n[1326589307931521025 tweeted at 2020-11-11T18:15:12Z]: 28.6% (2 / 7)\n[1324359711207030784 tweeted at 2020-11-05T14:35:35Z]: 14.3% (1 / 7)\n[1327476354783166467 tweeted at 2020-11-14T05:00:00Z]: 114.3% (8 / 7)\n[1325382022022500352 tweeted at 2020-11-08T10:17:53Z]: 85.7% (6 / 7)\n[1326069286994022401 tweeted at 2020-11-10T07:48:49Z]: 100.0% (7 / 7)\n[1324721028992552962 tweeted at 2020-11-06T14:31:20Z]: 42.9% (3 / 7)\n[1325945229703225344 tweeted at 2020-11-09T23:35:52Z]: 14.3% (1 / 7)\n[1327629172148236289 tweeted at 2020-11-14T15:07:15Z]: 100.0% (6 / 6)\n[1323774597787996162 tweeted at 2020-11-03T23:50:33Z]: 100.0% (6 / 6)\n[1324612088334082055 tweeted at 2020-11-06T07:18:26Z]: 50.0% (3 / 6)\n[1324626333276770304 tweeted at 2020-11-06T08:15:02Z]: 100.0% (6 / 6)\n[1326003471984848896 tweeted at 2020-11-10T03:27:18Z]: 16.7% (1 / 6)\n[1324130691697790979 tweeted at 2020-11-04T23:25:32Z]: 33.3% (2 / 6)\n[1325691827194826752 tweeted at 2020-11-09T06:48:56Z]: 66.7% (4 / 6)\n[1325068844256342016 tweeted at 2020-11-07T13:33:25Z]: 33.3% (2 / 6)\n[1327001398047694849 tweeted at 2020-11-12T21:32:42Z]: 83.3% (5 / 6)\n[1325230974251229188 tweeted at 2020-11-08T00:17:40Z]: 16.7% (1 / 6)\n"
     ]
    }
   ],
   "source": [
    "N =     \n",
    "sampled_tweets = recent_tweet_df[recent_tweet_df[\"retweet_count\"] > 5].sample(N)\n",
    "retweeted_id_df = retweet_df[\"retweeted\"]\n",
    "retweet_coverage_stats = []\n",
    "\n",
    "for tweet_id, tweet in sampled_tweets.iterrows():\n",
    "    stats = {}\n",
    "    crawled_retweet_count = 0\n",
    "\n",
    "    for i, retweeted_tweet_id in retweeted_id_df.iteritems():\n",
    "        if retweeted_tweet_id == tweet_id:\n",
    "            crawled_retweet_count += 1\n",
    "\n",
    "    stats[\"tweet_id\"] = tweet_id\n",
    "    stats[\"timestamp\"] = tweet[\"timestamp\"]\n",
    "    stats[\"metadata_retweet_count\"] = tweet[\"retweet_count\"]\n",
    "    stats[\"crawled_retweet_count\"] = crawled_retweet_count\n",
    "\n",
    "    retweet_coverage_stats.append(stats)\n",
    "\n",
    "retweet_coverage_stats_df = pd.DataFrame(retweet_coverage_stats).sort_values('metadata_retweet_count', ascending=False)\n",
    "\n",
    "aggregated_metadata_retweet_count = retweet_coverage_stats_df[\"metadata_retweet_count\"].sum()\n",
    "aggregated_crawled_retweet_count = retweet_coverage_stats_df[\"crawled_retweet_count\"].sum()\n",
    "\n",
    "print(\"Retweet coverage for {} samples: {:,.1f}% ({}/{})\".format(\n",
    "    N,\n",
    "    (aggregated_crawled_retweet_count / aggregated_metadata_retweet_count) * 100,\n",
    "    aggregated_crawled_retweet_count,\n",
    "    aggregated_metadata_retweet_count\n",
    "))\n",
    "\n",
    "print(\"...for each tweet\")\n",
    "\n",
    "for i, tweet in retweet_coverage_stats_df.iterrows():\n",
    "    print(\"[{} tweeted at {}]: {:,.1f}% ({} / {})\".format(\n",
    "        tweet[\"tweet_id\"],\n",
    "        tweet[\"timestamp\"],\n",
    "        tweet[\"crawled_retweet_count\"] / tweet[\"metadata_retweet_count\"] * 100,\n",
    "        tweet[\"crawled_retweet_count\"],\n",
    "        tweet[\"metadata_retweet_count\"]\n",
    "    ))"
   ]
  },
  {
   "source": [
    "# How complete is our quote graph?"
   ],
   "cell_type": "markdown",
   "metadata": {}
  },
  {
   "cell_type": "code",
   "execution_count": 12,
   "metadata": {},
   "outputs": [
    {
     "output_type": "stream",
     "name": "stdout",
     "text": [
      "Quote coverage for 25 samples: 28.2% (207/733)\n...for each tweet\n[1324693763848048640 tweeted at 2020-11-06T12:42:59Z]: 3.2% (4 / 124)\n[1324664882277527552 tweeted at 2020-11-06T10:48:13Z]: 25.0% (28 / 112)\n[1326688751058366464 tweeted at 2020-11-12T00:50:21Z]: 44.8% (30 / 67)\n[1324539507052404737 tweeted at 2020-11-06T02:30:01Z]: 19.7% (13 / 66)\n[1327162423342739456 tweeted at 2020-11-13T08:12:33Z]: 95.6% (43 / 45)\n[1326234783001829376 tweeted at 2020-11-10T18:46:27Z]: 15.8% (6 / 38)\n[1324473283618721796 tweeted at 2020-11-05T22:06:52Z]: 2.9% (1 / 35)\n[1326932678122278915 tweeted at 2020-11-12T16:59:38Z]: 0.0% (0 / 24)\n[1324579439162859521 tweeted at 2020-11-06T05:08:42Z]: 0.0% (0 / 23)\n[1324193453866053633 tweeted at 2020-11-05T03:34:56Z]: 23.8% (5 / 21)\n[1326937320453410816 tweeted at 2020-11-12T17:18:05Z]: 63.2% (12 / 19)\n[1323624355016880143 tweeted at 2020-11-03T13:53:32Z]: 94.7% (18 / 19)\n[1324306587238977536 tweeted at 2020-11-05T11:04:29Z]: 33.3% (6 / 18)\n[1325954928951635971 tweeted at 2020-11-10T00:14:24Z]: 61.1% (11 / 18)\n[1326657857102680064 tweeted at 2020-11-11T22:47:35Z]: 50.0% (7 / 14)\n[1326371200524836865 tweeted at 2020-11-11T03:48:31Z]: 50.0% (6 / 12)\n[1325461382054076417 tweeted at 2020-11-08T15:33:14Z]: 18.2% (2 / 11)\n[1324154050456264704 tweeted at 2020-11-05T00:58:21Z]: 0.0% (0 / 10)\n[1325986293940183042 tweeted at 2020-11-10T02:19:02Z]: 20.0% (2 / 10)\n[1326377558930305024 tweeted at 2020-11-11T04:13:47Z]: 11.1% (1 / 9)\n[1326202501016772608 tweeted at 2020-11-10T16:38:10Z]: 11.1% (1 / 9)\n[1325834518159265792 tweeted at 2020-11-09T16:15:56Z]: 22.2% (2 / 9)\n[1325729011436191745 tweeted at 2020-11-09T09:16:41Z]: 87.5% (7 / 8)\n[1325406884313051136 tweeted at 2020-11-08T11:56:40Z]: 0.0% (0 / 6)\n[1326016160576360448 tweeted at 2020-11-10T04:17:43Z]: 33.3% (2 / 6)\n"
     ]
    }
   ],
   "source": [
    "import pandas as pd\n",
    "N = 25\n",
    "sampled_tweets = recent_tweet_df[recent_tweet_df[\"quote_count\"] > 5].sample(N)\n",
    "quoted_id_df = recent_tweet_df[\"quote_tweet\"]\n",
    "quote_coverage_stats = []\n",
    "\n",
    "for tweet_id, tweet in sampled_tweets.iterrows():\n",
    "    stats = {}\n",
    "    crawled_quote_count = 0\n",
    "\n",
    "    for i, quoted_tweet_id in quoted_id_df.iteritems():\n",
    "        if quoted_tweet_id == tweet_id:\n",
    "            crawled_quote_count += 1\n",
    "\n",
    "    stats[\"tweet_id\"] = tweet_id\n",
    "    stats[\"timestamp\"] = tweet[\"timestamp\"]\n",
    "    stats[\"metadata_quote_count\"] = tweet[\"quote_count\"]\n",
    "    stats[\"crawled_quote_count\"] = crawled_quote_count\n",
    "\n",
    "    quote_coverage_stats.append(stats)\n",
    "\n",
    "quote_coverage_stats_df = pd.DataFrame(quote_coverage_stats).sort_values('metadata_quote_count', ascending=False)\n",
    "\n",
    "aggregated_metadata_quote_count = quote_coverage_stats_df[\"metadata_quote_count\"].sum()\n",
    "aggregated_crawled_quote_count = quote_coverage_stats_df[\"crawled_quote_count\"].sum()\n",
    "\n",
    "print(\"Quote coverage for {} samples: {:,.1f}% ({}/{})\".format(\n",
    "    N,\n",
    "    (aggregated_crawled_quote_count / aggregated_metadata_quote_count) * 100,\n",
    "    aggregated_crawled_quote_count,\n",
    "    aggregated_metadata_quote_count\n",
    "))\n",
    "\n",
    "print(\"...for each tweet\")\n",
    "\n",
    "for i, tweet in quote_coverage_stats_df.iterrows():\n",
    "    print(\"[{} tweeted at {}]: {:,.1f}% ({} / {})\".format(\n",
    "        tweet[\"tweet_id\"],\n",
    "        tweet[\"timestamp\"],\n",
    "        tweet[\"crawled_quote_count\"] / tweet[\"metadata_quote_count\"] * 100,\n",
    "        tweet[\"crawled_quote_count\"],\n",
    "        tweet[\"metadata_quote_count\"]\n",
    "    ))"
   ]
  },
  {
   "source": [
    "# How complete is our retweet count?\n",
    "\n",
    "Method: sampling 100 tweets from our datastore and comparing their retweet count with their retweet count according to the Twitter API."
   ],
   "cell_type": "markdown",
   "metadata": {}
  },
  {
   "cell_type": "code",
   "execution_count": null,
   "metadata": {},
   "outputs": [],
   "source": []
  }
 ]
}