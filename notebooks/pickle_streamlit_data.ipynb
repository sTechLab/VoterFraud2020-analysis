{
 "metadata": {
  "language_info": {
   "codemirror_mode": {
    "name": "ipython",
    "version": 3
   },
   "file_extension": ".py",
   "mimetype": "text/x-python",
   "name": "python",
   "nbconvert_exporter": "python",
   "pygments_lexer": "ipython3",
   "version": "3.8.5-final"
  },
  "orig_nbformat": 2,
  "kernelspec": {
   "name": "python3",
   "display_name": "Python 3.8.5 64-bit ('voter-fraud': conda)",
   "metadata": {
    "interpreter": {
     "hash": "a0f90dcbb54bea4e60f894f8fd1d686cc0f74395b4029405cc9f13e0b975e641"
    }
   }
  }
 },
 "nbformat": 4,
 "nbformat_minor": 2,
 "cells": [
  {
   "cell_type": "code",
   "execution_count": 21,
   "metadata": {},
   "outputs": [],
   "source": [
    "from notebook_utils import setup\n",
    "import pandas as pd\n",
    "import networkx as nx\n",
    "from collections import defaultdict\n",
    "\n",
    "setup()\n",
    "\n",
    "import matplotlib.style as style\n",
    "\n",
    "style.use([\"seaborn-white\", \"seaborn-paper\"])\n",
    "\n",
    "def map_user_status(status):\n",
    "    if (status == \"inactive\"):\n",
    "        return \"deleted\"\n",
    "    else:\n",
    "        return status\n",
    "\n",
    "rename_dict = {}\n",
    "for i in range(5):\n",
    "    rename_dict[\"retweets_by_cluster_\" + str(i)] = \"retweet_count_by_community_\" + str(i)\n",
    "    rename_dict[\"quotes_by_cluster_\" + str(i)] = \"quote_count_by_community_\" + str(i)\n",
    "    rename_dict[\"tweets_by_cluster_\" + str(i)] = \"tweet_count_by_community_\" + str(i)\n",
    "rename_dict[\"tweets_by_suspended\"] = \"tweet_count_by_suspended_users\"\n",
    "rename_dict[\"quotes_by_suspended\"] = \"quote_count_by_suspended_users\"\n",
    "rename_dict[\"retweets_by_suspended\"] = \"retweet_count_by_suspended_users\"\n",
    "rename_dict[\"author_active_status\"] = \"user_active_status\" \n",
    "rename_dict[\"l_closeness\"] = \"closeness_centrality_detractor_cluster\"\n",
    "rename_dict[\"r_closeness\"] = \"closeness_centrality_promoter_cluster\"\n",
    "rename_dict[\"quote_count\"] = \"quote_count_metadata\"\n",
    "rename_dict[\"retweet_count\"] = \"retweet_count_metadata\"\n",
    "rename_dict[\"cluster\"] = \"user_community\"\n",
    "rename_dict[\"user_cluster\"] = \"user_community\"\n",
    "rename_dict[\"active_status\"] = \"user_active_status\"\n",
    "\n",
    "rename_dict[\"retweets_by_l\"] = \"retweet_count_by_detractors\"\n",
    "rename_dict[\"retweets_by_r\"] = \"retweet_count_by_promoters\"\n",
    "rename_dict[\"retweets_crawled\"] = \"retweet_count_streamed\"\n",
    "\n",
    "\n",
    "## Exception for user\n",
    "user_rename_dict = {**rename_dict}\n",
    "for i in range(5):\n",
    "    user_rename_dict[\"retweets_by_cluster_\" + str(i)] = \"retweet_count_by_community_\" + str(i)\n",
    "    user_rename_dict[\"quotes_by_cluster_\" + str(i)] = \"quote_count_by_community_\" + str(i)\n",
    "    user_rename_dict[\"tweets_by_cluster_\" + str(i)] = \"tweet_count_by_community_\" + str(i)\n",
    "user_rename_dict[\"retweets_by_suspended\"] = \"retweet_count_by_suspended_users\"\n",
    "user_rename_dict[\"quotes_by_suspended\"] = \"quote_count_by_suspended_users\"\n",
    "\n",
    "user_export_cols = [\"user_community\", \"user_active_status\", \"closeness_centrality_detractor_cluster\", \"closeness_centrality_promoter_cluster\"]\n",
    "\n",
    "retweeted_cols = []\n",
    "for i in range(5):\n",
    "    retweeted_cols.append(\"retweet_count_by_community_\" + str(i))\n",
    "    retweeted_cols.append(\"quote_count_by_community_\" + str(i))\n",
    "retweeted_cols.append(\"retweet_count_by_suspended_users\")\n",
    "retweeted_cols.append(\"quote_count_by_suspended_users\")\n",
    "user_export_cols += retweeted_cols\n",
    "\n",
    "media_share_cols = [\"tweet_count\", \"retweet_count_metadata\", \"quote_count_metadata\"]\n",
    "for i in range(5):\n",
    "    media_share_cols.append(\"tweet_count_by_community_\" + str(i))\n",
    "    media_share_cols.append(\"retweet_count_by_community_\" + str(i))\n",
    "    media_share_cols.append(\"quote_count_by_community_\" + str(i))\n",
    "media_share_cols.append(\"tweet_count_by_suspended_users\")\n",
    "media_share_cols.append(\"retweet_count_by_suspended_users\")\n",
    "media_share_cols.append(\"quote_count_by_suspended_users\")\n",
    "\n",
    "\n",
    "tweet_cols = [\"user_community\", \"user_active_status\", \"retweet_count_metadata\", \"quote_count_metadata\"]\n",
    "\n",
    "image_cols = [\"unique_id\", \"tweet_id\", \"a_hash\", \"p_hash\", \"w_hash\"]\n",
    "youtube_cols = [\"video_title\", \"video_description\", \"channel_id\", \"channel_title\", \"published_at\"] + media_share_cols \n",
    "url_cols = [\"domain\"] + media_share_cols"
   ]
  },
  {
   "cell_type": "code",
   "execution_count": 22,
   "metadata": {},
   "outputs": [],
   "source": [
    "df_users = pd.read_pickle(\"./df_users_final_with_metrics.pickle\").rename(columns=rename_dict)"
   ]
  },
  {
   "cell_type": "code",
   "execution_count": 23,
   "metadata": {},
   "outputs": [],
   "source": [
    "cols = [\"retweet_count_by_community_\" + str(i) for i in range(5)] + [\"retweet_count_by_suspended_users\", \"retweet_count_by_promoters\", \"retweet_count_by_detractors\"]\n",
    "\n",
    "user_ids = set()\n",
    "\n",
    "for col in cols:\n",
    "    user_ids = user_ids.union(set(df_users.nlargest(10, col).index))"
   ]
  },
  {
   "cell_type": "code",
   "execution_count": 24,
   "metadata": {},
   "outputs": [
    {
     "output_type": "execute_result",
     "data": {
      "text/plain": [
       "32"
      ]
     },
     "metadata": {},
     "execution_count": 24
    }
   ],
   "source": [
    "len(user_ids)"
   ]
  },
  {
   "cell_type": "code",
   "execution_count": 25,
   "metadata": {},
   "outputs": [
    {
     "output_type": "error",
     "ename": "KeyError",
     "evalue": "'total_retweet_count'",
     "traceback": [
      "\u001b[0;31m---------------------------------------------------------------------------\u001b[0m",
      "\u001b[0;31mKeyError\u001b[0m                                  Traceback (most recent call last)",
      "\u001b[0;32m/usr/local/anaconda3/envs/voter-fraud/lib/python3.8/site-packages/pandas/core/indexes/base.py\u001b[0m in \u001b[0;36mget_loc\u001b[0;34m(self, key, method, tolerance)\u001b[0m\n\u001b[1;32m   2894\u001b[0m             \u001b[0;32mtry\u001b[0m\u001b[0;34m:\u001b[0m\u001b[0;34m\u001b[0m\u001b[0;34m\u001b[0m\u001b[0m\n\u001b[0;32m-> 2895\u001b[0;31m                 \u001b[0;32mreturn\u001b[0m \u001b[0mself\u001b[0m\u001b[0;34m.\u001b[0m\u001b[0m_engine\u001b[0m\u001b[0;34m.\u001b[0m\u001b[0mget_loc\u001b[0m\u001b[0;34m(\u001b[0m\u001b[0mcasted_key\u001b[0m\u001b[0;34m)\u001b[0m\u001b[0;34m\u001b[0m\u001b[0;34m\u001b[0m\u001b[0m\n\u001b[0m\u001b[1;32m   2896\u001b[0m             \u001b[0;32mexcept\u001b[0m \u001b[0mKeyError\u001b[0m \u001b[0;32mas\u001b[0m \u001b[0merr\u001b[0m\u001b[0;34m:\u001b[0m\u001b[0;34m\u001b[0m\u001b[0;34m\u001b[0m\u001b[0m\n",
      "\u001b[0;32mpandas/_libs/index.pyx\u001b[0m in \u001b[0;36mpandas._libs.index.IndexEngine.get_loc\u001b[0;34m()\u001b[0m\n",
      "\u001b[0;32mpandas/_libs/index.pyx\u001b[0m in \u001b[0;36mpandas._libs.index.IndexEngine.get_loc\u001b[0;34m()\u001b[0m\n",
      "\u001b[0;32mpandas/_libs/hashtable_class_helper.pxi\u001b[0m in \u001b[0;36mpandas._libs.hashtable.PyObjectHashTable.get_item\u001b[0;34m()\u001b[0m\n",
      "\u001b[0;32mpandas/_libs/hashtable_class_helper.pxi\u001b[0m in \u001b[0;36mpandas._libs.hashtable.PyObjectHashTable.get_item\u001b[0;34m()\u001b[0m\n",
      "\u001b[0;31mKeyError\u001b[0m: 'total_retweet_count'",
      "\nThe above exception was the direct cause of the following exception:\n",
      "\u001b[0;31mKeyError\u001b[0m                                  Traceback (most recent call last)",
      "\u001b[0;32m<ipython-input-25-c7ff3663c640>\u001b[0m in \u001b[0;36m<module>\u001b[0;34m\u001b[0m\n\u001b[1;32m      1\u001b[0m \u001b[0;32mfor\u001b[0m \u001b[0mcommunity\u001b[0m \u001b[0;32min\u001b[0m \u001b[0mrange\u001b[0m\u001b[0;34m(\u001b[0m\u001b[0;36m5\u001b[0m\u001b[0;34m)\u001b[0m\u001b[0;34m:\u001b[0m\u001b[0;34m\u001b[0m\u001b[0;34m\u001b[0m\u001b[0m\n\u001b[1;32m      2\u001b[0m     \u001b[0mcommunity_users\u001b[0m \u001b[0;34m=\u001b[0m \u001b[0mdf_users\u001b[0m\u001b[0;34m[\u001b[0m\u001b[0mdf_users\u001b[0m\u001b[0;34m.\u001b[0m\u001b[0muser_community\u001b[0m \u001b[0;34m==\u001b[0m \u001b[0mcommunity\u001b[0m\u001b[0;34m]\u001b[0m\u001b[0;34m\u001b[0m\u001b[0;34m\u001b[0m\u001b[0m\n\u001b[0;32m----> 3\u001b[0;31m     \u001b[0muser_ids\u001b[0m \u001b[0;34m=\u001b[0m \u001b[0muser_ids\u001b[0m\u001b[0;34m.\u001b[0m\u001b[0munion\u001b[0m\u001b[0;34m(\u001b[0m\u001b[0mset\u001b[0m\u001b[0;34m(\u001b[0m\u001b[0mcommunity_users\u001b[0m\u001b[0;34m.\u001b[0m\u001b[0mnlargest\u001b[0m\u001b[0;34m(\u001b[0m\u001b[0;36m10\u001b[0m\u001b[0;34m,\u001b[0m \u001b[0;34m\"total_retweet_count\"\u001b[0m\u001b[0;34m)\u001b[0m\u001b[0;34m.\u001b[0m\u001b[0mindex\u001b[0m\u001b[0;34m)\u001b[0m\u001b[0;34m)\u001b[0m\u001b[0;34m\u001b[0m\u001b[0;34m\u001b[0m\u001b[0m\n\u001b[0m",
      "\u001b[0;32m/usr/local/anaconda3/envs/voter-fraud/lib/python3.8/site-packages/pandas/core/frame.py\u001b[0m in \u001b[0;36mnlargest\u001b[0;34m(self, n, columns, keep)\u001b[0m\n\u001b[1;32m   5683\u001b[0m         \u001b[0mBrunei\u001b[0m      \u001b[0;36m434000\u001b[0m    \u001b[0;36m12128\u001b[0m      \u001b[0mBN\u001b[0m\u001b[0;34m\u001b[0m\u001b[0;34m\u001b[0m\u001b[0m\n\u001b[1;32m   5684\u001b[0m         \"\"\"\n\u001b[0;32m-> 5685\u001b[0;31m         \u001b[0;32mreturn\u001b[0m \u001b[0malgorithms\u001b[0m\u001b[0;34m.\u001b[0m\u001b[0mSelectNFrame\u001b[0m\u001b[0;34m(\u001b[0m\u001b[0mself\u001b[0m\u001b[0;34m,\u001b[0m \u001b[0mn\u001b[0m\u001b[0;34m=\u001b[0m\u001b[0mn\u001b[0m\u001b[0;34m,\u001b[0m \u001b[0mkeep\u001b[0m\u001b[0;34m=\u001b[0m\u001b[0mkeep\u001b[0m\u001b[0;34m,\u001b[0m \u001b[0mcolumns\u001b[0m\u001b[0;34m=\u001b[0m\u001b[0mcolumns\u001b[0m\u001b[0;34m)\u001b[0m\u001b[0;34m.\u001b[0m\u001b[0mnlargest\u001b[0m\u001b[0;34m(\u001b[0m\u001b[0;34m)\u001b[0m\u001b[0;34m\u001b[0m\u001b[0;34m\u001b[0m\u001b[0m\n\u001b[0m\u001b[1;32m   5686\u001b[0m \u001b[0;34m\u001b[0m\u001b[0m\n\u001b[1;32m   5687\u001b[0m     \u001b[0;32mdef\u001b[0m \u001b[0mnsmallest\u001b[0m\u001b[0;34m(\u001b[0m\u001b[0mself\u001b[0m\u001b[0;34m,\u001b[0m \u001b[0mn\u001b[0m\u001b[0;34m,\u001b[0m \u001b[0mcolumns\u001b[0m\u001b[0;34m,\u001b[0m \u001b[0mkeep\u001b[0m\u001b[0;34m=\u001b[0m\u001b[0;34m\"first\"\u001b[0m\u001b[0;34m)\u001b[0m \u001b[0;34m->\u001b[0m \u001b[0;34m\"DataFrame\"\u001b[0m\u001b[0;34m:\u001b[0m\u001b[0;34m\u001b[0m\u001b[0;34m\u001b[0m\u001b[0m\n",
      "\u001b[0;32m/usr/local/anaconda3/envs/voter-fraud/lib/python3.8/site-packages/pandas/core/algorithms.py\u001b[0m in \u001b[0;36mnlargest\u001b[0;34m(self)\u001b[0m\n\u001b[1;32m   1132\u001b[0m \u001b[0;34m\u001b[0m\u001b[0m\n\u001b[1;32m   1133\u001b[0m     \u001b[0;32mdef\u001b[0m \u001b[0mnlargest\u001b[0m\u001b[0;34m(\u001b[0m\u001b[0mself\u001b[0m\u001b[0;34m)\u001b[0m\u001b[0;34m:\u001b[0m\u001b[0;34m\u001b[0m\u001b[0;34m\u001b[0m\u001b[0m\n\u001b[0;32m-> 1134\u001b[0;31m         \u001b[0;32mreturn\u001b[0m \u001b[0mself\u001b[0m\u001b[0;34m.\u001b[0m\u001b[0mcompute\u001b[0m\u001b[0;34m(\u001b[0m\u001b[0;34m\"nlargest\"\u001b[0m\u001b[0;34m)\u001b[0m\u001b[0;34m\u001b[0m\u001b[0;34m\u001b[0m\u001b[0m\n\u001b[0m\u001b[1;32m   1135\u001b[0m \u001b[0;34m\u001b[0m\u001b[0m\n\u001b[1;32m   1136\u001b[0m     \u001b[0;32mdef\u001b[0m \u001b[0mnsmallest\u001b[0m\u001b[0;34m(\u001b[0m\u001b[0mself\u001b[0m\u001b[0;34m)\u001b[0m\u001b[0;34m:\u001b[0m\u001b[0;34m\u001b[0m\u001b[0;34m\u001b[0m\u001b[0m\n",
      "\u001b[0;32m/usr/local/anaconda3/envs/voter-fraud/lib/python3.8/site-packages/pandas/core/algorithms.py\u001b[0m in \u001b[0;36mcompute\u001b[0;34m(self, method)\u001b[0m\n\u001b[1;32m   1246\u001b[0m \u001b[0;34m\u001b[0m\u001b[0m\n\u001b[1;32m   1247\u001b[0m         \u001b[0;32mfor\u001b[0m \u001b[0mcolumn\u001b[0m \u001b[0;32min\u001b[0m \u001b[0mcolumns\u001b[0m\u001b[0;34m:\u001b[0m\u001b[0;34m\u001b[0m\u001b[0;34m\u001b[0m\u001b[0m\n\u001b[0;32m-> 1248\u001b[0;31m             \u001b[0mdtype\u001b[0m \u001b[0;34m=\u001b[0m \u001b[0mframe\u001b[0m\u001b[0;34m[\u001b[0m\u001b[0mcolumn\u001b[0m\u001b[0;34m]\u001b[0m\u001b[0;34m.\u001b[0m\u001b[0mdtype\u001b[0m\u001b[0;34m\u001b[0m\u001b[0;34m\u001b[0m\u001b[0m\n\u001b[0m\u001b[1;32m   1249\u001b[0m             \u001b[0;32mif\u001b[0m \u001b[0;32mnot\u001b[0m \u001b[0mself\u001b[0m\u001b[0;34m.\u001b[0m\u001b[0mis_valid_dtype_n_method\u001b[0m\u001b[0;34m(\u001b[0m\u001b[0mdtype\u001b[0m\u001b[0;34m)\u001b[0m\u001b[0;34m:\u001b[0m\u001b[0;34m\u001b[0m\u001b[0;34m\u001b[0m\u001b[0m\n\u001b[1;32m   1250\u001b[0m                 raise TypeError(\n",
      "\u001b[0;32m/usr/local/anaconda3/envs/voter-fraud/lib/python3.8/site-packages/pandas/core/frame.py\u001b[0m in \u001b[0;36m__getitem__\u001b[0;34m(self, key)\u001b[0m\n\u001b[1;32m   2904\u001b[0m             \u001b[0;32mif\u001b[0m \u001b[0mself\u001b[0m\u001b[0;34m.\u001b[0m\u001b[0mcolumns\u001b[0m\u001b[0;34m.\u001b[0m\u001b[0mnlevels\u001b[0m \u001b[0;34m>\u001b[0m \u001b[0;36m1\u001b[0m\u001b[0;34m:\u001b[0m\u001b[0;34m\u001b[0m\u001b[0;34m\u001b[0m\u001b[0m\n\u001b[1;32m   2905\u001b[0m                 \u001b[0;32mreturn\u001b[0m \u001b[0mself\u001b[0m\u001b[0;34m.\u001b[0m\u001b[0m_getitem_multilevel\u001b[0m\u001b[0;34m(\u001b[0m\u001b[0mkey\u001b[0m\u001b[0;34m)\u001b[0m\u001b[0;34m\u001b[0m\u001b[0;34m\u001b[0m\u001b[0m\n\u001b[0;32m-> 2906\u001b[0;31m             \u001b[0mindexer\u001b[0m \u001b[0;34m=\u001b[0m \u001b[0mself\u001b[0m\u001b[0;34m.\u001b[0m\u001b[0mcolumns\u001b[0m\u001b[0;34m.\u001b[0m\u001b[0mget_loc\u001b[0m\u001b[0;34m(\u001b[0m\u001b[0mkey\u001b[0m\u001b[0;34m)\u001b[0m\u001b[0;34m\u001b[0m\u001b[0;34m\u001b[0m\u001b[0m\n\u001b[0m\u001b[1;32m   2907\u001b[0m             \u001b[0;32mif\u001b[0m \u001b[0mis_integer\u001b[0m\u001b[0;34m(\u001b[0m\u001b[0mindexer\u001b[0m\u001b[0;34m)\u001b[0m\u001b[0;34m:\u001b[0m\u001b[0;34m\u001b[0m\u001b[0;34m\u001b[0m\u001b[0m\n\u001b[1;32m   2908\u001b[0m                 \u001b[0mindexer\u001b[0m \u001b[0;34m=\u001b[0m \u001b[0;34m[\u001b[0m\u001b[0mindexer\u001b[0m\u001b[0;34m]\u001b[0m\u001b[0;34m\u001b[0m\u001b[0;34m\u001b[0m\u001b[0m\n",
      "\u001b[0;32m/usr/local/anaconda3/envs/voter-fraud/lib/python3.8/site-packages/pandas/core/indexes/base.py\u001b[0m in \u001b[0;36mget_loc\u001b[0;34m(self, key, method, tolerance)\u001b[0m\n\u001b[1;32m   2895\u001b[0m                 \u001b[0;32mreturn\u001b[0m \u001b[0mself\u001b[0m\u001b[0;34m.\u001b[0m\u001b[0m_engine\u001b[0m\u001b[0;34m.\u001b[0m\u001b[0mget_loc\u001b[0m\u001b[0;34m(\u001b[0m\u001b[0mcasted_key\u001b[0m\u001b[0;34m)\u001b[0m\u001b[0;34m\u001b[0m\u001b[0;34m\u001b[0m\u001b[0m\n\u001b[1;32m   2896\u001b[0m             \u001b[0;32mexcept\u001b[0m \u001b[0mKeyError\u001b[0m \u001b[0;32mas\u001b[0m \u001b[0merr\u001b[0m\u001b[0;34m:\u001b[0m\u001b[0;34m\u001b[0m\u001b[0;34m\u001b[0m\u001b[0m\n\u001b[0;32m-> 2897\u001b[0;31m                 \u001b[0;32mraise\u001b[0m \u001b[0mKeyError\u001b[0m\u001b[0;34m(\u001b[0m\u001b[0mkey\u001b[0m\u001b[0;34m)\u001b[0m \u001b[0;32mfrom\u001b[0m \u001b[0merr\u001b[0m\u001b[0;34m\u001b[0m\u001b[0;34m\u001b[0m\u001b[0m\n\u001b[0m\u001b[1;32m   2898\u001b[0m \u001b[0;34m\u001b[0m\u001b[0m\n\u001b[1;32m   2899\u001b[0m         \u001b[0;32mif\u001b[0m \u001b[0mtolerance\u001b[0m \u001b[0;32mis\u001b[0m \u001b[0;32mnot\u001b[0m \u001b[0;32mNone\u001b[0m\u001b[0;34m:\u001b[0m\u001b[0;34m\u001b[0m\u001b[0;34m\u001b[0m\u001b[0m\n",
      "\u001b[0;31mKeyError\u001b[0m: 'total_retweet_count'"
     ]
    }
   ],
   "source": [
    "for community in range(5):\n",
    "    community_users = df_users[df_users.user_community == community]\n",
    "    user_ids = user_ids.union(set(community_users.nlargest(10, \"retweet_count_streamed\").index))"
   ]
  },
  {
   "cell_type": "code",
   "execution_count": null,
   "metadata": {},
   "outputs": [],
   "source": [
    "relevant_users = df_users.loc[user_ids]\n",
    "print(len(relevant_users))\n",
    "relevant_users.head()"
   ]
  },
  {
   "cell_type": "code",
   "execution_count": null,
   "metadata": {},
   "outputs": [],
   "source": [
    "relevant_users.to_pickle(\"../interface/data/top_users.pickle\")"
   ]
  },
  {
   "cell_type": "code",
   "execution_count": 10,
   "metadata": {},
   "outputs": [],
   "source": [
    "df_recent_tweets = pd.read_pickle(\"./df_recent_tweets_with_final_metrics.pickle\").rename(columns=rename_dict)"
   ]
  },
  {
   "cell_type": "code",
   "execution_count": 11,
   "metadata": {},
   "outputs": [
    {
     "output_type": "execute_result",
     "data": {
      "text/plain": [
       "Index(['datastore_id', 'urls', 'hasMedia', 'hashtags',\n",
       "       'retweet_count_metadata', 'quote_count_metadata', 'user', 'text',\n",
       "       'quote_tweet', 'timestamp', 'tokens', 'election fraud', 'voter fraud',\n",
       "       '#voterfraud', '#stopthesteal', '#ballotharvesting', 'ballot fraud',\n",
       "       '#electionfraud', '#electioninterference', 'ballot harvesting',\n",
       "       'election interference', '#electiontampering', '#cheatingdemocrats',\n",
       "       'election tampering', 'democrats cheat', '#voterfraudisreal',\n",
       "       'cheating democrats', '#gopvoterfraud', 'destroyed ballots',\n",
       "       'stolen ballots', '#ballotfraud', 'discarded ballots',\n",
       "       'hacked voting machine', 'pre-filled ballot', 'harvest ballot',\n",
       "       '#stopvoterfraud', '#democratvoterfraud', '#ballotvoterfraud',\n",
       "       '#nomailinvoting', '#ilhanomarballotharvesting', 'vote by mail fraud',\n",
       "       '#mailinvoterfraud', '#votebymailfraud', '#ilhanomarvoterfraud',\n",
       "       '#stopgopvoterfraud', '#discardedballots', '#hackedvotingmachines',\n",
       "       'user_community', 'retweet_count_by_community_0',\n",
       "       'quote_count_by_community_0', 'retweet_count_by_community_1',\n",
       "       'quote_count_by_community_1', 'retweet_count_by_community_2',\n",
       "       'quote_count_by_community_2', 'retweet_count_by_community_3',\n",
       "       'quote_count_by_community_3', 'retweet_count_by_community_4',\n",
       "       'quote_count_by_community_4', 'user_active_status',\n",
       "       'retweet_count_by_suspended_users', 'quote_count_by_suspended_users',\n",
       "       'total_retweet_count', 'quotes_crawled', 'retweet_count_by_detractors',\n",
       "       'retweet_count_by_promoters', 'retweets_suspended_ratio',\n",
       "       'quote_coverage', 'retweet_coverage'],\n",
       "      dtype='object')"
      ]
     },
     "metadata": {},
     "execution_count": 11
    }
   ],
   "source": [
    "df_recent_tweets.columns"
   ]
  },
  {
   "cell_type": "code",
   "execution_count": 12,
   "metadata": {},
   "outputs": [],
   "source": [
    "cols = [\"retweet_count_by_community_\" + str(i) for i in range(5)] + [\"retweet_count_by_suspended_users\", \"retweet_count_by_promoters\", \"retweet_count_by_detractors\"]\n",
    "\n",
    "tweet_indices = set()\n",
    "\n",
    "for col in cols:\n",
    "    tweet_indices = tweet_indices.union(set(df_recent_tweets.nlargest(10, col).index))"
   ]
  },
  {
   "cell_type": "code",
   "execution_count": 13,
   "metadata": {},
   "outputs": [],
   "source": [
    "for community in range(5):\n",
    "    community_tweets = df_recent_tweets[df_recent_tweets.user_community == community]\n",
    "    tweet_indices = tweet_indices.union(set(community_tweets.nlargest(10, \"retweet_count_metadata\").index))"
   ]
  },
  {
   "cell_type": "code",
   "execution_count": 14,
   "metadata": {},
   "outputs": [
    {
     "output_type": "execute_result",
     "data": {
      "text/plain": [
       "62"
      ]
     },
     "metadata": {},
     "execution_count": 14
    }
   ],
   "source": [
    "len(tweet_indices)"
   ]
  },
  {
   "cell_type": "code",
   "execution_count": 15,
   "metadata": {},
   "outputs": [],
   "source": [
    "relevant_tweets = df_recent_tweets.iloc[list(tweet_indices)]"
   ]
  },
  {
   "cell_type": "code",
   "execution_count": 16,
   "metadata": {},
   "outputs": [],
   "source": [
    "relevant_tweets.to_pickle(\"../interface/data/top_tweets.pickle\")"
   ]
  },
  {
   "cell_type": "code",
   "execution_count": 17,
   "metadata": {},
   "outputs": [],
   "source": [
    "df_youtube_videos = pd.read_csv(\"../data/notebooks/final/youtube_videos.csv\", index_col=\"video_id\")\n",
    "df_hashtag = pd.read_csv(\"../data/notebooks/final/hashtags.csv\", index_col=\"hashtag\")\n",
    "df_url = pd.read_csv(\"../data/notebooks/final/urls.csv\", index_col=\"url\")"
   ]
  },
  {
   "cell_type": "code",
   "execution_count": 18,
   "metadata": {},
   "outputs": [],
   "source": [
    "def add_cols(df):\n",
    "    df[\"retweet_count_by_detractors\"] = df.apply(lambda x: x[\"retweet_count_by_community_0\"], axis=1)\n",
    "    df[\"retweet_count_by_promoters\"] = df.apply(lambda x: x[\"retweet_count_by_community_1\"] + x[\"retweet_count_by_community_2\"] + x[\"retweet_count_by_community_3\"] + x[\"retweet_count_by_community_4\"], axis=1)\n",
    "\n",
    "add_cols(df_youtube_videos)\n",
    "add_cols(df_hashtag)\n",
    "add_cols(df_url)"
   ]
  },
  {
   "cell_type": "code",
   "execution_count": 19,
   "metadata": {},
   "outputs": [
    {
     "output_type": "execute_result",
     "data": {
      "text/plain": [
       "                                                                  domain  \\\n",
       "url                                                                        \n",
       "https://www.foxnews.com/opinion/tucker-carlson-...           foxnews.com   \n",
       "https://www.legislationline.org/download/id/147...   legislationline.org   \n",
       "https://www.houstonchronicle.com/politics/texas...  houstonchronicle.com   \n",
       "https://nypost.com/2020/11/11/usps-whistleblowe...            nypost.com   \n",
       "https://thetexan.news/limestone-county-individu...         thetexan.news   \n",
       "\n",
       "                                                    tweet_count  \\\n",
       "url                                                               \n",
       "https://www.foxnews.com/opinion/tucker-carlson-...          264   \n",
       "https://www.legislationline.org/download/id/147...          148   \n",
       "https://www.houstonchronicle.com/politics/texas...           56   \n",
       "https://nypost.com/2020/11/11/usps-whistleblowe...           85   \n",
       "https://thetexan.news/limestone-county-individu...          280   \n",
       "\n",
       "                                                    retweet_count_metadata  \\\n",
       "url                                                                          \n",
       "https://www.foxnews.com/opinion/tucker-carlson-...                   41078   \n",
       "https://www.legislationline.org/download/id/147...                   19221   \n",
       "https://www.houstonchronicle.com/politics/texas...                   16627   \n",
       "https://nypost.com/2020/11/11/usps-whistleblowe...                   15297   \n",
       "https://thetexan.news/limestone-county-individu...                   14525   \n",
       "\n",
       "                                                    quote_count_metadata  \\\n",
       "url                                                                        \n",
       "https://www.foxnews.com/opinion/tucker-carlson-...                  6543   \n",
       "https://www.legislationline.org/download/id/147...                  1973   \n",
       "https://www.houstonchronicle.com/politics/texas...                  2602   \n",
       "https://nypost.com/2020/11/11/usps-whistleblowe...                   983   \n",
       "https://thetexan.news/limestone-county-individu...                  1459   \n",
       "\n",
       "                                                    tweet_count_by_community_0  \\\n",
       "url                                                                              \n",
       "https://www.foxnews.com/opinion/tucker-carlson-...                          14   \n",
       "https://www.legislationline.org/download/id/147...                           0   \n",
       "https://www.houstonchronicle.com/politics/texas...                          13   \n",
       "https://nypost.com/2020/11/11/usps-whistleblowe...                           3   \n",
       "https://thetexan.news/limestone-county-individu...                           2   \n",
       "\n",
       "                                                    retweet_count_by_community_0  \\\n",
       "url                                                                                \n",
       "https://www.foxnews.com/opinion/tucker-carlson-...                            61   \n",
       "https://www.legislationline.org/download/id/147...                            24   \n",
       "https://www.houstonchronicle.com/politics/texas...                           103   \n",
       "https://nypost.com/2020/11/11/usps-whistleblowe...                            13   \n",
       "https://thetexan.news/limestone-county-individu...                            13   \n",
       "\n",
       "                                                    quote_count_by_community_0  \\\n",
       "url                                                                              \n",
       "https://www.foxnews.com/opinion/tucker-carlson-...                         401   \n",
       "https://www.legislationline.org/download/id/147...                          92   \n",
       "https://www.houstonchronicle.com/politics/texas...                         272   \n",
       "https://nypost.com/2020/11/11/usps-whistleblowe...                          23   \n",
       "https://thetexan.news/limestone-county-individu...                          21   \n",
       "\n",
       "                                                    tweet_count_by_community_1  \\\n",
       "url                                                                              \n",
       "https://www.foxnews.com/opinion/tucker-carlson-...                          27   \n",
       "https://www.legislationline.org/download/id/147...                          30   \n",
       "https://www.houstonchronicle.com/politics/texas...                           8   \n",
       "https://nypost.com/2020/11/11/usps-whistleblowe...                          11   \n",
       "https://thetexan.news/limestone-county-individu...                          41   \n",
       "\n",
       "                                                    retweet_count_by_community_1  \\\n",
       "url                                                                                \n",
       "https://www.foxnews.com/opinion/tucker-carlson-...                          3250   \n",
       "https://www.legislationline.org/download/id/147...                          2021   \n",
       "https://www.houstonchronicle.com/politics/texas...                          1037   \n",
       "https://nypost.com/2020/11/11/usps-whistleblowe...                           648   \n",
       "https://thetexan.news/limestone-county-individu...                          1368   \n",
       "\n",
       "                                                    quote_count_by_community_1  \\\n",
       "url                                                                              \n",
       "https://www.foxnews.com/opinion/tucker-carlson-...                         264   \n",
       "https://www.legislationline.org/download/id/147...                         161   \n",
       "https://www.houstonchronicle.com/politics/texas...                          77   \n",
       "https://nypost.com/2020/11/11/usps-whistleblowe...                          36   \n",
       "https://thetexan.news/limestone-county-individu...                         109   \n",
       "\n",
       "                                                    ...  \\\n",
       "url                                                 ...   \n",
       "https://www.foxnews.com/opinion/tucker-carlson-...  ...   \n",
       "https://www.legislationline.org/download/id/147...  ...   \n",
       "https://www.houstonchronicle.com/politics/texas...  ...   \n",
       "https://nypost.com/2020/11/11/usps-whistleblowe...  ...   \n",
       "https://thetexan.news/limestone-county-individu...  ...   \n",
       "\n",
       "                                                    retweet_count_by_community_3  \\\n",
       "url                                                                                \n",
       "https://www.foxnews.com/opinion/tucker-carlson-...                           345   \n",
       "https://www.legislationline.org/download/id/147...                            25   \n",
       "https://www.houstonchronicle.com/politics/texas...                            74   \n",
       "https://nypost.com/2020/11/11/usps-whistleblowe...                            35   \n",
       "https://thetexan.news/limestone-county-individu...                            17   \n",
       "\n",
       "                                                    quote_count_by_community_3  \\\n",
       "url                                                                              \n",
       "https://www.foxnews.com/opinion/tucker-carlson-...                          39   \n",
       "https://www.legislationline.org/download/id/147...                           2   \n",
       "https://www.houstonchronicle.com/politics/texas...                          15   \n",
       "https://nypost.com/2020/11/11/usps-whistleblowe...                           1   \n",
       "https://thetexan.news/limestone-county-individu...                           3   \n",
       "\n",
       "                                                    tweet_count_by_community_4  \\\n",
       "url                                                                              \n",
       "https://www.foxnews.com/opinion/tucker-carlson-...                           8   \n",
       "https://www.legislationline.org/download/id/147...                           0   \n",
       "https://www.houstonchronicle.com/politics/texas...                           0   \n",
       "https://nypost.com/2020/11/11/usps-whistleblowe...                           0   \n",
       "https://thetexan.news/limestone-county-individu...                           1   \n",
       "\n",
       "                                                    retweet_count_by_community_4  \\\n",
       "url                                                                                \n",
       "https://www.foxnews.com/opinion/tucker-carlson-...                           483   \n",
       "https://www.legislationline.org/download/id/147...                           119   \n",
       "https://www.houstonchronicle.com/politics/texas...                            67   \n",
       "https://nypost.com/2020/11/11/usps-whistleblowe...                            41   \n",
       "https://thetexan.news/limestone-county-individu...                           102   \n",
       "\n",
       "                                                    quote_count_by_community_4  \\\n",
       "url                                                                              \n",
       "https://www.foxnews.com/opinion/tucker-carlson-...                          34   \n",
       "https://www.legislationline.org/download/id/147...                           8   \n",
       "https://www.houstonchronicle.com/politics/texas...                           4   \n",
       "https://nypost.com/2020/11/11/usps-whistleblowe...                           1   \n",
       "https://thetexan.news/limestone-county-individu...                           6   \n",
       "\n",
       "                                                    tweet_count_by_suspended_users  \\\n",
       "url                                                                                  \n",
       "https://www.foxnews.com/opinion/tucker-carlson-...                              62   \n",
       "https://www.legislationline.org/download/id/147...                              26   \n",
       "https://www.houstonchronicle.com/politics/texas...                               3   \n",
       "https://nypost.com/2020/11/11/usps-whistleblowe...                              12   \n",
       "https://thetexan.news/limestone-county-individu...                              30   \n",
       "\n",
       "                                                    retweet_count_by_suspended_users  \\\n",
       "url                                                                                    \n",
       "https://www.foxnews.com/opinion/tucker-carlson-...                              2555   \n",
       "https://www.legislationline.org/download/id/147...                              1793   \n",
       "https://www.houstonchronicle.com/politics/texas...                              1425   \n",
       "https://nypost.com/2020/11/11/usps-whistleblowe...                              1124   \n",
       "https://thetexan.news/limestone-county-individu...                              1385   \n",
       "\n",
       "                                                    quote_count_by_suspended_users  \\\n",
       "url                                                                                  \n",
       "https://www.foxnews.com/opinion/tucker-carlson-...                             305   \n",
       "https://www.legislationline.org/download/id/147...                             139   \n",
       "https://www.houstonchronicle.com/politics/texas...                             106   \n",
       "https://nypost.com/2020/11/11/usps-whistleblowe...                              69   \n",
       "https://thetexan.news/limestone-county-individu...                             138   \n",
       "\n",
       "                                                    retweet_count_by_detractors  \\\n",
       "url                                                                               \n",
       "https://www.foxnews.com/opinion/tucker-carlson-...                           61   \n",
       "https://www.legislationline.org/download/id/147...                           24   \n",
       "https://www.houstonchronicle.com/politics/texas...                          103   \n",
       "https://nypost.com/2020/11/11/usps-whistleblowe...                           13   \n",
       "https://thetexan.news/limestone-county-individu...                           13   \n",
       "\n",
       "                                                    retweet_count_by_promoters  \n",
       "url                                                                             \n",
       "https://www.foxnews.com/opinion/tucker-carlson-...                       11868  \n",
       "https://www.legislationline.org/download/id/147...                        7793  \n",
       "https://www.houstonchronicle.com/politics/texas...                        5109  \n",
       "https://nypost.com/2020/11/11/usps-whistleblowe...                        4063  \n",
       "https://thetexan.news/limestone-county-individu...                        5920  \n",
       "\n",
       "[5 rows x 24 columns]"
      ],
      "text/html": "<div>\n<style scoped>\n    .dataframe tbody tr th:only-of-type {\n        vertical-align: middle;\n    }\n\n    .dataframe tbody tr th {\n        vertical-align: top;\n    }\n\n    .dataframe thead th {\n        text-align: right;\n    }\n</style>\n<table border=\"1\" class=\"dataframe\">\n  <thead>\n    <tr style=\"text-align: right;\">\n      <th></th>\n      <th>domain</th>\n      <th>tweet_count</th>\n      <th>retweet_count_metadata</th>\n      <th>quote_count_metadata</th>\n      <th>tweet_count_by_community_0</th>\n      <th>retweet_count_by_community_0</th>\n      <th>quote_count_by_community_0</th>\n      <th>tweet_count_by_community_1</th>\n      <th>retweet_count_by_community_1</th>\n      <th>quote_count_by_community_1</th>\n      <th>...</th>\n      <th>retweet_count_by_community_3</th>\n      <th>quote_count_by_community_3</th>\n      <th>tweet_count_by_community_4</th>\n      <th>retweet_count_by_community_4</th>\n      <th>quote_count_by_community_4</th>\n      <th>tweet_count_by_suspended_users</th>\n      <th>retweet_count_by_suspended_users</th>\n      <th>quote_count_by_suspended_users</th>\n      <th>retweet_count_by_detractors</th>\n      <th>retweet_count_by_promoters</th>\n    </tr>\n    <tr>\n      <th>url</th>\n      <th></th>\n      <th></th>\n      <th></th>\n      <th></th>\n      <th></th>\n      <th></th>\n      <th></th>\n      <th></th>\n      <th></th>\n      <th></th>\n      <th></th>\n      <th></th>\n      <th></th>\n      <th></th>\n      <th></th>\n      <th></th>\n      <th></th>\n      <th></th>\n      <th></th>\n      <th></th>\n      <th></th>\n    </tr>\n  </thead>\n  <tbody>\n    <tr>\n      <th>https://www.foxnews.com/opinion/tucker-carlson-2020-presidential-election-voter-fraud-dead-voters.amp</th>\n      <td>foxnews.com</td>\n      <td>264</td>\n      <td>41078</td>\n      <td>6543</td>\n      <td>14</td>\n      <td>61</td>\n      <td>401</td>\n      <td>27</td>\n      <td>3250</td>\n      <td>264</td>\n      <td>...</td>\n      <td>345</td>\n      <td>39</td>\n      <td>8</td>\n      <td>483</td>\n      <td>34</td>\n      <td>62</td>\n      <td>2555</td>\n      <td>305</td>\n      <td>61</td>\n      <td>11868</td>\n    </tr>\n    <tr>\n      <th>https://www.legislationline.org/download/id/1472/file/3b50795b2d0374cbef5c29766256.pdf</th>\n      <td>legislationline.org</td>\n      <td>148</td>\n      <td>19221</td>\n      <td>1973</td>\n      <td>0</td>\n      <td>24</td>\n      <td>92</td>\n      <td>30</td>\n      <td>2021</td>\n      <td>161</td>\n      <td>...</td>\n      <td>25</td>\n      <td>2</td>\n      <td>0</td>\n      <td>119</td>\n      <td>8</td>\n      <td>26</td>\n      <td>1793</td>\n      <td>139</td>\n      <td>24</td>\n      <td>7793</td>\n    </tr>\n    <tr>\n      <th>https://www.houstonchronicle.com/politics/texas/article/Texas-Lt-Gov-Dan-Patrick-offers-1-million-15716973.php?utm_campaign=CMS%20Sharing%20Tools%20(Premium)&amp;utm_source=t.co&amp;utm_medium=referral</th>\n      <td>houstonchronicle.com</td>\n      <td>56</td>\n      <td>16627</td>\n      <td>2602</td>\n      <td>13</td>\n      <td>103</td>\n      <td>272</td>\n      <td>8</td>\n      <td>1037</td>\n      <td>77</td>\n      <td>...</td>\n      <td>74</td>\n      <td>15</td>\n      <td>0</td>\n      <td>67</td>\n      <td>4</td>\n      <td>3</td>\n      <td>1425</td>\n      <td>106</td>\n      <td>103</td>\n      <td>5109</td>\n    </tr>\n    <tr>\n      <th>https://nypost.com/2020/11/11/usps-whistleblower-denies-wapo-claim-he-recanted-allegations/?utm_source=twitter_sitebuttons&amp;utm_medium=site%20buttons&amp;utm_campaign=site%20buttons</th>\n      <td>nypost.com</td>\n      <td>85</td>\n      <td>15297</td>\n      <td>983</td>\n      <td>3</td>\n      <td>13</td>\n      <td>23</td>\n      <td>11</td>\n      <td>648</td>\n      <td>36</td>\n      <td>...</td>\n      <td>35</td>\n      <td>1</td>\n      <td>0</td>\n      <td>41</td>\n      <td>1</td>\n      <td>12</td>\n      <td>1124</td>\n      <td>69</td>\n      <td>13</td>\n      <td>4063</td>\n    </tr>\n    <tr>\n      <th>https://thetexan.news/limestone-county-individual-charged-with-134-counts-of-voter-fraud-attorney-general-announces/</th>\n      <td>thetexan.news</td>\n      <td>280</td>\n      <td>14525</td>\n      <td>1459</td>\n      <td>2</td>\n      <td>13</td>\n      <td>21</td>\n      <td>41</td>\n      <td>1368</td>\n      <td>109</td>\n      <td>...</td>\n      <td>17</td>\n      <td>3</td>\n      <td>1</td>\n      <td>102</td>\n      <td>6</td>\n      <td>30</td>\n      <td>1385</td>\n      <td>138</td>\n      <td>13</td>\n      <td>5920</td>\n    </tr>\n  </tbody>\n</table>\n<p>5 rows × 24 columns</p>\n</div>"
     },
     "metadata": {},
     "execution_count": 19
    }
   ],
   "source": [
    "df_url.head()"
   ]
  },
  {
   "cell_type": "code",
   "execution_count": 20,
   "metadata": {},
   "outputs": [],
   "source": [
    "df_youtube_videos.to_pickle(\"../interface/data/top_youtube_videos.pickle\")\n",
    "df_hashtag.to_pickle(\"../interface/data/top_hashtags.pickle\")\n",
    "df_url.to_pickle(\"../interface/data/top_urls.pickle\")"
   ]
  },
  {
   "cell_type": "code",
   "execution_count": null,
   "metadata": {},
   "outputs": [],
   "source": []
  }
 ]
}