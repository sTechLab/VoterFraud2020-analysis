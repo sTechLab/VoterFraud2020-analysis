{
 "metadata": {
  "language_info": {
   "codemirror_mode": {
    "name": "ipython",
    "version": 3
   },
   "file_extension": ".py",
   "mimetype": "text/x-python",
   "name": "python",
   "nbconvert_exporter": "python",
   "pygments_lexer": "ipython3",
   "version": "3.8.5-final"
  },
  "orig_nbformat": 2,
  "kernelspec": {
   "name": "python3",
   "display_name": "Python 3.8.5 64-bit ('voter-fraud': conda)",
   "metadata": {
    "interpreter": {
     "hash": "a0f90dcbb54bea4e60f894f8fd1d686cc0f74395b4029405cc9f13e0b975e641"
    }
   }
  }
 },
 "nbformat": 4,
 "nbformat_minor": 2,
 "cells": [
  {
   "cell_type": "code",
   "execution_count": 1,
   "metadata": {},
   "outputs": [],
   "source": [
    "from notebook_utils import setup\n",
    "import pandas as pd\n",
    "import networkx as nx\n",
    "from collections import defaultdict\n",
    "\n",
    "setup()\n",
    "\n",
    "import matplotlib.style as style\n",
    "\n",
    "style.use([\"seaborn-white\", \"seaborn-paper\"])\n",
    "\n",
    "def map_user_status(status):\n",
    "    if (status == \"inactive\"):\n",
    "        return \"deleted\"\n",
    "    else:\n",
    "        return status\n",
    "\n",
    "rename_dict = {}\n",
    "for i in range(5):\n",
    "    rename_dict[\"retweets_by_cluster_\" + str(i)] = \"retweet_count_by_community_\" + str(i)\n",
    "    rename_dict[\"quotes_by_cluster_\" + str(i)] = \"quote_count_by_community_\" + str(i)\n",
    "    rename_dict[\"tweets_by_cluster_\" + str(i)] = \"tweet_count_by_community_\" + str(i)\n",
    "rename_dict[\"tweets_by_suspended\"] = \"tweet_count_by_suspended_users\"\n",
    "rename_dict[\"quotes_by_suspended\"] = \"quote_count_by_suspended_users\"\n",
    "rename_dict[\"retweets_by_suspended\"] = \"retweet_count_by_suspended_users\"\n",
    "rename_dict[\"author_active_status\"] = \"user_active_status\" \n",
    "rename_dict[\"l_closeness\"] = \"closeness_centrality_detractor_cluster\"\n",
    "rename_dict[\"r_closeness\"] = \"closeness_centrality_promoter_cluster\"\n",
    "rename_dict[\"quote_count\"] = \"quote_count_metadata\"\n",
    "rename_dict[\"retweet_count\"] = \"retweet_count_metadata\"\n",
    "rename_dict[\"cluster\"] = \"user_community\"\n",
    "rename_dict[\"user_cluster\"] = \"user_community\"\n",
    "rename_dict[\"active_status\"] = \"user_active_status\"\n",
    "\n",
    "rename_dict[\"retweets_by_l\"] = \"retweet_count_by_detractors\"\n",
    "rename_dict[\"retweets_by_r\"] = \"retweet_count_by_promoters\"\n",
    "rename_dict[\"retweets_crawled\"] = \"retweet_count_streamed\"\n",
    "\n",
    "\n",
    "## Exception for user\n",
    "user_rename_dict = {**rename_dict}\n",
    "for i in range(5):\n",
    "    user_rename_dict[\"retweets_by_cluster_\" + str(i)] = \"retweet_count_by_community_\" + str(i)\n",
    "    user_rename_dict[\"quotes_by_cluster_\" + str(i)] = \"quote_count_by_community_\" + str(i)\n",
    "    user_rename_dict[\"tweets_by_cluster_\" + str(i)] = \"tweet_count_by_community_\" + str(i)\n",
    "user_rename_dict[\"retweets_by_suspended\"] = \"retweet_count_by_suspended_users\"\n",
    "user_rename_dict[\"quotes_by_suspended\"] = \"quote_count_by_suspended_users\"\n",
    "\n",
    "user_export_cols = [\"user_community\", \"user_active_status\", \"closeness_centrality_detractor_cluster\", \"closeness_centrality_promoter_cluster\"]\n",
    "\n",
    "retweeted_cols = []\n",
    "for i in range(5):\n",
    "    retweeted_cols.append(\"retweet_count_by_community_\" + str(i))\n",
    "    retweeted_cols.append(\"quote_count_by_community_\" + str(i))\n",
    "retweeted_cols.append(\"retweet_count_by_suspended_users\")\n",
    "retweeted_cols.append(\"quote_count_by_suspended_users\")\n",
    "user_export_cols += retweeted_cols\n",
    "\n",
    "media_share_cols = [\"tweet_count\", \"retweet_count_metadata\", \"quote_count_metadata\"]\n",
    "for i in range(5):\n",
    "    media_share_cols.append(\"tweet_count_by_community_\" + str(i))\n",
    "    media_share_cols.append(\"retweet_count_by_community_\" + str(i))\n",
    "    media_share_cols.append(\"quote_count_by_community_\" + str(i))\n",
    "media_share_cols.append(\"tweet_count_by_suspended_users\")\n",
    "media_share_cols.append(\"retweet_count_by_suspended_users\")\n",
    "media_share_cols.append(\"quote_count_by_suspended_users\")\n",
    "\n",
    "\n",
    "tweet_cols = [\"user_community\", \"user_active_status\", \"retweet_count_metadata\", \"quote_count_metadata\"]\n",
    "\n",
    "image_cols = [\"unique_id\", \"tweet_id\", \"a_hash\", \"p_hash\", \"w_hash\"]\n",
    "youtube_cols = [\"video_title\", \"video_description\", \"channel_id\", \"channel_title\", \"published_at\"] + media_share_cols \n",
    "url_cols = [\"domain\"] + media_share_cols"
   ]
  },
  {
   "cell_type": "code",
   "execution_count": 29,
   "metadata": {},
   "outputs": [],
   "source": [
    "df_users = pd.read_pickle(\"./df_users_final_with_metrics.pickle\").rename(columns=rename_dict)"
   ]
  },
  {
   "cell_type": "code",
   "execution_count": 30,
   "metadata": {},
   "outputs": [],
   "source": [
    "cols = [\"retweet_count_by_community_\" + str(i) for i in range(5)] + [\"retweet_count_by_suspended_users\", \"retweet_count_by_promoters\", \"retweet_count_by_detractors\"]\n",
    "\n",
    "user_ids = set()\n",
    "\n",
    "for col in cols:\n",
    "    user_ids = user_ids.union(set(df_users.nlargest(10, col).index))"
   ]
  },
  {
   "cell_type": "code",
   "execution_count": 31,
   "metadata": {},
   "outputs": [
    {
     "output_type": "execute_result",
     "data": {
      "text/plain": [
       "32"
      ]
     },
     "metadata": {},
     "execution_count": 31
    }
   ],
   "source": [
    "len(user_ids)"
   ]
  },
  {
   "cell_type": "code",
   "execution_count": 32,
   "metadata": {},
   "outputs": [],
   "source": [
    "for community in range(5):\n",
    "    community_users = df_users[df_users.user_community == community]\n",
    "    user_ids = user_ids.union(set(community_users.nlargest(10, \"retweet_count_streamed\").index))"
   ]
  },
  {
   "cell_type": "code",
   "execution_count": 33,
   "metadata": {},
   "outputs": [
    {
     "output_type": "stream",
     "name": "stdout",
     "text": [
      "53\n"
     ]
    },
    {
     "output_type": "execute_result",
     "data": {
      "text/plain": [
       "                                        created_at  friends_count  \\\n",
       "id                                                                  \n",
       "32804484            Sat Apr 18 05:35:53 +0000 2009          31007   \n",
       "83932539                      2009-10-20T21:44:51Z         107872   \n",
       "835040085573689346  Fri Feb 24 08:14:05 +0000 2017             90   \n",
       "586707638                     2012-05-21T17:17:06Z           1949   \n",
       "1812055789                    2013-09-08T07:03:17Z            341   \n",
       "\n",
       "                                                                 name  \\\n",
       "id                                                                      \n",
       "32804484            Paul A. Szypula, US Senate Candidate for NY in...   \n",
       "83932539                                                Praying Medic   \n",
       "835040085573689346                                              我那覇真子   \n",
       "586707638                                         Sidney Powell 🇺🇸⭐⭐⭐   \n",
       "1812055789                                                        Ron   \n",
       "\n",
       "                   verified  followers_count         location          handle  \\\n",
       "id                                                                              \n",
       "32804484              False            30299  Cold Spring, NY  Bubblebathgirl   \n",
       "83932539              False           419140      Phoenix, AZ    prayingmedic   \n",
       "835040085573689346    False           197388            Japan   ganaha_masako   \n",
       "586707638             False           482623              USA   SidneyPowell1   \n",
       "1812055789            False           143954             None     CodeMonkeyZ   \n",
       "\n",
       "                   data_source user_active_status  user_community  ...  \\\n",
       "id                                                                 ...   \n",
       "32804484                   new             active               2  ...   \n",
       "83932539                   old          suspended               1  ...   \n",
       "835040085573689346         new             active               3  ...   \n",
       "586707638                  old          suspended               1  ...   \n",
       "1812055789                 old          suspended               1  ...   \n",
       "\n",
       "                    quote_count_by_community_3  retweet_count_by_community_4  \\\n",
       "id                                                                             \n",
       "32804484                                     2                            24   \n",
       "83932539                                    97                           674   \n",
       "835040085573689346                          66                             2   \n",
       "586707638                                  313                          4071   \n",
       "1812055789                                 109                           938   \n",
       "\n",
       "                    quote_count_by_community_4  \\\n",
       "id                                               \n",
       "32804484                                     0   \n",
       "83932539                                    75   \n",
       "835040085573689346                           0   \n",
       "586707638                                  240   \n",
       "1812055789                                  95   \n",
       "\n",
       "                    retweet_count_by_suspended_users  \\\n",
       "id                                                     \n",
       "32804484                                        9727   \n",
       "83932539                                       75120   \n",
       "835040085573689346                                82   \n",
       "586707638                                     186173   \n",
       "1812055789                                     90100   \n",
       "\n",
       "                    quote_count_by_suspended_users  retweet_count_streamed  \\\n",
       "id                                                                           \n",
       "32804484                                       703                   27787   \n",
       "83932539                                      4105                  186077   \n",
       "835040085573689346                               0                   12480   \n",
       "586707638                                    11241                  633273   \n",
       "1812055789                                    7096                  274210   \n",
       "\n",
       "                    quotes_crawled  retweet_count_by_detractors  \\\n",
       "id                                                                \n",
       "32804484                      2602                           15   \n",
       "83932539                     12733                          110   \n",
       "835040085573689346             110                            4   \n",
       "586707638                    44026                          483   \n",
       "1812055789                   23946                          215   \n",
       "\n",
       "                    retweet_count_by_promoters  retweets_suspended_ratio  \n",
       "id                                                                        \n",
       "32804484                                 26998                  0.350056  \n",
       "83932539                                159503                  0.403704  \n",
       "835040085573689346                       12440                  0.006571  \n",
       "586707638                               501145                  0.293985  \n",
       "1812055789                              229907                  0.328580  \n",
       "\n",
       "[5 rows x 29 columns]"
      ],
      "text/html": "<div>\n<style scoped>\n    .dataframe tbody tr th:only-of-type {\n        vertical-align: middle;\n    }\n\n    .dataframe tbody tr th {\n        vertical-align: top;\n    }\n\n    .dataframe thead th {\n        text-align: right;\n    }\n</style>\n<table border=\"1\" class=\"dataframe\">\n  <thead>\n    <tr style=\"text-align: right;\">\n      <th></th>\n      <th>created_at</th>\n      <th>friends_count</th>\n      <th>name</th>\n      <th>verified</th>\n      <th>followers_count</th>\n      <th>location</th>\n      <th>handle</th>\n      <th>data_source</th>\n      <th>user_active_status</th>\n      <th>user_community</th>\n      <th>...</th>\n      <th>quote_count_by_community_3</th>\n      <th>retweet_count_by_community_4</th>\n      <th>quote_count_by_community_4</th>\n      <th>retweet_count_by_suspended_users</th>\n      <th>quote_count_by_suspended_users</th>\n      <th>retweet_count_streamed</th>\n      <th>quotes_crawled</th>\n      <th>retweet_count_by_detractors</th>\n      <th>retweet_count_by_promoters</th>\n      <th>retweets_suspended_ratio</th>\n    </tr>\n    <tr>\n      <th>id</th>\n      <th></th>\n      <th></th>\n      <th></th>\n      <th></th>\n      <th></th>\n      <th></th>\n      <th></th>\n      <th></th>\n      <th></th>\n      <th></th>\n      <th></th>\n      <th></th>\n      <th></th>\n      <th></th>\n      <th></th>\n      <th></th>\n      <th></th>\n      <th></th>\n      <th></th>\n      <th></th>\n      <th></th>\n    </tr>\n  </thead>\n  <tbody>\n    <tr>\n      <th>32804484</th>\n      <td>Sat Apr 18 05:35:53 +0000 2009</td>\n      <td>31007</td>\n      <td>Paul A. Szypula, US Senate Candidate for NY in...</td>\n      <td>False</td>\n      <td>30299</td>\n      <td>Cold Spring, NY</td>\n      <td>Bubblebathgirl</td>\n      <td>new</td>\n      <td>active</td>\n      <td>2</td>\n      <td>...</td>\n      <td>2</td>\n      <td>24</td>\n      <td>0</td>\n      <td>9727</td>\n      <td>703</td>\n      <td>27787</td>\n      <td>2602</td>\n      <td>15</td>\n      <td>26998</td>\n      <td>0.350056</td>\n    </tr>\n    <tr>\n      <th>83932539</th>\n      <td>2009-10-20T21:44:51Z</td>\n      <td>107872</td>\n      <td>Praying Medic</td>\n      <td>False</td>\n      <td>419140</td>\n      <td>Phoenix, AZ</td>\n      <td>prayingmedic</td>\n      <td>old</td>\n      <td>suspended</td>\n      <td>1</td>\n      <td>...</td>\n      <td>97</td>\n      <td>674</td>\n      <td>75</td>\n      <td>75120</td>\n      <td>4105</td>\n      <td>186077</td>\n      <td>12733</td>\n      <td>110</td>\n      <td>159503</td>\n      <td>0.403704</td>\n    </tr>\n    <tr>\n      <th>835040085573689346</th>\n      <td>Fri Feb 24 08:14:05 +0000 2017</td>\n      <td>90</td>\n      <td>我那覇真子</td>\n      <td>False</td>\n      <td>197388</td>\n      <td>Japan</td>\n      <td>ganaha_masako</td>\n      <td>new</td>\n      <td>active</td>\n      <td>3</td>\n      <td>...</td>\n      <td>66</td>\n      <td>2</td>\n      <td>0</td>\n      <td>82</td>\n      <td>0</td>\n      <td>12480</td>\n      <td>110</td>\n      <td>4</td>\n      <td>12440</td>\n      <td>0.006571</td>\n    </tr>\n    <tr>\n      <th>586707638</th>\n      <td>2012-05-21T17:17:06Z</td>\n      <td>1949</td>\n      <td>Sidney Powell 🇺🇸⭐⭐⭐</td>\n      <td>False</td>\n      <td>482623</td>\n      <td>USA</td>\n      <td>SidneyPowell1</td>\n      <td>old</td>\n      <td>suspended</td>\n      <td>1</td>\n      <td>...</td>\n      <td>313</td>\n      <td>4071</td>\n      <td>240</td>\n      <td>186173</td>\n      <td>11241</td>\n      <td>633273</td>\n      <td>44026</td>\n      <td>483</td>\n      <td>501145</td>\n      <td>0.293985</td>\n    </tr>\n    <tr>\n      <th>1812055789</th>\n      <td>2013-09-08T07:03:17Z</td>\n      <td>341</td>\n      <td>Ron</td>\n      <td>False</td>\n      <td>143954</td>\n      <td>None</td>\n      <td>CodeMonkeyZ</td>\n      <td>old</td>\n      <td>suspended</td>\n      <td>1</td>\n      <td>...</td>\n      <td>109</td>\n      <td>938</td>\n      <td>95</td>\n      <td>90100</td>\n      <td>7096</td>\n      <td>274210</td>\n      <td>23946</td>\n      <td>215</td>\n      <td>229907</td>\n      <td>0.328580</td>\n    </tr>\n  </tbody>\n</table>\n<p>5 rows × 29 columns</p>\n</div>"
     },
     "metadata": {},
     "execution_count": 33
    }
   ],
   "source": [
    "relevant_users = df_users.loc[user_ids]\n",
    "print(len(relevant_users))\n",
    "relevant_users.head()"
   ]
  },
  {
   "cell_type": "code",
   "execution_count": 34,
   "metadata": {},
   "outputs": [],
   "source": [
    "relevant_users.to_pickle(\"../interface/data/top_users.pickle\")"
   ]
  },
  {
   "cell_type": "code",
   "execution_count": 10,
   "metadata": {},
   "outputs": [],
   "source": [
    "df_recent_tweets = pd.read_pickle(\"./df_recent_tweets_with_final_metrics.pickle\").rename(columns=rename_dict)"
   ]
  },
  {
   "cell_type": "code",
   "execution_count": 11,
   "metadata": {},
   "outputs": [
    {
     "output_type": "execute_result",
     "data": {
      "text/plain": [
       "Index(['datastore_id', 'urls', 'hasMedia', 'hashtags',\n",
       "       'retweet_count_metadata', 'quote_count_metadata', 'user', 'text',\n",
       "       'quote_tweet', 'timestamp', 'tokens', 'election fraud', 'voter fraud',\n",
       "       '#voterfraud', '#stopthesteal', '#ballotharvesting', 'ballot fraud',\n",
       "       '#electionfraud', '#electioninterference', 'ballot harvesting',\n",
       "       'election interference', '#electiontampering', '#cheatingdemocrats',\n",
       "       'election tampering', 'democrats cheat', '#voterfraudisreal',\n",
       "       'cheating democrats', '#gopvoterfraud', 'destroyed ballots',\n",
       "       'stolen ballots', '#ballotfraud', 'discarded ballots',\n",
       "       'hacked voting machine', 'pre-filled ballot', 'harvest ballot',\n",
       "       '#stopvoterfraud', '#democratvoterfraud', '#ballotvoterfraud',\n",
       "       '#nomailinvoting', '#ilhanomarballotharvesting', 'vote by mail fraud',\n",
       "       '#mailinvoterfraud', '#votebymailfraud', '#ilhanomarvoterfraud',\n",
       "       '#stopgopvoterfraud', '#discardedballots', '#hackedvotingmachines',\n",
       "       'user_community', 'retweet_count_by_community_0',\n",
       "       'quote_count_by_community_0', 'retweet_count_by_community_1',\n",
       "       'quote_count_by_community_1', 'retweet_count_by_community_2',\n",
       "       'quote_count_by_community_2', 'retweet_count_by_community_3',\n",
       "       'quote_count_by_community_3', 'retweet_count_by_community_4',\n",
       "       'quote_count_by_community_4', 'user_active_status',\n",
       "       'retweet_count_by_suspended_users', 'quote_count_by_suspended_users',\n",
       "       'total_retweet_count', 'quotes_crawled', 'retweet_count_by_detractors',\n",
       "       'retweet_count_by_promoters', 'retweets_suspended_ratio',\n",
       "       'quote_coverage', 'retweet_coverage'],\n",
       "      dtype='object')"
      ]
     },
     "metadata": {},
     "execution_count": 11
    }
   ],
   "source": [
    "df_recent_tweets.columns"
   ]
  },
  {
   "cell_type": "code",
   "execution_count": 12,
   "metadata": {},
   "outputs": [],
   "source": [
    "cols = [\"retweet_count_by_community_\" + str(i) for i in range(5)] + [\"retweet_count_by_suspended_users\", \"retweet_count_by_promoters\", \"retweet_count_by_detractors\"]\n",
    "\n",
    "tweet_indices = set()\n",
    "\n",
    "for col in cols:\n",
    "    tweet_indices = tweet_indices.union(set(df_recent_tweets.nlargest(10, col).index))"
   ]
  },
  {
   "cell_type": "code",
   "execution_count": 13,
   "metadata": {},
   "outputs": [],
   "source": [
    "for community in range(5):\n",
    "    community_tweets = df_recent_tweets[df_recent_tweets.user_community == community]\n",
    "    tweet_indices = tweet_indices.union(set(community_tweets.nlargest(10, \"retweet_count_metadata\").index))"
   ]
  },
  {
   "cell_type": "code",
   "execution_count": 14,
   "metadata": {},
   "outputs": [
    {
     "output_type": "execute_result",
     "data": {
      "text/plain": [
       "62"
      ]
     },
     "metadata": {},
     "execution_count": 14
    }
   ],
   "source": [
    "len(tweet_indices)"
   ]
  },
  {
   "cell_type": "code",
   "execution_count": 15,
   "metadata": {},
   "outputs": [],
   "source": [
    "relevant_tweets = df_recent_tweets.iloc[list(tweet_indices)]"
   ]
  },
  {
   "cell_type": "code",
   "execution_count": 16,
   "metadata": {},
   "outputs": [],
   "source": [
    "relevant_tweets.to_pickle(\"../interface/data/top_tweets.pickle\")"
   ]
  },
  {
   "cell_type": "code",
   "execution_count": 17,
   "metadata": {},
   "outputs": [],
   "source": [
    "df_youtube_videos = pd.read_csv(\"../data/notebooks/final/youtube_videos.csv\", index_col=\"video_id\")\n",
    "df_hashtag = pd.read_csv(\"../data/notebooks/final/hashtags.csv\", index_col=\"hashtag\")\n",
    "df_url = pd.read_csv(\"../data/notebooks/final/urls.csv\", index_col=\"url\")"
   ]
  },
  {
   "cell_type": "code",
   "execution_count": 18,
   "metadata": {},
   "outputs": [],
   "source": [
    "def add_cols(df):\n",
    "    df[\"retweet_count_by_detractors\"] = df.apply(lambda x: x[\"retweet_count_by_community_0\"], axis=1)\n",
    "    df[\"retweet_count_by_promoters\"] = df.apply(lambda x: x[\"retweet_count_by_community_1\"] + x[\"retweet_count_by_community_2\"] + x[\"retweet_count_by_community_3\"] + x[\"retweet_count_by_community_4\"], axis=1)\n",
    "\n",
    "add_cols(df_youtube_videos)\n",
    "add_cols(df_hashtag)\n",
    "add_cols(df_url)"
   ]
  },
  {
   "cell_type": "code",
   "execution_count": 19,
   "metadata": {},
   "outputs": [
    {
     "output_type": "execute_result",
     "data": {
      "text/plain": [
       "                                                                  domain  \\\n",
       "url                                                                        \n",
       "https://www.foxnews.com/opinion/tucker-carlson-...           foxnews.com   \n",
       "https://www.legislationline.org/download/id/147...   legislationline.org   \n",
       "https://www.houstonchronicle.com/politics/texas...  houstonchronicle.com   \n",
       "https://nypost.com/2020/11/11/usps-whistleblowe...            nypost.com   \n",
       "https://thetexan.news/limestone-county-individu...         thetexan.news   \n",
       "\n",
       "                                                    tweet_count  \\\n",
       "url                                                               \n",
       "https://www.foxnews.com/opinion/tucker-carlson-...          264   \n",
       "https://www.legislationline.org/download/id/147...          148   \n",
       "https://www.houstonchronicle.com/politics/texas...           56   \n",
       "https://nypost.com/2020/11/11/usps-whistleblowe...           85   \n",
       "https://thetexan.news/limestone-county-individu...          280   \n",
       "\n",
       "                                                    retweet_count_metadata  \\\n",
       "url                                                                          \n",
       "https://www.foxnews.com/opinion/tucker-carlson-...                   41078   \n",
       "https://www.legislationline.org/download/id/147...                   19221   \n",
       "https://www.houstonchronicle.com/politics/texas...                   16627   \n",
       "https://nypost.com/2020/11/11/usps-whistleblowe...                   15297   \n",
       "https://thetexan.news/limestone-county-individu...                   14525   \n",
       "\n",
       "                                                    quote_count_metadata  \\\n",
       "url                                                                        \n",
       "https://www.foxnews.com/opinion/tucker-carlson-...                  6543   \n",
       "https://www.legislationline.org/download/id/147...                  1973   \n",
       "https://www.houstonchronicle.com/politics/texas...                  2602   \n",
       "https://nypost.com/2020/11/11/usps-whistleblowe...                   983   \n",
       "https://thetexan.news/limestone-county-individu...                  1459   \n",
       "\n",
       "                                                    tweet_count_by_community_0  \\\n",
       "url                                                                              \n",
       "https://www.foxnews.com/opinion/tucker-carlson-...                          14   \n",
       "https://www.legislationline.org/download/id/147...                           0   \n",
       "https://www.houstonchronicle.com/politics/texas...                          13   \n",
       "https://nypost.com/2020/11/11/usps-whistleblowe...                           3   \n",
       "https://thetexan.news/limestone-county-individu...                           2   \n",
       "\n",
       "                                                    retweet_count_by_community_0  \\\n",
       "url                                                                                \n",
       "https://www.foxnews.com/opinion/tucker-carlson-...                            61   \n",
       "https://www.legislationline.org/download/id/147...                            24   \n",
       "https://www.houstonchronicle.com/politics/texas...                           103   \n",
       "https://nypost.com/2020/11/11/usps-whistleblowe...                            13   \n",
       "https://thetexan.news/limestone-county-individu...                            13   \n",
       "\n",
       "                                                    quote_count_by_community_0  \\\n",
       "url                                                                              \n",
       "https://www.foxnews.com/opinion/tucker-carlson-...                         401   \n",
       "https://www.legislationline.org/download/id/147...                          92   \n",
       "https://www.houstonchronicle.com/politics/texas...                         272   \n",
       "https://nypost.com/2020/11/11/usps-whistleblowe...                          23   \n",
       "https://thetexan.news/limestone-county-individu...                          21   \n",
       "\n",
       "                                                    tweet_count_by_community_1  \\\n",
       "url                                                                              \n",
       "https://www.foxnews.com/opinion/tucker-carlson-...                          27   \n",
       "https://www.legislationline.org/download/id/147...                          30   \n",
       "https://www.houstonchronicle.com/politics/texas...                           8   \n",
       "https://nypost.com/2020/11/11/usps-whistleblowe...                          11   \n",
       "https://thetexan.news/limestone-county-individu...                          41   \n",
       "\n",
       "                                                    retweet_count_by_community_1  \\\n",
       "url                                                                                \n",
       "https://www.foxnews.com/opinion/tucker-carlson-...                          3250   \n",
       "https://www.legislationline.org/download/id/147...                          2021   \n",
       "https://www.houstonchronicle.com/politics/texas...                          1037   \n",
       "https://nypost.com/2020/11/11/usps-whistleblowe...                           648   \n",
       "https://thetexan.news/limestone-county-individu...                          1368   \n",
       "\n",
       "                                                    quote_count_by_community_1  \\\n",
       "url                                                                              \n",
       "https://www.foxnews.com/opinion/tucker-carlson-...                         264   \n",
       "https://www.legislationline.org/download/id/147...                         161   \n",
       "https://www.houstonchronicle.com/politics/texas...                          77   \n",
       "https://nypost.com/2020/11/11/usps-whistleblowe...                          36   \n",
       "https://thetexan.news/limestone-county-individu...                         109   \n",
       "\n",
       "                                                    ...  \\\n",
       "url                                                 ...   \n",
       "https://www.foxnews.com/opinion/tucker-carlson-...  ...   \n",
       "https://www.legislationline.org/download/id/147...  ...   \n",
       "https://www.houstonchronicle.com/politics/texas...  ...   \n",
       "https://nypost.com/2020/11/11/usps-whistleblowe...  ...   \n",
       "https://thetexan.news/limestone-county-individu...  ...   \n",
       "\n",
       "                                                    retweet_count_by_community_3  \\\n",
       "url                                                                                \n",
       "https://www.foxnews.com/opinion/tucker-carlson-...                           345   \n",
       "https://www.legislationline.org/download/id/147...                            25   \n",
       "https://www.houstonchronicle.com/politics/texas...                            74   \n",
       "https://nypost.com/2020/11/11/usps-whistleblowe...                            35   \n",
       "https://thetexan.news/limestone-county-individu...                            17   \n",
       "\n",
       "                                                    quote_count_by_community_3  \\\n",
       "url                                                                              \n",
       "https://www.foxnews.com/opinion/tucker-carlson-...                          39   \n",
       "https://www.legislationline.org/download/id/147...                           2   \n",
       "https://www.houstonchronicle.com/politics/texas...                          15   \n",
       "https://nypost.com/2020/11/11/usps-whistleblowe...                           1   \n",
       "https://thetexan.news/limestone-county-individu...                           3   \n",
       "\n",
       "                                                    tweet_count_by_community_4  \\\n",
       "url                                                                              \n",
       "https://www.foxnews.com/opinion/tucker-carlson-...                           8   \n",
       "https://www.legislationline.org/download/id/147...                           0   \n",
       "https://www.houstonchronicle.com/politics/texas...                           0   \n",
       "https://nypost.com/2020/11/11/usps-whistleblowe...                           0   \n",
       "https://thetexan.news/limestone-county-individu...                           1   \n",
       "\n",
       "                                                    retweet_count_by_community_4  \\\n",
       "url                                                                                \n",
       "https://www.foxnews.com/opinion/tucker-carlson-...                           483   \n",
       "https://www.legislationline.org/download/id/147...                           119   \n",
       "https://www.houstonchronicle.com/politics/texas...                            67   \n",
       "https://nypost.com/2020/11/11/usps-whistleblowe...                            41   \n",
       "https://thetexan.news/limestone-county-individu...                           102   \n",
       "\n",
       "                                                    quote_count_by_community_4  \\\n",
       "url                                                                              \n",
       "https://www.foxnews.com/opinion/tucker-carlson-...                          34   \n",
       "https://www.legislationline.org/download/id/147...                           8   \n",
       "https://www.houstonchronicle.com/politics/texas...                           4   \n",
       "https://nypost.com/2020/11/11/usps-whistleblowe...                           1   \n",
       "https://thetexan.news/limestone-county-individu...                           6   \n",
       "\n",
       "                                                    tweet_count_by_suspended_users  \\\n",
       "url                                                                                  \n",
       "https://www.foxnews.com/opinion/tucker-carlson-...                              62   \n",
       "https://www.legislationline.org/download/id/147...                              26   \n",
       "https://www.houstonchronicle.com/politics/texas...                               3   \n",
       "https://nypost.com/2020/11/11/usps-whistleblowe...                              12   \n",
       "https://thetexan.news/limestone-county-individu...                              30   \n",
       "\n",
       "                                                    retweet_count_by_suspended_users  \\\n",
       "url                                                                                    \n",
       "https://www.foxnews.com/opinion/tucker-carlson-...                              2555   \n",
       "https://www.legislationline.org/download/id/147...                              1793   \n",
       "https://www.houstonchronicle.com/politics/texas...                              1425   \n",
       "https://nypost.com/2020/11/11/usps-whistleblowe...                              1124   \n",
       "https://thetexan.news/limestone-county-individu...                              1385   \n",
       "\n",
       "                                                    quote_count_by_suspended_users  \\\n",
       "url                                                                                  \n",
       "https://www.foxnews.com/opinion/tucker-carlson-...                             305   \n",
       "https://www.legislationline.org/download/id/147...                             139   \n",
       "https://www.houstonchronicle.com/politics/texas...                             106   \n",
       "https://nypost.com/2020/11/11/usps-whistleblowe...                              69   \n",
       "https://thetexan.news/limestone-county-individu...                             138   \n",
       "\n",
       "                                                    retweet_count_by_detractors  \\\n",
       "url                                                                               \n",
       "https://www.foxnews.com/opinion/tucker-carlson-...                           61   \n",
       "https://www.legislationline.org/download/id/147...                           24   \n",
       "https://www.houstonchronicle.com/politics/texas...                          103   \n",
       "https://nypost.com/2020/11/11/usps-whistleblowe...                           13   \n",
       "https://thetexan.news/limestone-county-individu...                           13   \n",
       "\n",
       "                                                    retweet_count_by_promoters  \n",
       "url                                                                             \n",
       "https://www.foxnews.com/opinion/tucker-carlson-...                       11868  \n",
       "https://www.legislationline.org/download/id/147...                        7793  \n",
       "https://www.houstonchronicle.com/politics/texas...                        5109  \n",
       "https://nypost.com/2020/11/11/usps-whistleblowe...                        4063  \n",
       "https://thetexan.news/limestone-county-individu...                        5920  \n",
       "\n",
       "[5 rows x 24 columns]"
      ],
      "text/html": "<div>\n<style scoped>\n    .dataframe tbody tr th:only-of-type {\n        vertical-align: middle;\n    }\n\n    .dataframe tbody tr th {\n        vertical-align: top;\n    }\n\n    .dataframe thead th {\n        text-align: right;\n    }\n</style>\n<table border=\"1\" class=\"dataframe\">\n  <thead>\n    <tr style=\"text-align: right;\">\n      <th></th>\n      <th>domain</th>\n      <th>tweet_count</th>\n      <th>retweet_count_metadata</th>\n      <th>quote_count_metadata</th>\n      <th>tweet_count_by_community_0</th>\n      <th>retweet_count_by_community_0</th>\n      <th>quote_count_by_community_0</th>\n      <th>tweet_count_by_community_1</th>\n      <th>retweet_count_by_community_1</th>\n      <th>quote_count_by_community_1</th>\n      <th>...</th>\n      <th>retweet_count_by_community_3</th>\n      <th>quote_count_by_community_3</th>\n      <th>tweet_count_by_community_4</th>\n      <th>retweet_count_by_community_4</th>\n      <th>quote_count_by_community_4</th>\n      <th>tweet_count_by_suspended_users</th>\n      <th>retweet_count_by_suspended_users</th>\n      <th>quote_count_by_suspended_users</th>\n      <th>retweet_count_by_detractors</th>\n      <th>retweet_count_by_promoters</th>\n    </tr>\n    <tr>\n      <th>url</th>\n      <th></th>\n      <th></th>\n      <th></th>\n      <th></th>\n      <th></th>\n      <th></th>\n      <th></th>\n      <th></th>\n      <th></th>\n      <th></th>\n      <th></th>\n      <th></th>\n      <th></th>\n      <th></th>\n      <th></th>\n      <th></th>\n      <th></th>\n      <th></th>\n      <th></th>\n      <th></th>\n      <th></th>\n    </tr>\n  </thead>\n  <tbody>\n    <tr>\n      <th>https://www.foxnews.com/opinion/tucker-carlson-2020-presidential-election-voter-fraud-dead-voters.amp</th>\n      <td>foxnews.com</td>\n      <td>264</td>\n      <td>41078</td>\n      <td>6543</td>\n      <td>14</td>\n      <td>61</td>\n      <td>401</td>\n      <td>27</td>\n      <td>3250</td>\n      <td>264</td>\n      <td>...</td>\n      <td>345</td>\n      <td>39</td>\n      <td>8</td>\n      <td>483</td>\n      <td>34</td>\n      <td>62</td>\n      <td>2555</td>\n      <td>305</td>\n      <td>61</td>\n      <td>11868</td>\n    </tr>\n    <tr>\n      <th>https://www.legislationline.org/download/id/1472/file/3b50795b2d0374cbef5c29766256.pdf</th>\n      <td>legislationline.org</td>\n      <td>148</td>\n      <td>19221</td>\n      <td>1973</td>\n      <td>0</td>\n      <td>24</td>\n      <td>92</td>\n      <td>30</td>\n      <td>2021</td>\n      <td>161</td>\n      <td>...</td>\n      <td>25</td>\n      <td>2</td>\n      <td>0</td>\n      <td>119</td>\n      <td>8</td>\n      <td>26</td>\n      <td>1793</td>\n      <td>139</td>\n      <td>24</td>\n      <td>7793</td>\n    </tr>\n    <tr>\n      <th>https://www.houstonchronicle.com/politics/texas/article/Texas-Lt-Gov-Dan-Patrick-offers-1-million-15716973.php?utm_campaign=CMS%20Sharing%20Tools%20(Premium)&amp;utm_source=t.co&amp;utm_medium=referral</th>\n      <td>houstonchronicle.com</td>\n      <td>56</td>\n      <td>16627</td>\n      <td>2602</td>\n      <td>13</td>\n      <td>103</td>\n      <td>272</td>\n      <td>8</td>\n      <td>1037</td>\n      <td>77</td>\n      <td>...</td>\n      <td>74</td>\n      <td>15</td>\n      <td>0</td>\n      <td>67</td>\n      <td>4</td>\n      <td>3</td>\n      <td>1425</td>\n      <td>106</td>\n      <td>103</td>\n      <td>5109</td>\n    </tr>\n    <tr>\n      <th>https://nypost.com/2020/11/11/usps-whistleblower-denies-wapo-claim-he-recanted-allegations/?utm_source=twitter_sitebuttons&amp;utm_medium=site%20buttons&amp;utm_campaign=site%20buttons</th>\n      <td>nypost.com</td>\n      <td>85</td>\n      <td>15297</td>\n      <td>983</td>\n      <td>3</td>\n      <td>13</td>\n      <td>23</td>\n      <td>11</td>\n      <td>648</td>\n      <td>36</td>\n      <td>...</td>\n      <td>35</td>\n      <td>1</td>\n      <td>0</td>\n      <td>41</td>\n      <td>1</td>\n      <td>12</td>\n      <td>1124</td>\n      <td>69</td>\n      <td>13</td>\n      <td>4063</td>\n    </tr>\n    <tr>\n      <th>https://thetexan.news/limestone-county-individual-charged-with-134-counts-of-voter-fraud-attorney-general-announces/</th>\n      <td>thetexan.news</td>\n      <td>280</td>\n      <td>14525</td>\n      <td>1459</td>\n      <td>2</td>\n      <td>13</td>\n      <td>21</td>\n      <td>41</td>\n      <td>1368</td>\n      <td>109</td>\n      <td>...</td>\n      <td>17</td>\n      <td>3</td>\n      <td>1</td>\n      <td>102</td>\n      <td>6</td>\n      <td>30</td>\n      <td>1385</td>\n      <td>138</td>\n      <td>13</td>\n      <td>5920</td>\n    </tr>\n  </tbody>\n</table>\n<p>5 rows × 24 columns</p>\n</div>"
     },
     "metadata": {},
     "execution_count": 19
    }
   ],
   "source": [
    "df_url.head()"
   ]
  },
  {
   "cell_type": "code",
   "execution_count": 20,
   "metadata": {},
   "outputs": [],
   "source": [
    "df_youtube_videos.to_pickle(\"../interface/data/top_youtube_videos.pickle\")\n",
    "df_hashtag.to_pickle(\"../interface/data/top_hashtags.pickle\")\n",
    "df_url.to_pickle(\"../interface/data/top_urls.pickle\")"
   ]
  }
 ]
}