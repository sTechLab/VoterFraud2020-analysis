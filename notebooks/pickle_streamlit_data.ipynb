{
 "metadata": {
  "language_info": {
   "codemirror_mode": {
    "name": "ipython",
    "version": 3
   },
   "file_extension": ".py",
   "mimetype": "text/x-python",
   "name": "python",
   "nbconvert_exporter": "python",
   "pygments_lexer": "ipython3",
   "version": "3.8.5-final"
  },
  "orig_nbformat": 2,
  "kernelspec": {
   "name": "python3",
   "display_name": "Python 3.8.5 64-bit ('voter-fraud': conda)",
   "metadata": {
    "interpreter": {
     "hash": "a0f90dcbb54bea4e60f894f8fd1d686cc0f74395b4029405cc9f13e0b975e641"
    }
   }
  }
 },
 "nbformat": 4,
 "nbformat_minor": 2,
 "cells": [
  {
   "cell_type": "code",
   "execution_count": 23,
   "metadata": {},
   "outputs": [],
   "source": [
    "N = 50"
   ]
  },
  {
   "cell_type": "code",
   "execution_count": 2,
   "metadata": {},
   "outputs": [],
   "source": [
    "from notebook_utils import setup\n",
    "import pandas as pd\n",
    "import networkx as nx\n",
    "from collections import defaultdict\n",
    "\n",
    "setup()\n",
    "\n",
    "import matplotlib.style as style\n",
    "\n",
    "style.use([\"seaborn-white\", \"seaborn-paper\"])\n",
    "\n",
    "def map_user_status(status):\n",
    "    if (status == \"inactive\"):\n",
    "        return \"deleted\"\n",
    "    else:\n",
    "        return status\n",
    "\n",
    "rename_dict = {}\n",
    "for i in range(5):\n",
    "    rename_dict[\"retweets_by_cluster_\" + str(i)] = \"retweet_count_by_community_\" + str(i)\n",
    "    rename_dict[\"quotes_by_cluster_\" + str(i)] = \"quote_count_by_community_\" + str(i)\n",
    "    rename_dict[\"tweets_by_cluster_\" + str(i)] = \"tweet_count_by_community_\" + str(i)\n",
    "rename_dict[\"tweets_by_suspended\"] = \"tweet_count_by_suspended_users\"\n",
    "rename_dict[\"quotes_by_suspended\"] = \"quote_count_by_suspended_users\"\n",
    "rename_dict[\"retweets_by_suspended\"] = \"retweet_count_by_suspended_users\"\n",
    "rename_dict[\"author_active_status\"] = \"user_active_status\" \n",
    "rename_dict[\"l_closeness\"] = \"closeness_centrality_detractor_cluster\"\n",
    "rename_dict[\"r_closeness\"] = \"closeness_centrality_promoter_cluster\"\n",
    "rename_dict[\"quote_count\"] = \"quote_count_metadata\"\n",
    "rename_dict[\"retweet_count\"] = \"retweet_count_metadata\"\n",
    "rename_dict[\"cluster\"] = \"user_community\"\n",
    "rename_dict[\"user_cluster\"] = \"user_community\"\n",
    "rename_dict[\"active_status\"] = \"user_active_status\"\n",
    "\n",
    "rename_dict[\"retweets_by_l\"] = \"retweet_count_by_detractors\"\n",
    "rename_dict[\"retweets_by_r\"] = \"retweet_count_by_promoters\"\n",
    "rename_dict[\"retweets_crawled\"] = \"retweet_count_streamed\"\n",
    "\n",
    "\n",
    "## Exception for user\n",
    "user_rename_dict = {**rename_dict}\n",
    "for i in range(5):\n",
    "    user_rename_dict[\"retweets_by_cluster_\" + str(i)] = \"retweet_count_by_community_\" + str(i)\n",
    "    user_rename_dict[\"quotes_by_cluster_\" + str(i)] = \"quote_count_by_community_\" + str(i)\n",
    "    user_rename_dict[\"tweets_by_cluster_\" + str(i)] = \"tweet_count_by_community_\" + str(i)\n",
    "user_rename_dict[\"retweets_by_suspended\"] = \"retweet_count_by_suspended_users\"\n",
    "user_rename_dict[\"quotes_by_suspended\"] = \"quote_count_by_suspended_users\"\n",
    "\n",
    "user_export_cols = [\"user_community\", \"user_active_status\", \"closeness_centrality_detractor_cluster\", \"closeness_centrality_promoter_cluster\"]\n",
    "\n",
    "retweeted_cols = []\n",
    "for i in range(5):\n",
    "    retweeted_cols.append(\"retweet_count_by_community_\" + str(i))\n",
    "    retweeted_cols.append(\"quote_count_by_community_\" + str(i))\n",
    "retweeted_cols.append(\"retweet_count_by_suspended_users\")\n",
    "retweeted_cols.append(\"quote_count_by_suspended_users\")\n",
    "user_export_cols += retweeted_cols\n",
    "\n",
    "media_share_cols = [\"tweet_count\", \"retweet_count_metadata\", \"quote_count_metadata\"]\n",
    "for i in range(5):\n",
    "    media_share_cols.append(\"tweet_count_by_community_\" + str(i))\n",
    "    media_share_cols.append(\"retweet_count_by_community_\" + str(i))\n",
    "    media_share_cols.append(\"quote_count_by_community_\" + str(i))\n",
    "media_share_cols.append(\"tweet_count_by_suspended_users\")\n",
    "media_share_cols.append(\"retweet_count_by_suspended_users\")\n",
    "media_share_cols.append(\"quote_count_by_suspended_users\")\n",
    "\n",
    "\n",
    "tweet_cols = [\"user_community\", \"user_active_status\", \"retweet_count_metadata\", \"quote_count_metadata\"]\n",
    "\n",
    "image_cols = [\"unique_id\", \"tweet_id\", \"a_hash\", \"p_hash\", \"w_hash\"]\n",
    "youtube_cols = [\"video_title\", \"video_description\", \"channel_id\", \"channel_title\", \"published_at\"] + media_share_cols \n",
    "url_cols = [\"domain\"] + media_share_cols"
   ]
  },
  {
   "cell_type": "code",
   "execution_count": 3,
   "metadata": {},
   "outputs": [],
   "source": [
    "df_users = pd.read_pickle(\"./df_users_with_final_metrics_renamed.pickle\").rename(columns=rename_dict)"
   ]
  },
  {
   "cell_type": "code",
   "execution_count": 30,
   "metadata": {},
   "outputs": [],
   "source": [
    "cols = [\"retweet_count_by_community_\" + str(i) for i in range(5)] + [\"retweet_count_by_suspended_users\", \"retweet_count_by_promoters\", \"retweet_count_by_detractors\", \"retweet_count_metadata\"]\n",
    "\n",
    "user_ids = set()\n",
    "\n",
    "for col in cols:\n",
    "    user_ids = user_ids.union(set(df_users.nlargest(N, col).index))"
   ]
  },
  {
   "cell_type": "code",
   "execution_count": 31,
   "metadata": {},
   "outputs": [
    {
     "output_type": "execute_result",
     "data": {
      "text/plain": [
       "175"
      ]
     },
     "metadata": {},
     "execution_count": 31
    }
   ],
   "source": [
    "len(user_ids)"
   ]
  },
  {
   "cell_type": "code",
   "execution_count": 32,
   "metadata": {},
   "outputs": [],
   "source": [
    "for community in range(5):\n",
    "    community_users = df_users[df_users.user_community == community]\n",
    "    user_ids = user_ids.union(set(community_users.nlargest(N, \"retweet_count_streamed\").index))"
   ]
  },
  {
   "cell_type": "code",
   "execution_count": 33,
   "metadata": {},
   "outputs": [
    {
     "output_type": "stream",
     "name": "stdout",
     "text": [
      "271\n"
     ]
    },
    {
     "output_type": "execute_result",
     "data": {
      "text/plain": [
       "                                         created_at  friends_count  \\\n",
       "id                                                                   \n",
       "78523300             Wed Sep 30 05:31:28 +0000 2009           4797   \n",
       "1093399618908413952  Thu Feb 07 06:42:38 +0000 2019          24308   \n",
       "751552860303683584             2016-07-08T23:05:39Z          82265   \n",
       "1102567484891131904  Mon Mar 04 13:52:27 +0000 2019            127   \n",
       "1323531147104686080  Tue Nov 03 07:43:19 +0000 2020            184   \n",
       "\n",
       "                                                        name verified  \\\n",
       "id                                                                      \n",
       "78523300                                         James Woods     True   \n",
       "1093399618908413952                          🌸🇯🇵威風堂々JAPAN🇯🇵🌸    False   \n",
       "751552860303683584   👠IStandWithTrump ⭐️⭐️⭐️WhoDoesFBIserve?    False   \n",
       "1102567484891131904                               及川幸久 香港加油！    False   \n",
       "1323531147104686080                                Alonso 🇪🇸    False   \n",
       "\n",
       "                     followers_count          location           handle  \\\n",
       "id                                                                        \n",
       "78523300                     2615090                     RealJamesWoods   \n",
       "1093399618908413952            30157             日本 東京   hannitimetubou   \n",
       "751552860303683584             92767  Libs’ Nightmares    superyayadize   \n",
       "1102567484891131904            62424                    oikawa_yukihisa   \n",
       "1323531147104686080            11135                          AlonsoDm2   \n",
       "\n",
       "                    data_source user_active_status  user_community  ...  \\\n",
       "id                                                                  ...   \n",
       "78523300                    new             active               1  ...   \n",
       "1093399618908413952         new             active               3  ...   \n",
       "751552860303683584          old          suspended               2  ...   \n",
       "1102567484891131904         new             active               3  ...   \n",
       "1323531147104686080         new             active               4  ...   \n",
       "\n",
       "                     quote_count_by_community_4  \\\n",
       "id                                                \n",
       "78523300                                    156   \n",
       "1093399618908413952                           0   \n",
       "751552860303683584                            0   \n",
       "1102567484891131904                           0   \n",
       "1323531147104686080                           2   \n",
       "\n",
       "                     retweet_count_by_suspended_users  \\\n",
       "id                                                      \n",
       "78523300                                        39739   \n",
       "1093399618908413952                                 3   \n",
       "751552860303683584                               4978   \n",
       "1102567484891131904                                 3   \n",
       "1323531147104686080                                 7   \n",
       "\n",
       "                     quote_count_by_suspended_users  retweet_count_streamed  \\\n",
       "id                                                                            \n",
       "78523300                                       2970                  190021   \n",
       "1093399618908413952                               0                    1243   \n",
       "751552860303683584                              341                   13473   \n",
       "1102567484891131904                               1                     634   \n",
       "1323531147104686080                               0                     490   \n",
       "\n",
       "                     quotes_crawled  retweet_count_by_detractors  \\\n",
       "id                                                                 \n",
       "78523300                      15831                          301   \n",
       "1093399618908413952               0                            0   \n",
       "751552860303683584             1459                            7   \n",
       "1102567484891131904              11                            0   \n",
       "1323531147104686080               2                            0   \n",
       "\n",
       "                     retweet_count_by_promoters  retweets_suspended_ratio  \\\n",
       "id                                                                          \n",
       "78523300                                 157983                  0.209130   \n",
       "1093399618908413952                        1239                  0.002414   \n",
       "751552860303683584                        12970                  0.369480   \n",
       "1102567484891131904                         634                  0.004732   \n",
       "1323531147104686080                         485                  0.014286   \n",
       "\n",
       "                     retweet_count_metadata  quote_count_metadata  \n",
       "id                                                                 \n",
       "78523300                             398780                 31065  \n",
       "1093399618908413952                    1514                    73  \n",
       "751552860303683584                    25989                  2436  \n",
       "1102567484891131904                     794                    28  \n",
       "1323531147104686080                     663                    28  \n",
       "\n",
       "[5 rows x 31 columns]"
      ],
      "text/html": "<div>\n<style scoped>\n    .dataframe tbody tr th:only-of-type {\n        vertical-align: middle;\n    }\n\n    .dataframe tbody tr th {\n        vertical-align: top;\n    }\n\n    .dataframe thead th {\n        text-align: right;\n    }\n</style>\n<table border=\"1\" class=\"dataframe\">\n  <thead>\n    <tr style=\"text-align: right;\">\n      <th></th>\n      <th>created_at</th>\n      <th>friends_count</th>\n      <th>name</th>\n      <th>verified</th>\n      <th>followers_count</th>\n      <th>location</th>\n      <th>handle</th>\n      <th>data_source</th>\n      <th>user_active_status</th>\n      <th>user_community</th>\n      <th>...</th>\n      <th>quote_count_by_community_4</th>\n      <th>retweet_count_by_suspended_users</th>\n      <th>quote_count_by_suspended_users</th>\n      <th>retweet_count_streamed</th>\n      <th>quotes_crawled</th>\n      <th>retweet_count_by_detractors</th>\n      <th>retweet_count_by_promoters</th>\n      <th>retweets_suspended_ratio</th>\n      <th>retweet_count_metadata</th>\n      <th>quote_count_metadata</th>\n    </tr>\n    <tr>\n      <th>id</th>\n      <th></th>\n      <th></th>\n      <th></th>\n      <th></th>\n      <th></th>\n      <th></th>\n      <th></th>\n      <th></th>\n      <th></th>\n      <th></th>\n      <th></th>\n      <th></th>\n      <th></th>\n      <th></th>\n      <th></th>\n      <th></th>\n      <th></th>\n      <th></th>\n      <th></th>\n      <th></th>\n      <th></th>\n    </tr>\n  </thead>\n  <tbody>\n    <tr>\n      <th>78523300</th>\n      <td>Wed Sep 30 05:31:28 +0000 2009</td>\n      <td>4797</td>\n      <td>James Woods</td>\n      <td>True</td>\n      <td>2615090</td>\n      <td></td>\n      <td>RealJamesWoods</td>\n      <td>new</td>\n      <td>active</td>\n      <td>1</td>\n      <td>...</td>\n      <td>156</td>\n      <td>39739</td>\n      <td>2970</td>\n      <td>190021</td>\n      <td>15831</td>\n      <td>301</td>\n      <td>157983</td>\n      <td>0.209130</td>\n      <td>398780</td>\n      <td>31065</td>\n    </tr>\n    <tr>\n      <th>1093399618908413952</th>\n      <td>Thu Feb 07 06:42:38 +0000 2019</td>\n      <td>24308</td>\n      <td>🌸🇯🇵威風堂々JAPAN🇯🇵🌸</td>\n      <td>False</td>\n      <td>30157</td>\n      <td>日本 東京</td>\n      <td>hannitimetubou</td>\n      <td>new</td>\n      <td>active</td>\n      <td>3</td>\n      <td>...</td>\n      <td>0</td>\n      <td>3</td>\n      <td>0</td>\n      <td>1243</td>\n      <td>0</td>\n      <td>0</td>\n      <td>1239</td>\n      <td>0.002414</td>\n      <td>1514</td>\n      <td>73</td>\n    </tr>\n    <tr>\n      <th>751552860303683584</th>\n      <td>2016-07-08T23:05:39Z</td>\n      <td>82265</td>\n      <td>👠IStandWithTrump ⭐️⭐️⭐️WhoDoesFBIserve?</td>\n      <td>False</td>\n      <td>92767</td>\n      <td>Libs’ Nightmares</td>\n      <td>superyayadize</td>\n      <td>old</td>\n      <td>suspended</td>\n      <td>2</td>\n      <td>...</td>\n      <td>0</td>\n      <td>4978</td>\n      <td>341</td>\n      <td>13473</td>\n      <td>1459</td>\n      <td>7</td>\n      <td>12970</td>\n      <td>0.369480</td>\n      <td>25989</td>\n      <td>2436</td>\n    </tr>\n    <tr>\n      <th>1102567484891131904</th>\n      <td>Mon Mar 04 13:52:27 +0000 2019</td>\n      <td>127</td>\n      <td>及川幸久 香港加油！</td>\n      <td>False</td>\n      <td>62424</td>\n      <td></td>\n      <td>oikawa_yukihisa</td>\n      <td>new</td>\n      <td>active</td>\n      <td>3</td>\n      <td>...</td>\n      <td>0</td>\n      <td>3</td>\n      <td>1</td>\n      <td>634</td>\n      <td>11</td>\n      <td>0</td>\n      <td>634</td>\n      <td>0.004732</td>\n      <td>794</td>\n      <td>28</td>\n    </tr>\n    <tr>\n      <th>1323531147104686080</th>\n      <td>Tue Nov 03 07:43:19 +0000 2020</td>\n      <td>184</td>\n      <td>Alonso 🇪🇸</td>\n      <td>False</td>\n      <td>11135</td>\n      <td></td>\n      <td>AlonsoDm2</td>\n      <td>new</td>\n      <td>active</td>\n      <td>4</td>\n      <td>...</td>\n      <td>2</td>\n      <td>7</td>\n      <td>0</td>\n      <td>490</td>\n      <td>2</td>\n      <td>0</td>\n      <td>485</td>\n      <td>0.014286</td>\n      <td>663</td>\n      <td>28</td>\n    </tr>\n  </tbody>\n</table>\n<p>5 rows × 31 columns</p>\n</div>"
     },
     "metadata": {},
     "execution_count": 33
    }
   ],
   "source": [
    "relevant_users = df_users.loc[user_ids]\n",
    "print(len(relevant_users))\n",
    "relevant_users.head()"
   ]
  },
  {
   "cell_type": "code",
   "execution_count": 34,
   "metadata": {},
   "outputs": [],
   "source": [
    "relevant_users.to_pickle(\"../interface/data/top_users.pickle\")"
   ]
  },
  {
   "cell_type": "code",
   "execution_count": 13,
   "metadata": {},
   "outputs": [
    {
     "output_type": "stream",
     "name": "stdout",
     "text": [
      "0 processed\n",
      "100000 processed\n",
      "200000 processed\n",
      "300000 processed\n",
      "400000 processed\n",
      "500000 processed\n",
      "600000 processed\n",
      "700000 processed\n",
      "800000 processed\n",
      "900000 processed\n",
      "1000000 processed\n",
      "1100000 processed\n",
      "1200000 processed\n",
      "1300000 processed\n",
      "1400000 processed\n",
      "1500000 processed\n",
      "1600000 processed\n",
      "1700000 processed\n",
      "1800000 processed\n",
      "1900000 processed\n",
      "2000000 processed\n",
      "2100000 processed\n",
      "2200000 processed\n",
      "2300000 processed\n",
      "2400000 processed\n",
      "2500000 processed\n",
      "2600000 processed\n",
      "2700000 processed\n",
      "2800000 processed\n",
      "2900000 processed\n",
      "3000000 processed\n",
      "3100000 processed\n",
      "3200000 processed\n",
      "3300000 processed\n",
      "3400000 processed\n",
      "3500000 processed\n",
      "3600000 processed\n",
      "3700000 processed\n",
      "3800000 processed\n",
      "3900000 processed\n",
      "4000000 processed\n",
      "4100000 processed\n",
      "4200000 processed\n",
      "4300000 processed\n",
      "4400000 processed\n",
      "4500000 processed\n",
      "4600000 processed\n",
      "4700000 processed\n",
      "4800000 processed\n",
      "4900000 processed\n",
      "5000000 processed\n",
      "5100000 processed\n",
      "5200000 processed\n",
      "5300000 processed\n",
      "5400000 processed\n",
      "5500000 processed\n",
      "5600000 processed\n",
      "5700000 processed\n",
      "5800000 processed\n",
      "5900000 processed\n",
      "6000000 processed\n",
      "6100000 processed\n",
      "6200000 processed\n",
      "6300000 processed\n",
      "6400000 processed\n",
      "6500000 processed\n",
      "6600000 processed\n",
      "6700000 processed\n",
      "6800000 processed\n",
      "6900000 processed\n",
      "7000000 processed\n",
      "7100000 processed\n",
      "7200000 processed\n",
      "7300000 processed\n",
      "7400000 processed\n",
      "7500000 processed\n",
      "7600000 processed\n"
     ]
    }
   ],
   "source": [
    "user_retweet_count_metadata = defaultdict(lambda: 0)\n",
    "user_quote_count_metadata = defaultdict(lambda: 0)\n",
    "for i, user_id, retweet_count_metadata, quote_count_metadata in df_recent_tweets[[\"user\", \"retweet_count_metadata\", \"quote_count_metadata\"]].itertuples():\n",
    "    user_retweet_count_metadata[user_id] += retweet_count_metadata\n",
    "    user_quote_count_metadata[user_id] += quote_count_metadata\n",
    "    if (i % 100000 == 0):\n",
    "        print(i, \"processed\")"
   ]
  },
  {
   "cell_type": "code",
   "execution_count": 20,
   "metadata": {},
   "outputs": [],
   "source": [
    "import pickle\n",
    "if user_retweet_count_metadata:\n",
    "    with open(\"./user_counts.pickle\", \"wb\") as f:\n",
    "        pickle.dump({\n",
    "            \"user_retweet_count_metadata\": dict(user_retweet_count_metadata),\n",
    "            \"user_quote_count_metadata\": dict(user_quote_count_metadata)\n",
    "        }, f)"
   ]
  },
  {
   "cell_type": "code",
   "execution_count": 21,
   "metadata": {},
   "outputs": [],
   "source": [
    "df_users[\"retweet_count_metadata\"] = df_users.apply(lambda u: user_retweet_count_metadata[u.name], axis=1)\n",
    "df_users[\"quote_count_metadata\"] = df_users.apply(lambda u: user_quote_count_metadata[u.name], axis=1)"
   ]
  },
  {
   "cell_type": "code",
   "execution_count": 25,
   "metadata": {},
   "outputs": [],
   "source": [
    "df_users.to_pickle(\"./df_users_with_final_metrics_renamed.pickle\")"
   ]
  },
  {
   "cell_type": "code",
   "execution_count": 13,
   "metadata": {},
   "outputs": [],
   "source": [
    "df_recent_tweets = pd.read_pickle(\"./df_recent_tweets_with_final_metrics.pickle\").rename(columns=rename_dict)"
   ]
  },
  {
   "cell_type": "code",
   "execution_count": 11,
   "metadata": {},
   "outputs": [
    {
     "output_type": "execute_result",
     "data": {
      "text/plain": [
       "Index(['datastore_id', 'urls', 'hasMedia', 'hashtags',\n",
       "       'retweet_count_metadata', 'quote_count_metadata', 'user', 'text',\n",
       "       'quote_tweet', 'timestamp', 'tokens', 'election fraud', 'voter fraud',\n",
       "       '#voterfraud', '#stopthesteal', '#ballotharvesting', 'ballot fraud',\n",
       "       '#electionfraud', '#electioninterference', 'ballot harvesting',\n",
       "       'election interference', '#electiontampering', '#cheatingdemocrats',\n",
       "       'election tampering', 'democrats cheat', '#voterfraudisreal',\n",
       "       'cheating democrats', '#gopvoterfraud', 'destroyed ballots',\n",
       "       'stolen ballots', '#ballotfraud', 'discarded ballots',\n",
       "       'hacked voting machine', 'pre-filled ballot', 'harvest ballot',\n",
       "       '#stopvoterfraud', '#democratvoterfraud', '#ballotvoterfraud',\n",
       "       '#nomailinvoting', '#ilhanomarballotharvesting', 'vote by mail fraud',\n",
       "       '#mailinvoterfraud', '#votebymailfraud', '#ilhanomarvoterfraud',\n",
       "       '#stopgopvoterfraud', '#discardedballots', '#hackedvotingmachines',\n",
       "       'user_community', 'retweet_count_by_community_0',\n",
       "       'quote_count_by_community_0', 'retweet_count_by_community_1',\n",
       "       'quote_count_by_community_1', 'retweet_count_by_community_2',\n",
       "       'quote_count_by_community_2', 'retweet_count_by_community_3',\n",
       "       'quote_count_by_community_3', 'retweet_count_by_community_4',\n",
       "       'quote_count_by_community_4', 'user_active_status',\n",
       "       'retweet_count_by_suspended_users', 'quote_count_by_suspended_users',\n",
       "       'total_retweet_count', 'quotes_crawled', 'retweet_count_by_detractors',\n",
       "       'retweet_count_by_promoters', 'retweets_suspended_ratio',\n",
       "       'quote_coverage', 'retweet_coverage'],\n",
       "      dtype='object')"
      ]
     },
     "metadata": {},
     "execution_count": 11
    }
   ],
   "source": [
    "df_recent_tweets.columns"
   ]
  },
  {
   "cell_type": "code",
   "execution_count": 24,
   "metadata": {},
   "outputs": [],
   "source": [
    "cols = [\"retweet_count_by_community_\" + str(i) for i in range(5)] + [\"retweet_count_by_suspended_users\", \"retweet_count_by_promoters\", \"retweet_count_by_detractors\"]\n",
    "\n",
    "tweet_indices = set()\n",
    "\n",
    "for col in cols:\n",
    "    tweet_indices = tweet_indices.union(set(df_recent_tweets.nlargest(N, col).index))"
   ]
  },
  {
   "cell_type": "code",
   "execution_count": 25,
   "metadata": {},
   "outputs": [],
   "source": [
    "for community in range(5):\n",
    "    community_tweets = df_recent_tweets[df_recent_tweets.user_community == community]\n",
    "    tweet_indices = tweet_indices.union(set(community_tweets.nlargest(N, \"retweet_count_metadata\").index))"
   ]
  },
  {
   "cell_type": "code",
   "execution_count": 26,
   "metadata": {},
   "outputs": [
    {
     "output_type": "execute_result",
     "data": {
      "text/plain": [
       "298"
      ]
     },
     "metadata": {},
     "execution_count": 26
    }
   ],
   "source": [
    "len(tweet_indices)"
   ]
  },
  {
   "cell_type": "code",
   "execution_count": 27,
   "metadata": {},
   "outputs": [],
   "source": [
    "relevant_tweets = df_recent_tweets.iloc[list(tweet_indices)]"
   ]
  },
  {
   "cell_type": "code",
   "execution_count": 28,
   "metadata": {},
   "outputs": [
    {
     "output_type": "execute_result",
     "data": {
      "text/plain": [
       "298"
      ]
     },
     "metadata": {},
     "execution_count": 28
    }
   ],
   "source": [
    "len(relevant_tweets)"
   ]
  },
  {
   "cell_type": "code",
   "execution_count": 29,
   "metadata": {},
   "outputs": [],
   "source": [
    "relevant_tweets.to_pickle(\"../interface/data/top_tweets.pickle\")"
   ]
  },
  {
   "cell_type": "code",
   "execution_count": 17,
   "metadata": {},
   "outputs": [],
   "source": [
    "df_youtube_videos = pd.read_csv(\"../data/notebooks/final/youtube_videos.csv\", index_col=\"video_id\")\n",
    "df_hashtag = pd.read_csv(\"../data/notebooks/final/hashtags.csv\", index_col=\"hashtag\")\n",
    "df_url = pd.read_csv(\"../data/notebooks/final/urls.csv\", index_col=\"url\")"
   ]
  },
  {
   "cell_type": "code",
   "execution_count": 18,
   "metadata": {},
   "outputs": [],
   "source": [
    "def add_cols(df):\n",
    "    df[\"retweet_count_by_detractors\"] = df.apply(lambda x: x[\"retweet_count_by_community_0\"], axis=1)\n",
    "    df[\"retweet_count_by_promoters\"] = df.apply(lambda x: x[\"retweet_count_by_community_1\"] + x[\"retweet_count_by_community_2\"] + x[\"retweet_count_by_community_3\"] + x[\"retweet_count_by_community_4\"], axis=1)\n",
    "\n",
    "add_cols(df_youtube_videos)\n",
    "add_cols(df_hashtag)\n",
    "add_cols(df_url)"
   ]
  },
  {
   "cell_type": "code",
   "execution_count": 19,
   "metadata": {},
   "outputs": [
    {
     "output_type": "execute_result",
     "data": {
      "text/plain": [
       "                                                                  domain  \\\n",
       "url                                                                        \n",
       "https://www.foxnews.com/opinion/tucker-carlson-...           foxnews.com   \n",
       "https://www.legislationline.org/download/id/147...   legislationline.org   \n",
       "https://www.houstonchronicle.com/politics/texas...  houstonchronicle.com   \n",
       "https://nypost.com/2020/11/11/usps-whistleblowe...            nypost.com   \n",
       "https://thetexan.news/limestone-county-individu...         thetexan.news   \n",
       "\n",
       "                                                    tweet_count  \\\n",
       "url                                                               \n",
       "https://www.foxnews.com/opinion/tucker-carlson-...          264   \n",
       "https://www.legislationline.org/download/id/147...          148   \n",
       "https://www.houstonchronicle.com/politics/texas...           56   \n",
       "https://nypost.com/2020/11/11/usps-whistleblowe...           85   \n",
       "https://thetexan.news/limestone-county-individu...          280   \n",
       "\n",
       "                                                    retweet_count_metadata  \\\n",
       "url                                                                          \n",
       "https://www.foxnews.com/opinion/tucker-carlson-...                   41078   \n",
       "https://www.legislationline.org/download/id/147...                   19221   \n",
       "https://www.houstonchronicle.com/politics/texas...                   16627   \n",
       "https://nypost.com/2020/11/11/usps-whistleblowe...                   15297   \n",
       "https://thetexan.news/limestone-county-individu...                   14525   \n",
       "\n",
       "                                                    quote_count_metadata  \\\n",
       "url                                                                        \n",
       "https://www.foxnews.com/opinion/tucker-carlson-...                  6543   \n",
       "https://www.legislationline.org/download/id/147...                  1973   \n",
       "https://www.houstonchronicle.com/politics/texas...                  2602   \n",
       "https://nypost.com/2020/11/11/usps-whistleblowe...                   983   \n",
       "https://thetexan.news/limestone-county-individu...                  1459   \n",
       "\n",
       "                                                    tweet_count_by_community_0  \\\n",
       "url                                                                              \n",
       "https://www.foxnews.com/opinion/tucker-carlson-...                          14   \n",
       "https://www.legislationline.org/download/id/147...                           0   \n",
       "https://www.houstonchronicle.com/politics/texas...                          13   \n",
       "https://nypost.com/2020/11/11/usps-whistleblowe...                           3   \n",
       "https://thetexan.news/limestone-county-individu...                           2   \n",
       "\n",
       "                                                    retweet_count_by_community_0  \\\n",
       "url                                                                                \n",
       "https://www.foxnews.com/opinion/tucker-carlson-...                            61   \n",
       "https://www.legislationline.org/download/id/147...                            24   \n",
       "https://www.houstonchronicle.com/politics/texas...                           103   \n",
       "https://nypost.com/2020/11/11/usps-whistleblowe...                            13   \n",
       "https://thetexan.news/limestone-county-individu...                            13   \n",
       "\n",
       "                                                    quote_count_by_community_0  \\\n",
       "url                                                                              \n",
       "https://www.foxnews.com/opinion/tucker-carlson-...                         401   \n",
       "https://www.legislationline.org/download/id/147...                          92   \n",
       "https://www.houstonchronicle.com/politics/texas...                         272   \n",
       "https://nypost.com/2020/11/11/usps-whistleblowe...                          23   \n",
       "https://thetexan.news/limestone-county-individu...                          21   \n",
       "\n",
       "                                                    tweet_count_by_community_1  \\\n",
       "url                                                                              \n",
       "https://www.foxnews.com/opinion/tucker-carlson-...                          27   \n",
       "https://www.legislationline.org/download/id/147...                          30   \n",
       "https://www.houstonchronicle.com/politics/texas...                           8   \n",
       "https://nypost.com/2020/11/11/usps-whistleblowe...                          11   \n",
       "https://thetexan.news/limestone-county-individu...                          41   \n",
       "\n",
       "                                                    retweet_count_by_community_1  \\\n",
       "url                                                                                \n",
       "https://www.foxnews.com/opinion/tucker-carlson-...                          3250   \n",
       "https://www.legislationline.org/download/id/147...                          2021   \n",
       "https://www.houstonchronicle.com/politics/texas...                          1037   \n",
       "https://nypost.com/2020/11/11/usps-whistleblowe...                           648   \n",
       "https://thetexan.news/limestone-county-individu...                          1368   \n",
       "\n",
       "                                                    quote_count_by_community_1  \\\n",
       "url                                                                              \n",
       "https://www.foxnews.com/opinion/tucker-carlson-...                         264   \n",
       "https://www.legislationline.org/download/id/147...                         161   \n",
       "https://www.houstonchronicle.com/politics/texas...                          77   \n",
       "https://nypost.com/2020/11/11/usps-whistleblowe...                          36   \n",
       "https://thetexan.news/limestone-county-individu...                         109   \n",
       "\n",
       "                                                    ...  \\\n",
       "url                                                 ...   \n",
       "https://www.foxnews.com/opinion/tucker-carlson-...  ...   \n",
       "https://www.legislationline.org/download/id/147...  ...   \n",
       "https://www.houstonchronicle.com/politics/texas...  ...   \n",
       "https://nypost.com/2020/11/11/usps-whistleblowe...  ...   \n",
       "https://thetexan.news/limestone-county-individu...  ...   \n",
       "\n",
       "                                                    retweet_count_by_community_3  \\\n",
       "url                                                                                \n",
       "https://www.foxnews.com/opinion/tucker-carlson-...                           345   \n",
       "https://www.legislationline.org/download/id/147...                            25   \n",
       "https://www.houstonchronicle.com/politics/texas...                            74   \n",
       "https://nypost.com/2020/11/11/usps-whistleblowe...                            35   \n",
       "https://thetexan.news/limestone-county-individu...                            17   \n",
       "\n",
       "                                                    quote_count_by_community_3  \\\n",
       "url                                                                              \n",
       "https://www.foxnews.com/opinion/tucker-carlson-...                          39   \n",
       "https://www.legislationline.org/download/id/147...                           2   \n",
       "https://www.houstonchronicle.com/politics/texas...                          15   \n",
       "https://nypost.com/2020/11/11/usps-whistleblowe...                           1   \n",
       "https://thetexan.news/limestone-county-individu...                           3   \n",
       "\n",
       "                                                    tweet_count_by_community_4  \\\n",
       "url                                                                              \n",
       "https://www.foxnews.com/opinion/tucker-carlson-...                           8   \n",
       "https://www.legislationline.org/download/id/147...                           0   \n",
       "https://www.houstonchronicle.com/politics/texas...                           0   \n",
       "https://nypost.com/2020/11/11/usps-whistleblowe...                           0   \n",
       "https://thetexan.news/limestone-county-individu...                           1   \n",
       "\n",
       "                                                    retweet_count_by_community_4  \\\n",
       "url                                                                                \n",
       "https://www.foxnews.com/opinion/tucker-carlson-...                           483   \n",
       "https://www.legislationline.org/download/id/147...                           119   \n",
       "https://www.houstonchronicle.com/politics/texas...                            67   \n",
       "https://nypost.com/2020/11/11/usps-whistleblowe...                            41   \n",
       "https://thetexan.news/limestone-county-individu...                           102   \n",
       "\n",
       "                                                    quote_count_by_community_4  \\\n",
       "url                                                                              \n",
       "https://www.foxnews.com/opinion/tucker-carlson-...                          34   \n",
       "https://www.legislationline.org/download/id/147...                           8   \n",
       "https://www.houstonchronicle.com/politics/texas...                           4   \n",
       "https://nypost.com/2020/11/11/usps-whistleblowe...                           1   \n",
       "https://thetexan.news/limestone-county-individu...                           6   \n",
       "\n",
       "                                                    tweet_count_by_suspended_users  \\\n",
       "url                                                                                  \n",
       "https://www.foxnews.com/opinion/tucker-carlson-...                              62   \n",
       "https://www.legislationline.org/download/id/147...                              26   \n",
       "https://www.houstonchronicle.com/politics/texas...                               3   \n",
       "https://nypost.com/2020/11/11/usps-whistleblowe...                              12   \n",
       "https://thetexan.news/limestone-county-individu...                              30   \n",
       "\n",
       "                                                    retweet_count_by_suspended_users  \\\n",
       "url                                                                                    \n",
       "https://www.foxnews.com/opinion/tucker-carlson-...                              2555   \n",
       "https://www.legislationline.org/download/id/147...                              1793   \n",
       "https://www.houstonchronicle.com/politics/texas...                              1425   \n",
       "https://nypost.com/2020/11/11/usps-whistleblowe...                              1124   \n",
       "https://thetexan.news/limestone-county-individu...                              1385   \n",
       "\n",
       "                                                    quote_count_by_suspended_users  \\\n",
       "url                                                                                  \n",
       "https://www.foxnews.com/opinion/tucker-carlson-...                             305   \n",
       "https://www.legislationline.org/download/id/147...                             139   \n",
       "https://www.houstonchronicle.com/politics/texas...                             106   \n",
       "https://nypost.com/2020/11/11/usps-whistleblowe...                              69   \n",
       "https://thetexan.news/limestone-county-individu...                             138   \n",
       "\n",
       "                                                    retweet_count_by_detractors  \\\n",
       "url                                                                               \n",
       "https://www.foxnews.com/opinion/tucker-carlson-...                           61   \n",
       "https://www.legislationline.org/download/id/147...                           24   \n",
       "https://www.houstonchronicle.com/politics/texas...                          103   \n",
       "https://nypost.com/2020/11/11/usps-whistleblowe...                           13   \n",
       "https://thetexan.news/limestone-county-individu...                           13   \n",
       "\n",
       "                                                    retweet_count_by_promoters  \n",
       "url                                                                             \n",
       "https://www.foxnews.com/opinion/tucker-carlson-...                       11868  \n",
       "https://www.legislationline.org/download/id/147...                        7793  \n",
       "https://www.houstonchronicle.com/politics/texas...                        5109  \n",
       "https://nypost.com/2020/11/11/usps-whistleblowe...                        4063  \n",
       "https://thetexan.news/limestone-county-individu...                        5920  \n",
       "\n",
       "[5 rows x 24 columns]"
      ],
      "text/html": "<div>\n<style scoped>\n    .dataframe tbody tr th:only-of-type {\n        vertical-align: middle;\n    }\n\n    .dataframe tbody tr th {\n        vertical-align: top;\n    }\n\n    .dataframe thead th {\n        text-align: right;\n    }\n</style>\n<table border=\"1\" class=\"dataframe\">\n  <thead>\n    <tr style=\"text-align: right;\">\n      <th></th>\n      <th>domain</th>\n      <th>tweet_count</th>\n      <th>retweet_count_metadata</th>\n      <th>quote_count_metadata</th>\n      <th>tweet_count_by_community_0</th>\n      <th>retweet_count_by_community_0</th>\n      <th>quote_count_by_community_0</th>\n      <th>tweet_count_by_community_1</th>\n      <th>retweet_count_by_community_1</th>\n      <th>quote_count_by_community_1</th>\n      <th>...</th>\n      <th>retweet_count_by_community_3</th>\n      <th>quote_count_by_community_3</th>\n      <th>tweet_count_by_community_4</th>\n      <th>retweet_count_by_community_4</th>\n      <th>quote_count_by_community_4</th>\n      <th>tweet_count_by_suspended_users</th>\n      <th>retweet_count_by_suspended_users</th>\n      <th>quote_count_by_suspended_users</th>\n      <th>retweet_count_by_detractors</th>\n      <th>retweet_count_by_promoters</th>\n    </tr>\n    <tr>\n      <th>url</th>\n      <th></th>\n      <th></th>\n      <th></th>\n      <th></th>\n      <th></th>\n      <th></th>\n      <th></th>\n      <th></th>\n      <th></th>\n      <th></th>\n      <th></th>\n      <th></th>\n      <th></th>\n      <th></th>\n      <th></th>\n      <th></th>\n      <th></th>\n      <th></th>\n      <th></th>\n      <th></th>\n      <th></th>\n    </tr>\n  </thead>\n  <tbody>\n    <tr>\n      <th>https://www.foxnews.com/opinion/tucker-carlson-2020-presidential-election-voter-fraud-dead-voters.amp</th>\n      <td>foxnews.com</td>\n      <td>264</td>\n      <td>41078</td>\n      <td>6543</td>\n      <td>14</td>\n      <td>61</td>\n      <td>401</td>\n      <td>27</td>\n      <td>3250</td>\n      <td>264</td>\n      <td>...</td>\n      <td>345</td>\n      <td>39</td>\n      <td>8</td>\n      <td>483</td>\n      <td>34</td>\n      <td>62</td>\n      <td>2555</td>\n      <td>305</td>\n      <td>61</td>\n      <td>11868</td>\n    </tr>\n    <tr>\n      <th>https://www.legislationline.org/download/id/1472/file/3b50795b2d0374cbef5c29766256.pdf</th>\n      <td>legislationline.org</td>\n      <td>148</td>\n      <td>19221</td>\n      <td>1973</td>\n      <td>0</td>\n      <td>24</td>\n      <td>92</td>\n      <td>30</td>\n      <td>2021</td>\n      <td>161</td>\n      <td>...</td>\n      <td>25</td>\n      <td>2</td>\n      <td>0</td>\n      <td>119</td>\n      <td>8</td>\n      <td>26</td>\n      <td>1793</td>\n      <td>139</td>\n      <td>24</td>\n      <td>7793</td>\n    </tr>\n    <tr>\n      <th>https://www.houstonchronicle.com/politics/texas/article/Texas-Lt-Gov-Dan-Patrick-offers-1-million-15716973.php?utm_campaign=CMS%20Sharing%20Tools%20(Premium)&amp;utm_source=t.co&amp;utm_medium=referral</th>\n      <td>houstonchronicle.com</td>\n      <td>56</td>\n      <td>16627</td>\n      <td>2602</td>\n      <td>13</td>\n      <td>103</td>\n      <td>272</td>\n      <td>8</td>\n      <td>1037</td>\n      <td>77</td>\n      <td>...</td>\n      <td>74</td>\n      <td>15</td>\n      <td>0</td>\n      <td>67</td>\n      <td>4</td>\n      <td>3</td>\n      <td>1425</td>\n      <td>106</td>\n      <td>103</td>\n      <td>5109</td>\n    </tr>\n    <tr>\n      <th>https://nypost.com/2020/11/11/usps-whistleblower-denies-wapo-claim-he-recanted-allegations/?utm_source=twitter_sitebuttons&amp;utm_medium=site%20buttons&amp;utm_campaign=site%20buttons</th>\n      <td>nypost.com</td>\n      <td>85</td>\n      <td>15297</td>\n      <td>983</td>\n      <td>3</td>\n      <td>13</td>\n      <td>23</td>\n      <td>11</td>\n      <td>648</td>\n      <td>36</td>\n      <td>...</td>\n      <td>35</td>\n      <td>1</td>\n      <td>0</td>\n      <td>41</td>\n      <td>1</td>\n      <td>12</td>\n      <td>1124</td>\n      <td>69</td>\n      <td>13</td>\n      <td>4063</td>\n    </tr>\n    <tr>\n      <th>https://thetexan.news/limestone-county-individual-charged-with-134-counts-of-voter-fraud-attorney-general-announces/</th>\n      <td>thetexan.news</td>\n      <td>280</td>\n      <td>14525</td>\n      <td>1459</td>\n      <td>2</td>\n      <td>13</td>\n      <td>21</td>\n      <td>41</td>\n      <td>1368</td>\n      <td>109</td>\n      <td>...</td>\n      <td>17</td>\n      <td>3</td>\n      <td>1</td>\n      <td>102</td>\n      <td>6</td>\n      <td>30</td>\n      <td>1385</td>\n      <td>138</td>\n      <td>13</td>\n      <td>5920</td>\n    </tr>\n  </tbody>\n</table>\n<p>5 rows × 24 columns</p>\n</div>"
     },
     "metadata": {},
     "execution_count": 19
    }
   ],
   "source": [
    "df_url.head()"
   ]
  },
  {
   "cell_type": "code",
   "execution_count": 20,
   "metadata": {},
   "outputs": [],
   "source": [
    "df_youtube_videos.to_pickle(\"../interface/data/top_youtube_videos.pickle\")\n",
    "df_hashtag.to_pickle(\"../interface/data/top_hashtags.pickle\")\n",
    "df_url.to_pickle(\"../interface/data/top_urls.pickle\")"
   ]
  }
 ]
}