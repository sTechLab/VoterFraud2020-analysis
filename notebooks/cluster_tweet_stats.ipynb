{
 "metadata": {
  "language_info": {
   "codemirror_mode": {
    "name": "ipython",
    "version": 3
   },
   "file_extension": ".py",
   "mimetype": "text/x-python",
   "name": "python",
   "nbconvert_exporter": "python",
   "pygments_lexer": "ipython3",
   "version": "3.8.5-final"
  },
  "orig_nbformat": 2,
  "kernelspec": {
   "name": "python3",
   "display_name": "Python 3.8.5 64-bit",
   "metadata": {
    "interpreter": {
     "hash": "a0f90dcbb54bea4e60f894f8fd1d686cc0f74395b4029405cc9f13e0b975e641"
    }
   }
  }
 },
 "nbformat": 4,
 "nbformat_minor": 2,
 "cells": [
  {
   "cell_type": "code",
   "execution_count": 1,
   "metadata": {},
   "outputs": [],
   "source": [
    "import pandas as pd\n",
    "df_recent_tweets =  pd.read_pickle(\"./df_recent_tweets_with_cluster.pickle\")"
   ]
  },
  {
   "cell_type": "code",
   "execution_count": 2,
   "metadata": {},
   "outputs": [
    {
     "output_type": "execute_result",
     "data": {
      "text/plain": [
       "          datastore_id                                               urls  \\\n",
       "0  1327172028709801985  [https://twitter.com/i/web/status/132717202870...   \n",
       "1  1327172032002486273  [https://twitter.com/i/web/status/132717203200...   \n",
       "2  1327172032061173761                                                 []   \n",
       "3  1327172033143316480  [https://www.bbc.co.uk/news/election-us-2020-5...   \n",
       "4  1327172039669665794                                                 []   \n",
       "\n",
       "   hasMedia                   hashtags  retweet_count  quote_count  \\\n",
       "0     False  [auspol, ConcedeNowTrump]              0            0   \n",
       "1     False                         []              0            0   \n",
       "2     False                         []              0            0   \n",
       "3     False                         []              0            0   \n",
       "4      True                         []              0            0   \n",
       "\n",
       "                  user                                               text  \\\n",
       "0           2313341894  @realDonaldTrump \"No evidence of US election f...   \n",
       "1            750121838  @TRUTHandFREED0M @kpolantz Plus the evidence o...   \n",
       "2            546655747                           Hear HEAR @RealDLHughley   \n",
       "3             25709850  US election security officials reject Trump's ...   \n",
       "4  1254057289113317382  The election results themselves are disputed b...   \n",
       "\n",
       "           quote_tweet             timestamp  ... #nomailinvoting  \\\n",
       "0                 None  2020-11-13T08:50:43Z  ...               0   \n",
       "1                 None  2020-11-13T08:50:44Z  ...               0   \n",
       "2  1326904412527276037  2020-11-13T08:50:44Z  ...               0   \n",
       "3                 None  2020-11-13T08:50:45Z  ...               0   \n",
       "4                 None  2020-11-13T08:50:46Z  ...               0   \n",
       "\n",
       "   #ilhanomarballotharvesting  vote by mail fraud  #mailinvoterfraud  \\\n",
       "0                           0                   0                  0   \n",
       "1                           0                   0                  0   \n",
       "2                           0                   0                  0   \n",
       "3                           0                   0                  0   \n",
       "4                           0                   0                  0   \n",
       "\n",
       "   #votebymailfraud  #ilhanomarvoterfraud  #stopgopvoterfraud  \\\n",
       "0                 0                     0                   0   \n",
       "1                 0                     0                   0   \n",
       "2                 0                     0                   0   \n",
       "3                 0                     0                   0   \n",
       "4                 0                     0                   0   \n",
       "\n",
       "   #discardedballots  #hackedvotingmachines  cluster  \n",
       "0                  0                      0        0  \n",
       "1                  0                      0        1  \n",
       "2                  0                      0        0  \n",
       "3                  0                      0        0  \n",
       "4                  0                      0        2  \n",
       "\n",
       "[5 rows x 48 columns]"
      ],
      "text/html": "<div>\n<style scoped>\n    .dataframe tbody tr th:only-of-type {\n        vertical-align: middle;\n    }\n\n    .dataframe tbody tr th {\n        vertical-align: top;\n    }\n\n    .dataframe thead th {\n        text-align: right;\n    }\n</style>\n<table border=\"1\" class=\"dataframe\">\n  <thead>\n    <tr style=\"text-align: right;\">\n      <th></th>\n      <th>datastore_id</th>\n      <th>urls</th>\n      <th>hasMedia</th>\n      <th>hashtags</th>\n      <th>retweet_count</th>\n      <th>quote_count</th>\n      <th>user</th>\n      <th>text</th>\n      <th>quote_tweet</th>\n      <th>timestamp</th>\n      <th>...</th>\n      <th>#nomailinvoting</th>\n      <th>#ilhanomarballotharvesting</th>\n      <th>vote by mail fraud</th>\n      <th>#mailinvoterfraud</th>\n      <th>#votebymailfraud</th>\n      <th>#ilhanomarvoterfraud</th>\n      <th>#stopgopvoterfraud</th>\n      <th>#discardedballots</th>\n      <th>#hackedvotingmachines</th>\n      <th>cluster</th>\n    </tr>\n  </thead>\n  <tbody>\n    <tr>\n      <th>0</th>\n      <td>1327172028709801985</td>\n      <td>[https://twitter.com/i/web/status/132717202870...</td>\n      <td>False</td>\n      <td>[auspol, ConcedeNowTrump]</td>\n      <td>0</td>\n      <td>0</td>\n      <td>2313341894</td>\n      <td>@realDonaldTrump \"No evidence of US election f...</td>\n      <td>None</td>\n      <td>2020-11-13T08:50:43Z</td>\n      <td>...</td>\n      <td>0</td>\n      <td>0</td>\n      <td>0</td>\n      <td>0</td>\n      <td>0</td>\n      <td>0</td>\n      <td>0</td>\n      <td>0</td>\n      <td>0</td>\n      <td>0</td>\n    </tr>\n    <tr>\n      <th>1</th>\n      <td>1327172032002486273</td>\n      <td>[https://twitter.com/i/web/status/132717203200...</td>\n      <td>False</td>\n      <td>[]</td>\n      <td>0</td>\n      <td>0</td>\n      <td>750121838</td>\n      <td>@TRUTHandFREED0M @kpolantz Plus the evidence o...</td>\n      <td>None</td>\n      <td>2020-11-13T08:50:44Z</td>\n      <td>...</td>\n      <td>0</td>\n      <td>0</td>\n      <td>0</td>\n      <td>0</td>\n      <td>0</td>\n      <td>0</td>\n      <td>0</td>\n      <td>0</td>\n      <td>0</td>\n      <td>1</td>\n    </tr>\n    <tr>\n      <th>2</th>\n      <td>1327172032061173761</td>\n      <td>[]</td>\n      <td>False</td>\n      <td>[]</td>\n      <td>0</td>\n      <td>0</td>\n      <td>546655747</td>\n      <td>Hear HEAR @RealDLHughley</td>\n      <td>1326904412527276037</td>\n      <td>2020-11-13T08:50:44Z</td>\n      <td>...</td>\n      <td>0</td>\n      <td>0</td>\n      <td>0</td>\n      <td>0</td>\n      <td>0</td>\n      <td>0</td>\n      <td>0</td>\n      <td>0</td>\n      <td>0</td>\n      <td>0</td>\n    </tr>\n    <tr>\n      <th>3</th>\n      <td>1327172033143316480</td>\n      <td>[https://www.bbc.co.uk/news/election-us-2020-5...</td>\n      <td>False</td>\n      <td>[]</td>\n      <td>0</td>\n      <td>0</td>\n      <td>25709850</td>\n      <td>US election security officials reject Trump's ...</td>\n      <td>None</td>\n      <td>2020-11-13T08:50:45Z</td>\n      <td>...</td>\n      <td>0</td>\n      <td>0</td>\n      <td>0</td>\n      <td>0</td>\n      <td>0</td>\n      <td>0</td>\n      <td>0</td>\n      <td>0</td>\n      <td>0</td>\n      <td>0</td>\n    </tr>\n    <tr>\n      <th>4</th>\n      <td>1327172039669665794</td>\n      <td>[]</td>\n      <td>True</td>\n      <td>[]</td>\n      <td>0</td>\n      <td>0</td>\n      <td>1254057289113317382</td>\n      <td>The election results themselves are disputed b...</td>\n      <td>None</td>\n      <td>2020-11-13T08:50:46Z</td>\n      <td>...</td>\n      <td>0</td>\n      <td>0</td>\n      <td>0</td>\n      <td>0</td>\n      <td>0</td>\n      <td>0</td>\n      <td>0</td>\n      <td>0</td>\n      <td>0</td>\n      <td>2</td>\n    </tr>\n  </tbody>\n</table>\n<p>5 rows × 48 columns</p>\n</div>"
     },
     "metadata": {},
     "execution_count": 2
    }
   ],
   "source": [
    "df_recent_tweets.head()"
   ]
  },
  {
   "cell_type": "code",
   "execution_count": 3,
   "metadata": {},
   "outputs": [],
   "source": [
    "for community in range(5):\n",
    "    community_tweets = df_recent_tweets[df_recent_tweets[\"cluster\"] == community]\n",
    "    print(\"Community\", community)\n",
    "    print(\"Tweets\", community_tweets.shape[0])\n",
    "    print(\"URL Tweets\", (community_tweets[\"urls\"] != []).sum())\n",
    "    print(\"Media tweets\", (community_tweets[\"hasMedia\"] == True).sum())"
   ]
  },
  {
   "cell_type": "code",
   "execution_count": null,
   "metadata": {},
   "outputs": [],
   "source": []
  }
 ]
}