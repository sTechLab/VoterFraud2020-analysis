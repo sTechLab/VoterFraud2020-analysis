{
 "metadata": {
  "language_info": {
   "codemirror_mode": {
    "name": "ipython",
    "version": 3
   },
   "file_extension": ".py",
   "mimetype": "text/x-python",
   "name": "python",
   "nbconvert_exporter": "python",
   "pygments_lexer": "ipython3",
   "version": "3.8.5-final"
  },
  "orig_nbformat": 2,
  "kernelspec": {
   "name": "python3",
   "display_name": "Python 3",
   "language": "python"
  }
 },
 "nbformat": 4,
 "nbformat_minor": 2,
 "cells": [
  {
   "cell_type": "code",
   "execution_count": 1,
   "metadata": {},
   "outputs": [],
   "source": [
    "# Resolve paths from root project directory\n",
    "\n",
    "import os\n",
    "import sys\n",
    "module_path = os.path.abspath(os.path.join('..'))\n",
    "if module_path not in sys.path:\n",
    "    sys.path.append(module_path)\n",
    "import pandas as pd, numpy\n",
    "import pickle\n",
    "\n",
    "def extract_date(timestamp):\n",
    "    date = timestamp[:10]\n",
    "    return date\n",
    "\n",
    "EXPORT_CHUNK_SIZE = 500000\n",
    "\n",
    "def split_dataframe(df, chunk_size = EXPORT_CHUNK_SIZE): \n",
    "    chunks = list()\n",
    "    num_chunks = len(df) // chunk_size + 1\n",
    "    for i in range(num_chunks):\n",
    "        chunks.append(df[i*chunk_size:(i+1)*chunk_size])\n",
    "    return chunks"
   ]
  },
  {
   "source": [
    "## Export Anonymized"
   ],
   "cell_type": "markdown",
   "metadata": {}
  },
  {
   "cell_type": "code",
   "execution_count": 9,
   "metadata": {},
   "outputs": [
    {
     "output_type": "execute_result",
     "data": {
      "text/plain": [
       "         user             timestamp            retweeted   retweetedFrom_user  \\\n",
       "0  3932314393  2020-12-10T20:29:17Z  1337090636344827906  1097618307778150400   \n",
       "1  3932314393  2020-12-12T01:48:31Z  1337549060853665793            364214133   \n",
       "2  3932314393  2020-12-12T17:02:01Z  1337750414779944960   797409551473590272   \n",
       "3  3932314393  2020-12-12T17:48:21Z  1337790419875352576             25073877   \n",
       "4  3932314393  2020-12-15T03:08:36Z  1337935422450769921           4165642155   \n",
       "\n",
       "                                      hashed_user_id  \\\n",
       "0  9f933dd3b27efcb0fe624e12bc26f90aaa4d3981563acf...   \n",
       "1  9f933dd3b27efcb0fe624e12bc26f90aaa4d3981563acf...   \n",
       "2  9f933dd3b27efcb0fe624e12bc26f90aaa4d3981563acf...   \n",
       "3  9f933dd3b27efcb0fe624e12bc26f90aaa4d3981563acf...   \n",
       "4  9f933dd3b27efcb0fe624e12bc26f90aaa4d3981563acf...   \n",
       "\n",
       "                       hashed_retweeted_from_user_id  \n",
       "0  b46d961107aa81e89d2f91f46918305b74c2c657b5e11e...  \n",
       "1  a72356979aa3b759be2d64cb4d9c5da8eb5b22e18788c8...  \n",
       "2  67a43aec4011cd00e56f639167f89fa80768a08b316696...  \n",
       "3  46facbd3bf4ad1d72fc5a4f7e6f1e785deef346e1c8dbe...  \n",
       "4  bf040917a0abb8bbd970b918a4288fc16e10692a32d5ac...  "
      ],
      "text/html": "<div>\n<style scoped>\n    .dataframe tbody tr th:only-of-type {\n        vertical-align: middle;\n    }\n\n    .dataframe tbody tr th {\n        vertical-align: top;\n    }\n\n    .dataframe thead th {\n        text-align: right;\n    }\n</style>\n<table border=\"1\" class=\"dataframe\">\n  <thead>\n    <tr style=\"text-align: right;\">\n      <th></th>\n      <th>user</th>\n      <th>timestamp</th>\n      <th>retweeted</th>\n      <th>retweetedFrom_user</th>\n      <th>hashed_user_id</th>\n      <th>hashed_retweeted_from_user_id</th>\n    </tr>\n  </thead>\n  <tbody>\n    <tr>\n      <th>0</th>\n      <td>3932314393</td>\n      <td>2020-12-10T20:29:17Z</td>\n      <td>1337090636344827906</td>\n      <td>1097618307778150400</td>\n      <td>9f933dd3b27efcb0fe624e12bc26f90aaa4d3981563acf...</td>\n      <td>b46d961107aa81e89d2f91f46918305b74c2c657b5e11e...</td>\n    </tr>\n    <tr>\n      <th>1</th>\n      <td>3932314393</td>\n      <td>2020-12-12T01:48:31Z</td>\n      <td>1337549060853665793</td>\n      <td>364214133</td>\n      <td>9f933dd3b27efcb0fe624e12bc26f90aaa4d3981563acf...</td>\n      <td>a72356979aa3b759be2d64cb4d9c5da8eb5b22e18788c8...</td>\n    </tr>\n    <tr>\n      <th>2</th>\n      <td>3932314393</td>\n      <td>2020-12-12T17:02:01Z</td>\n      <td>1337750414779944960</td>\n      <td>797409551473590272</td>\n      <td>9f933dd3b27efcb0fe624e12bc26f90aaa4d3981563acf...</td>\n      <td>67a43aec4011cd00e56f639167f89fa80768a08b316696...</td>\n    </tr>\n    <tr>\n      <th>3</th>\n      <td>3932314393</td>\n      <td>2020-12-12T17:48:21Z</td>\n      <td>1337790419875352576</td>\n      <td>25073877</td>\n      <td>9f933dd3b27efcb0fe624e12bc26f90aaa4d3981563acf...</td>\n      <td>46facbd3bf4ad1d72fc5a4f7e6f1e785deef346e1c8dbe...</td>\n    </tr>\n    <tr>\n      <th>4</th>\n      <td>3932314393</td>\n      <td>2020-12-15T03:08:36Z</td>\n      <td>1337935422450769921</td>\n      <td>4165642155</td>\n      <td>9f933dd3b27efcb0fe624e12bc26f90aaa4d3981563acf...</td>\n      <td>bf040917a0abb8bbd970b918a4288fc16e10692a32d5ac...</td>\n    </tr>\n  </tbody>\n</table>\n</div>"
     },
     "metadata": {},
     "execution_count": 9
    }
   ],
   "source": [
    "df_retweets = pd.read_pickle('df_retweets_with_hashed_users.pickle')\n",
    "df_retweets.head()"
   ]
  },
  {
   "cell_type": "code",
   "execution_count": 15,
   "metadata": {},
   "outputs": [
    {
     "output_type": "stream",
     "name": "stdout",
     "text": [
      "(25566698, 5)\n"
     ]
    }
   ],
   "source": [
    "df_retweets = df_retweets.set_index(\"retweeted\")\n",
    "print(df_retweets.shape)"
   ]
  },
  {
   "cell_type": "code",
   "execution_count": 10,
   "metadata": {},
   "outputs": [
    {
     "output_type": "execute_result",
     "data": {
      "text/plain": [
       "1790745"
      ]
     },
     "metadata": {},
     "execution_count": 10
    }
   ],
   "source": [
    "df_retweets.user.nunique()"
   ]
  },
  {
   "cell_type": "code",
   "execution_count": 16,
   "metadata": {},
   "outputs": [
    {
     "output_type": "execute_result",
     "data": {
      "text/plain": [
       "                           user             timestamp   retweetedFrom_user  \\\n",
       "retweeted                                                                    \n",
       "1337090636344827906  3932314393  2020-12-10T20:29:17Z  1097618307778150400   \n",
       "1337549060853665793  3932314393  2020-12-12T01:48:31Z            364214133   \n",
       "1337750414779944960  3932314393  2020-12-12T17:02:01Z   797409551473590272   \n",
       "1337790419875352576  3932314393  2020-12-12T17:48:21Z             25073877   \n",
       "1337935422450769921  3932314393  2020-12-15T03:08:36Z           4165642155   \n",
       "\n",
       "                                                        hashed_user_id  \\\n",
       "retweeted                                                                \n",
       "1337090636344827906  9f933dd3b27efcb0fe624e12bc26f90aaa4d3981563acf...   \n",
       "1337549060853665793  9f933dd3b27efcb0fe624e12bc26f90aaa4d3981563acf...   \n",
       "1337750414779944960  9f933dd3b27efcb0fe624e12bc26f90aaa4d3981563acf...   \n",
       "1337790419875352576  9f933dd3b27efcb0fe624e12bc26f90aaa4d3981563acf...   \n",
       "1337935422450769921  9f933dd3b27efcb0fe624e12bc26f90aaa4d3981563acf...   \n",
       "\n",
       "                                         hashed_retweeted_from_user_id  \\\n",
       "retweeted                                                                \n",
       "1337090636344827906  b46d961107aa81e89d2f91f46918305b74c2c657b5e11e...   \n",
       "1337549060853665793  a72356979aa3b759be2d64cb4d9c5da8eb5b22e18788c8...   \n",
       "1337750414779944960  67a43aec4011cd00e56f639167f89fa80768a08b316696...   \n",
       "1337790419875352576  46facbd3bf4ad1d72fc5a4f7e6f1e785deef346e1c8dbe...   \n",
       "1337935422450769921  bf040917a0abb8bbd970b918a4288fc16e10692a32d5ac...   \n",
       "\n",
       "                           date  \n",
       "retweeted                        \n",
       "1337090636344827906  2020-12-10  \n",
       "1337549060853665793  2020-12-12  \n",
       "1337750414779944960  2020-12-12  \n",
       "1337790419875352576  2020-12-12  \n",
       "1337935422450769921  2020-12-15  "
      ],
      "text/html": "<div>\n<style scoped>\n    .dataframe tbody tr th:only-of-type {\n        vertical-align: middle;\n    }\n\n    .dataframe tbody tr th {\n        vertical-align: top;\n    }\n\n    .dataframe thead th {\n        text-align: right;\n    }\n</style>\n<table border=\"1\" class=\"dataframe\">\n  <thead>\n    <tr style=\"text-align: right;\">\n      <th></th>\n      <th>user</th>\n      <th>timestamp</th>\n      <th>retweetedFrom_user</th>\n      <th>hashed_user_id</th>\n      <th>hashed_retweeted_from_user_id</th>\n      <th>date</th>\n    </tr>\n    <tr>\n      <th>retweeted</th>\n      <th></th>\n      <th></th>\n      <th></th>\n      <th></th>\n      <th></th>\n      <th></th>\n    </tr>\n  </thead>\n  <tbody>\n    <tr>\n      <th>1337090636344827906</th>\n      <td>3932314393</td>\n      <td>2020-12-10T20:29:17Z</td>\n      <td>1097618307778150400</td>\n      <td>9f933dd3b27efcb0fe624e12bc26f90aaa4d3981563acf...</td>\n      <td>b46d961107aa81e89d2f91f46918305b74c2c657b5e11e...</td>\n      <td>2020-12-10</td>\n    </tr>\n    <tr>\n      <th>1337549060853665793</th>\n      <td>3932314393</td>\n      <td>2020-12-12T01:48:31Z</td>\n      <td>364214133</td>\n      <td>9f933dd3b27efcb0fe624e12bc26f90aaa4d3981563acf...</td>\n      <td>a72356979aa3b759be2d64cb4d9c5da8eb5b22e18788c8...</td>\n      <td>2020-12-12</td>\n    </tr>\n    <tr>\n      <th>1337750414779944960</th>\n      <td>3932314393</td>\n      <td>2020-12-12T17:02:01Z</td>\n      <td>797409551473590272</td>\n      <td>9f933dd3b27efcb0fe624e12bc26f90aaa4d3981563acf...</td>\n      <td>67a43aec4011cd00e56f639167f89fa80768a08b316696...</td>\n      <td>2020-12-12</td>\n    </tr>\n    <tr>\n      <th>1337790419875352576</th>\n      <td>3932314393</td>\n      <td>2020-12-12T17:48:21Z</td>\n      <td>25073877</td>\n      <td>9f933dd3b27efcb0fe624e12bc26f90aaa4d3981563acf...</td>\n      <td>46facbd3bf4ad1d72fc5a4f7e6f1e785deef346e1c8dbe...</td>\n      <td>2020-12-12</td>\n    </tr>\n    <tr>\n      <th>1337935422450769921</th>\n      <td>3932314393</td>\n      <td>2020-12-15T03:08:36Z</td>\n      <td>4165642155</td>\n      <td>9f933dd3b27efcb0fe624e12bc26f90aaa4d3981563acf...</td>\n      <td>bf040917a0abb8bbd970b918a4288fc16e10692a32d5ac...</td>\n      <td>2020-12-15</td>\n    </tr>\n  </tbody>\n</table>\n</div>"
     },
     "metadata": {},
     "execution_count": 16
    }
   ],
   "source": [
    "df_retweets[\"date\"] = df_retweets[\"timestamp\"].apply(lambda t: extract_date(t))\n",
    "df_retweets.head()"
   ]
  },
  {
   "cell_type": "code",
   "execution_count": 18,
   "metadata": {},
   "outputs": [
    {
     "output_type": "stream",
     "name": "stdout",
     "text": [
      "2020-11-13\n",
      "2020-12-04\n",
      "2020-11-07\n",
      "2020-11-30\n",
      "2020-11-12\n",
      "2020-11-08\n",
      "2020-12-02\n",
      "2020-11-05\n",
      "2020-12-01\n",
      "2020-11-15\n",
      "2020-11-29\n",
      "2020-11-18\n",
      "2020-11-19\n",
      "2020-11-17\n",
      "2020-12-03\n",
      "2020-12-14\n",
      "2020-11-06\n",
      "2020-11-11\n",
      "2020-12-06\n",
      "2020-11-20\n",
      "2020-11-21\n",
      "2020-11-14\n",
      "2020-11-10\n",
      "2020-11-25\n",
      "2020-12-10\n",
      "2020-11-09\n",
      "2020-12-05\n",
      "2020-11-04\n",
      "2020-11-26\n",
      "2020-11-24\n",
      "2020-11-27\n",
      "2020-11-16\n",
      "2020-11-22\n",
      "2020-12-07\n",
      "2020-12-12\n",
      "2020-11-28\n",
      "2020-12-15\n",
      "2020-12-08\n",
      "2020-11-23\n",
      "2020-12-13\n",
      "2020-12-09\n",
      "2020-12-11\n",
      "2020-11-03\n",
      "2020-10-25\n",
      "2020-12-16\n",
      "2020-10-28\n",
      "2020-11-02\n",
      "2020-10-27\n",
      "2020-11-01\n",
      "2020-10-31\n",
      "2020-10-24\n",
      "2020-10-29\n",
      "2020-10-30\n",
      "2020-10-23\n",
      "2020-10-26\n"
     ]
    }
   ],
   "source": [
    "dates = df_retweets.value_counts(\"date\").index\n",
    "for d in dates:\n",
    "    print(d)\n",
    "    date_retweets = df_retweets[df_retweets[\"date\"] == d].rename(columns={\"user\": \"user_id\"})\n",
    "    date_retweets[[\"hashed_user_id\", \"timestamp\"]].to_csv(\"../data/data-share/anonymized/retweets/retweets-{}.csv\".format(d), index_label=\"retweeted_id\")\n",
    "    date_retweets[[\"user_id\", \"timestamp\"]].to_csv(\"../data/data-share/hydrated/retweets/retweets-{}.csv\".format(d), index_label=\"retweeted_id\")"
   ]
  },
  {
   "cell_type": "code",
   "execution_count": 2,
   "metadata": {},
   "outputs": [
    {
     "output_type": "execute_result",
     "data": {
      "text/plain": [
       "                     user_community user_active_status  \\\n",
       "tweet_id                                                 \n",
       "1319685030826938369               2            deleted   \n",
       "1319685039714717696            <NA>             active   \n",
       "1319685089375158274            <NA>             active   \n",
       "1319685151031500801            <NA>          suspended   \n",
       "1319685176436396035               2            deleted   \n",
       "\n",
       "                     retweet_count_metadata  quote_count_metadata  \\\n",
       "tweet_id                                                            \n",
       "1319685030826938369                       0                     0   \n",
       "1319685039714717696                       0                     0   \n",
       "1319685089375158274                       0                     0   \n",
       "1319685151031500801                       0                     0   \n",
       "1319685176436396035                       0                     0   \n",
       "\n",
       "                     retweet_count_by_community_0  quote_count_by_community_0  \\\n",
       "tweet_id                                                                        \n",
       "1319685030826938369                             0                           0   \n",
       "1319685039714717696                             0                           0   \n",
       "1319685089375158274                             0                           0   \n",
       "1319685151031500801                             0                           0   \n",
       "1319685176436396035                             0                           0   \n",
       "\n",
       "                     retweet_count_by_community_1  quote_count_by_community_1  \\\n",
       "tweet_id                                                                        \n",
       "1319685030826938369                             0                           0   \n",
       "1319685039714717696                             0                           0   \n",
       "1319685089375158274                             0                           0   \n",
       "1319685151031500801                             0                           0   \n",
       "1319685176436396035                             0                           0   \n",
       "\n",
       "                     retweet_count_by_community_2  quote_count_by_community_2  \\\n",
       "tweet_id                                                                        \n",
       "1319685030826938369                             0                           0   \n",
       "1319685039714717696                             0                           0   \n",
       "1319685089375158274                             0                           0   \n",
       "1319685151031500801                             0                           0   \n",
       "1319685176436396035                             0                           0   \n",
       "\n",
       "                     ...                                     hashed_user_id  \\\n",
       "tweet_id             ...                                                      \n",
       "1319685030826938369  ...  3f65b87e850f0e814eacfe13f0f39c94ed61d4b6ea170d...   \n",
       "1319685039714717696  ...  e456f60433562381b2b7dd60f3777aa9c7947b2861c5b2...   \n",
       "1319685089375158274  ...  7cd7abda63b7a37d1d968ae84bc78c2c1eaa04a136f9e8...   \n",
       "1319685151031500801  ...  f046a4a29c697d78bb89fcf256b44dca02015fb490140c...   \n",
       "1319685176436396035  ...  3f65b87e850f0e814eacfe13f0f39c94ed61d4b6ea170d...   \n",
       "\n",
       "                             quote_tweet      hashtags  hasMedia  \\\n",
       "tweet_id                                                           \n",
       "1319685030826938369  1317209207045820416  [VoterFraud]     False   \n",
       "1319685039714717696                 None            []     False   \n",
       "1319685089375158274                 None            []     False   \n",
       "1319685151031500801                 None            []      True   \n",
       "1319685176436396035  1316835915369787392  [VoterFraud]     False   \n",
       "\n",
       "                     retweet_count  quote_count             timestamp  \\\n",
       "tweet_id                                                                \n",
       "1319685030826938369              0            0  2020-10-23T17:00:04Z   \n",
       "1319685039714717696              0            0  2020-10-23T17:00:06Z   \n",
       "1319685089375158274              0            0  2020-10-23T17:00:18Z   \n",
       "1319685151031500801              0            0  2020-10-23T17:00:33Z   \n",
       "1319685176436396035              0            0  2020-10-23T17:00:39Z   \n",
       "\n",
       "                                                                  text  \\\n",
       "tweet_id                                                                 \n",
       "1319685030826938369  This can’t be true - Voting “expert” &amp; Lib...   \n",
       "1319685039714717696  U.S. Attorney Scott W. Brady has appointed two...   \n",
       "1319685089375158274  @KrisKobach1787 Kris, I applaud your trying to...   \n",
       "1319685151031500801  @IlhanMN And your actions like voter fraud sho...   \n",
       "1319685176436396035  This can’t be true - Voting “expert” &amp; Lib...   \n",
       "\n",
       "                                                                  urls  \\\n",
       "tweet_id                                                                 \n",
       "1319685030826938369  [https://twitter.com/i/web/status/131968503082...   \n",
       "1319685039714717696  [https://twitter.com/i/web/status/131968503971...   \n",
       "1319685089375158274  [https://twitter.com/i/web/status/131968508937...   \n",
       "1319685151031500801                                                 []   \n",
       "1319685176436396035  [https://twitter.com/i/web/status/131968517643...   \n",
       "\n",
       "                    expanded_urls  \n",
       "tweet_id                           \n",
       "1319685030826938369            []  \n",
       "1319685039714717696            []  \n",
       "1319685089375158274            []  \n",
       "1319685151031500801            []  \n",
       "1319685176436396035            []  \n",
       "\n",
       "[5 rows x 27 columns]"
      ],
      "text/html": "<div>\n<style scoped>\n    .dataframe tbody tr th:only-of-type {\n        vertical-align: middle;\n    }\n\n    .dataframe tbody tr th {\n        vertical-align: top;\n    }\n\n    .dataframe thead th {\n        text-align: right;\n    }\n</style>\n<table border=\"1\" class=\"dataframe\">\n  <thead>\n    <tr style=\"text-align: right;\">\n      <th></th>\n      <th>user_community</th>\n      <th>user_active_status</th>\n      <th>retweet_count_metadata</th>\n      <th>quote_count_metadata</th>\n      <th>retweet_count_by_community_0</th>\n      <th>quote_count_by_community_0</th>\n      <th>retweet_count_by_community_1</th>\n      <th>quote_count_by_community_1</th>\n      <th>retweet_count_by_community_2</th>\n      <th>quote_count_by_community_2</th>\n      <th>...</th>\n      <th>hashed_user_id</th>\n      <th>quote_tweet</th>\n      <th>hashtags</th>\n      <th>hasMedia</th>\n      <th>retweet_count</th>\n      <th>quote_count</th>\n      <th>timestamp</th>\n      <th>text</th>\n      <th>urls</th>\n      <th>expanded_urls</th>\n    </tr>\n    <tr>\n      <th>tweet_id</th>\n      <th></th>\n      <th></th>\n      <th></th>\n      <th></th>\n      <th></th>\n      <th></th>\n      <th></th>\n      <th></th>\n      <th></th>\n      <th></th>\n      <th></th>\n      <th></th>\n      <th></th>\n      <th></th>\n      <th></th>\n      <th></th>\n      <th></th>\n      <th></th>\n      <th></th>\n      <th></th>\n      <th></th>\n    </tr>\n  </thead>\n  <tbody>\n    <tr>\n      <th>1319685030826938369</th>\n      <td>2</td>\n      <td>deleted</td>\n      <td>0</td>\n      <td>0</td>\n      <td>0</td>\n      <td>0</td>\n      <td>0</td>\n      <td>0</td>\n      <td>0</td>\n      <td>0</td>\n      <td>...</td>\n      <td>3f65b87e850f0e814eacfe13f0f39c94ed61d4b6ea170d...</td>\n      <td>1317209207045820416</td>\n      <td>[VoterFraud]</td>\n      <td>False</td>\n      <td>0</td>\n      <td>0</td>\n      <td>2020-10-23T17:00:04Z</td>\n      <td>This can’t be true - Voting “expert” &amp;amp; Lib...</td>\n      <td>[https://twitter.com/i/web/status/131968503082...</td>\n      <td>[]</td>\n    </tr>\n    <tr>\n      <th>1319685039714717696</th>\n      <td>&lt;NA&gt;</td>\n      <td>active</td>\n      <td>0</td>\n      <td>0</td>\n      <td>0</td>\n      <td>0</td>\n      <td>0</td>\n      <td>0</td>\n      <td>0</td>\n      <td>0</td>\n      <td>...</td>\n      <td>e456f60433562381b2b7dd60f3777aa9c7947b2861c5b2...</td>\n      <td>None</td>\n      <td>[]</td>\n      <td>False</td>\n      <td>0</td>\n      <td>0</td>\n      <td>2020-10-23T17:00:06Z</td>\n      <td>U.S. Attorney Scott W. Brady has appointed two...</td>\n      <td>[https://twitter.com/i/web/status/131968503971...</td>\n      <td>[]</td>\n    </tr>\n    <tr>\n      <th>1319685089375158274</th>\n      <td>&lt;NA&gt;</td>\n      <td>active</td>\n      <td>0</td>\n      <td>0</td>\n      <td>0</td>\n      <td>0</td>\n      <td>0</td>\n      <td>0</td>\n      <td>0</td>\n      <td>0</td>\n      <td>...</td>\n      <td>7cd7abda63b7a37d1d968ae84bc78c2c1eaa04a136f9e8...</td>\n      <td>None</td>\n      <td>[]</td>\n      <td>False</td>\n      <td>0</td>\n      <td>0</td>\n      <td>2020-10-23T17:00:18Z</td>\n      <td>@KrisKobach1787 Kris, I applaud your trying to...</td>\n      <td>[https://twitter.com/i/web/status/131968508937...</td>\n      <td>[]</td>\n    </tr>\n    <tr>\n      <th>1319685151031500801</th>\n      <td>&lt;NA&gt;</td>\n      <td>suspended</td>\n      <td>0</td>\n      <td>0</td>\n      <td>0</td>\n      <td>0</td>\n      <td>0</td>\n      <td>0</td>\n      <td>0</td>\n      <td>0</td>\n      <td>...</td>\n      <td>f046a4a29c697d78bb89fcf256b44dca02015fb490140c...</td>\n      <td>None</td>\n      <td>[]</td>\n      <td>True</td>\n      <td>0</td>\n      <td>0</td>\n      <td>2020-10-23T17:00:33Z</td>\n      <td>@IlhanMN And your actions like voter fraud sho...</td>\n      <td>[]</td>\n      <td>[]</td>\n    </tr>\n    <tr>\n      <th>1319685176436396035</th>\n      <td>2</td>\n      <td>deleted</td>\n      <td>0</td>\n      <td>0</td>\n      <td>0</td>\n      <td>0</td>\n      <td>0</td>\n      <td>0</td>\n      <td>0</td>\n      <td>0</td>\n      <td>...</td>\n      <td>3f65b87e850f0e814eacfe13f0f39c94ed61d4b6ea170d...</td>\n      <td>1316835915369787392</td>\n      <td>[VoterFraud]</td>\n      <td>False</td>\n      <td>0</td>\n      <td>0</td>\n      <td>2020-10-23T17:00:39Z</td>\n      <td>This can’t be true - Voting “expert” &amp;amp; Lib...</td>\n      <td>[https://twitter.com/i/web/status/131968517643...</td>\n      <td>[]</td>\n    </tr>\n  </tbody>\n</table>\n<p>5 rows × 27 columns</p>\n</div>"
     },
     "metadata": {},
     "execution_count": 2
    }
   ],
   "source": [
    "df_tweets = pd.read_pickle('df_tweets_joined.pickle').astype({\"user_community\": \"Int64\"})\n",
    "df_tweets.head()"
   ]
  },
  {
   "cell_type": "code",
   "execution_count": 3,
   "metadata": {},
   "outputs": [
    {
     "output_type": "execute_result",
     "data": {
      "text/plain": [
       "Index(['user_community', 'user_active_status', 'retweet_count_metadata',\n",
       "       'quote_count_metadata', 'retweet_count_by_community_0',\n",
       "       'quote_count_by_community_0', 'retweet_count_by_community_1',\n",
       "       'quote_count_by_community_1', 'retweet_count_by_community_2',\n",
       "       'quote_count_by_community_2', 'retweet_count_by_community_3',\n",
       "       'quote_count_by_community_3', 'retweet_count_by_community_4',\n",
       "       'quote_count_by_community_4', 'retweet_count_by_suspended_users',\n",
       "       'quote_count_by_suspended_users', 'user', 'hashed_user_id',\n",
       "       'quote_tweet', 'hashtags', 'hasMedia', 'retweet_count', 'quote_count',\n",
       "       'timestamp', 'text', 'urls', 'expanded_urls'],\n",
       "      dtype='object')"
      ]
     },
     "metadata": {},
     "execution_count": 3
    }
   ],
   "source": [
    "df_tweets.columns"
   ]
  },
  {
   "cell_type": "code",
   "execution_count": 4,
   "metadata": {},
   "outputs": [],
   "source": [
    "df_tweets[\"date\"] = df_tweets[\"timestamp\"].apply(lambda t: extract_date(t))"
   ]
  },
  {
   "cell_type": "code",
   "execution_count": 5,
   "metadata": {},
   "outputs": [
    {
     "output_type": "stream",
     "name": "stdout",
     "text": [
      "2020-11-08\n",
      "2020-11-07\n",
      "2020-11-04\n",
      "2020-11-09\n",
      "2020-11-12\n",
      "2020-11-13\n",
      "2020-11-05\n",
      "2020-11-06\n",
      "2020-11-11\n",
      "2020-11-20\n",
      "2020-11-14\n",
      "2020-12-03\n",
      "2020-12-04\n",
      "2020-11-15\n",
      "2020-11-10\n",
      "2020-12-02\n",
      "2020-11-18\n",
      "2020-12-01\n",
      "2020-12-12\n",
      "2020-11-19\n",
      "2020-11-30\n",
      "2020-12-06\n",
      "2020-11-17\n",
      "2020-12-05\n",
      "2020-11-22\n",
      "2020-11-16\n",
      "2020-11-28\n",
      "2020-11-21\n",
      "2020-12-10\n",
      "2020-11-25\n",
      "2020-11-29\n",
      "2020-11-24\n",
      "2020-11-23\n",
      "2020-11-27\n",
      "2020-11-26\n",
      "2020-12-15\n",
      "2020-12-09\n",
      "2020-12-07\n",
      "2020-12-08\n",
      "2020-12-14\n",
      "2020-12-11\n",
      "2020-12-13\n",
      "2020-11-03\n",
      "2020-10-25\n",
      "2020-12-16\n",
      "2020-11-02\n",
      "2020-10-28\n",
      "2020-11-01\n",
      "2020-10-31\n",
      "2020-10-24\n",
      "2020-10-27\n",
      "2020-10-29\n",
      "2020-10-30\n",
      "2020-10-23\n",
      "2020-10-26\n"
     ]
    }
   ],
   "source": [
    "dates = df_tweets.value_counts(\"date\").index\n",
    "for d in dates:\n",
    "    print(d)\n",
    "    date_tweets = df_tweets[df_tweets[\"date\"] == d].rename(columns={\"user\": \"user_id\", \"hasMedia\": \"has_media\", \"expanded_urls\": \"resolved_urls\"})\n",
    "    # fully hydrated\n",
    "    (date_tweets\n",
    "        .drop([\"hashed_user_id\", \"retweet_count\", \"quote_count\", \"date\"], axis=1)\n",
    "        .to_csv(\"../data/data-share/hydrated/tweets/tweets-{}.csv\".format(d), index_label=\"tweet_id\", encoding=\"utf-8\"))\n",
    "    # anonymized\n",
    "    (date_tweets\n",
    "        .drop([\"user_id\", \"retweet_count\", \"quote_count\", \"date\"], axis=1)\n",
    "        .to_csv(\"../data/data-share/anonymized/tweets/tweets-{}.csv\".format(d), index_label=\"tweet_id\", encoding=\"utf-8\"))"
   ]
  },
  {
   "cell_type": "code",
   "execution_count": 3,
   "metadata": {},
   "outputs": [
    {
     "output_type": "execute_result",
     "data": {
      "text/plain": [
       "         user_community user_active_status  \\\n",
       "user_id                                      \n",
       "6590                  0          suspended   \n",
       "10597              <NA>            deleted   \n",
       "16943              <NA>          suspended   \n",
       "29803              <NA>          suspended   \n",
       "68093                 0          suspended   \n",
       "\n",
       "         closeness_centrality_detractor_cluster  \\\n",
       "user_id                                           \n",
       "6590                                        NaN   \n",
       "10597                                       NaN   \n",
       "16943                                       NaN   \n",
       "29803                                       NaN   \n",
       "68093                                  0.076194   \n",
       "\n",
       "         closeness_centrality_promoter_cluster  retweet_count_by_community_0  \\\n",
       "user_id                                                                        \n",
       "6590                                       NaN                             0   \n",
       "10597                                      NaN                             0   \n",
       "16943                                      NaN                             0   \n",
       "29803                                      NaN                             0   \n",
       "68093                                      NaN                            16   \n",
       "\n",
       "         quote_count_by_community_0  retweet_count_by_community_1  \\\n",
       "user_id                                                             \n",
       "6590                              0                             0   \n",
       "10597                             0                             0   \n",
       "16943                             0                             0   \n",
       "29803                             0                             0   \n",
       "68093                             0                             0   \n",
       "\n",
       "         quote_count_by_community_1  retweet_count_by_community_2  \\\n",
       "user_id                                                             \n",
       "6590                              0                             0   \n",
       "10597                             0                             0   \n",
       "16943                             0                             0   \n",
       "29803                             0                             0   \n",
       "68093                             0                             0   \n",
       "\n",
       "         quote_count_by_community_2  ...  quote_count_by_community_4  \\\n",
       "user_id                              ...                               \n",
       "6590                              0  ...                           0   \n",
       "10597                             0  ...                           0   \n",
       "16943                             0  ...                           0   \n",
       "29803                             0  ...                           0   \n",
       "68093                             0  ...                           0   \n",
       "\n",
       "         retweet_count_by_suspended_users  quote_count_by_suspended_users  \\\n",
       "user_id                                                                     \n",
       "6590                                    0                               0   \n",
       "10597                                   0                               0   \n",
       "16943                                   0                               0   \n",
       "29803                                   0                               0   \n",
       "68093                                   1                               0   \n",
       "\n",
       "                                             name     handle  \\\n",
       "user_id                                                        \n",
       "6590                                    CyberBenB  cyberbenb   \n",
       "10597                            Ferdinand Reinke   reinkefj   \n",
       "16943                               Drew Robinson      ocean   \n",
       "29803    Nichelle “On Neida and Mildred” Stephens      niche   \n",
       "68093                                     Margery    margery   \n",
       "\n",
       "                   created_at verified  \\\n",
       "user_id                                  \n",
       "6590     2006-09-21T18:27:47Z    False   \n",
       "10597    2006-10-26T14:18:36Z    False   \n",
       "16943    2006-11-23T03:21:03Z    False   \n",
       "29803    2006-11-29T06:57:41Z    False   \n",
       "68093    2006-12-14T18:41:19Z    False   \n",
       "\n",
       "                                               description followers_count  \\\n",
       "user_id                                                                      \n",
       "6590     He/They - OKC/Spatz cult Survivor | info activ...            3527   \n",
       "10597    A fat old white guy injineer who is in pursuit...              52   \n",
       "16943    Relentless pursuer of Quality. Full stack deve...            1320   \n",
       "29803    Trust Black Women.   \\nEmail me for press inqu...            8563   \n",
       "68093      Carpe Diem. Despise and loathe Trump  #Resister            1696   \n",
       "\n",
       "                     location  \n",
       "user_id                        \n",
       "6590     🖤❤️💛🐧🏴‍☠️😷🏳️‍🌈☯️♻️🌍📢  \n",
       "10597                   08824  \n",
       "16943    Perth, WA, Australia  \n",
       "29803            Savannah, GA  \n",
       "68093      Massachusetts, USA  \n",
       "\n",
       "[5 rows x 23 columns]"
      ],
      "text/html": "<div>\n<style scoped>\n    .dataframe tbody tr th:only-of-type {\n        vertical-align: middle;\n    }\n\n    .dataframe tbody tr th {\n        vertical-align: top;\n    }\n\n    .dataframe thead th {\n        text-align: right;\n    }\n</style>\n<table border=\"1\" class=\"dataframe\">\n  <thead>\n    <tr style=\"text-align: right;\">\n      <th></th>\n      <th>user_community</th>\n      <th>user_active_status</th>\n      <th>closeness_centrality_detractor_cluster</th>\n      <th>closeness_centrality_promoter_cluster</th>\n      <th>retweet_count_by_community_0</th>\n      <th>quote_count_by_community_0</th>\n      <th>retweet_count_by_community_1</th>\n      <th>quote_count_by_community_1</th>\n      <th>retweet_count_by_community_2</th>\n      <th>quote_count_by_community_2</th>\n      <th>...</th>\n      <th>quote_count_by_community_4</th>\n      <th>retweet_count_by_suspended_users</th>\n      <th>quote_count_by_suspended_users</th>\n      <th>name</th>\n      <th>handle</th>\n      <th>created_at</th>\n      <th>verified</th>\n      <th>description</th>\n      <th>followers_count</th>\n      <th>location</th>\n    </tr>\n    <tr>\n      <th>user_id</th>\n      <th></th>\n      <th></th>\n      <th></th>\n      <th></th>\n      <th></th>\n      <th></th>\n      <th></th>\n      <th></th>\n      <th></th>\n      <th></th>\n      <th></th>\n      <th></th>\n      <th></th>\n      <th></th>\n      <th></th>\n      <th></th>\n      <th></th>\n      <th></th>\n      <th></th>\n      <th></th>\n      <th></th>\n    </tr>\n  </thead>\n  <tbody>\n    <tr>\n      <th>6590</th>\n      <td>0</td>\n      <td>suspended</td>\n      <td>NaN</td>\n      <td>NaN</td>\n      <td>0</td>\n      <td>0</td>\n      <td>0</td>\n      <td>0</td>\n      <td>0</td>\n      <td>0</td>\n      <td>...</td>\n      <td>0</td>\n      <td>0</td>\n      <td>0</td>\n      <td>CyberBenB</td>\n      <td>cyberbenb</td>\n      <td>2006-09-21T18:27:47Z</td>\n      <td>False</td>\n      <td>He/They - OKC/Spatz cult Survivor | info activ...</td>\n      <td>3527</td>\n      <td>🖤❤️💛🐧🏴‍☠️😷🏳️‍🌈☯️♻️🌍📢</td>\n    </tr>\n    <tr>\n      <th>10597</th>\n      <td>&lt;NA&gt;</td>\n      <td>deleted</td>\n      <td>NaN</td>\n      <td>NaN</td>\n      <td>0</td>\n      <td>0</td>\n      <td>0</td>\n      <td>0</td>\n      <td>0</td>\n      <td>0</td>\n      <td>...</td>\n      <td>0</td>\n      <td>0</td>\n      <td>0</td>\n      <td>Ferdinand Reinke</td>\n      <td>reinkefj</td>\n      <td>2006-10-26T14:18:36Z</td>\n      <td>False</td>\n      <td>A fat old white guy injineer who is in pursuit...</td>\n      <td>52</td>\n      <td>08824</td>\n    </tr>\n    <tr>\n      <th>16943</th>\n      <td>&lt;NA&gt;</td>\n      <td>suspended</td>\n      <td>NaN</td>\n      <td>NaN</td>\n      <td>0</td>\n      <td>0</td>\n      <td>0</td>\n      <td>0</td>\n      <td>0</td>\n      <td>0</td>\n      <td>...</td>\n      <td>0</td>\n      <td>0</td>\n      <td>0</td>\n      <td>Drew Robinson</td>\n      <td>ocean</td>\n      <td>2006-11-23T03:21:03Z</td>\n      <td>False</td>\n      <td>Relentless pursuer of Quality. Full stack deve...</td>\n      <td>1320</td>\n      <td>Perth, WA, Australia</td>\n    </tr>\n    <tr>\n      <th>29803</th>\n      <td>&lt;NA&gt;</td>\n      <td>suspended</td>\n      <td>NaN</td>\n      <td>NaN</td>\n      <td>0</td>\n      <td>0</td>\n      <td>0</td>\n      <td>0</td>\n      <td>0</td>\n      <td>0</td>\n      <td>...</td>\n      <td>0</td>\n      <td>0</td>\n      <td>0</td>\n      <td>Nichelle “On Neida and Mildred” Stephens</td>\n      <td>niche</td>\n      <td>2006-11-29T06:57:41Z</td>\n      <td>False</td>\n      <td>Trust Black Women.   \\nEmail me for press inqu...</td>\n      <td>8563</td>\n      <td>Savannah, GA</td>\n    </tr>\n    <tr>\n      <th>68093</th>\n      <td>0</td>\n      <td>suspended</td>\n      <td>0.076194</td>\n      <td>NaN</td>\n      <td>16</td>\n      <td>0</td>\n      <td>0</td>\n      <td>0</td>\n      <td>0</td>\n      <td>0</td>\n      <td>...</td>\n      <td>0</td>\n      <td>1</td>\n      <td>0</td>\n      <td>Margery</td>\n      <td>margery</td>\n      <td>2006-12-14T18:41:19Z</td>\n      <td>False</td>\n      <td>Carpe Diem. Despise and loathe Trump  #Resister</td>\n      <td>1696</td>\n      <td>Massachusetts, USA</td>\n    </tr>\n  </tbody>\n</table>\n<p>5 rows × 23 columns</p>\n</div>"
     },
     "metadata": {},
     "execution_count": 3
    }
   ],
   "source": [
    "df_users = pd.read_pickle('df_users_all_fields.pickle').astype({\"user_community\": \"Int64\", \"followers_count\": \"Int64\"})\n",
    "df_users.head()"
   ]
  },
  {
   "cell_type": "code",
   "execution_count": 6,
   "metadata": {},
   "outputs": [
    {
     "output_type": "stream",
     "name": "stdout",
     "text": [
      "2343266\n"
     ]
    },
    {
     "output_type": "execute_result",
     "data": {
      "text/plain": [
       "31872"
      ]
     },
     "metadata": {},
     "execution_count": 6
    }
   ],
   "source": [
    "active_users = df_users[df_users.user_active_status == \"active\"]\n",
    "print(len(active_users))\n",
    "active_users.name.isnull().sum()"
   ]
  },
  {
   "cell_type": "code",
   "execution_count": 7,
   "metadata": {},
   "outputs": [
    {
     "output_type": "execute_result",
     "data": {
      "text/plain": [
       "Index(['user_community', 'user_active_status',\n",
       "       'closeness_centrality_detractor_cluster',\n",
       "       'closeness_centrality_promoter_cluster', 'retweet_count_by_community_0',\n",
       "       'quote_count_by_community_0', 'retweet_count_by_community_1',\n",
       "       'quote_count_by_community_1', 'retweet_count_by_community_2',\n",
       "       'quote_count_by_community_2', 'retweet_count_by_community_3',\n",
       "       'quote_count_by_community_3', 'retweet_count_by_community_4',\n",
       "       'quote_count_by_community_4', 'retweet_count_by_suspended_users',\n",
       "       'quote_count_by_suspended_users', 'name', 'handle', 'created_at',\n",
       "       'verified', 'description', 'followers_count', 'location'],\n",
       "      dtype='object')"
      ]
     },
     "metadata": {},
     "execution_count": 7
    }
   ],
   "source": [
    "df_users.columns"
   ]
  },
  {
   "cell_type": "code",
   "execution_count": 9,
   "metadata": {},
   "outputs": [],
   "source": [
    "for i, df_chunk in enumerate(split_dataframe(df_users, chunk_size=500000)):\n",
    "    df_chunk.to_csv(\"../data/data-share/hydrated/users/users-{}.csv\".format(i), index_label=\"user_id\")"
   ]
  },
  {
   "source": [
    "## Verify exports"
   ],
   "cell_type": "markdown",
   "metadata": {}
  },
  {
   "cell_type": "code",
   "execution_count": 11,
   "metadata": {},
   "outputs": [],
   "source": [
    "def load_chunks(directory):\n",
    "    chunk_dfs = []\n",
    "    for name in sorted(os.listdir(directory)):\n",
    "        sub_directory = os.path.join(directory, name)\n",
    "        if os.path.isdir(sub_directory):\n",
    "            for filename in sorted(os.listdir(sub_directory)):\n",
    "                with open(os.path.join(sub_directory, filename), \"r\", encoding=\"utf-8\") as f:\n",
    "                    chunk = pd.read_csv(f, encoding = \"utf-8\")\n",
    "                    chunk_dfs.append(chunk)\n",
    "        elif name.endswith(\".csv\"):\n",
    "            chunk = pd.read_csv(os.path.join(directory, name), encoding = \"utf-8\")\n",
    "            chunk_dfs.append(chunk)\n",
    "\n",
    "    return pd.concat(chunk_dfs)"
   ]
  },
  {
   "cell_type": "code",
   "execution_count": 13,
   "metadata": {},
   "outputs": [
    {
     "output_type": "stream",
     "name": "stdout",
     "text": [
      "../data/data-share/hydrated/tweets/\n",
      "(7603103, 25)\n",
      "<class 'pandas.core.frame.DataFrame'>\n",
      "Int64Index: 7603103 entries, 0 to 52584\n",
      "Data columns (total 25 columns):\n",
      " #   Column                            Dtype  \n",
      "---  ------                            -----  \n",
      " 0   tweet_id                          int64  \n",
      " 1   user_community                    float64\n",
      " 2   user_active_status                object \n",
      " 3   retweet_count_metadata            int64  \n",
      " 4   quote_count_metadata              int64  \n",
      " 5   retweet_count_by_community_0      int64  \n",
      " 6   quote_count_by_community_0        int64  \n",
      " 7   retweet_count_by_community_1      int64  \n",
      " 8   quote_count_by_community_1        int64  \n",
      " 9   retweet_count_by_community_2      int64  \n",
      " 10  quote_count_by_community_2        int64  \n",
      " 11  retweet_count_by_community_3      int64  \n",
      " 12  quote_count_by_community_3        int64  \n",
      " 13  retweet_count_by_community_4      int64  \n",
      " 14  quote_count_by_community_4        int64  \n",
      " 15  retweet_count_by_suspended_users  int64  \n",
      " 16  quote_count_by_suspended_users    int64  \n",
      " 17  user_id                           int64  \n",
      " 18  quote_tweet                       float64\n",
      " 19  hashtags                          object \n",
      " 20  has_media                         bool   \n",
      " 21  timestamp                         object \n",
      " 22  text                              object \n",
      " 23  urls                              object \n",
      " 24  resolved_urls                     object \n",
      "dtypes: bool(1), float64(2), int64(16), object(6)\n",
      "memory usage: 1.4+ GB\n",
      "None\n",
      "../data/data-share/hydrated/retweets/\n",
      "(25566698, 3)\n",
      "<class 'pandas.core.frame.DataFrame'>\n",
      "Int64Index: 25566698 entries, 0 to 203826\n",
      "Data columns (total 3 columns):\n",
      " #   Column        Dtype \n",
      "---  ------        ----- \n",
      " 0   retweeted_id  int64 \n",
      " 1   user_id       int64 \n",
      " 2   timestamp     object\n",
      "dtypes: int64(2), object(1)\n",
      "memory usage: 780.2+ MB\n",
      "None\n",
      "../data/data-share/hydrated/users/\n",
      "(2559018, 24)\n",
      "<class 'pandas.core.frame.DataFrame'>\n",
      "Int64Index: 2559018 entries, 0 to 59017\n",
      "Data columns (total 24 columns):\n",
      " #   Column                                  Dtype  \n",
      "---  ------                                  -----  \n",
      " 0   user_id                                 int64  \n",
      " 1   user_community                          float64\n",
      " 2   user_active_status                      object \n",
      " 3   closeness_centrality_detractor_cluster  float64\n",
      " 4   closeness_centrality_promoter_cluster   float64\n",
      " 5   retweet_count_by_community_0            int64  \n",
      " 6   quote_count_by_community_0              int64  \n",
      " 7   retweet_count_by_community_1            int64  \n",
      " 8   quote_count_by_community_1              int64  \n",
      " 9   retweet_count_by_community_2            int64  \n",
      " 10  quote_count_by_community_2              int64  \n",
      " 11  retweet_count_by_community_3            int64  \n",
      " 12  quote_count_by_community_3              int64  \n",
      " 13  retweet_count_by_community_4            int64  \n",
      " 14  quote_count_by_community_4              int64  \n",
      " 15  retweet_count_by_suspended_users        int64  \n",
      " 16  quote_count_by_suspended_users          int64  \n",
      " 17  name                                    object \n",
      " 18  handle                                  object \n",
      " 19  created_at                              object \n",
      " 20  verified                                object \n",
      " 21  description                             object \n",
      " 22  followers_count                         float64\n",
      " 23  location                                object \n",
      "dtypes: float64(4), int64(13), object(7)\n",
      "memory usage: 488.1+ MB\n",
      "None\n",
      "../data/data-share/anonymized/tweets/\n",
      "(7603103, 25)\n",
      "<class 'pandas.core.frame.DataFrame'>\n",
      "Int64Index: 7603103 entries, 0 to 52584\n",
      "Data columns (total 25 columns):\n",
      " #   Column                            Dtype  \n",
      "---  ------                            -----  \n",
      " 0   tweet_id                          int64  \n",
      " 1   user_community                    float64\n",
      " 2   user_active_status                object \n",
      " 3   retweet_count_metadata            int64  \n",
      " 4   quote_count_metadata              int64  \n",
      " 5   retweet_count_by_community_0      int64  \n",
      " 6   quote_count_by_community_0        int64  \n",
      " 7   retweet_count_by_community_1      int64  \n",
      " 8   quote_count_by_community_1        int64  \n",
      " 9   retweet_count_by_community_2      int64  \n",
      " 10  quote_count_by_community_2        int64  \n",
      " 11  retweet_count_by_community_3      int64  \n",
      " 12  quote_count_by_community_3        int64  \n",
      " 13  retweet_count_by_community_4      int64  \n",
      " 14  quote_count_by_community_4        int64  \n",
      " 15  retweet_count_by_suspended_users  int64  \n",
      " 16  quote_count_by_suspended_users    int64  \n",
      " 17  hashed_user_id                    object \n",
      " 18  quote_tweet                       float64\n",
      " 19  hashtags                          object \n",
      " 20  has_media                         bool   \n",
      " 21  timestamp                         object \n",
      " 22  text                              object \n",
      " 23  urls                              object \n",
      " 24  resolved_urls                     object \n",
      "dtypes: bool(1), float64(2), int64(15), object(7)\n",
      "memory usage: 1.4+ GB\n",
      "None\n",
      "../data/data-share/anonymized/retweets/\n",
      "(25566698, 3)\n",
      "<class 'pandas.core.frame.DataFrame'>\n",
      "Int64Index: 25566698 entries, 0 to 203826\n",
      "Data columns (total 3 columns):\n",
      " #   Column          Dtype \n",
      "---  ------          ----- \n",
      " 0   retweeted_id    int64 \n",
      " 1   hashed_user_id  object\n",
      " 2   timestamp       object\n",
      "dtypes: int64(1), object(2)\n",
      "memory usage: 780.2+ MB\n",
      "None\n"
     ]
    }
   ],
   "source": [
    "for folder in [\n",
    "    \"/hydrated/tweets/\",\n",
    "    \"/hydrated/retweets/\",\n",
    "    \"/hydrated/users/\",\n",
    "    \"/anonymized/tweets/\",\n",
    "    \"/anonymized/retweets/\",\n",
    "]:\n",
    "    loc = \"../data/data-share\" + folder\n",
    "    print(loc)\n",
    "    df = load_chunks(loc)\n",
    "    print(df.shape)\n",
    "    print(df.info())"
   ]
  },
  {
   "cell_type": "code",
   "execution_count": null,
   "metadata": {},
   "outputs": [],
   "source": []
  }
 ]
}