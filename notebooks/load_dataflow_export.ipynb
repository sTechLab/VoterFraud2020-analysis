{
 "metadata": {
  "language_info": {
   "codemirror_mode": {
    "name": "ipython",
    "version": 3
   },
   "file_extension": ".py",
   "mimetype": "text/x-python",
   "name": "python",
   "nbconvert_exporter": "python",
   "pygments_lexer": "ipython3",
   "version": "3.8.5-final"
  },
  "orig_nbformat": 2,
  "kernelspec": {
   "name": "python3",
   "display_name": "Python 3.8.5 64-bit ('voter-fraud': conda)",
   "metadata": {
    "interpreter": {
     "hash": "a0f90dcbb54bea4e60f894f8fd1d686cc0f74395b4029405cc9f13e0b975e641"
    }
   }
  }
 },
 "nbformat": 4,
 "nbformat_minor": 2,
 "cells": [
  {
   "source": [
    "# Resolve paths from root project directory\n",
    "\n",
    "import os\n",
    "import sys\n",
    "module_path = os.path.abspath(os.path.join('..'))\n",
    "if module_path not in sys.path:\n",
    "    sys.path.append(module_path)"
   ],
   "cell_type": "code",
   "metadata": {},
   "execution_count": 1,
   "outputs": []
  },
  {
   "source": [
    "from data_tools import parse_dataflow_export, tokenize_tweet"
   ],
   "cell_type": "code",
   "metadata": {},
   "execution_count": 2,
   "outputs": []
  },
  {
   "cell_type": "code",
   "execution_count": 4,
   "metadata": {},
   "outputs": [
    {
     "output_type": "stream",
     "name": "stdout",
     "text": [
      "Processing tweets-00008-of-00011.json\n"
     ]
    }
   ],
   "source": [
    "def parse_tweet(tweet):\n",
    "    cleaned_text, tokens, hashtags = tokenize_tweet(tweet[\"text\"])\n",
    "    tweet[\"cleaned_text\"] = cleaned_text\n",
    "    tweet[\"tokens\"] = tokens\n",
    "    tweet[\"hashtags\"] = hashtags\n",
    "    return tweet\n",
    "\n",
    "tweet_directory = \"../bucket-export/vote-safety-dataflow/tweets/\"\n",
    "parse_dataflow_export(tweet_directory, \"../data/test.json\", parse_tweet)\n",
    "\n"
   ]
  },
  {
   "cell_type": "code",
   "execution_count": null,
   "metadata": {},
   "outputs": [],
   "source": []
  }
 ]
}