{
 "metadata": {
  "language_info": {
   "codemirror_mode": {
    "name": "ipython",
    "version": 3
   },
   "file_extension": ".py",
   "mimetype": "text/x-python",
   "name": "python",
   "nbconvert_exporter": "python",
   "pygments_lexer": "ipython3",
   "version": "3.8.5-final"
  },
  "orig_nbformat": 2,
  "kernelspec": {
   "name": "python3",
   "display_name": "Python 3.8.5 64-bit ('voter-fraud': conda)",
   "metadata": {
    "interpreter": {
     "hash": "a0f90dcbb54bea4e60f894f8fd1d686cc0f74395b4029405cc9f13e0b975e641"
    }
   }
  }
 },
 "nbformat": 4,
 "nbformat_minor": 2,
 "cells": [
  {
   "cell_type": "code",
   "execution_count": 2,
   "metadata": {},
   "outputs": [],
   "source": [
    "from notebook_utils import setup, load_tweet_df, load_media_df\n",
    "import pandas as pd\n",
    "\n",
    "setup()"
   ]
  },
  {
   "cell_type": "code",
   "execution_count": 3,
   "metadata": {},
   "outputs": [],
   "source": [
    "DATE = \"16-dec\"\n",
    "DATAFRAMES_DIR = \"../data/dataframes/{}/\".format(DATE)\n",
    "EXPORT_DIR = \"./data_export/url_stats/{}/\".format(DATE)"
   ]
  },
  {
   "cell_type": "code",
   "execution_count": 6,
   "metadata": {},
   "outputs": [],
   "source": [
    "df_recent_tweets = pd.read_pickle(DATAFRAMES_DIR + \"df_recent_tweets.pickle\")"
   ]
  },
  {
   "source": [
    "# Top URLs in the dataset"
   ],
   "cell_type": "markdown",
   "metadata": {}
  },
  {
   "cell_type": "code",
   "execution_count": 5,
   "metadata": {},
   "outputs": [],
   "source": [
    "from collections import defaultdict\n",
    "import heapq\n",
    "url_map = defaultdict(lambda: {\n",
    "    \"tweet_ids\": set(),\n",
    "    \"aggregated_retweet_count\": 0,\n",
    "    \"aggregated_quote_count\": 0\n",
    "})\n",
    "\n",
    "total_tweet_count = 0\n",
    "total_retweet_count = 0\n",
    "total_quote_count = 0\n",
    "\n",
    "for tweet_id, urls, retweet_count, quote_count in df_recent_tweets[[\"urls\", \"retweet_count\", \"quote_count\"]].itertuples():\n",
    "    has_relevant_url = False\n",
    "    for url in urls:\n",
    "        if \"twitter.com/\" not in url:\n",
    "            has_relevant_url = True\n",
    "            url_map[url][\"tweet_ids\"].add(tweet_id)\n",
    "            url_map[url][\"aggregated_retweet_count\"] += retweet_count\n",
    "            url_map[url][\"aggregated_quote_count\"] += quote_count\n",
    "            total_retweet_count += retweet_count\n",
    "            total_quote_count += quote_count\n",
    "    if has_relevant_url:\n",
    "        total_tweet_count += 1"
   ]
  },
  {
   "cell_type": "code",
   "execution_count": 6,
   "metadata": {},
   "outputs": [
    {
     "output_type": "stream",
     "name": "stdout",
     "text": [
      "Number of tweets with URLs (excluding twitter.com URLs): 609,901\nUnique URLs shared: 155,064\nURL share retweet count: 2,847,863\nURL share quote count: 334,915\n"
     ]
    }
   ],
   "source": [
    "print(\"Number of tweets with URLs (excluding twitter.com URLs): {:,}\".format(total_tweet_count))\n",
    "print(\"Unique URLs shared: {:,}\".format(len(url_map.keys())))\n",
    "print(\"URL share retweet count: {:,}\".format(total_retweet_count))\n",
    "print(\"URL share quote count: {:,}\".format(total_quote_count))"
   ]
  },
  {
   "cell_type": "code",
   "execution_count": 8,
   "metadata": {},
   "outputs": [
    {
     "output_type": "stream",
     "name": "stdout",
     "text": [
      "Top URLs in the dataset:\n49445 retweets from 19511 tweets - https://www.whitehouse.gov/presidential-actions/executive-order-imposing-certain-sanctions-event-foreign-interference-united-states-election/\n46758 retweets from 540 tweets - https://www.breitbart.com/2020-election/2020/11/23/poll-79-of-trump-voters-believe-election-was-stolen-through-illegal-voting-and-fraud/\n41078 retweets from 264 tweets - https://www.foxnews.com/opinion/tucker-carlson-2020-presidential-election-voter-fraud-dead-voters.amp\n39142 retweets from 719 tweets - https://www.breitbart.com/2020-election/2020/11/19/rudy-giuliani-the-case-for-election-fraud-being-made-by-american-patriots-in-both-parties/\n36198 retweets from 192 tweets - https://www.breitbart.com/2020-election/2020/11/07/republican-led-michigan-legislature-to-hold-hearings-on-election-fraud-claims/\n32156 retweets from 330 tweets - https://www.breitbart.com/2020-election/2020/11/17/california-2-charged-with-voter-fraud-allegedly-submitted-thousands-of-applications-on-behalf-of-homeless/\n26432 retweets from 1475 tweets - https://www.lawofficer.com/michigan-state-police-arrest-democratic-official-six-felony-charges-election-fraud/\n26293 retweets from 429 tweets - http://djt45.co/stopfraud\n25969 retweets from 64 tweets - https://thefederalist.com/2020/11/08/america-wont-trust-elections-until-the-voter-fraud-is-investigated/#.X6iHcjHduyR.twitter\n24659 retweets from 235 tweets - https://www.breitbart.com/politics/2020/11/30/donald-trump-calls-in-to-arizona-voter-fraud-hearing-were-fighting-back/\n"
     ]
    }
   ],
   "source": [
    "def top_urls_by_retweet_count(url_map, N = 10):\n",
    "    for url in heapq.nlargest(N, url_map, key=lambda x: url_map.get(x)[\"aggregated_retweet_count\"]):\n",
    "        url_stats = url_map.get(url)\n",
    "        tweet_count = len(url_stats[\"tweet_ids\"])\n",
    "        retweet_count = url_stats[\"aggregated_retweet_count\"]\n",
    "        print(\"{} retweets from {} tweets - {}\".format(retweet_count, tweet_count, url))\n",
    "\n",
    "def transform_url_map(url_map, filter_fn=lambda x: x, map_key=lambda x: x):\n",
    "    new_map = {}\n",
    "    for key, val in url_map.items():\n",
    "        if filter_fn(key):\n",
    "            mapped_key = map_key(key)\n",
    "            if (mapped_key in new_map):\n",
    "                existing_entry = new_map[mapped_key]\n",
    "                existing_entry[\"tweet_ids\"].update(val[\"tweet_ids\"])\n",
    "                existing_entry[\"aggregated_retweet_count\"] += val[\"aggregated_retweet_count\"]\n",
    "                existing_entry[\"aggregated_quote_count\"] += val[\"aggregated_quote_count\"]\n",
    "                new_map[mapped_key] = existing_entry\n",
    "            else:\n",
    "                new_map[mapped_key] = val.copy()\n",
    "\n",
    "    return new_map\n",
    "\n",
    "print(\"Top URLs in the dataset:\")\n",
    "top_urls_by_retweet_count(url_map)\n"
   ]
  },
  {
   "source": [
    "## Top Domains in the dataset"
   ],
   "cell_type": "markdown",
   "metadata": {}
  },
  {
   "cell_type": "code",
   "execution_count": 14,
   "metadata": {
    "tags": []
   },
   "outputs": [
    {
     "output_type": "stream",
     "name": "stdout",
     "text": [
      "Unique domains in the dataset: 12,634\nTop domains in the dataset:\n210320 retweets from 10184 tweets - breitbart.com\n149799 retweets from 2614 tweets - pscp.tv\n105089 retweets from 22853 tweets - thegatewaypundit.com\n97824 retweets from 3380 tweets - justthenews.com\n97080 retweets from 5264 tweets - thefederalist.com\n93279 retweets from 82421 tweets - youtu.be\n86205 retweets from 7914 tweets - foxnews.com\n73007 retweets from 3921 tweets - oann.com\n72211 retweets from 38 tweets - hann.it\n52450 retweets from 1022 tweets - djhjmedia.com\n"
     ]
    }
   ],
   "source": [
    "from urllib.parse import parse_qs, urlencode, urlparse\n",
    "\n",
    "def map_to_domain(url):\n",
    "    parsed = urlparse(url)\n",
    "\n",
    "    return parsed.netloc.replace(\"www.\", \"\").lower()\n",
    "\n",
    "domain_url_map = transform_url_map(url_map, map_key=map_to_domain)\n",
    "print(\"Unique domains in the dataset: {:,}\".format(len(domain_url_map.keys())))\n",
    "print(\"Top domains in the dataset:\")\n",
    "\n",
    "top_urls_by_retweet_count(domain_url_map)"
   ]
  },
  {
   "source": [
    "## Top YouTube URLs in the dataset"
   ],
   "cell_type": "markdown",
   "metadata": {}
  },
  {
   "cell_type": "code",
   "execution_count": 15,
   "metadata": {
    "tags": []
   },
   "outputs": [
    {
     "output_type": "stream",
     "name": "stdout",
     "text": [
      "Deleted URL params after normalizing Youtube URLs {'utm_campaign', 'view_as', 'utm_medium', 'itct', 't', 'PC', 'list', 'utm_term', 'redir_token', 'bsft_lx', 'v', 'rootVe', 'has_verified', 'persist_app', 'ebc', 'ab_channel', '__s', 'bsft_eid', 'd', 'bsft_uid', 'search_query', 'start_radio', 'authuser', 'app', 'event', 'html_redirect', 'bsft_mid', 'zarsrc', 'bsft_utid', 'mid', 'attr_tag', 'utm_name', 'bsft_link_id', 'playnext', 'sub_confirmation', 'reload', 'utm_source', 'FORM', 'amp;feature', 'bsft_tv', 'feature', 'isappinstalled', 'disable_polymer', 'index', 'fbclid', 'time_continue', 'bsft_clkid', 'from', 'q', 'noapp', 'id', 'bsft_aaid', 'bsft_mime_type', 'autoplay', 'bsft_ek', 'lc', 'vl', 'pbjreload', 'utm_content'}\n\nUnique Youtube URLs in the dataset: 14,051\nTop Youtube URLs in the dataset:\n13094 retweets from 25 tweets - https://youtu.be/LPdD8Cd5PGI\n11909 retweets from 92 tweets - https://youtu.be/psGpIuNh_dU\n7271 retweets from 436 tweets - https://youtu.be/w7vKBiPeyz4\n5234 retweets from 115 tweets - https://youtu.be/QNN9I0xxZRE\n4739 retweets from 337 tweets - https://youtu.be/96-BQaIVOpc\n3819 retweets from 32 tweets - https://youtu.be/bYTa1AMLJxY\n2495 retweets from 674 tweets - https://youtu.be/Ztu5Y5obWPk\n2258 retweets from 1462 tweets - https://youtu.be/p2MkvWh7poY\n1605 retweets from 150 tweets - https://youtu.be/VgMPDnWunqs\n1407 retweets from 223 tweets - https://youtu.be/g9_SgYJnbKo\n"
     ]
    }
   ],
   "source": [
    "deleted_url_params = set()\n",
    "\n",
    "def detect_youtube_url(url):\n",
    "    parsed = urlparse(url)\n",
    "    return \"youtu.be\" in parsed.netloc or \"youtube.com\" in parsed.netloc\n",
    "\n",
    "def normalize_youtube_url(url):\n",
    "    parsed = urlparse(url)\n",
    "    parsed = parsed._replace()\n",
    "    query_params = parse_qs(parsed.query)\n",
    "    if (parsed.path == '/watch' and \"v\" in query_params):\n",
    "        updated_path = '/' + query_params[\"v\"][0]\n",
    "        del query_params[\"v\"]\n",
    "        parsed = parsed._replace(path=updated_path)\n",
    "    deleted_url_params.update(query_params.keys())\n",
    "    query_params = {}\n",
    "    updated_query = urlencode(query_params, doseq=True)\n",
    "    parsed = parsed._replace(scheme='https', netloc='youtu.be', query=updated_query)\n",
    "    return parsed.geturl()\n",
    "\n",
    "youtube_url_map = transform_url_map(\n",
    "    url_map, \n",
    "    filter_fn=detect_youtube_url,\n",
    "    map_key=normalize_youtube_url\n",
    ")\n",
    "\n",
    "print(\"Deleted URL params after normalizing Youtube URLs\", deleted_url_params)\n",
    "\n",
    "print()\n",
    "print(\"Unique Youtube URLs in the dataset: {:,}\".format(len(youtube_url_map.keys())))\n",
    "print(\"Top Youtube URLs in the dataset:\")\n",
    "top_urls_by_retweet_count(youtube_url_map)"
   ]
  },
  {
   "source": [
    "# Top Media in the dataset"
   ],
   "cell_type": "markdown",
   "metadata": {}
  },
  {
   "cell_type": "code",
   "execution_count": 36,
   "metadata": {},
   "outputs": [
    {
     "output_type": "stream",
     "name": "stdout",
     "text": [
      "Loading 479696 json lines\n",
      "(21%): 100000 lines in ../data/05-jan//parsed_media.json processed (0.9595661163330078 sec)\n",
      "(42%): 200000 lines in ../data/05-jan//parsed_media.json processed (0.7060611248016357 sec)\n",
      "(63%): 300000 lines in ../data/05-jan//parsed_media.json processed (0.576124906539917 sec)\n",
      "(83%): 400000 lines in ../data/05-jan//parsed_media.json processed (0.5473530292510986 sec)\n",
      "Done loading ../data/05-jan//parsed_media.json\n",
      "479696 lines in ../data/05-jan//parsed_media.json processed (3.277743101119995 sec)\n"
     ]
    }
   ],
   "source": [
    "df_media_full = (\n",
    "    load_parsed_data('../data/05-jan/' + \"/parsed_media.json\",)\n",
    "    .set_index(\"datastore_id\")\n",
    ")"
   ]
  },
  {
   "cell_type": "code",
   "execution_count": 42,
   "metadata": {},
   "outputs": [
    {
     "output_type": "execute_result",
     "data": {
      "text/plain": [
       "                            w_hash             tweet_id            p_hash  \\\n",
       "datastore_id                                                                \n",
       "6528738455977984  0080a486f6fefe3e  1332002206208249856  d47a09e12cb81fc7   \n",
       "6531921873993728  0080a486f6fefe3e  1332002206208249856  d47a09e12cb81fc7   \n",
       "6533277607264256  0080a486f6fefe3e  1332002206208249856  d47a09e12cb81fc7   \n",
       "6584698432126976  0080a486f6fefe3e  1332002206208249856  d47a09e12cb81fc7   \n",
       "6603646351441920  0080a486f6fefe3e  1332002206208249856  d47a09e12cb81fc7   \n",
       "\n",
       "                             media_id            a_hash           type  \\\n",
       "datastore_id                                                             \n",
       "6528738455977984  1332002199212150789  00c0848efefefe3e  photo-fetched   \n",
       "6531921873993728  1332002199212150789  00c0848efefefe3e  photo-fetched   \n",
       "6533277607264256  1332002199212150789  00c0848efefefe3e  photo-fetched   \n",
       "6584698432126976  1332002199212150789  00c0848efefefe3e  photo-fetched   \n",
       "6603646351441920  1332002199212150789  00c0848efefefe3e  photo-fetched   \n",
       "\n",
       "                                                       media_url  \n",
       "datastore_id                                                      \n",
       "6528738455977984  http://pbs.twimg.com/media/Enw48WQUUAUl01f.jpg  \n",
       "6531921873993728  http://pbs.twimg.com/media/Enw48WQUUAUl01f.jpg  \n",
       "6533277607264256  http://pbs.twimg.com/media/Enw48WQUUAUl01f.jpg  \n",
       "6584698432126976  http://pbs.twimg.com/media/Enw48WQUUAUl01f.jpg  \n",
       "6603646351441920  http://pbs.twimg.com/media/Enw48WQUUAUl01f.jpg  "
      ],
      "text/html": "<div>\n<style scoped>\n    .dataframe tbody tr th:only-of-type {\n        vertical-align: middle;\n    }\n\n    .dataframe tbody tr th {\n        vertical-align: top;\n    }\n\n    .dataframe thead th {\n        text-align: right;\n    }\n</style>\n<table border=\"1\" class=\"dataframe\">\n  <thead>\n    <tr style=\"text-align: right;\">\n      <th></th>\n      <th>w_hash</th>\n      <th>tweet_id</th>\n      <th>p_hash</th>\n      <th>media_id</th>\n      <th>a_hash</th>\n      <th>type</th>\n      <th>media_url</th>\n    </tr>\n    <tr>\n      <th>datastore_id</th>\n      <th></th>\n      <th></th>\n      <th></th>\n      <th></th>\n      <th></th>\n      <th></th>\n      <th></th>\n    </tr>\n  </thead>\n  <tbody>\n    <tr>\n      <th>6528738455977984</th>\n      <td>0080a486f6fefe3e</td>\n      <td>1332002206208249856</td>\n      <td>d47a09e12cb81fc7</td>\n      <td>1332002199212150789</td>\n      <td>00c0848efefefe3e</td>\n      <td>photo-fetched</td>\n      <td>http://pbs.twimg.com/media/Enw48WQUUAUl01f.jpg</td>\n    </tr>\n    <tr>\n      <th>6531921873993728</th>\n      <td>0080a486f6fefe3e</td>\n      <td>1332002206208249856</td>\n      <td>d47a09e12cb81fc7</td>\n      <td>1332002199212150789</td>\n      <td>00c0848efefefe3e</td>\n      <td>photo-fetched</td>\n      <td>http://pbs.twimg.com/media/Enw48WQUUAUl01f.jpg</td>\n    </tr>\n    <tr>\n      <th>6533277607264256</th>\n      <td>0080a486f6fefe3e</td>\n      <td>1332002206208249856</td>\n      <td>d47a09e12cb81fc7</td>\n      <td>1332002199212150789</td>\n      <td>00c0848efefefe3e</td>\n      <td>photo-fetched</td>\n      <td>http://pbs.twimg.com/media/Enw48WQUUAUl01f.jpg</td>\n    </tr>\n    <tr>\n      <th>6584698432126976</th>\n      <td>0080a486f6fefe3e</td>\n      <td>1332002206208249856</td>\n      <td>d47a09e12cb81fc7</td>\n      <td>1332002199212150789</td>\n      <td>00c0848efefefe3e</td>\n      <td>photo-fetched</td>\n      <td>http://pbs.twimg.com/media/Enw48WQUUAUl01f.jpg</td>\n    </tr>\n    <tr>\n      <th>6603646351441920</th>\n      <td>0080a486f6fefe3e</td>\n      <td>1332002206208249856</td>\n      <td>d47a09e12cb81fc7</td>\n      <td>1332002199212150789</td>\n      <td>00c0848efefefe3e</td>\n      <td>photo-fetched</td>\n      <td>http://pbs.twimg.com/media/Enw48WQUUAUl01f.jpg</td>\n    </tr>\n  </tbody>\n</table>\n</div>"
     },
     "metadata": {},
     "execution_count": 42
    }
   ],
   "source": [
    "df_media_full[df_media_full['tweet_id'] == \"1332002206208249856\"].head()"
   ]
  },
  {
   "cell_type": "code",
   "execution_count": 4,
   "metadata": {},
   "outputs": [
    {
     "output_type": "stream",
     "name": "stdout",
     "text": [
      "<class 'pandas.core.frame.DataFrame'>\nIndex: 201259 entries, 5327346445844480 to 5114016670154752\nData columns (total 53 columns):\n #   Column                      Non-Null Count   Dtype           \n---  ------                      --------------   -----           \n 0   w_hash                      201259 non-null  object          \n 1   tweet_id                    201259 non-null  object          \n 2   p_hash                      201259 non-null  object          \n 3   media_id                    201259 non-null  object          \n 4   a_hash                      201259 non-null  object          \n 5   type                        201259 non-null  object          \n 6   media_url                   201259 non-null  object          \n 7   urls                        201259 non-null  object          \n 8   hasMedia                    201259 non-null  bool            \n 9   hashtags                    201259 non-null  object          \n 10  retweet_count               201259 non-null  int32           \n 11  quote_count                 201259 non-null  int32           \n 12  user                        201259 non-null  object          \n 13  text                        201259 non-null  object          \n 14  quote_tweet                 94890 non-null   object          \n 15  timestamp                   201259 non-null  object          \n 16  tokens                      201259 non-null  object          \n 17  election fraud              201259 non-null  Sparse[int64, 0]\n 18  voter fraud                 201259 non-null  Sparse[int64, 0]\n 19  #voterfraud                 201259 non-null  Sparse[int64, 0]\n 20  #stopthesteal               201259 non-null  Sparse[int64, 0]\n 21  #ballotharvesting           201259 non-null  Sparse[int64, 0]\n 22  ballot fraud                201259 non-null  Sparse[int64, 0]\n 23  #electionfraud              201259 non-null  Sparse[int64, 0]\n 24  #electioninterference       201259 non-null  Sparse[int64, 0]\n 25  ballot harvesting           201259 non-null  Sparse[int64, 0]\n 26  election interference       201259 non-null  Sparse[int64, 0]\n 27  #electiontampering          201259 non-null  Sparse[int64, 0]\n 28  #cheatingdemocrats          201259 non-null  Sparse[int64, 0]\n 29  election tampering          201259 non-null  Sparse[int64, 0]\n 30  democrats cheat             201259 non-null  Sparse[int64, 0]\n 31  #voterfraudisreal           201259 non-null  Sparse[int64, 0]\n 32  cheating democrats          201259 non-null  Sparse[int64, 0]\n 33  #gopvoterfraud              201259 non-null  Sparse[int64, 0]\n 34  destroyed ballots           201259 non-null  Sparse[int64, 0]\n 35  stolen ballots              201259 non-null  Sparse[int64, 0]\n 36  #ballotfraud                201259 non-null  Sparse[int64, 0]\n 37  discarded ballots           201259 non-null  Sparse[int64, 0]\n 38  hacked voting machine       201259 non-null  Sparse[int64, 0]\n 39  pre-filled ballot           201259 non-null  Sparse[int64, 0]\n 40  harvest ballot              201259 non-null  Sparse[int64, 0]\n 41  #stopvoterfraud             201259 non-null  Sparse[int64, 0]\n 42  #democratvoterfraud         201259 non-null  Sparse[int64, 0]\n 43  #ballotvoterfraud           201259 non-null  Sparse[int64, 0]\n 44  #nomailinvoting             201259 non-null  Sparse[int64, 0]\n 45  #ilhanomarballotharvesting  201259 non-null  Sparse[int64, 0]\n 46  vote by mail fraud          201259 non-null  Sparse[int64, 0]\n 47  #mailinvoterfraud           201259 non-null  Sparse[int64, 0]\n 48  #votebymailfraud            201259 non-null  Sparse[int64, 0]\n 49  #ilhanomarvoterfraud        201259 non-null  Sparse[int64, 0]\n 50  #stopgopvoterfraud          201259 non-null  Sparse[int64, 0]\n 51  #discardedballots           201259 non-null  Sparse[int64, 0]\n 52  #hackedvotingmachines       201259 non-null  Sparse[int64, 0]\ndtypes: Sparse[int64, 0](36), bool(1), int32(2), object(14)\nmemory usage: 26.0+ MB\n"
     ]
    }
   ],
   "source": [
    "df_media_with_tweets = pd.read_pickle(DATAFRAMES_DIR + 'df_media_with_tweets.pickle')\n",
    "df_media_with_tweets.info()"
   ]
  },
  {
   "cell_type": "code",
   "execution_count": 5,
   "metadata": {},
   "outputs": [
    {
     "output_type": "execute_result",
     "data": {
      "text/plain": [
       "                            w_hash             tweet_id            p_hash  \\\n",
       "datastore_id                                                                \n",
       "5327346445844480  f4003c7e7f7f2600  1327172039669665794  817e6a80d55f5a66   \n",
       "6224547934109696  f8f8f8f0c081b939  1327172094707187712  cbd29ba4628d2d53   \n",
       "5478141178937344  28743c5c30c1e3ff  1327172494080446465  c250b56b5e71da07   \n",
       "5156159157698560                NA  1327172836855844865                NA   \n",
       "6254140300722176  f0f0c080003f3fff  1327173062207238144  ab7881877e606397   \n",
       "\n",
       "                             media_id            a_hash           type  \\\n",
       "datastore_id                                                             \n",
       "5327346445844480  1327171900636852224  6000007e7e7e0000  photo-fetched   \n",
       "6224547934109696  1327172084934471680  f9f8f8f0f0d3f9f9  photo-fetched   \n",
       "5478141178937344  1327171992131313666  6c747e7c30e1e3bf  photo-fetched   \n",
       "5156159157698560  1327172777892261889                NA   animated_gif   \n",
       "6254140300722176  1327173053080498176  ffffc0801f3f7fff  photo-fetched   \n",
       "\n",
       "                                                          media_url  \\\n",
       "datastore_id                                                          \n",
       "5327346445844480     http://pbs.twimg.com/media/EmsPz91W8AAWR2E.png   \n",
       "6224547934109696     http://pbs.twimg.com/media/EmsP-sZVcAAMDVE.jpg   \n",
       "5478141178937344     http://pbs.twimg.com/media/EmsP5SrVoAIx9mn.jpg   \n",
       "5156159157698560  http://pbs.twimg.com/tweet_video_thumb/EmsQnB3...   \n",
       "6254140300722176     http://pbs.twimg.com/media/EmsQ3DBVcAA0ANU.png   \n",
       "\n",
       "                                            urls  hasMedia  \\\n",
       "datastore_id                                                 \n",
       "5327346445844480                              []      True   \n",
       "6224547934109696         [https://ouo.io/DgaKIL]      True   \n",
       "5478141178937344  [https://youtu.be/c3dYrhaA5kY]      True   \n",
       "5156159157698560                              []      True   \n",
       "6254140300722176         [https://ouo.io/DgaKIL]      True   \n",
       "\n",
       "                                                   hashtags  ...  \\\n",
       "datastore_id                                                 ...   \n",
       "5327346445844480                                         []  ...   \n",
       "6224547934109696                                         []  ...   \n",
       "5478141178937344  [StopTheSteal, Electoralfraud, 不正選挙を許さない]  ...   \n",
       "5156159157698560         [Patriot, StopTheSteal, Trump2020]  ...   \n",
       "6254140300722176                                         []  ...   \n",
       "\n",
       "                  #ballotvoterfraud  #nomailinvoting  \\\n",
       "datastore_id                                           \n",
       "5327346445844480                  0                0   \n",
       "6224547934109696                  0                0   \n",
       "5478141178937344                  0                0   \n",
       "5156159157698560                  0                0   \n",
       "6254140300722176                  0                0   \n",
       "\n",
       "                 #ilhanomarballotharvesting vote by mail fraud  \\\n",
       "datastore_id                                                     \n",
       "5327346445844480                          0                  0   \n",
       "6224547934109696                          0                  0   \n",
       "5478141178937344                          0                  0   \n",
       "5156159157698560                          0                  0   \n",
       "6254140300722176                          0                  0   \n",
       "\n",
       "                 #mailinvoterfraud #votebymailfraud #ilhanomarvoterfraud  \\\n",
       "datastore_id                                                               \n",
       "5327346445844480                 0                0                    0   \n",
       "6224547934109696                 0                0                    0   \n",
       "5478141178937344                 0                0                    0   \n",
       "5156159157698560                 0                0                    0   \n",
       "6254140300722176                 0                0                    0   \n",
       "\n",
       "                  #stopgopvoterfraud  #discardedballots  #hackedvotingmachines  \n",
       "datastore_id                                                                    \n",
       "5327346445844480                   0                  0                      0  \n",
       "6224547934109696                   0                  0                      0  \n",
       "5478141178937344                   0                  0                      0  \n",
       "5156159157698560                   0                  0                      0  \n",
       "6254140300722176                   0                  0                      0  \n",
       "\n",
       "[5 rows x 53 columns]"
      ],
      "text/html": "<div>\n<style scoped>\n    .dataframe tbody tr th:only-of-type {\n        vertical-align: middle;\n    }\n\n    .dataframe tbody tr th {\n        vertical-align: top;\n    }\n\n    .dataframe thead th {\n        text-align: right;\n    }\n</style>\n<table border=\"1\" class=\"dataframe\">\n  <thead>\n    <tr style=\"text-align: right;\">\n      <th></th>\n      <th>w_hash</th>\n      <th>tweet_id</th>\n      <th>p_hash</th>\n      <th>media_id</th>\n      <th>a_hash</th>\n      <th>type</th>\n      <th>media_url</th>\n      <th>urls</th>\n      <th>hasMedia</th>\n      <th>hashtags</th>\n      <th>...</th>\n      <th>#ballotvoterfraud</th>\n      <th>#nomailinvoting</th>\n      <th>#ilhanomarballotharvesting</th>\n      <th>vote by mail fraud</th>\n      <th>#mailinvoterfraud</th>\n      <th>#votebymailfraud</th>\n      <th>#ilhanomarvoterfraud</th>\n      <th>#stopgopvoterfraud</th>\n      <th>#discardedballots</th>\n      <th>#hackedvotingmachines</th>\n    </tr>\n    <tr>\n      <th>datastore_id</th>\n      <th></th>\n      <th></th>\n      <th></th>\n      <th></th>\n      <th></th>\n      <th></th>\n      <th></th>\n      <th></th>\n      <th></th>\n      <th></th>\n      <th></th>\n      <th></th>\n      <th></th>\n      <th></th>\n      <th></th>\n      <th></th>\n      <th></th>\n      <th></th>\n      <th></th>\n      <th></th>\n      <th></th>\n    </tr>\n  </thead>\n  <tbody>\n    <tr>\n      <th>5327346445844480</th>\n      <td>f4003c7e7f7f2600</td>\n      <td>1327172039669665794</td>\n      <td>817e6a80d55f5a66</td>\n      <td>1327171900636852224</td>\n      <td>6000007e7e7e0000</td>\n      <td>photo-fetched</td>\n      <td>http://pbs.twimg.com/media/EmsPz91W8AAWR2E.png</td>\n      <td>[]</td>\n      <td>True</td>\n      <td>[]</td>\n      <td>...</td>\n      <td>0</td>\n      <td>0</td>\n      <td>0</td>\n      <td>0</td>\n      <td>0</td>\n      <td>0</td>\n      <td>0</td>\n      <td>0</td>\n      <td>0</td>\n      <td>0</td>\n    </tr>\n    <tr>\n      <th>6224547934109696</th>\n      <td>f8f8f8f0c081b939</td>\n      <td>1327172094707187712</td>\n      <td>cbd29ba4628d2d53</td>\n      <td>1327172084934471680</td>\n      <td>f9f8f8f0f0d3f9f9</td>\n      <td>photo-fetched</td>\n      <td>http://pbs.twimg.com/media/EmsP-sZVcAAMDVE.jpg</td>\n      <td>[https://ouo.io/DgaKIL]</td>\n      <td>True</td>\n      <td>[]</td>\n      <td>...</td>\n      <td>0</td>\n      <td>0</td>\n      <td>0</td>\n      <td>0</td>\n      <td>0</td>\n      <td>0</td>\n      <td>0</td>\n      <td>0</td>\n      <td>0</td>\n      <td>0</td>\n    </tr>\n    <tr>\n      <th>5478141178937344</th>\n      <td>28743c5c30c1e3ff</td>\n      <td>1327172494080446465</td>\n      <td>c250b56b5e71da07</td>\n      <td>1327171992131313666</td>\n      <td>6c747e7c30e1e3bf</td>\n      <td>photo-fetched</td>\n      <td>http://pbs.twimg.com/media/EmsP5SrVoAIx9mn.jpg</td>\n      <td>[https://youtu.be/c3dYrhaA5kY]</td>\n      <td>True</td>\n      <td>[StopTheSteal, Electoralfraud, 不正選挙を許さない]</td>\n      <td>...</td>\n      <td>0</td>\n      <td>0</td>\n      <td>0</td>\n      <td>0</td>\n      <td>0</td>\n      <td>0</td>\n      <td>0</td>\n      <td>0</td>\n      <td>0</td>\n      <td>0</td>\n    </tr>\n    <tr>\n      <th>5156159157698560</th>\n      <td>NA</td>\n      <td>1327172836855844865</td>\n      <td>NA</td>\n      <td>1327172777892261889</td>\n      <td>NA</td>\n      <td>animated_gif</td>\n      <td>http://pbs.twimg.com/tweet_video_thumb/EmsQnB3...</td>\n      <td>[]</td>\n      <td>True</td>\n      <td>[Patriot, StopTheSteal, Trump2020]</td>\n      <td>...</td>\n      <td>0</td>\n      <td>0</td>\n      <td>0</td>\n      <td>0</td>\n      <td>0</td>\n      <td>0</td>\n      <td>0</td>\n      <td>0</td>\n      <td>0</td>\n      <td>0</td>\n    </tr>\n    <tr>\n      <th>6254140300722176</th>\n      <td>f0f0c080003f3fff</td>\n      <td>1327173062207238144</td>\n      <td>ab7881877e606397</td>\n      <td>1327173053080498176</td>\n      <td>ffffc0801f3f7fff</td>\n      <td>photo-fetched</td>\n      <td>http://pbs.twimg.com/media/EmsQ3DBVcAA0ANU.png</td>\n      <td>[https://ouo.io/DgaKIL]</td>\n      <td>True</td>\n      <td>[]</td>\n      <td>...</td>\n      <td>0</td>\n      <td>0</td>\n      <td>0</td>\n      <td>0</td>\n      <td>0</td>\n      <td>0</td>\n      <td>0</td>\n      <td>0</td>\n      <td>0</td>\n      <td>0</td>\n    </tr>\n  </tbody>\n</table>\n<p>5 rows × 53 columns</p>\n</div>"
     },
     "metadata": {},
     "execution_count": 5
    }
   ],
   "source": [
    "df_media_with_tweets.head()"
   ]
  },
  {
   "cell_type": "code",
   "execution_count": 5,
   "metadata": {},
   "outputs": [
    {
     "output_type": "execute_result",
     "data": {
      "text/plain": [
       "196330"
      ]
     },
     "metadata": {},
     "execution_count": 5
    }
   ],
   "source": [
    "df_media_with_tweets[\"media_id\"].nunique()"
   ]
  },
  {
   "cell_type": "code",
   "execution_count": 43,
   "metadata": {},
   "outputs": [
    {
     "output_type": "execute_result",
     "data": {
      "text/plain": [
       "w_hash            p_hash            a_hash          \n",
       "NA                NA                NA                  33563\n",
       "ffff0000bd81c3c3  f2cba5855a72cba0  ffff8100ffffc3c3      761\n",
       "ffffe7e780808080  ee851959e6a61a99  fffff7e781818181      217\n",
       "181a3f1f18185fd7  995de65a62267b42  081a1f1f18181fd7      207\n",
       "ffef0000bf81c3c3  f2cba585527acba0  ffff8100fdffc3c3      192\n",
       "                                                        ...  \n",
       "89bf019b81ff81c3  ab9fa19a7a8d602a  8dbf019f01fdb783        1\n",
       "89bf8096ed878387  bfc93fc1923c7060  bfbf8096ff878387        1\n",
       "89bf818183d183ff  af6b916a902eda25  81a38181818183ff        1\n",
       "89bfc3410000ffff  abbc947aa3e06991  ffbfdbc10000ffff        1\n",
       "ffffffff00000000  ffa01155a299e07e  ffffffff00000000        1\n",
       "Length: 112918, dtype: int64"
      ]
     },
     "metadata": {},
     "execution_count": 43
    }
   ],
   "source": [
    "df_media_with_tweets[['w_hash', 'p_hash', 'a_hash']].value_counts()"
   ]
  },
  {
   "cell_type": "code",
   "execution_count": 4,
   "metadata": {},
   "outputs": [
    {
     "output_type": "execute_result",
     "data": {
      "text/plain": [
       "1325868287020970000    175\n",
       "1320106466028769282    162\n",
       "1324507941987405826    142\n",
       "1326595916002856963    132\n",
       "1329720320555581441    109\n",
       "                      ... \n",
       "1325487004579082242      1\n",
       "1333236566576091136      1\n",
       "1327929991007514625      1\n",
       "1331722326552039426      1\n",
       "1324151588387196930      1\n",
       "Name: media_id, Length: 196517, dtype: int64"
      ]
     },
     "metadata": {},
     "execution_count": 4
    }
   ],
   "source": [
    "df_media_with_tweets['media_id'].value_counts().sort_values(ascending=False)"
   ]
  },
  {
   "cell_type": "code",
   "execution_count": 6,
   "metadata": {},
   "outputs": [
    {
     "output_type": "stream",
     "name": "stdout",
     "text": [
      "2020-10-23 17:00:33+00:00\n2020-12-16 13:08:45+00:00\n(201259, 12)\nIndex(['media_url', 'p_hash', 'w_hash', 'a_hash', 'media_id', 'tweet_id',\n       'hashtags', 'user', 'type', 'retweet_count', 'quote_count',\n       'timestamp'],\n      dtype='object')\n"
     ]
    }
   ],
   "source": [
    "import pandas as pd\n",
    "df_media_with_tweets.shape\n",
    "\n",
    "for_export = df_media_with_tweets[[\n",
    "    'media_url', 'p_hash', 'w_hash', 'a_hash', 'media_id', 'tweet_id', 'hashtags', 'user', 'type', 'retweet_count', 'quote_count', 'timestamp'\n",
    "]]\n",
    "\n",
    "for_export['timestamp'] = pd.to_datetime(for_export['timestamp'])\n",
    "for_export = for_export[for_export['timestamp'] > '2020-10-23 00:00:00']\n",
    "print(for_export['timestamp'].min())\n",
    "print(for_export['timestamp'].max())\n",
    "print(for_export.shape)\n",
    "print(for_export.columns)\n",
    "for_export.to_csv(\"media_joined_with_tweets-{}.csv\".format(DATE), index_label=\"datastore_id\")"
   ]
  },
  {
   "cell_type": "code",
   "execution_count": 7,
   "metadata": {},
   "outputs": [
    {
     "output_type": "stream",
     "name": "stdout",
     "text": [
      "<class 'pandas.core.frame.DataFrame'>\nRangeIndex: 201259 entries, 0 to 201258\nData columns (total 13 columns):\n #   Column         Non-Null Count   Dtype \n---  ------         --------------   ----- \n 0   datastore_id   201259 non-null  int64 \n 1   media_url      201259 non-null  object\n 2   p_hash         167696 non-null  object\n 3   w_hash         167696 non-null  object\n 4   a_hash         167696 non-null  object\n 5   media_id       201259 non-null  int64 \n 6   tweet_id       201259 non-null  int64 \n 7   hashtags       201259 non-null  object\n 8   user           201259 non-null  int64 \n 9   type           201259 non-null  object\n 10  retweet_count  201259 non-null  int64 \n 11  quote_count    201259 non-null  int64 \n 12  timestamp      201259 non-null  object\ndtypes: int64(6), object(7)\nmemory usage: 20.0+ MB\n"
     ]
    }
   ],
   "source": [
    "# Test export\n",
    "df = pd.read_csv(\"media_joined_with_tweets-{}.csv\".format(DATE))\n",
    "df.info()"
   ]
  },
  {
   "cell_type": "code",
   "execution_count": 8,
   "metadata": {},
   "outputs": [
    {
     "output_type": "execute_result",
     "data": {
      "text/plain": [
       "       datastore_id                                          media_url  \\\n",
       "0  5327346445844480     http://pbs.twimg.com/media/EmsPz91W8AAWR2E.png   \n",
       "1  6224547934109696     http://pbs.twimg.com/media/EmsP-sZVcAAMDVE.jpg   \n",
       "2  5478141178937344     http://pbs.twimg.com/media/EmsP5SrVoAIx9mn.jpg   \n",
       "3  5156159157698560  http://pbs.twimg.com/tweet_video_thumb/EmsQnB3...   \n",
       "4  6254140300722176     http://pbs.twimg.com/media/EmsQ3DBVcAA0ANU.png   \n",
       "\n",
       "             p_hash            w_hash            a_hash             media_id  \\\n",
       "0  817e6a80d55f5a66  f4003c7e7f7f2600  6000007e7e7e0000  1327171900636852224   \n",
       "1  cbd29ba4628d2d53  f8f8f8f0c081b939  f9f8f8f0f0d3f9f9  1327172084934471680   \n",
       "2  c250b56b5e71da07  28743c5c30c1e3ff  6c747e7c30e1e3bf  1327171992131313666   \n",
       "3               NaN               NaN               NaN  1327172777892261889   \n",
       "4  ab7881877e606397  f0f0c080003f3fff  ffffc0801f3f7fff  1327173053080498176   \n",
       "\n",
       "              tweet_id                                         hashtags  \\\n",
       "0  1327172039669665794                                               []   \n",
       "1  1327172094707187712                                               []   \n",
       "2  1327172494080446465  ['StopTheSteal', 'Electoralfraud', '不正選挙を許さない']   \n",
       "3  1327172836855844865         ['Patriot', 'StopTheSteal', 'Trump2020']   \n",
       "4  1327173062207238144                                               []   \n",
       "\n",
       "                  user           type  retweet_count  quote_count  \\\n",
       "0  1254057289113317382  photo-fetched              0            0   \n",
       "1   965020234292674562  photo-fetched              0            0   \n",
       "2   869213883080167424  photo-fetched              0            0   \n",
       "3  1234962772221452289   animated_gif              0            0   \n",
       "4   965020234292674562  photo-fetched              0            0   \n",
       "\n",
       "                   timestamp  \n",
       "0  2020-11-13 08:50:46+00:00  \n",
       "1  2020-11-13 08:50:59+00:00  \n",
       "2  2020-11-13 08:52:34+00:00  \n",
       "3  2020-11-13 08:53:56+00:00  \n",
       "4  2020-11-13 08:54:50+00:00  "
      ],
      "text/html": "<div>\n<style scoped>\n    .dataframe tbody tr th:only-of-type {\n        vertical-align: middle;\n    }\n\n    .dataframe tbody tr th {\n        vertical-align: top;\n    }\n\n    .dataframe thead th {\n        text-align: right;\n    }\n</style>\n<table border=\"1\" class=\"dataframe\">\n  <thead>\n    <tr style=\"text-align: right;\">\n      <th></th>\n      <th>datastore_id</th>\n      <th>media_url</th>\n      <th>p_hash</th>\n      <th>w_hash</th>\n      <th>a_hash</th>\n      <th>media_id</th>\n      <th>tweet_id</th>\n      <th>hashtags</th>\n      <th>user</th>\n      <th>type</th>\n      <th>retweet_count</th>\n      <th>quote_count</th>\n      <th>timestamp</th>\n    </tr>\n  </thead>\n  <tbody>\n    <tr>\n      <th>0</th>\n      <td>5327346445844480</td>\n      <td>http://pbs.twimg.com/media/EmsPz91W8AAWR2E.png</td>\n      <td>817e6a80d55f5a66</td>\n      <td>f4003c7e7f7f2600</td>\n      <td>6000007e7e7e0000</td>\n      <td>1327171900636852224</td>\n      <td>1327172039669665794</td>\n      <td>[]</td>\n      <td>1254057289113317382</td>\n      <td>photo-fetched</td>\n      <td>0</td>\n      <td>0</td>\n      <td>2020-11-13 08:50:46+00:00</td>\n    </tr>\n    <tr>\n      <th>1</th>\n      <td>6224547934109696</td>\n      <td>http://pbs.twimg.com/media/EmsP-sZVcAAMDVE.jpg</td>\n      <td>cbd29ba4628d2d53</td>\n      <td>f8f8f8f0c081b939</td>\n      <td>f9f8f8f0f0d3f9f9</td>\n      <td>1327172084934471680</td>\n      <td>1327172094707187712</td>\n      <td>[]</td>\n      <td>965020234292674562</td>\n      <td>photo-fetched</td>\n      <td>0</td>\n      <td>0</td>\n      <td>2020-11-13 08:50:59+00:00</td>\n    </tr>\n    <tr>\n      <th>2</th>\n      <td>5478141178937344</td>\n      <td>http://pbs.twimg.com/media/EmsP5SrVoAIx9mn.jpg</td>\n      <td>c250b56b5e71da07</td>\n      <td>28743c5c30c1e3ff</td>\n      <td>6c747e7c30e1e3bf</td>\n      <td>1327171992131313666</td>\n      <td>1327172494080446465</td>\n      <td>['StopTheSteal', 'Electoralfraud', '不正選挙を許さない']</td>\n      <td>869213883080167424</td>\n      <td>photo-fetched</td>\n      <td>0</td>\n      <td>0</td>\n      <td>2020-11-13 08:52:34+00:00</td>\n    </tr>\n    <tr>\n      <th>3</th>\n      <td>5156159157698560</td>\n      <td>http://pbs.twimg.com/tweet_video_thumb/EmsQnB3...</td>\n      <td>NaN</td>\n      <td>NaN</td>\n      <td>NaN</td>\n      <td>1327172777892261889</td>\n      <td>1327172836855844865</td>\n      <td>['Patriot', 'StopTheSteal', 'Trump2020']</td>\n      <td>1234962772221452289</td>\n      <td>animated_gif</td>\n      <td>0</td>\n      <td>0</td>\n      <td>2020-11-13 08:53:56+00:00</td>\n    </tr>\n    <tr>\n      <th>4</th>\n      <td>6254140300722176</td>\n      <td>http://pbs.twimg.com/media/EmsQ3DBVcAA0ANU.png</td>\n      <td>ab7881877e606397</td>\n      <td>f0f0c080003f3fff</td>\n      <td>ffffc0801f3f7fff</td>\n      <td>1327173053080498176</td>\n      <td>1327173062207238144</td>\n      <td>[]</td>\n      <td>965020234292674562</td>\n      <td>photo-fetched</td>\n      <td>0</td>\n      <td>0</td>\n      <td>2020-11-13 08:54:50+00:00</td>\n    </tr>\n  </tbody>\n</table>\n</div>"
     },
     "metadata": {},
     "execution_count": 8
    }
   ],
   "source": [
    "df.head()"
   ]
  },
  {
   "cell_type": "code",
   "execution_count": 13,
   "metadata": {},
   "outputs": [
    {
     "output_type": "execute_result",
     "data": {
      "text/plain": [
       "           datastore_id                                       media_url  \\\n",
       "42241  6300393332015104  http://pbs.twimg.com/media/EpUDAU6W4AYD7Hw.jpg   \n",
       "\n",
       "                 p_hash            w_hash            a_hash  \\\n",
       "42241  8000000000000000  f0f0f0f0f0f0f070  0000000000000000   \n",
       "\n",
       "                  media_id             tweet_id hashtags                 user  \\\n",
       "42241  1338979768360951814  1338979783435296769       []  1325781446041219072   \n",
       "\n",
       "                type  retweet_count  quote_count                  timestamp  \n",
       "42241  photo-fetched              0            0  2020-12-15 22:50:32+00:00  "
      ],
      "text/html": "<div>\n<style scoped>\n    .dataframe tbody tr th:only-of-type {\n        vertical-align: middle;\n    }\n\n    .dataframe tbody tr th {\n        vertical-align: top;\n    }\n\n    .dataframe thead th {\n        text-align: right;\n    }\n</style>\n<table border=\"1\" class=\"dataframe\">\n  <thead>\n    <tr style=\"text-align: right;\">\n      <th></th>\n      <th>datastore_id</th>\n      <th>media_url</th>\n      <th>p_hash</th>\n      <th>w_hash</th>\n      <th>a_hash</th>\n      <th>media_id</th>\n      <th>tweet_id</th>\n      <th>hashtags</th>\n      <th>user</th>\n      <th>type</th>\n      <th>retweet_count</th>\n      <th>quote_count</th>\n      <th>timestamp</th>\n    </tr>\n  </thead>\n  <tbody>\n    <tr>\n      <th>42241</th>\n      <td>6300393332015104</td>\n      <td>http://pbs.twimg.com/media/EpUDAU6W4AYD7Hw.jpg</td>\n      <td>8000000000000000</td>\n      <td>f0f0f0f0f0f0f070</td>\n      <td>0000000000000000</td>\n      <td>1338979768360951814</td>\n      <td>1338979783435296769</td>\n      <td>[]</td>\n      <td>1325781446041219072</td>\n      <td>photo-fetched</td>\n      <td>0</td>\n      <td>0</td>\n      <td>2020-12-15 22:50:32+00:00</td>\n    </tr>\n  </tbody>\n</table>\n</div>"
     },
     "metadata": {},
     "execution_count": 13
    }
   ],
   "source": [
    "df[df[\"datastore_id\"] == 6300393332015104]"
   ]
  },
  {
   "cell_type": "code",
   "execution_count": 32,
   "metadata": {},
   "outputs": [
    {
     "output_type": "stream",
     "name": "stdout",
     "text": [
      "19400 retweets: http://pbs.twimg.com/media/EmHTacqXgAAL7Zo.jpg\n17497 retweets: http://pbs.twimg.com/media/Enw48WQUUAUl01f.jpg\n16804 retweets: http://pbs.twimg.com/amplify_video_thumb/1324105823845523456/img/2z47IGTqb_gZij3r.jpg\n15526 retweets: http://pbs.twimg.com/media/EmAFt6BUcAAcs5r.jpg\n12341 retweets: http://pbs.twimg.com/ext_tw_video_thumb/1324476554446069763/pu/img/z-GoJ3__Ctp5WZpa.jpg\n12336 retweets: http://pbs.twimg.com/ext_tw_video_thumb/1324811238682013704/pu/img/eb79SStIIBfEfMcN.jpg\n11012 retweets: http://pbs.twimg.com/media/EmF9szQXUAQ9-KL.jpg\n10701 retweets: http://pbs.twimg.com/media/Emg71EpXUAYup9Z.jpg\n9294 retweets: http://pbs.twimg.com/media/EmACdkyX0AQ7bDO.png\n8853 retweets: http://pbs.twimg.com/media/Eo4KLDyXEAIy5Dl.jpg\n8527 retweets: http://pbs.twimg.com/media/EmFpwPFXYAI_06X.jpg\n7951 retweets: http://pbs.twimg.com/ext_tw_video_thumb/1324652359935352832/pu/img/--NEuAQfXmi8mupk.jpg\n7683 retweets: http://pbs.twimg.com/amplify_video_thumb/1325130145477373952/img/43S-cxrjXV10qOKd.jpg\n7532 retweets: http://pbs.twimg.com/ext_tw_video_thumb/1321854305163448320/pu/img/qCHkjziteY0frb5e.jpg\n7298 retweets: http://pbs.twimg.com/media/EntKYndXYAAVWV0.jpg\n6543 retweets: http://pbs.twimg.com/ext_tw_video_thumb/1336019912116989952/pu/img/V4tWfCAPqoOlwyOQ.jpg\n6505 retweets: http://pbs.twimg.com/ext_tw_video_thumb/1330199656450699268/pu/img/IZo0fsrltgpXsbwl.jpg\n6300 retweets: http://pbs.twimg.com/ext_tw_video_thumb/1326978765805801474/pu/img/GyQOd_3A-LoxoECy.jpg\n6068 retweets: http://pbs.twimg.com/media/EmLUO-iW0AIlJSt.jpg\n6068 retweets: http://pbs.twimg.com/media/EmLUPKCXYAEsPhT.jpg\n6047 retweets: http://pbs.twimg.com/ext_tw_video_thumb/1329618204067393537/pu/img/D-jRCobhsZded5Yw.jpg\n5778 retweets: http://pbs.twimg.com/ext_tw_video_thumb/1324060027301302273/pu/img/H3nPfo7k1XTPG3E0.jpg\n5547 retweets: http://pbs.twimg.com/media/El9VrRQXIAI201z.jpg\n5544 retweets: http://pbs.twimg.com/amplify_video_thumb/1335411584156438530/img/onMgh4s7pZeOj4ib.jpg\n5382 retweets: http://pbs.twimg.com/media/EmG42iCWMAAOn5D.jpg\n"
     ]
    }
   ],
   "source": [
    "def top_media_by_retweet_count(df_media_with_tweets, N = 25):\n",
    "    for media_id, media in df_media_with_tweets.nlargest(N, ['retweet_count']).iterrows():\n",
    "    retweet_count = media[\"retweet_count\"]\n",
    "        media_url = media[\"media_url\"]\n",
    "        print(\"{} retweets: {}\".format(retweet_count, media_url))\n",
    "\n",
    "top_media_by_retweet_count(df_media_with_tweets)"
   ]
  },
  {
   "cell_type": "code",
   "execution_count": 34,
   "metadata": {},
   "outputs": [
    {
     "output_type": "execute_result",
     "data": {
      "text/plain": [
       "196517"
      ]
     },
     "metadata": {},
     "execution_count": 34
    }
   ],
   "source": [
    "import numpy as np\n",
    "len(np.unique(df_media_with_tweets['media_url']))"
   ]
  },
  {
   "source": [
    "## Export to JSON"
   ],
   "cell_type": "markdown",
   "metadata": {}
  },
  {
   "cell_type": "code",
   "execution_count": 16,
   "metadata": {},
   "outputs": [],
   "source": [
    "import json\n",
    "\n",
    "def serialize_sets(obj):\n",
    "    if isinstance(obj, set):\n",
    "        return list(obj)\n",
    "\n",
    "    return obj\n",
    "\n",
    "with open(EXPORT_DIR + \"youtube_urls.json\", \"w\", encoding=\"utf-8\") as f:\n",
    "    json.dump(youtube_url_map, f, sort_keys=True, indent=2, default=serialize_sets)\n",
    "\n",
    "with open(EXPORT_DIR + \"domains.json\", \"w\", encoding=\"utf-8\") as f:\n",
    "    json.dump(domain_url_map, f, sort_keys=True, indent=2, default=serialize_sets)\n",
    "\n",
    "with open(EXPORT_DIR + \"all_urls.json\", \"w\", encoding=\"utf-8\") as f:\n",
    "    json.dump(url_map, f, sort_keys=True, indent=2, default=serialize_sets)"
   ]
  },
  {
   "cell_type": "code",
   "execution_count": null,
   "metadata": {},
   "outputs": [],
   "source": [
    "with open(EXPORT_DIR + \"expanded_url_map.json\", \"r\", encoding=\"utf-8\") as f:\n",
    "    expanded_map = json.load(url_map, f)"
   ]
  },
  {
   "cell_type": "code",
   "execution_count": null,
   "metadata": {},
   "outputs": [],
   "source": [
    "expanded_map"
   ]
  }
 ]
}