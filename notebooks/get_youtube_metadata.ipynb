{
 "cells": [
  {
   "cell_type": "code",
   "execution_count": 1,
   "metadata": {},
   "outputs": [],
   "source": [
    "import os\n",
    "import argparse\n",
    "import json\n",
    "import time\n",
    "\n",
    "from googleapiclient.discovery import build\n",
    "from googleapiclient.errors import HttpError\n",
    "\n",
    "from urllib.parse import urlparse\n"
   ]
  },
  {
   "cell_type": "code",
   "execution_count": 2,
   "metadata": {},
   "outputs": [],
   "source": [
    "def video_id(url):\n",
    "    \"\"\"\n",
    "    Examples:\n",
    "    - http://youtu.be/SA2iWivDJiE\n",
    "    - http://www.youtube.com/watch?v=_oPAwA_Udwc&feature=feedu\n",
    "    - http://www.youtube.com/embed/SA2iWivDJiE\n",
    "    - http://www.youtube.com/v/SA2iWivDJiE?version=3&amp;hl=en_US\n",
    "    \"\"\"\n",
    "    o = urlparse(url)\n",
    "    if o.netloc == 'youtu.be':\n",
    "        return o.path[1:]\n",
    "    elif o.netloc in ('www.youtube.com', 'youtube.com'):\n",
    "        if o.path == '/watch':\n",
    "            id_index = o.query.index('v=')\n",
    "            return o.query[id_index+2:id_index+13]\n",
    "        elif o.path[:7] == '/embed/':\n",
    "            return o.path.split('/')[2]\n",
    "        elif o.path[:3] == '/v/':\n",
    "            return o.path.split('/')[2]\n",
    "    return None"
   ]
  },
  {
   "cell_type": "code",
   "execution_count": 5,
   "metadata": {},
   "outputs": [],
   "source": [
    "# Set DEVELOPER_KEY to the API key value from the APIs & auth > Registered apps\n",
    "# tab of\n",
    "#   https://cloud.google.com/console\n",
    "# Please ensure that you have enabled the YouTube Data API for your project.\n",
    "with open(\"../private/youtube\", \"r\") as r:\n",
    "  for line in r:\n",
    "    DEVELOPER_KEY = line[:-1]\n",
    "    break\n",
    "YOUTUBE_API_SERVICE_NAME = 'youtube'\n",
    "YOUTUBE_API_VERSION = 'v3'"
   ]
  },
  {
   "cell_type": "code",
   "execution_count": 6,
   "metadata": {},
   "outputs": [],
   "source": [
    "def videos_list_multiple_ids(youtube, videoids):\n",
    "  response = youtube.videos().list(\n",
    "    \n",
    "  ).execute()\n",
    "\n",
    "  return response['items']"
   ]
  },
  {
   "cell_type": "code",
   "execution_count": 33,
   "metadata": {},
   "outputs": [],
   "source": [
    "youtube = build(YOUTUBE_API_SERVICE_NAME, YOUTUBE_API_VERSION,\n",
    "    developerKey=DEVELOPER_KEY)\n",
    "\n",
    "\n",
    "links = []\n",
    "videoIds = []\n",
    "batchSize = 50\n",
    "with open(\"./data_export/url_stats/16-dec/expanded_url_map.json\", \"r\") as r:\n",
    "  data = json.load(r)"
   ]
  },
  {
   "cell_type": "code",
   "execution_count": 34,
   "metadata": {},
   "outputs": [],
   "source": [
    "youtube_data = []\n",
    "for key, vv in data.items():\n",
    "  v = vv['expanded_url']\n",
    "  if 'domain' in v:\n",
    "    if v['domain']['domain'] == 'youtube':\n",
    "      vid = video_id(key)\n",
    "      if vid is None:\n",
    "        continue\n",
    "      videoIds.append(vid)\n",
    "      record = {'video_id': vid}\n",
    "      record.update(vv)\n",
    "      record['url'] = key\n",
    "      youtube_data.append(record)"
   ]
  },
  {
   "cell_type": "code",
   "execution_count": 46,
   "metadata": {},
   "outputs": [
    {
     "data": {
      "text/plain": [
       "'https://saraacarter.com/report-ag-barr-knew-about-two-federal-probes-into-hunter-biden-since-the-spring/'"
      ]
     },
     "execution_count": 46,
     "metadata": {},
     "output_type": "execute_result"
    }
   ],
   "source": [
    "key"
   ]
  },
  {
   "cell_type": "code",
   "execution_count": 35,
   "metadata": {},
   "outputs": [],
   "source": [
    "total = len(videoIds)"
   ]
  },
  {
   "cell_type": "code",
   "execution_count": 36,
   "metadata": {},
   "outputs": [
    {
     "name": "stdout",
     "output_type": "stream",
     "text": [
      "50 / 358 processed\n",
      "100 / 358 processed\n",
      "150 / 358 processed\n",
      "200 / 358 processed\n",
      "250 / 358 processed\n",
      "300 / 358 processed\n",
      "350 / 358 processed\n",
      "400 / 358 processed\n"
     ]
    }
   ],
   "source": [
    "cnt = 0\n",
    "responses = []\n",
    "while cnt < total:\n",
    "  batch = videoIds[cnt:cnt+batchSize]\n",
    "  cnt += batchSize\n",
    "  try:\n",
    "    video_response = youtube.videos().list(id=','.join(batch),\n",
    "                part='snippet').execute()\n",
    "    for item in video_response['items']:\n",
    "      responses.append(item)\n",
    "  except HttpError as e:\n",
    "    print('An HTTP error {} occurred:\\n{}'.format(e.resp.status, e.content))\n",
    "    if e.resp.status == 403:\n",
    "      cnt -= batchSize\n",
    "      time.sleep(3600* 12) # Sleep for one hour if hits rate limit \n",
    "      print('Hits rate limit, sleep for one hour.')\n",
    "  print(\"{} / {} processed\".format(cnt, total))"
   ]
  },
  {
   "cell_type": "code",
   "execution_count": 37,
   "metadata": {},
   "outputs": [
    {
     "data": {
      "text/plain": [
       "{'kind': 'youtube#videoListResponse',\n",
       " 'etag': 'N3cH4-8Qyt6di3nGkvNQ0-9oBYc',\n",
       " 'items': [],\n",
       " 'pageInfo': {'totalResults': 0, 'resultsPerPage': 0}}"
      ]
     },
     "execution_count": 37,
     "metadata": {},
     "output_type": "execute_result"
    }
   ],
   "source": [
    "video_response"
   ]
  },
  {
   "cell_type": "code",
   "execution_count": 38,
   "metadata": {},
   "outputs": [
    {
     "data": {
      "text/plain": [
       "[]"
      ]
     },
     "execution_count": 38,
     "metadata": {},
     "output_type": "execute_result"
    }
   ],
   "source": [
    "responses"
   ]
  },
  {
   "cell_type": "code",
   "execution_count": 39,
   "metadata": {
    "scrolled": true
   },
   "outputs": [
    {
     "data": {
      "text/plain": [
       "['w39mk-wrkhm',\n",
       " 'wjuz-kfs_qo',\n",
       " 'x1uyg1f0rna',\n",
       " 'xqurkiik_3s',\n",
       " 'yrqi9hcd_ts',\n",
       " 'yubo2dpjeji',\n",
       " 'z_fndaqiohy',\n",
       " 'ztu5y5obwpk']"
      ]
     },
     "execution_count": 39,
     "metadata": {},
     "output_type": "execute_result"
    }
   ],
   "source": [
    "batch"
   ]
  },
  {
   "cell_type": "code",
   "execution_count": 44,
   "metadata": {},
   "outputs": [],
   "source": [
    "    video_response = youtube.videos().list(id='W39MK-WRKhM',\n",
    "                part='snippet').execute()"
   ]
  },
  {
   "cell_type": "code",
   "execution_count": 45,
   "metadata": {},
   "outputs": [
    {
     "data": {
      "text/plain": [
       "{'kind': 'youtube#videoListResponse',\n",
       " 'etag': 'WgmImiC992x9Fg8eG9Yo4w267aE',\n",
       " 'items': [{'kind': 'youtube#video',\n",
       "   'etag': 'MiSNfQbkJFRB0LC8JeaxwdAayVM',\n",
       "   'id': 'W39MK-WRKhM',\n",
       "   'snippet': {'publishedAt': '2020-12-14T19:49:23Z',\n",
       "    'channelId': 'UCHqC-yWZ1kri4YzwRSt6RGQ',\n",
       "    'title': '🔴 LIVE: BREAKING Nevada GOP ELECTORS CAST VOTES FOR PRESIDENT TRUMP!!',\n",
       "    'description': 'December 14, 2020: Watch LIVE as the Nevada GOP make a special announcement from Carson City regarding the 2020 election\\n\\nJoin this channel to get access to perks:\\nhttps://www.youtube.com/channel/UCHqC-yWZ1kri4YzwRSt6RGQ/join\\n\\n🔴  Subscribe to RSBN for more LIVE streams and Breaking NEWS: http://bit.ly/2gDGbkh\\n\\n🔴  Donate to RSBN and help keep us on the air: http://rsbn.tv/donate\\n\\n🔴  Follow us on Twitter for breaking news updates: http://twitter.com/RSBNetwork\\n\\n🔴  Like us on Facebook for more live streams and updates: http://facebook.com/rightsidebroadcasting',\n",
       "    'thumbnails': {'default': {'url': 'https://i.ytimg.com/vi/W39MK-WRKhM/default.jpg',\n",
       "      'width': 120,\n",
       "      'height': 90},\n",
       "     'medium': {'url': 'https://i.ytimg.com/vi/W39MK-WRKhM/mqdefault.jpg',\n",
       "      'width': 320,\n",
       "      'height': 180},\n",
       "     'high': {'url': 'https://i.ytimg.com/vi/W39MK-WRKhM/hqdefault.jpg',\n",
       "      'width': 480,\n",
       "      'height': 360},\n",
       "     'standard': {'url': 'https://i.ytimg.com/vi/W39MK-WRKhM/sddefault.jpg',\n",
       "      'width': 640,\n",
       "      'height': 480},\n",
       "     'maxres': {'url': 'https://i.ytimg.com/vi/W39MK-WRKhM/maxresdefault.jpg',\n",
       "      'width': 1280,\n",
       "      'height': 720}},\n",
       "    'channelTitle': 'Right Side Broadcasting Network',\n",
       "    'tags': ['Donald Trump', 'President Trump', 'Live Stream'],\n",
       "    'categoryId': '25',\n",
       "    'liveBroadcastContent': 'none',\n",
       "    'localized': {'title': '🔴 LIVE: BREAKING Nevada GOP ELECTORS CAST VOTES FOR PRESIDENT TRUMP!!',\n",
       "     'description': 'December 14, 2020: Watch LIVE as the Nevada GOP make a special announcement from Carson City regarding the 2020 election\\n\\nJoin this channel to get access to perks:\\nhttps://www.youtube.com/channel/UCHqC-yWZ1kri4YzwRSt6RGQ/join\\n\\n🔴  Subscribe to RSBN for more LIVE streams and Breaking NEWS: http://bit.ly/2gDGbkh\\n\\n🔴  Donate to RSBN and help keep us on the air: http://rsbn.tv/donate\\n\\n🔴  Follow us on Twitter for breaking news updates: http://twitter.com/RSBNetwork\\n\\n🔴  Like us on Facebook for more live streams and updates: http://facebook.com/rightsidebroadcasting'},\n",
       "    'defaultAudioLanguage': 'en'}}],\n",
       " 'pageInfo': {'totalResults': 1, 'resultsPerPage': 1}}"
      ]
     },
     "execution_count": 45,
     "metadata": {},
     "output_type": "execute_result"
    }
   ],
   "source": [
    "video_response"
   ]
  },
  {
   "cell_type": "code",
   "execution_count": null,
   "metadata": {},
   "outputs": [],
   "source": []
  }
 ],
 "metadata": {
  "kernelspec": {
   "display_name": "Python 3",
   "language": "python",
   "name": "python3"
  },
  "language_info": {
   "codemirror_mode": {
    "name": "ipython",
    "version": 3
   },
   "file_extension": ".py",
   "mimetype": "text/x-python",
   "name": "python",
   "nbconvert_exporter": "python",
   "pygments_lexer": "ipython3",
   "version": "3.7.4"
  }
 },
 "nbformat": 4,
 "nbformat_minor": 2
}
